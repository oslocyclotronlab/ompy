{
 "cells": [
  {
   "cell_type": "code",
   "execution_count": 1,
   "id": "e0e588be-6a7a-486b-814e-0ccc5666ee8a",
   "metadata": {},
   "outputs": [],
   "source": [
    "%load_ext autoreload\n",
    "%autoreload 2\n",
    "%matplotlib widget"
   ]
  },
  {
   "cell_type": "code",
   "execution_count": 6,
   "id": "a913cd4d-2231-4b75-b264-f3ca9f7c224a",
   "metadata": {},
   "outputs": [],
   "source": [
    "import ompy as om\n",
    "import numpy as np\n",
    "import pymc3 as pm\n",
    "import arviz as az\n",
    "import theano\n",
    "import theano.tensor as tt\n",
    "import matplotlib.pyplot as plt\n",
    "import logging\n",
    "from scipy.interpolate import interp1d\n",
    "from model_op import calculate_FG, LogLike, LogLike2, FG_loglike, loglike"
   ]
  },
  {
   "cell_type": "code",
   "execution_count": 7,
   "id": "a786c35d-dfcd-4818-9f3b-a431906fede9",
   "metadata": {},
   "outputs": [
    {
     "data": {
      "application/vnd.jupyter.widget-view+json": {
       "model_id": "c6a686c416db4128a690bd72cd007172",
       "version_major": 2,
       "version_minor": 0
      },
      "text/plain": [
       "Canvas(toolbar=Toolbar(toolitems=[('Home', 'Reset original view', 'home', 'home'), ('Back', 'Back to previous …"
      ]
     },
     "metadata": {},
     "output_type": "display_data"
    },
    {
     "data": {
      "text/plain": [
       "(<matplotlib.collections.QuadMesh at 0x139e10d00>,\n",
       " <AxesSubplot:xlabel='$\\\\gamma$-ray energy $E_{\\\\gamma}$', ylabel='Excitation energy $E_{x}$'>,\n",
       " <Figure size 640x480 with 2 Axes>)"
      ]
     },
     "execution_count": 7,
     "metadata": {},
     "output_type": "execute_result"
    }
   ],
   "source": [
    "raw = om.example_raw('Dy164')\n",
    "\n",
    "raw.cut_diagonal(E1=(800, 0), E2=(7500, 7300))\n",
    "raw.cut('Ex', 0, 8400)\n",
    "\n",
    "raw.values = np.around(raw.values)\n",
    "raw.remove_negative()\n",
    "raw.plot()"
   ]
  },
  {
   "cell_type": "code",
   "execution_count": 8,
   "id": "1108ecc3-15e2-4b38-8fbb-d0cf0c73a144",
   "metadata": {},
   "outputs": [
    {
     "data": {
      "application/vnd.jupyter.widget-view+json": {
       "model_id": "01a60d6b193f49989fef9f8b7a91be0f",
       "version_major": 2,
       "version_minor": 0
      },
      "text/plain": [
       "Canvas(toolbar=Toolbar(toolitems=[('Home', 'Reset original view', 'home', 'home'), ('Back', 'Back to previous …"
      ]
     },
     "metadata": {},
     "output_type": "display_data"
    },
    {
     "data": {
      "text/plain": [
       "(<matplotlib.collections.QuadMesh at 0x138298310>,\n",
       " <AxesSubplot:xlabel='$\\\\gamma$-ray energy $E_{\\\\gamma}$', ylabel='Excitation energy $E_{x}$'>,\n",
       " <Figure size 640x480 with 2 Axes>)"
      ]
     },
     "execution_count": 8,
     "metadata": {},
     "output_type": "execute_result"
    }
   ],
   "source": [
    "folderpath = \"../OCL_response_functions/nai2012_for_opt13\"\n",
    "Eg = raw.Eg\n",
    "\n",
    "# Experimental relative FWHM at 1.33 MeV of resulting array\n",
    "fwhm_abs = 90.44 # (90/1330 = 6.8%)\n",
    "\n",
    "# Magne recommends 1/10 of the actual resolution for unfolding purposes\n",
    "response = om.Response(folderpath)\n",
    "R_ompy_unf, R_tab_unf = response.interpolate(Eg, fwhm_abs=fwhm_abs/10, return_table=True)\n",
    "R_ompy_view, _ = response.interpolate(Eg, fwhm_abs=fwhm_abs, return_table=True)\n",
    "fthreshold = interp1d([30., 80., 122., 183., 244., 294., 344., 562., 779., 1000.],\n",
    "                      [0.0, 0.0, 0.0, 0.06, 0.44, 0.60, 0.87, 0.99, 1.00, 1.00],\n",
    "                      fill_value=\"extrapolate\")\n",
    "\n",
    "def apply_detector_threshold(response, table, fthreshold):\n",
    "    thres = fthreshold(response.Eg)\n",
    "    response.values = response.values * thres\n",
    "    # renormalize\n",
    "    response.values = om.div0(response.values, response.values.sum(axis=1)[:, np.newaxis])\n",
    "    table[\"eff_tot\"] *= thres\n",
    "apply_detector_threshold(R_ompy_unf, R_tab_unf, fthreshold)\n",
    "R_ompy_view.plot(scale='log', vmin=1e-4)"
   ]
  },
  {
   "cell_type": "code",
   "execution_count": 9,
   "id": "cbf55e7d-1864-40ea-bdd5-5137eeeefe0b",
   "metadata": {},
   "outputs": [],
   "source": [
    "# With compton subtraction and all tweaks\n",
    "unfolder= om.Unfolder(response=R_ompy_unf)\n",
    "unfolder.response_tab = R_tab_unf\n",
    "# Magne suggests some \"tweaks\" for a better unfolding performance. Default is 1 for all.\n",
    "unfolder.FWHM_tweak_multiplier = {\"fe\": 1., \"se\": 1.1,\n",
    "                                     \"de\": 1.3, \"511\": 0.9}\n",
    "firstgen = om.FirstGeneration()"
   ]
  },
  {
   "cell_type": "code",
   "execution_count": 10,
   "id": "86ee14f3-1329-4958-9b43-a897d62440f3",
   "metadata": {
    "collapsed": true,
    "jupyter": {
     "outputs_hidden": true
    },
    "tags": []
   },
   "outputs": [
    {
     "name": "stdout",
     "output_type": "stream",
     "text": [
      "2021-11-12 14:48:18,745 - ompy.ensemble - INFO - Start normalization with 7 cpus\n",
      "2021-11-12 14:48:18,819 - ompy.ensemble - INFO - Generating/loading 0\n",
      "2021-11-12 14:48:18,851 - ompy.ensemble - INFO - Generating/loading 1\n"
     ]
    },
    {
     "data": {
      "application/vnd.jupyter.widget-view+json": {
       "model_id": "8ca2291bcbdb437d85066cfce69b0c91",
       "version_major": 2,
       "version_minor": 0
      },
      "text/plain": [
       "  0%|          | 0/25 [00:00<?, ?it/s]"
      ]
     },
     "metadata": {},
     "output_type": "display_data"
    },
    {
     "name": "stdout",
     "output_type": "stream",
     "text": [
      "2021-11-12 14:48:18,889 - ompy.ensemble - INFO - Generating/loading 2\n",
      "2021-11-12 14:48:18,925 - ompy.ensemble - INFO - Generating/loading 3\n",
      "2021-11-12 14:48:18,961 - ompy.ensemble - INFO - Generating/loading 4\n",
      "2021-11-12 14:48:18,999 - ompy.ensemble - INFO - Generating/loading 5\n",
      "2021-11-12 14:48:19,036 - ompy.ensemble - INFO - Generating/loading 6\n",
      "2021-11-12 14:48:23,031 - ompy.ensemble - INFO - Generating/loading 7\n",
      "2021-11-12 14:48:23,093 - ompy.ensemble - INFO - Generating/loading 8\n",
      "2021-11-12 14:48:23,147 - ompy.ensemble - INFO - Generating/loading 9\n",
      "2021-11-12 14:48:23,259 - ompy.ensemble - INFO - Generating/loading 10\n",
      "2021-11-12 14:48:23,299 - ompy.ensemble - INFO - Generating/loading 11\n",
      "2021-11-12 14:48:23,341 - ompy.ensemble - INFO - Generating/loading 12\n",
      "2021-11-12 14:48:23,378 - ompy.ensemble - INFO - Generating/loading 13\n",
      "2021-11-12 14:48:28,157 - ompy.ensemble - INFO - Generating/loading 14\n",
      "2021-11-12 14:48:28,315 - ompy.ensemble - INFO - Generating/loading 15\n",
      "2021-11-12 14:48:28,363 - ompy.ensemble - INFO - Generating/loading 16\n",
      "2021-11-12 14:48:28,407 - ompy.ensemble - INFO - Generating/loading 17\n",
      "2021-11-12 14:48:28,469 - ompy.ensemble - INFO - Generating/loading 18\n",
      "2021-11-12 14:48:28,514 - ompy.ensemble - INFO - Generating/loading 19\n",
      "2021-11-12 14:48:28,555 - ompy.ensemble - INFO - Generating/loading 20\n",
      "2021-11-12 14:48:32,931 - ompy.ensemble - INFO - Generating/loading 21\n",
      "2021-11-12 14:48:33,073 - ompy.ensemble - INFO - Generating/loading 22\n",
      "2021-11-12 14:48:33,138 - ompy.ensemble - INFO - Generating/loading 23\n",
      "2021-11-12 14:48:33,185 - ompy.ensemble - INFO - Generating/loading 24\n"
     ]
    },
    {
     "data": {
      "application/vnd.jupyter.widget-view+json": {
       "model_id": "62db238dbe4b4e79a4f9ba2f431514a3",
       "version_major": 2,
       "version_minor": 0
      },
      "text/plain": [
       "  0%|          | 0/25 [00:00<?, ?it/s]"
      ]
     },
     "metadata": {},
     "output_type": "display_data"
    }
   ],
   "source": [
    "logger = om.introspection.get_logger('ensemble', 'INFO')\n",
    "\n",
    "# Tell the `Ensemble` class which raw spectrum, what kind of undolfer and first\n",
    "# generations method to use.\n",
    "# Note: This will have the same setting as above. We could for example have\n",
    "# set the first generations method to use a different \"valley_collection\", or a\n",
    "# differnt type of \"multiplicity_estimation\"\n",
    "ensemble = om.Ensemble(raw=raw)\n",
    "ensemble.unfolder = unfolder\n",
    "ensemble.first_generation_method = firstgen\n",
    "# Generates N perturbated members;\n",
    "# the `regernerate` flag ensures, that we don't load from disk; which might result in expected results\n",
    "# if we have changed something in the input `raw` matrix.\n",
    "ensemble.generate(25, regenerate=True)\n",
    "E_rebinned = np.arange(100., 8500, 200)\n",
    "ensemble.rebin(E_rebinned, member=\"firstgen\")"
   ]
  },
  {
   "cell_type": "code",
   "execution_count": 11,
   "id": "e0516a17-9ad2-486d-ace2-922c781621fc",
   "metadata": {
    "tags": []
   },
   "outputs": [],
   "source": [
    "firstgen = ensemble.get_firstgen(0)\n",
    "firstgen = om.Matrix(Ex=firstgen.Ex, Eg=firstgen.Eg, values=np.mean([mat.values for mat in ensemble.get_firstgen(range(25))], axis=0))\n",
    "firstgen_std = om.Matrix(Ex=firstgen.Ex, Eg=firstgen.Eg, values=np.std([mat.values for mat in ensemble.get_firstgen(range(25))], axis=0))\n",
    "firstgen.trapezoid(4400, 7700, 1300, 7900, inplace=True)\n",
    "firstgen_std.trapezoid(4400, 7700, 1300, 7900, inplace=True)"
   ]
  },
  {
   "cell_type": "code",
   "execution_count": 12,
   "id": "394fcdce-9d7c-4b70-b321-645e3ccc0467",
   "metadata": {
    "tags": []
   },
   "outputs": [
    {
     "data": {
      "application/vnd.jupyter.widget-view+json": {
       "model_id": "6bcc90d81eb940c19f807fd52843b69f",
       "version_major": 2,
       "version_minor": 0
      },
      "text/plain": [
       "Canvas(toolbar=Toolbar(toolitems=[('Home', 'Reset original view', 'home', 'home'), ('Back', 'Back to previous …"
      ]
     },
     "metadata": {},
     "output_type": "display_data"
    },
    {
     "data": {
      "application/vnd.jupyter.widget-view+json": {
       "model_id": "65afe39df2a344a0856930fc51f78ff6",
       "version_major": 2,
       "version_minor": 0
      },
      "text/plain": [
       "Canvas(toolbar=Toolbar(toolitems=[('Home', 'Reset original view', 'home', 'home'), ('Back', 'Back to previous …"
      ]
     },
     "metadata": {},
     "output_type": "display_data"
    },
    {
     "data": {
      "text/plain": [
       "(<matplotlib.collections.QuadMesh at 0x1382ae970>,\n",
       " <AxesSubplot:xlabel='$\\\\gamma$-ray energy $E_{\\\\gamma}$', ylabel='Excitation energy $E_{x}$'>,\n",
       " <Figure size 640x480 with 2 Axes>)"
      ]
     },
     "execution_count": 12,
     "metadata": {},
     "output_type": "execute_result"
    }
   ],
   "source": [
    "firstgen.plot()\n",
    "firstgen_std.plot()"
   ]
  },
  {
   "cell_type": "code",
   "execution_count": 13,
   "id": "86d9b1ab-0efa-4989-bab8-e9c058728f94",
   "metadata": {},
   "outputs": [],
   "source": [
    "# We run the extractor on the ensemble just to have a reference"
   ]
  },
  {
   "cell_type": "code",
   "execution_count": 14,
   "id": "5978d341-d93c-4c63-bf4a-300fcf684415",
   "metadata": {
    "collapsed": true,
    "jupyter": {
     "outputs_hidden": true
    },
    "tags": []
   },
   "outputs": [
    {
     "data": {
      "application/vnd.jupyter.widget-view+json": {
       "model_id": "05719e8ec60e48a3b2a2f45a2d5efcc4",
       "version_major": 2,
       "version_minor": 0
      },
      "text/plain": [
       "  0%|          | 0/25 [00:00<?, ?it/s]"
      ]
     },
     "metadata": {},
     "output_type": "display_data"
    },
    {
     "name": "stderr",
     "output_type": "stream",
     "text": [
      "nld #0 contains nan's.\n",
      "Consider removing them e.g. with:\n",
      "# for nld in extractor.nld:\n",
      "#     nld.cut_nan()\n",
      "\n",
      "nld #1 contains nan's.\n",
      "Consider removing them e.g. with:\n",
      "# for nld in extractor.nld:\n",
      "#     nld.cut_nan()\n",
      "\n",
      "nld #2 contains nan's.\n",
      "Consider removing them e.g. with:\n",
      "# for nld in extractor.nld:\n",
      "#     nld.cut_nan()\n",
      "\n",
      "nld #3 contains nan's.\n",
      "Consider removing them e.g. with:\n",
      "# for nld in extractor.nld:\n",
      "#     nld.cut_nan()\n",
      "\n",
      "nld #4 contains nan's.\n",
      "Consider removing them e.g. with:\n",
      "# for nld in extractor.nld:\n",
      "#     nld.cut_nan()\n",
      "\n",
      "nld #5 contains nan's.\n",
      "Consider removing them e.g. with:\n",
      "# for nld in extractor.nld:\n",
      "#     nld.cut_nan()\n",
      "\n",
      "nld #6 contains nan's.\n",
      "Consider removing them e.g. with:\n",
      "# for nld in extractor.nld:\n",
      "#     nld.cut_nan()\n",
      "\n",
      "nld #7 contains nan's.\n",
      "Consider removing them e.g. with:\n",
      "# for nld in extractor.nld:\n",
      "#     nld.cut_nan()\n",
      "\n",
      "nld #8 contains nan's.\n",
      "Consider removing them e.g. with:\n",
      "# for nld in extractor.nld:\n",
      "#     nld.cut_nan()\n",
      "\n",
      "nld #9 contains nan's.\n",
      "Consider removing them e.g. with:\n",
      "# for nld in extractor.nld:\n",
      "#     nld.cut_nan()\n",
      "\n",
      "nld #10 contains nan's.\n",
      "Consider removing them e.g. with:\n",
      "# for nld in extractor.nld:\n",
      "#     nld.cut_nan()\n",
      "\n",
      "nld #11 contains nan's.\n",
      "Consider removing them e.g. with:\n",
      "# for nld in extractor.nld:\n",
      "#     nld.cut_nan()\n",
      "\n",
      "nld #12 contains nan's.\n",
      "Consider removing them e.g. with:\n",
      "# for nld in extractor.nld:\n",
      "#     nld.cut_nan()\n",
      "\n",
      "nld #13 contains nan's.\n",
      "Consider removing them e.g. with:\n",
      "# for nld in extractor.nld:\n",
      "#     nld.cut_nan()\n",
      "\n",
      "nld #14 contains nan's.\n",
      "Consider removing them e.g. with:\n",
      "# for nld in extractor.nld:\n",
      "#     nld.cut_nan()\n",
      "\n",
      "nld #15 contains nan's.\n",
      "Consider removing them e.g. with:\n",
      "# for nld in extractor.nld:\n",
      "#     nld.cut_nan()\n",
      "\n",
      "nld #16 contains nan's.\n",
      "Consider removing them e.g. with:\n",
      "# for nld in extractor.nld:\n",
      "#     nld.cut_nan()\n",
      "\n",
      "nld #17 contains nan's.\n",
      "Consider removing them e.g. with:\n",
      "# for nld in extractor.nld:\n",
      "#     nld.cut_nan()\n",
      "\n",
      "nld #18 contains nan's.\n",
      "Consider removing them e.g. with:\n",
      "# for nld in extractor.nld:\n",
      "#     nld.cut_nan()\n",
      "\n",
      "nld #19 contains nan's.\n",
      "Consider removing them e.g. with:\n",
      "# for nld in extractor.nld:\n",
      "#     nld.cut_nan()\n",
      "\n",
      "nld #20 contains nan's.\n",
      "Consider removing them e.g. with:\n",
      "# for nld in extractor.nld:\n",
      "#     nld.cut_nan()\n",
      "\n",
      "nld #21 contains nan's.\n",
      "Consider removing them e.g. with:\n",
      "# for nld in extractor.nld:\n",
      "#     nld.cut_nan()\n",
      "\n",
      "nld #22 contains nan's.\n",
      "Consider removing them e.g. with:\n",
      "# for nld in extractor.nld:\n",
      "#     nld.cut_nan()\n",
      "\n",
      "nld #23 contains nan's.\n",
      "Consider removing them e.g. with:\n",
      "# for nld in extractor.nld:\n",
      "#     nld.cut_nan()\n",
      "\n",
      "nld #24 contains nan's.\n",
      "Consider removing them e.g. with:\n",
      "# for nld in extractor.nld:\n",
      "#     nld.cut_nan()\n",
      "\n",
      "gsf #0 contains nan's.\n",
      "Consider removing them e.g. with:\n",
      "# for gsf in extractor.gsf:\n",
      "#     gsf.cut_nan()\n",
      "\n",
      "gsf #1 contains nan's.\n",
      "Consider removing them e.g. with:\n",
      "# for gsf in extractor.gsf:\n",
      "#     gsf.cut_nan()\n",
      "\n",
      "gsf #2 contains nan's.\n",
      "Consider removing them e.g. with:\n",
      "# for gsf in extractor.gsf:\n",
      "#     gsf.cut_nan()\n",
      "\n",
      "gsf #3 contains nan's.\n",
      "Consider removing them e.g. with:\n",
      "# for gsf in extractor.gsf:\n",
      "#     gsf.cut_nan()\n",
      "\n",
      "gsf #4 contains nan's.\n",
      "Consider removing them e.g. with:\n",
      "# for gsf in extractor.gsf:\n",
      "#     gsf.cut_nan()\n",
      "\n",
      "gsf #5 contains nan's.\n",
      "Consider removing them e.g. with:\n",
      "# for gsf in extractor.gsf:\n",
      "#     gsf.cut_nan()\n",
      "\n",
      "gsf #6 contains nan's.\n",
      "Consider removing them e.g. with:\n",
      "# for gsf in extractor.gsf:\n",
      "#     gsf.cut_nan()\n",
      "\n",
      "gsf #7 contains nan's.\n",
      "Consider removing them e.g. with:\n",
      "# for gsf in extractor.gsf:\n",
      "#     gsf.cut_nan()\n",
      "\n",
      "gsf #8 contains nan's.\n",
      "Consider removing them e.g. with:\n",
      "# for gsf in extractor.gsf:\n",
      "#     gsf.cut_nan()\n",
      "\n",
      "gsf #9 contains nan's.\n",
      "Consider removing them e.g. with:\n",
      "# for gsf in extractor.gsf:\n",
      "#     gsf.cut_nan()\n",
      "\n",
      "gsf #10 contains nan's.\n",
      "Consider removing them e.g. with:\n",
      "# for gsf in extractor.gsf:\n",
      "#     gsf.cut_nan()\n",
      "\n",
      "gsf #11 contains nan's.\n",
      "Consider removing them e.g. with:\n",
      "# for gsf in extractor.gsf:\n",
      "#     gsf.cut_nan()\n",
      "\n",
      "gsf #12 contains nan's.\n",
      "Consider removing them e.g. with:\n",
      "# for gsf in extractor.gsf:\n",
      "#     gsf.cut_nan()\n",
      "\n",
      "gsf #13 contains nan's.\n",
      "Consider removing them e.g. with:\n",
      "# for gsf in extractor.gsf:\n",
      "#     gsf.cut_nan()\n",
      "\n",
      "gsf #14 contains nan's.\n",
      "Consider removing them e.g. with:\n",
      "# for gsf in extractor.gsf:\n",
      "#     gsf.cut_nan()\n",
      "\n",
      "gsf #15 contains nan's.\n",
      "Consider removing them e.g. with:\n",
      "# for gsf in extractor.gsf:\n",
      "#     gsf.cut_nan()\n",
      "\n",
      "gsf #16 contains nan's.\n",
      "Consider removing them e.g. with:\n",
      "# for gsf in extractor.gsf:\n",
      "#     gsf.cut_nan()\n",
      "\n",
      "gsf #17 contains nan's.\n",
      "Consider removing them e.g. with:\n",
      "# for gsf in extractor.gsf:\n",
      "#     gsf.cut_nan()\n",
      "\n",
      "gsf #18 contains nan's.\n",
      "Consider removing them e.g. with:\n",
      "# for gsf in extractor.gsf:\n",
      "#     gsf.cut_nan()\n",
      "\n",
      "gsf #19 contains nan's.\n",
      "Consider removing them e.g. with:\n",
      "# for gsf in extractor.gsf:\n",
      "#     gsf.cut_nan()\n",
      "\n",
      "gsf #20 contains nan's.\n",
      "Consider removing them e.g. with:\n",
      "# for gsf in extractor.gsf:\n",
      "#     gsf.cut_nan()\n",
      "\n",
      "gsf #21 contains nan's.\n",
      "Consider removing them e.g. with:\n",
      "# for gsf in extractor.gsf:\n",
      "#     gsf.cut_nan()\n",
      "\n",
      "gsf #22 contains nan's.\n",
      "Consider removing them e.g. with:\n",
      "# for gsf in extractor.gsf:\n",
      "#     gsf.cut_nan()\n",
      "\n",
      "gsf #23 contains nan's.\n",
      "Consider removing them e.g. with:\n",
      "# for gsf in extractor.gsf:\n",
      "#     gsf.cut_nan()\n",
      "\n",
      "gsf #24 contains nan's.\n",
      "Consider removing them e.g. with:\n",
      "# for gsf in extractor.gsf:\n",
      "#     gsf.cut_nan()\n",
      "\n"
     ]
    }
   ],
   "source": [
    "trapezoid_cut = om.Action('matrix')\n",
    "trapezoid_cut.trapezoid(Ex_min=4400, Ex_max=7700, Eg_min=1300, Eg_max=7900, inplace=True)\n",
    "extractor = om.Extractor()\n",
    "extractor.trapezoid = trapezoid_cut\n",
    "extractor.extract_from(ensemble)"
   ]
  },
  {
   "cell_type": "code",
   "execution_count": 15,
   "id": "08a2f2d2-c84a-4558-82fc-4aae8944d296",
   "metadata": {},
   "outputs": [
    {
     "name": "stdout",
     "output_type": "stream",
     "text": [
      "200.0\n",
      "3200.0\n",
      "16.0\n",
      "(17, 34)\n",
      "(17, 34)\n",
      "[  0   1   2   3   4   5   6   7   8   9  10  11  12  13  14  15  16  34\n",
      "  35  36  37  38  39  40  41  42  43  44  45  46  47  48  49  50  51  68\n",
      "  69  70  71  72  73  74  75  76  77  78  79  80  81  82  83  84  85  86\n",
      " 102 103 104 105 106 107 108 109 110 111 112 113 114 115 116 117 118 119\n",
      " 120 121 136 137 138 139 140 141 142 143 144 145 146 147 148 149 150 151\n",
      " 152 153 154 155 156 170 171 172 173 174 175 176 177 178 179 180 181 182\n",
      " 183 184 185 186 187 188 189 190 191 204 205 206 207 208 209 210 211 212\n",
      " 213 214 215 216 217 218 219 220 221 222 223 224 225 226 238 239 240 241\n",
      " 242 243 244 245 246 247 248 249 250 251 252 253 254 255 256 257 258 259\n",
      " 260 261 272 273 274 275 276 277 278 279 280 281 282 283 284 285 286 287\n",
      " 288 289 290 291 292 293 294 295 296 306 307 308 309 310 311 312 313 314\n",
      " 315 316 317 318 319 320 321 322 323 324 325 326 327 328 329 330 331 340\n",
      " 341 342 343 344 345 346 347 348 349 350 351 352 353 354 355 356 357 358\n",
      " 359 360 361 362 363 364 365 366 374 375 376 377 378 379 380 381 382 383\n",
      " 384 385 386 387 388 389 390 391 392 393 394 395 396 397 398 399 400 401\n",
      " 408 409 410 411 412 413 414 415 416 417 418 419 420 421 422 423 424 425\n",
      " 426 427 428 429 430 431 432 433 434 435 436 442 443 444 445 446 447 448\n",
      " 449 450 451 452 453 454 455 456 457 458 459 460 461 462 463 464 465 466\n",
      " 467 468 469 470 471 476 477 478 479 480 481 482 483 484 485 486 487 488\n",
      " 489 490 491 492 493 494 495 496 497 498 499 500 501 502 503 504 505 506\n",
      " 510 511 512 513 514 515 516 517 518 519 520 521 522 523 524 525 526 527\n",
      " 528 529 530 531 532 533 534 535 536 537 538 539 540 541 544 545 546 547\n",
      " 548 549 550 551 552 553 554 555 556 557 558 559 560 561 562 563 564 565\n",
      " 566 567 568 569 570 571 572 573 574 575 576]\n"
     ]
    }
   ],
   "source": [
    "dE = firstgen.Ex[1] - firstgen.Ex[0]\n",
    "print(dE)\n",
    "print(firstgen.Ex[0] - firstgen.Eg[0])\n",
    "print((firstgen.Ex[0] - firstgen.Eg[0])/dE)\n",
    "\n",
    "k0 = int((firstgen.Ex[0] - firstgen.Eg[0])/dE)\n",
    "\n",
    "Ef = []\n",
    "for ex in firstgen.Ex:\n",
    "    for eg in firstgen.Eg:\n",
    "        Ef.append(ex-eg)\n",
    "# We only keep those that are larger than one\n",
    "Ef = np.array(Ef)\n",
    "Ef = Ef[Ef >= 0]\n",
    "# Keep only unique\n",
    "Ef = np.unique(Ef)\n",
    "\n",
    "# Next we can get the index for NLDs\n",
    "index_NLD = []\n",
    "for i, ex in enumerate(firstgen.Ex):\n",
    "    idx = []\n",
    "    for j, eg in enumerate(firstgen.Eg):\n",
    "        if ex - eg < 0:\n",
    "            idx.append(len(Ef))\n",
    "            continue\n",
    "        idx.append(i-j+k0)\n",
    "    index_NLD.append(idx)\n",
    "index_NLD = np.array(index_NLD)\n",
    "\n",
    "# Lastly we can make the index for gSFs\n",
    "index_GSF = []\n",
    "for i, ex in enumerate(firstgen.Ex):\n",
    "    idx = []\n",
    "    for j, eg in enumerate(firstgen.Eg):\n",
    "        if eg > ex:\n",
    "            idx.append(len(firstgen.Eg)-1)\n",
    "            continue\n",
    "        idx.append(j)\n",
    "    index_GSF.append(idx)\n",
    "index_GSF = np.array(index_GSF)\n",
    "    \n",
    "index_keep = []\n",
    "for i, ex in enumerate(firstgen.Ex):\n",
    "    for j, eg in enumerate(firstgen.Eg):\n",
    "        if eg > ex:\n",
    "            continue\n",
    "        index_keep.append(i*len(firstgen.Eg) + j)\n",
    "index_keep = np.array(index_keep)\n",
    "\n",
    "\n",
    "print(index_NLD.shape)\n",
    "print(index_GSF.shape)\n",
    "print(index_keep)"
   ]
  },
  {
   "cell_type": "code",
   "execution_count": 17,
   "id": "ebd312ab-6962-4327-b289-fec3f7d967df",
   "metadata": {},
   "outputs": [
    {
     "name": "stdout",
     "output_type": "stream",
     "text": [
      "[0.  0.2 0.4 0.6 0.8 1.  1.2 1.4 1.6 1.8 2.  2.2 2.4 2.6 2.8 3.  3.2 3.4\n",
      " 3.6 3.8 4.  4.2 4.4 4.6 4.8 5.  5.2 5.4 5.6 5.8 6.  6.2 6.4]\n",
      "33\n",
      "[0 1 2]\n",
      "[3 4 5 6 7]\n",
      "[ 8  9 10 11 12 13 14]\n",
      "[15 16 17 18 19 20 21 22 23 24 25 26 27 28 29 30 31]\n",
      "[32]\n"
     ]
    },
    {
     "data": {
      "application/vnd.jupyter.widget-view+json": {
       "model_id": "aa26347171e7456fbbe301e6eb5efd23",
       "version_major": 2,
       "version_minor": 0
      },
      "text/plain": [
       "Canvas(toolbar=Toolbar(toolitems=[('Home', 'Reset original view', 'home', 'home'), ('Back', 'Back to previous …"
      ]
     },
     "metadata": {},
     "output_type": "display_data"
    },
    {
     "data": {
      "text/plain": [
       "(<Figure size 640x480 with 1 Axes>, <AxesSubplot:xlabel='Energy [MeV]'>)"
      ]
     },
     "execution_count": 17,
     "metadata": {},
     "output_type": "execute_result"
    }
   ],
   "source": [
    "nld0 = extractor.nld[0].copy()\n",
    "gsf0 = extractor.gsf[0].copy()\n",
    "\n",
    "nld0_no_nan = nld0.copy()\n",
    "nld0_no_nan.cut_nan()\n",
    "nld0_no_nan.to_MeV()\n",
    "\n",
    "\n",
    "gsf0_no_nan = gsf0.copy()\n",
    "gsf0_no_nan.cut_nan()\n",
    "gsf0_no_nan.to_MeV()\n",
    "\n",
    "E_nld = nld0_no_nan.E.copy()\n",
    "print(E_nld)\n",
    "\n",
    "Sn = 7.658 # MeV\n",
    "rhoSn = [1.916E+06, 3.503E+05]\n",
    "Γ_γ_obs = [113., 13.]\n",
    "nld_range_low = [0.6, 1.7]\n",
    "nld_range_high = [3., 6.5]\n",
    "\n",
    "N_ρ = len(nld0_no_nan)\n",
    "N_T = len(firstgen.Eg)-1\n",
    "print(len(gsf0_no_nan))\n",
    "\n",
    "# bins that we compare with the discrete\n",
    "idx_discrete = np.array(range(nld0_no_nan.index(nld_range_low[0]), nld0_no_nan.index(nld_range_low[1])), dtype=int)\n",
    "idx_model = np.array(range(nld0_no_nan.index(nld_range_high[0]), nld0_no_nan.index(nld_range_high[1])), dtype=int)\n",
    "idx_pre = np.array(range(idx_discrete[0]), dtype=int)\n",
    "idx_mid = np.array(range(idx_discrete[-1]+1, idx_model[0]), dtype=int)\n",
    "idx_end = np.array(range(idx_model[-1]+1, N_ρ), dtype=int)\n",
    "\n",
    "print(idx_pre)\n",
    "print(idx_discrete)\n",
    "print(idx_mid)\n",
    "print(idx_model)\n",
    "print(idx_end)\n",
    "\n",
    "nld_discrete = om.normalizer_nld.load_levels_discrete(\"../example_data/discrete_levels_Dy164.txt\", nld0_no_nan.E)\n",
    "nld_discrete.plot(kind='step')"
   ]
  },
  {
   "cell_type": "code",
   "execution_count": null,
   "id": "8496f135-83c3-4476-b37f-84533ad2d4c8",
   "metadata": {},
   "outputs": [
    {
     "name": "stderr",
     "output_type": "stream",
     "text": [
      "Auto-assigning NUTS sampler...\n",
      "Initializing NUTS using jitter+adapt_diag...\n",
      "Initializing NUTS failed. Falling back to elementwise auto-assignment.\n",
      "Multiprocess sampling (4 chains in 4 jobs)\n",
      "Slice: [x]\n"
     ]
    },
    {
     "data": {
      "text/html": [
       "\n",
       "    <div>\n",
       "        <style>\n",
       "            /* Turns off some styling */\n",
       "            progress {\n",
       "                /* gets rid of default border in Firefox and Opera. */\n",
       "                border: none;\n",
       "                /* Needs to be in here for Safari polyfill so background images work as expected. */\n",
       "                background-size: auto;\n",
       "            }\n",
       "            .progress-bar-interrupted, .progress-bar-interrupted::-webkit-progress-bar {\n",
       "                background: #F44336;\n",
       "            }\n",
       "        </style>\n",
       "      <progress value='0' class='' max='8000' style='width:300px; height:20px; vertical-align: middle;'></progress>\n",
       "      0.00% [0/8000 00:00<00:00 Sampling 4 chains, 0 divergences]\n",
       "    </div>\n",
       "    "
      ],
      "text/plain": [
       "<IPython.core.display.HTML object>"
      ]
     },
     "metadata": {},
     "output_type": "display_data"
    }
   ],
   "source": [
    "fg_norm, fg_std_norm = om.extractor.normalize(firstgen, firstgen_std)\n",
    "logl = FG_loglike(firstgen, firstgen_std, nld0.E)\n",
    "fg_op = LogLike2(logl)\n",
    "\n",
    "pre_points = np.ones(len(nld0.E) - N_ρ, dtype=float)\n",
    "\n",
    "with pm.Model() as model:\n",
    "    \n",
    "    # Define ρ\n",
    "    #σ_ρ = om.FermiDirac(\"σ_ρ\", mu=1.2, lam=10., shape=N_ρ)\n",
    "    \n",
    "    #ρ0_pre = pm.HalfFlat(\"ρ0_pre\", shape=len(idx_pre))\n",
    "    #ρ0_mid = pm.HalfFlat(\"ρ0_mid\", shape=len(idx_mid))\n",
    "    #ρ0_end = pm.HalfFlat(\"ρ0_end\", shape=len(idx_end))\n",
    "    \n",
    "    #ρ_pre = pm.Normal(\"ρ_pre\", mu=ρ0_pre, sigma=σ_ρ[idx_pre]*ρ0_pre, shape=len(idx_pre))\n",
    "    #ρ_mid = pm.Normal(\"ρ_mid\", mu=ρ0_mid, sigma=σ_ρ[idx_mid]*ρ0_mid, shape=len(idx_mid))\n",
    "    #ρ_end = pm.Normal(\"ρ_end\", mu=ρ0_end, sigma=σ_ρ[idx_end]*ρ0_end, shape=len(idx_end))\n",
    "    \n",
    "    #Temp = om.FermiDirac(\"Temp\", mu=2., lam=10.)\n",
    "    #E0 = pm.Normal(\"E0\", mu=0, sigma=10.)\n",
    "    \n",
    "    #ρ_CT = pm.math.exp((E_nld[idx_model] - E0)/Temp)/Temp\n",
    "    \n",
    "    \n",
    "    #ρ_discrete = pm.Normal(\"ρ_discrete\", mu=nld_discrete.values[idx_discrete], \n",
    "    #                       sigma=nld_discrete.values[idx_discrete]*σ_ρ[idx_discrete], shape=len(idx_discrete))\n",
    "    \n",
    "    #ρ_model = pm.Normal(\"ρ_model\", mu=ρ_CT, sigma=ρ_CT*σ_ρ[idx_model], shape=len(idx_model))\n",
    "    \n",
    "    # Next we define ρ proper\n",
    "    #ρ = pm.math.concatenate((ρ_pre, ρ_discrete, ρ_mid, ρ_model, ρ_end))\n",
    "    #ρ = pm.HalfFlat(\"ρ\", shape=N_ρ)\n",
    "    \n",
    "    # Define transmission coefficients\n",
    "    #σ_T = om.FermiDirac(\"σ_ρ\", mu=1.2, lam=10., shape=N_T)\n",
    "    #T = pm.HalfFlat(\"T\", shape=N_T)\n",
    "    \n",
    "    # Models\n",
    "    \n",
    "    #Γ_γ_mu = pm.math.sum(T) # At the moment we will use a super hacky solution. We do not implement the integral just yet\n",
    "    \n",
    "    #ρ_mat = pm.math.concatenate((theano.tensor.as_tensor_variable(pre_points), ρ))\n",
    "    #T_mat = pm.math.concatenate((T, theano.tensor.as_tensor_variable(np.array([0], dtype=float))))\n",
    "    x = pm.HalfFlat(\"x\", shape=len(firstgen.Eg)+len(nld0))\n",
    "    #x = pm.math.concatenate((T_mat, ρ_mat))\n",
    "    \n",
    "    #Pth = fg_op(x)\n",
    "    #Pth = ρ_mat * T_mat\n",
    "    #Pth /= pm.math.sum(Pth, axis=1, keepdims=True)\n",
    "    \n",
    "    # We flatten and remove all that are not\n",
    "    #mu_FG = pm.math.flatten(Pth)[index_keep]\n",
    "    \n",
    "    # Observables\n",
    "    \n",
    "    #Γ_γ = pm.Normal(\"Γ_γ\", mu=Γ_γ_mu, sigma=Γ_γ_obs[1], observed=Γ_γ_obs[0])\n",
    "    #ρ_Sn = pm.Normal(\"ρ_Sn\", mu=pm.math.exp((Sn - E0)/Temp)/Temp, sigma=rhoSn[1], observed=rhoSn[0])\n",
    "    #P = pm.Normal(\"P\", mu=mu_FG, sigma=fg_std_norm.flatten()[index_keep], observed=fg_norm.flatten()[index_keep])\n",
    "    P = pm.DensityDist(\"P\", lambda x: fg_op(x), observed={'x': x})\n",
    "    \n",
    "    # Sample\n",
    "    trace = pm.sample()"
   ]
  },
  {
   "cell_type": "code",
   "execution_count": 5,
   "id": "7eb51c06-d0d2-4158-b054-408d5e00d64c",
   "metadata": {},
   "outputs": [
    {
     "name": "stderr",
     "output_type": "stream",
     "text": [
      "Auto-assigning NUTS sampler...\n",
      "Initializing NUTS using jitter+adapt_diag...\n",
      "Initializing NUTS failed. Falling back to elementwise auto-assignment.\n",
      "Multiprocess sampling (4 chains in 4 jobs)\n",
      "CompoundStep\n",
      ">Slice: [c]\n",
      ">Slice: [m]\n"
     ]
    },
    {
     "data": {
      "text/html": [
       "\n",
       "    <div>\n",
       "        <style>\n",
       "            /* Turns off some styling */\n",
       "            progress {\n",
       "                /* gets rid of default border in Firefox and Opera. */\n",
       "                border: none;\n",
       "                /* Needs to be in here for Safari polyfill so background images work as expected. */\n",
       "                background-size: auto;\n",
       "            }\n",
       "            .progress-bar-interrupted, .progress-bar-interrupted::-webkit-progress-bar {\n",
       "                background: #F44336;\n",
       "            }\n",
       "        </style>\n",
       "      <progress value='16000' class='' max='16000' style='width:300px; height:20px; vertical-align: middle;'></progress>\n",
       "      100.00% [16000/16000 00:06<00:00 Sampling 4 chains, 0 divergences]\n",
       "    </div>\n",
       "    "
      ],
      "text/plain": [
       "<IPython.core.display.HTML object>"
      ]
     },
     "metadata": {},
     "output_type": "display_data"
    },
    {
     "name": "stderr",
     "output_type": "stream",
     "text": [
      "Sampling 4 chains for 1_000 tune and 3_000 draw iterations (4_000 + 12_000 draws total) took 16 seconds.\n"
     ]
    },
    {
     "ename": "MissingInputError",
     "evalue": "Input 0 of the graph (indices start from 0), used to compute sigmoid(c_interval__), was not provided and not given a value. Use the Theano flag exception_verbosity='high', for more information on this error.",
     "output_type": "error",
     "traceback": [
      "\u001b[0;31m---------------------------------------------------------------------------\u001b[0m",
      "\u001b[0;31mMissingInputError\u001b[0m                         Traceback (most recent call last)",
      "\u001b[0;32m/var/folders/cb/ly7f8x1n48q9lkmqt6c6lyv00000gn/T/ipykernel_27971/1192511093.py\u001b[0m in \u001b[0;36m<module>\u001b[0;34m\u001b[0m\n\u001b[1;32m     35\u001b[0m     \u001b[0mpm\u001b[0m\u001b[0;34m.\u001b[0m\u001b[0mDensityDist\u001b[0m\u001b[0;34m(\u001b[0m\u001b[0;34m\"likelihood\"\u001b[0m\u001b[0;34m,\u001b[0m \u001b[0;32mlambda\u001b[0m \u001b[0mv\u001b[0m\u001b[0;34m:\u001b[0m \u001b[0mlogl\u001b[0m\u001b[0;34m(\u001b[0m\u001b[0mv\u001b[0m\u001b[0;34m)\u001b[0m\u001b[0;34m,\u001b[0m \u001b[0mobserved\u001b[0m\u001b[0;34m=\u001b[0m\u001b[0;34m{\u001b[0m\u001b[0;34m\"v\"\u001b[0m\u001b[0;34m:\u001b[0m \u001b[0mtheta\u001b[0m\u001b[0;34m}\u001b[0m\u001b[0;34m)\u001b[0m\u001b[0;34m\u001b[0m\u001b[0;34m\u001b[0m\u001b[0m\n\u001b[1;32m     36\u001b[0m \u001b[0;34m\u001b[0m\u001b[0m\n\u001b[0;32m---> 37\u001b[0;31m     \u001b[0mtrace\u001b[0m \u001b[0;34m=\u001b[0m \u001b[0mpm\u001b[0m\u001b[0;34m.\u001b[0m\u001b[0msample\u001b[0m\u001b[0;34m(\u001b[0m\u001b[0mndraws\u001b[0m\u001b[0;34m,\u001b[0m \u001b[0mtune\u001b[0m\u001b[0;34m=\u001b[0m\u001b[0mnburn\u001b[0m\u001b[0;34m,\u001b[0m \u001b[0mdiscard_tuned_samples\u001b[0m\u001b[0;34m=\u001b[0m\u001b[0;32mTrue\u001b[0m\u001b[0;34m)\u001b[0m\u001b[0;34m\u001b[0m\u001b[0;34m\u001b[0m\u001b[0m\n\u001b[0m",
      "\u001b[0;32m~/.pyenv/versions/3.9.6/lib/python3.9/site-packages/pymc3/sampling.py\u001b[0m in \u001b[0;36msample\u001b[0;34m(draws, step, init, n_init, start, trace, chain_idx, chains, cores, tune, progressbar, model, random_seed, discard_tuned_samples, compute_convergence_checks, callback, jitter_max_retries, return_inferencedata, idata_kwargs, mp_ctx, pickle_backend, **kwargs)\u001b[0m\n\u001b[1;32m    637\u001b[0m         \u001b[0;32mif\u001b[0m \u001b[0midata_kwargs\u001b[0m\u001b[0;34m:\u001b[0m\u001b[0;34m\u001b[0m\u001b[0;34m\u001b[0m\u001b[0m\n\u001b[1;32m    638\u001b[0m             \u001b[0mikwargs\u001b[0m\u001b[0;34m.\u001b[0m\u001b[0mupdate\u001b[0m\u001b[0;34m(\u001b[0m\u001b[0midata_kwargs\u001b[0m\u001b[0;34m)\u001b[0m\u001b[0;34m\u001b[0m\u001b[0;34m\u001b[0m\u001b[0m\n\u001b[0;32m--> 639\u001b[0;31m         \u001b[0midata\u001b[0m \u001b[0;34m=\u001b[0m \u001b[0marviz\u001b[0m\u001b[0;34m.\u001b[0m\u001b[0mfrom_pymc3\u001b[0m\u001b[0;34m(\u001b[0m\u001b[0mtrace\u001b[0m\u001b[0;34m,\u001b[0m \u001b[0;34m**\u001b[0m\u001b[0mikwargs\u001b[0m\u001b[0;34m)\u001b[0m\u001b[0;34m\u001b[0m\u001b[0;34m\u001b[0m\u001b[0m\n\u001b[0m\u001b[1;32m    640\u001b[0m \u001b[0;34m\u001b[0m\u001b[0m\n\u001b[1;32m    641\u001b[0m     \u001b[0;32mif\u001b[0m \u001b[0mcompute_convergence_checks\u001b[0m\u001b[0;34m:\u001b[0m\u001b[0;34m\u001b[0m\u001b[0;34m\u001b[0m\u001b[0m\n",
      "\u001b[0;32m~/.pyenv/versions/3.9.6/lib/python3.9/site-packages/arviz/data/io_pymc3.py\u001b[0m in \u001b[0;36mfrom_pymc3\u001b[0;34m(trace, prior, posterior_predictive, log_likelihood, coords, dims, model, save_warmup, density_dist_obs)\u001b[0m\n\u001b[1;32m    561\u001b[0m     \u001b[0mInferenceData\u001b[0m\u001b[0;34m\u001b[0m\u001b[0;34m\u001b[0m\u001b[0m\n\u001b[1;32m    562\u001b[0m     \"\"\"\n\u001b[0;32m--> 563\u001b[0;31m     return PyMC3Converter(\n\u001b[0m\u001b[1;32m    564\u001b[0m         \u001b[0mtrace\u001b[0m\u001b[0;34m=\u001b[0m\u001b[0mtrace\u001b[0m\u001b[0;34m,\u001b[0m\u001b[0;34m\u001b[0m\u001b[0;34m\u001b[0m\u001b[0m\n\u001b[1;32m    565\u001b[0m         \u001b[0mprior\u001b[0m\u001b[0;34m=\u001b[0m\u001b[0mprior\u001b[0m\u001b[0;34m,\u001b[0m\u001b[0;34m\u001b[0m\u001b[0;34m\u001b[0m\u001b[0m\n",
      "\u001b[0;32m~/.pyenv/versions/3.9.6/lib/python3.9/site-packages/arviz/data/io_pymc3.py\u001b[0m in \u001b[0;36m__init__\u001b[0;34m(self, trace, prior, posterior_predictive, log_likelihood, predictions, coords, dims, model, save_warmup, density_dist_obs)\u001b[0m\n\u001b[1;32m    169\u001b[0m \u001b[0;34m\u001b[0m\u001b[0m\n\u001b[1;32m    170\u001b[0m         \u001b[0mself\u001b[0m\u001b[0;34m.\u001b[0m\u001b[0mdensity_dist_obs\u001b[0m \u001b[0;34m=\u001b[0m \u001b[0mdensity_dist_obs\u001b[0m\u001b[0;34m\u001b[0m\u001b[0;34m\u001b[0m\u001b[0m\n\u001b[0;32m--> 171\u001b[0;31m         \u001b[0mself\u001b[0m\u001b[0;34m.\u001b[0m\u001b[0mobservations\u001b[0m\u001b[0;34m,\u001b[0m \u001b[0mself\u001b[0m\u001b[0;34m.\u001b[0m\u001b[0mmulti_observations\u001b[0m \u001b[0;34m=\u001b[0m \u001b[0mself\u001b[0m\u001b[0;34m.\u001b[0m\u001b[0mfind_observations\u001b[0m\u001b[0;34m(\u001b[0m\u001b[0;34m)\u001b[0m\u001b[0;34m\u001b[0m\u001b[0;34m\u001b[0m\u001b[0m\n\u001b[0m\u001b[1;32m    172\u001b[0m \u001b[0;34m\u001b[0m\u001b[0m\n\u001b[1;32m    173\u001b[0m     \u001b[0;32mdef\u001b[0m \u001b[0mfind_observations\u001b[0m\u001b[0;34m(\u001b[0m\u001b[0mself\u001b[0m\u001b[0;34m)\u001b[0m \u001b[0;34m->\u001b[0m \u001b[0mTuple\u001b[0m\u001b[0;34m[\u001b[0m\u001b[0mOptional\u001b[0m\u001b[0;34m[\u001b[0m\u001b[0mDict\u001b[0m\u001b[0;34m[\u001b[0m\u001b[0mstr\u001b[0m\u001b[0;34m,\u001b[0m \u001b[0mVar\u001b[0m\u001b[0;34m]\u001b[0m\u001b[0;34m]\u001b[0m\u001b[0;34m,\u001b[0m \u001b[0mOptional\u001b[0m\u001b[0;34m[\u001b[0m\u001b[0mDict\u001b[0m\u001b[0;34m[\u001b[0m\u001b[0mstr\u001b[0m\u001b[0;34m,\u001b[0m \u001b[0mVar\u001b[0m\u001b[0;34m]\u001b[0m\u001b[0;34m]\u001b[0m\u001b[0;34m]\u001b[0m\u001b[0;34m:\u001b[0m\u001b[0;34m\u001b[0m\u001b[0;34m\u001b[0m\u001b[0m\n",
      "\u001b[0;32m~/.pyenv/versions/3.9.6/lib/python3.9/site-packages/arviz/data/io_pymc3.py\u001b[0m in \u001b[0;36mfind_observations\u001b[0;34m(self)\u001b[0m\n\u001b[1;32m    182\u001b[0m             \u001b[0;32melif\u001b[0m \u001b[0mhasattr\u001b[0m\u001b[0;34m(\u001b[0m\u001b[0mobs\u001b[0m\u001b[0;34m,\u001b[0m \u001b[0;34m\"data\"\u001b[0m\u001b[0;34m)\u001b[0m \u001b[0;32mand\u001b[0m \u001b[0mself\u001b[0m\u001b[0;34m.\u001b[0m\u001b[0mdensity_dist_obs\u001b[0m\u001b[0;34m:\u001b[0m\u001b[0;34m\u001b[0m\u001b[0;34m\u001b[0m\u001b[0m\n\u001b[1;32m    183\u001b[0m                 \u001b[0;32mfor\u001b[0m \u001b[0mkey\u001b[0m\u001b[0;34m,\u001b[0m \u001b[0mval\u001b[0m \u001b[0;32min\u001b[0m \u001b[0mobs\u001b[0m\u001b[0;34m.\u001b[0m\u001b[0mdata\u001b[0m\u001b[0;34m.\u001b[0m\u001b[0mitems\u001b[0m\u001b[0;34m(\u001b[0m\u001b[0;34m)\u001b[0m\u001b[0;34m:\u001b[0m\u001b[0;34m\u001b[0m\u001b[0;34m\u001b[0m\u001b[0m\n\u001b[0;32m--> 184\u001b[0;31m                     \u001b[0mmulti_observations\u001b[0m\u001b[0;34m[\u001b[0m\u001b[0mkey\u001b[0m\u001b[0;34m]\u001b[0m \u001b[0;34m=\u001b[0m \u001b[0mval\u001b[0m\u001b[0;34m.\u001b[0m\u001b[0meval\u001b[0m\u001b[0;34m(\u001b[0m\u001b[0;34m)\u001b[0m \u001b[0;32mif\u001b[0m \u001b[0mhasattr\u001b[0m\u001b[0;34m(\u001b[0m\u001b[0mval\u001b[0m\u001b[0;34m,\u001b[0m \u001b[0;34m\"eval\"\u001b[0m\u001b[0;34m)\u001b[0m \u001b[0;32melse\u001b[0m \u001b[0mval\u001b[0m\u001b[0;34m\u001b[0m\u001b[0;34m\u001b[0m\u001b[0m\n\u001b[0m\u001b[1;32m    185\u001b[0m         \u001b[0;32mreturn\u001b[0m \u001b[0mobservations\u001b[0m\u001b[0;34m,\u001b[0m \u001b[0mmulti_observations\u001b[0m\u001b[0;34m\u001b[0m\u001b[0;34m\u001b[0m\u001b[0m\n\u001b[1;32m    186\u001b[0m \u001b[0;34m\u001b[0m\u001b[0m\n",
      "\u001b[0;32m~/.pyenv/versions/3.9.6/lib/python3.9/site-packages/theano/graph/basic.py\u001b[0m in \u001b[0;36meval\u001b[0;34m(self, inputs_to_values)\u001b[0m\n\u001b[1;32m    552\u001b[0m         \u001b[0minputs\u001b[0m \u001b[0;34m=\u001b[0m \u001b[0mtuple\u001b[0m\u001b[0;34m(\u001b[0m\u001b[0msorted\u001b[0m\u001b[0;34m(\u001b[0m\u001b[0minputs_to_values\u001b[0m\u001b[0;34m.\u001b[0m\u001b[0mkeys\u001b[0m\u001b[0;34m(\u001b[0m\u001b[0;34m)\u001b[0m\u001b[0;34m,\u001b[0m \u001b[0mkey\u001b[0m\u001b[0;34m=\u001b[0m\u001b[0mid\u001b[0m\u001b[0;34m)\u001b[0m\u001b[0;34m)\u001b[0m\u001b[0;34m\u001b[0m\u001b[0;34m\u001b[0m\u001b[0m\n\u001b[1;32m    553\u001b[0m         \u001b[0;32mif\u001b[0m \u001b[0minputs\u001b[0m \u001b[0;32mnot\u001b[0m \u001b[0;32min\u001b[0m \u001b[0mself\u001b[0m\u001b[0;34m.\u001b[0m\u001b[0m_fn_cache\u001b[0m\u001b[0;34m:\u001b[0m\u001b[0;34m\u001b[0m\u001b[0;34m\u001b[0m\u001b[0m\n\u001b[0;32m--> 554\u001b[0;31m             \u001b[0mself\u001b[0m\u001b[0;34m.\u001b[0m\u001b[0m_fn_cache\u001b[0m\u001b[0;34m[\u001b[0m\u001b[0minputs\u001b[0m\u001b[0;34m]\u001b[0m \u001b[0;34m=\u001b[0m \u001b[0mtheano\u001b[0m\u001b[0;34m.\u001b[0m\u001b[0mfunction\u001b[0m\u001b[0;34m(\u001b[0m\u001b[0minputs\u001b[0m\u001b[0;34m,\u001b[0m \u001b[0mself\u001b[0m\u001b[0;34m)\u001b[0m\u001b[0;34m\u001b[0m\u001b[0;34m\u001b[0m\u001b[0m\n\u001b[0m\u001b[1;32m    555\u001b[0m         \u001b[0margs\u001b[0m \u001b[0;34m=\u001b[0m \u001b[0;34m[\u001b[0m\u001b[0minputs_to_values\u001b[0m\u001b[0;34m[\u001b[0m\u001b[0mparam\u001b[0m\u001b[0;34m]\u001b[0m \u001b[0;32mfor\u001b[0m \u001b[0mparam\u001b[0m \u001b[0;32min\u001b[0m \u001b[0minputs\u001b[0m\u001b[0;34m]\u001b[0m\u001b[0;34m\u001b[0m\u001b[0;34m\u001b[0m\u001b[0m\n\u001b[1;32m    556\u001b[0m \u001b[0;34m\u001b[0m\u001b[0m\n",
      "\u001b[0;32m~/.pyenv/versions/3.9.6/lib/python3.9/site-packages/theano/compile/function/__init__.py\u001b[0m in \u001b[0;36mfunction\u001b[0;34m(inputs, outputs, mode, updates, givens, no_default_updates, accept_inplace, name, rebuild_strict, allow_input_downcast, profile, on_unused_input)\u001b[0m\n\u001b[1;32m    335\u001b[0m         \u001b[0;31m# note: pfunc will also call orig_function -- orig_function is\u001b[0m\u001b[0;34m\u001b[0m\u001b[0;34m\u001b[0m\u001b[0;34m\u001b[0m\u001b[0m\n\u001b[1;32m    336\u001b[0m         \u001b[0;31m#      a choke point that all compilation must pass through\u001b[0m\u001b[0;34m\u001b[0m\u001b[0;34m\u001b[0m\u001b[0;34m\u001b[0m\u001b[0m\n\u001b[0;32m--> 337\u001b[0;31m         fn = pfunc(\n\u001b[0m\u001b[1;32m    338\u001b[0m             \u001b[0mparams\u001b[0m\u001b[0;34m=\u001b[0m\u001b[0minputs\u001b[0m\u001b[0;34m,\u001b[0m\u001b[0;34m\u001b[0m\u001b[0;34m\u001b[0m\u001b[0m\n\u001b[1;32m    339\u001b[0m             \u001b[0moutputs\u001b[0m\u001b[0;34m=\u001b[0m\u001b[0moutputs\u001b[0m\u001b[0;34m,\u001b[0m\u001b[0;34m\u001b[0m\u001b[0;34m\u001b[0m\u001b[0m\n",
      "\u001b[0;32m~/.pyenv/versions/3.9.6/lib/python3.9/site-packages/theano/compile/function/pfunc.py\u001b[0m in \u001b[0;36mpfunc\u001b[0;34m(params, outputs, mode, updates, givens, no_default_updates, accept_inplace, name, rebuild_strict, allow_input_downcast, profile, on_unused_input, output_keys)\u001b[0m\n\u001b[1;32m    522\u001b[0m         \u001b[0minputs\u001b[0m\u001b[0;34m.\u001b[0m\u001b[0mappend\u001b[0m\u001b[0;34m(\u001b[0m\u001b[0msi\u001b[0m\u001b[0;34m)\u001b[0m\u001b[0;34m\u001b[0m\u001b[0;34m\u001b[0m\u001b[0m\n\u001b[1;32m    523\u001b[0m \u001b[0;34m\u001b[0m\u001b[0m\n\u001b[0;32m--> 524\u001b[0;31m     return orig_function(\n\u001b[0m\u001b[1;32m    525\u001b[0m         \u001b[0minputs\u001b[0m\u001b[0;34m,\u001b[0m\u001b[0;34m\u001b[0m\u001b[0;34m\u001b[0m\u001b[0m\n\u001b[1;32m    526\u001b[0m         \u001b[0mcloned_outputs\u001b[0m\u001b[0;34m,\u001b[0m\u001b[0;34m\u001b[0m\u001b[0;34m\u001b[0m\u001b[0m\n",
      "\u001b[0;32m~/.pyenv/versions/3.9.6/lib/python3.9/site-packages/theano/compile/function/types.py\u001b[0m in \u001b[0;36morig_function\u001b[0;34m(inputs, outputs, mode, accept_inplace, name, profile, on_unused_input, output_keys)\u001b[0m\n\u001b[1;32m   1968\u001b[0m     \u001b[0;32mtry\u001b[0m\u001b[0;34m:\u001b[0m\u001b[0;34m\u001b[0m\u001b[0;34m\u001b[0m\u001b[0m\n\u001b[1;32m   1969\u001b[0m         \u001b[0mMaker\u001b[0m \u001b[0;34m=\u001b[0m \u001b[0mgetattr\u001b[0m\u001b[0;34m(\u001b[0m\u001b[0mmode\u001b[0m\u001b[0;34m,\u001b[0m \u001b[0;34m\"function_maker\"\u001b[0m\u001b[0;34m,\u001b[0m \u001b[0mFunctionMaker\u001b[0m\u001b[0;34m)\u001b[0m\u001b[0;34m\u001b[0m\u001b[0;34m\u001b[0m\u001b[0m\n\u001b[0;32m-> 1970\u001b[0;31m         m = Maker(\n\u001b[0m\u001b[1;32m   1971\u001b[0m             \u001b[0minputs\u001b[0m\u001b[0;34m,\u001b[0m\u001b[0;34m\u001b[0m\u001b[0;34m\u001b[0m\u001b[0m\n\u001b[1;32m   1972\u001b[0m             \u001b[0moutputs\u001b[0m\u001b[0;34m,\u001b[0m\u001b[0;34m\u001b[0m\u001b[0;34m\u001b[0m\u001b[0m\n",
      "\u001b[0;32m~/.pyenv/versions/3.9.6/lib/python3.9/site-packages/theano/compile/function/types.py\u001b[0m in \u001b[0;36m__init__\u001b[0;34m(self, inputs, outputs, mode, accept_inplace, function_builder, profile, on_unused_input, fgraph, output_keys, name)\u001b[0m\n\u001b[1;32m   1582\u001b[0m             \u001b[0;31m# make the fgraph (copies the graph, creates NEW INPUT AND\u001b[0m\u001b[0;34m\u001b[0m\u001b[0;34m\u001b[0m\u001b[0;34m\u001b[0m\u001b[0m\n\u001b[1;32m   1583\u001b[0m             \u001b[0;31m# OUTPUT VARIABLES)\u001b[0m\u001b[0;34m\u001b[0m\u001b[0;34m\u001b[0m\u001b[0;34m\u001b[0m\u001b[0m\n\u001b[0;32m-> 1584\u001b[0;31m             \u001b[0mfgraph\u001b[0m\u001b[0;34m,\u001b[0m \u001b[0madditional_outputs\u001b[0m \u001b[0;34m=\u001b[0m \u001b[0mstd_fgraph\u001b[0m\u001b[0;34m(\u001b[0m\u001b[0minputs\u001b[0m\u001b[0;34m,\u001b[0m \u001b[0moutputs\u001b[0m\u001b[0;34m,\u001b[0m \u001b[0maccept_inplace\u001b[0m\u001b[0;34m)\u001b[0m\u001b[0;34m\u001b[0m\u001b[0;34m\u001b[0m\u001b[0m\n\u001b[0m\u001b[1;32m   1585\u001b[0m             \u001b[0mfgraph\u001b[0m\u001b[0;34m.\u001b[0m\u001b[0mprofile\u001b[0m \u001b[0;34m=\u001b[0m \u001b[0mprofile\u001b[0m\u001b[0;34m\u001b[0m\u001b[0;34m\u001b[0m\u001b[0m\n\u001b[1;32m   1586\u001b[0m         \u001b[0;32melse\u001b[0m\u001b[0;34m:\u001b[0m\u001b[0;34m\u001b[0m\u001b[0;34m\u001b[0m\u001b[0m\n",
      "\u001b[0;32m~/.pyenv/versions/3.9.6/lib/python3.9/site-packages/theano/compile/function/types.py\u001b[0m in \u001b[0;36mstd_fgraph\u001b[0;34m(input_specs, output_specs, accept_inplace)\u001b[0m\n\u001b[1;32m    186\u001b[0m     \u001b[0morig_outputs\u001b[0m \u001b[0;34m=\u001b[0m \u001b[0;34m[\u001b[0m\u001b[0mspec\u001b[0m\u001b[0;34m.\u001b[0m\u001b[0mvariable\u001b[0m \u001b[0;32mfor\u001b[0m \u001b[0mspec\u001b[0m \u001b[0;32min\u001b[0m \u001b[0moutput_specs\u001b[0m\u001b[0;34m]\u001b[0m \u001b[0;34m+\u001b[0m \u001b[0mupdates\u001b[0m\u001b[0;34m\u001b[0m\u001b[0;34m\u001b[0m\u001b[0m\n\u001b[1;32m    187\u001b[0m \u001b[0;34m\u001b[0m\u001b[0m\n\u001b[0;32m--> 188\u001b[0;31m     \u001b[0mfgraph\u001b[0m \u001b[0;34m=\u001b[0m \u001b[0mFunctionGraph\u001b[0m\u001b[0;34m(\u001b[0m\u001b[0morig_inputs\u001b[0m\u001b[0;34m,\u001b[0m \u001b[0morig_outputs\u001b[0m\u001b[0;34m,\u001b[0m \u001b[0mupdate_mapping\u001b[0m\u001b[0;34m=\u001b[0m\u001b[0mupdate_mapping\u001b[0m\u001b[0;34m)\u001b[0m\u001b[0;34m\u001b[0m\u001b[0;34m\u001b[0m\u001b[0m\n\u001b[0m\u001b[1;32m    189\u001b[0m \u001b[0;34m\u001b[0m\u001b[0m\n\u001b[1;32m    190\u001b[0m     \u001b[0;32mfor\u001b[0m \u001b[0mnode\u001b[0m \u001b[0;32min\u001b[0m \u001b[0mfgraph\u001b[0m\u001b[0;34m.\u001b[0m\u001b[0mapply_nodes\u001b[0m\u001b[0;34m:\u001b[0m\u001b[0;34m\u001b[0m\u001b[0;34m\u001b[0m\u001b[0m\n",
      "\u001b[0;32m~/.pyenv/versions/3.9.6/lib/python3.9/site-packages/theano/graph/fg.py\u001b[0m in \u001b[0;36m__init__\u001b[0;34m(self, inputs, outputs, features, clone, update_mapping)\u001b[0m\n\u001b[1;32m    160\u001b[0m \u001b[0;34m\u001b[0m\u001b[0m\n\u001b[1;32m    161\u001b[0m         \u001b[0;32mfor\u001b[0m \u001b[0moutput\u001b[0m \u001b[0;32min\u001b[0m \u001b[0moutputs\u001b[0m\u001b[0;34m:\u001b[0m\u001b[0;34m\u001b[0m\u001b[0;34m\u001b[0m\u001b[0m\n\u001b[0;32m--> 162\u001b[0;31m             \u001b[0mself\u001b[0m\u001b[0;34m.\u001b[0m\u001b[0mimport_var\u001b[0m\u001b[0;34m(\u001b[0m\u001b[0moutput\u001b[0m\u001b[0;34m,\u001b[0m \u001b[0mreason\u001b[0m\u001b[0;34m=\u001b[0m\u001b[0;34m\"init\"\u001b[0m\u001b[0;34m)\u001b[0m\u001b[0;34m\u001b[0m\u001b[0;34m\u001b[0m\u001b[0m\n\u001b[0m\u001b[1;32m    163\u001b[0m         \u001b[0;32mfor\u001b[0m \u001b[0mi\u001b[0m\u001b[0;34m,\u001b[0m \u001b[0moutput\u001b[0m \u001b[0;32min\u001b[0m \u001b[0menumerate\u001b[0m\u001b[0;34m(\u001b[0m\u001b[0moutputs\u001b[0m\u001b[0;34m)\u001b[0m\u001b[0;34m:\u001b[0m\u001b[0;34m\u001b[0m\u001b[0;34m\u001b[0m\u001b[0m\n\u001b[1;32m    164\u001b[0m             \u001b[0mself\u001b[0m\u001b[0;34m.\u001b[0m\u001b[0mclients\u001b[0m\u001b[0;34m[\u001b[0m\u001b[0moutput\u001b[0m\u001b[0;34m]\u001b[0m\u001b[0;34m.\u001b[0m\u001b[0mappend\u001b[0m\u001b[0;34m(\u001b[0m\u001b[0;34m(\u001b[0m\u001b[0;34m\"output\"\u001b[0m\u001b[0;34m,\u001b[0m \u001b[0mi\u001b[0m\u001b[0;34m)\u001b[0m\u001b[0;34m)\u001b[0m\u001b[0;34m\u001b[0m\u001b[0;34m\u001b[0m\u001b[0m\n",
      "\u001b[0;32m~/.pyenv/versions/3.9.6/lib/python3.9/site-packages/theano/graph/fg.py\u001b[0m in \u001b[0;36mimport_var\u001b[0;34m(self, var, reason)\u001b[0m\n\u001b[1;32m    328\u001b[0m         \u001b[0;31m# Imports the owners of the variables\u001b[0m\u001b[0;34m\u001b[0m\u001b[0;34m\u001b[0m\u001b[0;34m\u001b[0m\u001b[0m\n\u001b[1;32m    329\u001b[0m         \u001b[0;32mif\u001b[0m \u001b[0mvar\u001b[0m\u001b[0;34m.\u001b[0m\u001b[0mowner\u001b[0m \u001b[0;32mand\u001b[0m \u001b[0mvar\u001b[0m\u001b[0;34m.\u001b[0m\u001b[0mowner\u001b[0m \u001b[0;32mnot\u001b[0m \u001b[0;32min\u001b[0m \u001b[0mself\u001b[0m\u001b[0;34m.\u001b[0m\u001b[0mapply_nodes\u001b[0m\u001b[0;34m:\u001b[0m\u001b[0;34m\u001b[0m\u001b[0;34m\u001b[0m\u001b[0m\n\u001b[0;32m--> 330\u001b[0;31m             \u001b[0mself\u001b[0m\u001b[0;34m.\u001b[0m\u001b[0mimport_node\u001b[0m\u001b[0;34m(\u001b[0m\u001b[0mvar\u001b[0m\u001b[0;34m.\u001b[0m\u001b[0mowner\u001b[0m\u001b[0;34m,\u001b[0m \u001b[0mreason\u001b[0m\u001b[0;34m=\u001b[0m\u001b[0mreason\u001b[0m\u001b[0;34m)\u001b[0m\u001b[0;34m\u001b[0m\u001b[0;34m\u001b[0m\u001b[0m\n\u001b[0m\u001b[1;32m    331\u001b[0m         elif (\n\u001b[1;32m    332\u001b[0m             \u001b[0mvar\u001b[0m\u001b[0;34m.\u001b[0m\u001b[0mowner\u001b[0m \u001b[0;32mis\u001b[0m \u001b[0;32mNone\u001b[0m\u001b[0;34m\u001b[0m\u001b[0;34m\u001b[0m\u001b[0m\n",
      "\u001b[0;32m~/.pyenv/versions/3.9.6/lib/python3.9/site-packages/theano/graph/fg.py\u001b[0m in \u001b[0;36mimport_node\u001b[0;34m(self, apply_node, check, reason)\u001b[0m\n\u001b[1;32m    381\u001b[0m                             \u001b[0;34m\"for more information on this error.\"\u001b[0m\u001b[0;34m\u001b[0m\u001b[0;34m\u001b[0m\u001b[0m\n\u001b[1;32m    382\u001b[0m                         )\n\u001b[0;32m--> 383\u001b[0;31m                         \u001b[0;32mraise\u001b[0m \u001b[0mMissingInputError\u001b[0m\u001b[0;34m(\u001b[0m\u001b[0merror_msg\u001b[0m\u001b[0;34m,\u001b[0m \u001b[0mvariable\u001b[0m\u001b[0;34m=\u001b[0m\u001b[0mvar\u001b[0m\u001b[0;34m)\u001b[0m\u001b[0;34m\u001b[0m\u001b[0;34m\u001b[0m\u001b[0m\n\u001b[0m\u001b[1;32m    384\u001b[0m \u001b[0;34m\u001b[0m\u001b[0m\n\u001b[1;32m    385\u001b[0m         \u001b[0;32mfor\u001b[0m \u001b[0mnode\u001b[0m \u001b[0;32min\u001b[0m \u001b[0mnew_nodes\u001b[0m\u001b[0;34m:\u001b[0m\u001b[0;34m\u001b[0m\u001b[0;34m\u001b[0m\u001b[0m\n",
      "\u001b[0;31mMissingInputError\u001b[0m: Input 0 of the graph (indices start from 0), used to compute sigmoid(c_interval__), was not provided and not given a value. Use the Theano flag exception_verbosity='high', for more information on this error."
     ]
    }
   ],
   "source": [
    "\n",
    "\n",
    "\n",
    "def my_model(theta, x):\n",
    "    m, c = theta\n",
    "    return m*x + c\n",
    "\n",
    "# set up our data\n",
    "N = 10  # number of data points\n",
    "sigma = 1.0  # standard deviation of noise\n",
    "x = np.linspace(0.0, 9.0, N)\n",
    "\n",
    "mtrue = 0.4  # true gradient\n",
    "ctrue = 3.0  # true y-intercept\n",
    "\n",
    "truemodel = my_model([mtrue, ctrue], x)\n",
    "\n",
    "# make data\n",
    "np.random.seed(716742)  # set random seed, so the data is reproducible each time\n",
    "data = sigma * np.random.randn(N) + truemodel\n",
    "\n",
    "ndraws = 3000  # number of draws from the distribution\n",
    "nburn = 1000  # number of \"burn-in points\" (which we'll discard)\n",
    "\n",
    "# create our Op\n",
    "logl = LogLike(loglike, data, x, sigma)\n",
    "\n",
    "# use PyMC3 to sampler from log-likelihood\n",
    "with pm.Model():\n",
    "    # uniform priors on m and c\n",
    "    m = pm.Uniform(\"m\", lower=-10.0, upper=10.0)\n",
    "    c = pm.Uniform(\"c\", lower=-10.0, upper=10.0)\n",
    "\n",
    "    # convert m and c to a tensor vector\n",
    "    theta = tt.as_tensor_variable([m, c])\n",
    "\n",
    "    # use a DensityDist (use a lamdba function to \"call\" the Op)\n",
    "    pm.DensityDist(\"likelihood\", lambda v: logl(v), observed={\"v\": theta})\n",
    "\n",
    "    trace = pm.sample(ndraws, tune=nburn, discard_tuned_samples=True)"
   ]
  },
  {
   "cell_type": "code",
   "execution_count": null,
   "id": "bb86dd80-036f-403f-8b17-16b139af7257",
   "metadata": {},
   "outputs": [],
   "source": [
    "FG_loglike"
   ]
  },
  {
   "cell_type": "code",
   "execution_count": 79,
   "id": "e7183e98-821d-4df0-86ab-10dac4f10197",
   "metadata": {},
   "outputs": [
    {
     "data": {
      "application/vnd.jupyter.widget-view+json": {
       "model_id": "51c102b5ef0f41aeb6421c60c0b63b04",
       "version_major": 2,
       "version_minor": 0
      },
      "text/plain": [
       "Canvas(toolbar=Toolbar(toolitems=[('Home', 'Reset original view', 'home', 'home'), ('Back', 'Back to previous …"
      ]
     },
     "metadata": {},
     "output_type": "display_data"
    },
    {
     "data": {
      "text/plain": [
       "[]"
      ]
     },
     "execution_count": 79,
     "metadata": {},
     "output_type": "execute_result"
    }
   ],
   "source": [
    "# Test a toy model to make sure it works...\n",
    "nld_values = np.concatenate((np.mean(trace['ρ_pre'], axis=0), np.mean(trace['ρ_discrete'], axis=0),\n",
    "                             np.mean(trace['ρ_mid'], axis=0), np.mean(trace['ρ_model'], axis=0),\n",
    "                             np.mean(trace['ρ_end'], axis=0)))\n",
    "nld_std = np.concatenate((np.std(trace['ρ_pre'], axis=0), np.std(trace['ρ_discrete'], axis=0),\n",
    "                          np.std(trace['ρ_mid'], axis=0), np.std(trace['ρ_model'], axis=0),\n",
    "                          np.std(trace['ρ_end'], axis=0)))\n",
    "\n",
    "nld_normed = om.Vector(E=E_nld, values=nld_values, std=nld_std)\n",
    "fig, ax = nld_normed.plot()\n",
    "nld_discrete.plot(ax=ax, kind='step')\n",
    "ax.errorbar(Sn, rhoSn[0], yerr=rhoSn[1], fmt=\"o\")\n",
    "ax.plot(np.linspace(3, Sn, 1001), np.exp((np.linspace(3, Sn, 1001) - np.mean(trace['E0']))/np.mean(trace['Temp']))/np.mean(trace['']))\n",
    "ax.semilogy()"
   ]
  },
  {
   "cell_type": "code",
   "execution_count": null,
   "id": "3789a2ee-2efa-42d6-a986-af2e708e1d9f",
   "metadata": {},
   "outputs": [],
   "source": []
  }
 ],
 "metadata": {
  "kernelspec": {
   "display_name": "Python 3 (ipykernel)",
   "language": "python",
   "name": "python3"
  },
  "language_info": {
   "codemirror_mode": {
    "name": "ipython",
    "version": 3
   },
   "file_extension": ".py",
   "mimetype": "text/x-python",
   "name": "python",
   "nbconvert_exporter": "python",
   "pygments_lexer": "ipython3",
   "version": "3.9.6"
  }
 },
 "nbformat": 4,
 "nbformat_minor": 5
}
