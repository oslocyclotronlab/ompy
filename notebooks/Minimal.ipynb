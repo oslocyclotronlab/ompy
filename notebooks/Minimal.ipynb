{
 "cells": [
  {
   "cell_type": "code",
   "execution_count": 1,
   "id": "55f6f20f-8520-487a-8329-8755ca895525",
   "metadata": {},
   "source": [
    "%load_ext autoreload\n",
    "%autoreload 2\n",
    "%matplotlib widget"
   ],
   "outputs": []
  },
  {
   "cell_type": "code",
   "execution_count": 3,
   "id": "ba9c4a3b-4f3e-4c28-a223-906f289217fc",
   "metadata": {},
   "source": [
    "import matplotlib.pyplot as plt\n",
    "import numpy as np\n",
    "import matplotlib.style as mplstyle\n",
    "mplstyle.use('fast')\n",
    "import ompy as om\n",
    "om.print_status()"
   ],
   "outputs": []
  },
  {
   "cell_type": "markdown",
   "id": "372462d1-2714-4378-b539-e9d29505f92a",
   "metadata": {},
   "source": [
    "Load the matrix. OMpy defaults to numpy `.npz` files, but MAMA `.m`, ROOT files and others are supported."
   ]
  },
  {
   "cell_type": "code",
   "execution_count": 21,
   "id": "82bfc6bd-d884-42a5-9126-abedee8c2ee9",
   "metadata": {},
   "source": [
    "mat = om.Matrix.from_path('120Sn_raw_without_bg.npz')"
   ],
   "outputs": []
  },
  {
   "cell_type": "code",
   "execution_count": 22,
   "id": "20396591-0b76-406b-a764-b087616ac1ca",
   "metadata": {},
   "source": [
    "mat.plot()"
   ],
   "outputs": []
  },
  {
   "cell_type": "markdown",
   "id": "04ff91da-9db8-4352-a41b-967e1ef1ba8d",
   "metadata": {},
   "source": [
    "We don't want to include counts after the diagonal. The diagonal is defined as $Ex = Eg + n\\sigma(Eg, Ex)$. As a simplification, we use a line-by-eye to create a mask."
   ]
  },
  {
   "cell_type": "code",
   "execution_count": 30,
   "id": "1f8f6a46-953e-424b-bb61-be34c76d6a03",
   "metadata": {},
   "source": [
    "line = om.Line(p1=(450.0, 250.0), slope=1)\n",
    "mask = line.below(mat)\n",
    "mat[mask] = 0\n",
    "mat.plot()"
   ],
   "outputs": []
  },
  {
   "cell_type": "markdown",
   "id": "1c5193fc-888c-4407-baed-0ee0cfb10fa7",
   "metadata": {},
   "source": [
    "Get the response matrix. "
   ]
  },
  {
   "cell_type": "code",
   "execution_count": 31,
   "id": "999beab6-7326-48b1-85dd-f08e8a03548c",
   "metadata": {},
   "source": [
    "resp = om.response.Response.from_db('Oscar2020')"
   ],
   "outputs": []
  },
  {
   "cell_type": "markdown",
   "id": "c49a60d4-a7bc-498b-ba85-593f38052ccb",
   "metadata": {},
   "source": [
    "The discrete response matrix `R` and the smoothing matrix for $\\sigma_{\\text{Eg}}$ `G` are constructed by specializing the response to a matrix"
   ]
  },
  {
   "cell_type": "code",
   "execution_count": 36,
   "id": "e3e51754-a6d1-4dca-b6f7-66e1540ba6f5",
   "metadata": {},
   "source": [
    "R = resp.specialize_like(mat)\n",
    "G = resp.gaussian_like(mat)"
   ],
   "outputs": []
  },
  {
   "cell_type": "code",
   "execution_count": 37,
   "id": "2e4bc02d-b3ea-4e3c-afc8-fb1c4f969d6e",
   "metadata": {},
   "source": [
    "R.plot()\n",
    "G.plot()"
   ],
   "outputs": []
  },
  {
   "cell_type": "markdown",
   "id": "9f478fbe-e3a9-4838-9760-9ee0f824446e",
   "metadata": {},
   "source": [
    "Since $R$ maps $\\mu \\to \\delta$ and $G$ maps $\\delta \\to \\nu$ (or $\\mu \\to \\eta$), the map $\\mu \\to \\nu$ is given by $GR$."
   ]
  },
  {
   "cell_type": "code",
   "execution_count": 38,
   "id": "9450969f-1133-4fab-b62a-089c55ea08aa",
   "metadata": {},
   "source": [
    "GR = G@R\n",
    "GR.plot()"
   ],
   "outputs": []
  },
  {
   "cell_type": "code",
   "execution_count": null,
   "id": "36ba5286-70c4-4edd-805b-226283c9c970",
   "metadata": {},
   "source": [],
   "outputs": []
  },
  {
   "cell_type": "markdown",
   "id": "9321d119-7082-4bd2-b775-e16bb79e3ca9",
   "metadata": {},
   "source": [
    "As creating $G$ and $R$ is so common, the unfolders using the `Unfolder` interace accepts a `Response` instance.\n",
    "Unfolding using Guttormsen iteration is fast and converges to maximum likelihood if noise is low and the response is perfect. In order to use the mapping trick, unfolding to $\\eta$ to lift the degeneracy of $G$, we specify the unfolder to use the response $R$ to unfold. The folding by $G$ is handled behind the scenes."
   ]
  },
  {
   "cell_type": "code",
   "execution_count": 52,
   "id": "cd8c249a-fca8-4233-984f-70474fd2c7bd",
   "metadata": {},
   "source": [
    "unf = om.unfolding.Guttormsen.from_response(resp, mat)\n",
    "res = unf.unfold(mat, R='R', iterations=1000)"
   ],
   "outputs": []
  },
  {
   "cell_type": "code",
   "execution_count": 53,
   "id": "e12c5f6e-a5a6-4839-86f1-bb6ad835f84b",
   "metadata": {},
   "source": [
    "res.plot_comparison(vmin=0, vmax=1e4)"
   ],
   "outputs": []
  },
  {
   "cell_type": "markdown",
   "id": "53625be7-b8ec-4729-b064-62d3d8590e06",
   "metadata": {},
   "source": [
    "There are many negative counts, indicating that the response is wrong (here too low compton)."
   ]
  },
  {
   "cell_type": "code",
   "execution_count": null,
   "id": "ade61727-b102-4a63-9963-3c8bf46db878",
   "metadata": {},
   "source": [],
   "outputs": []
  }
 ],
 "metadata": {
  "kernelspec": {
   "display_name": "Python 3 (ipykernel)",
   "language": "python",
   "name": "python3"
  },
  "language_info": {
   "codemirror_mode": {
    "name": "ipython",
    "version": 3
   },
   "file_extension": ".py",
   "mimetype": "text/x-python",
   "name": "python",
   "nbconvert_exporter": "python",
   "pygments_lexer": "ipython3",
   "version": "3.11.5"
  }
 },
 "nbformat": 4,
 "nbformat_minor": 5
}
