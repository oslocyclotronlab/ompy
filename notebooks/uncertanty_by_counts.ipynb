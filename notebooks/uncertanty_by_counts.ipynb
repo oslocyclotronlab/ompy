{
 "cells": [
  {
   "cell_type": "code",
   "execution_count": 1,
   "id": "0e6a22c9-5631-443b-98dd-e25c0cc05cf9",
   "metadata": {},
   "outputs": [],
   "source": [
    "%load_ext autoreload\n",
    "%autoreload 2\n",
    "%matplotlib widget"
   ]
  },
  {
   "cell_type": "code",
   "execution_count": 2,
   "id": "79d7254a-6b71-460d-96f0-400bf769a436",
   "metadata": {},
   "outputs": [],
   "source": [
    "import matplotlib.pyplot as plt\n",
    "import numpy as np\n",
    "import ompy as om\n",
    "import logging\n",
    "import pymc3 as pm\n",
    "import arviz as az"
   ]
  },
  {
   "cell_type": "code",
   "execution_count": 3,
   "id": "cd12b7cd-7248-4ba8-bf64-6a98b86167f7",
   "metadata": {},
   "outputs": [
    {
     "data": {
      "text/plain": [
       "'1.1.0.dev0+02f42f6'"
      ]
     },
     "execution_count": 3,
     "metadata": {},
     "output_type": "execute_result"
    }
   ],
   "source": [
    "om.__full_version__"
   ]
  },
  {
   "cell_type": "markdown",
   "id": "c085a2be-0201-4ecb-a972-94ec65cb5b44",
   "metadata": {},
   "source": [
    "# Global settings of notebook\n",
    "In the cell below there are a nuber of global settings that will affect the notebook from here. This is to make it easier to do a short PoC without having it to run for hours and hours.\n",
    "\n",
    "* `ensemble_size` controls the number of ensemble members that gets generated. Depending on the operation done the runtime may be linear or N^(N-1).\n",
    "* `multinest_livepoints` controls the number of live points used by PyMultinest. It is recomended to use at least 400 when accuracy is important. For debugging purposes this can be lowered."
   ]
  },
  {
   "cell_type": "code",
   "execution_count": 4,
   "id": "dd94bf0d-0ad4-4c46-a90e-4dd30911f037",
   "metadata": {},
   "outputs": [],
   "source": [
    "ensemble_size = 10\n",
    "multinest_livepoints = 300"
   ]
  },
  {
   "cell_type": "code",
   "execution_count": 5,
   "id": "7c5ff2cd-da69-4d52-bca1-7e723fff8c15",
   "metadata": {},
   "outputs": [],
   "source": [
    "def draw_random(matrix: om.Matrix, count: int, **kwargs) -> om.Matrix:\n",
    "    \"\"\" Simple function to generate a matrix with N counts\n",
    "    where the probability of drawing a particular bin is given\n",
    "    by the number of counts in the input matrix.\n",
    "    Args:\n",
    "        matrix: (Matrix) Matrix giving the probability\n",
    "        count: (int) Number of counts to draw\n",
    "        **kwargs: Keyword arguments to the random number generator.\n",
    "    Returns:\n",
    "        A matrix-type with bin contents randomly drawn with the\n",
    "        same distribution as the input matrix.\n",
    "    \"\"\"\n",
    "    \n",
    "    # Step 1, make a giant array with number of entries equal to the number of counts in each bin in the matrix.\n",
    "    coords = []\n",
    "    probability = []\n",
    "    for i in range(len(matrix.Ex)):\n",
    "        for j in range(len(matrix.Eg)):\n",
    "            coords.append([i,j])\n",
    "            probability.append(int(matrix.values[i,j]))\n",
    "    \n",
    "    coords = np.array(coords)\n",
    "    probability = np.array(probability, dtype=float)\n",
    "    probability /= np.sum(probability)\n",
    "    \n",
    "    # Step 2, draw 'draws' number of elements from the list\n",
    "    rng = np.random.default_rng(**kwargs)\n",
    "    drawed = rng.choice(coords, size=int(count), p=probability)\n",
    "    mat = matrix.copy()\n",
    "    mat.values *= 0\n",
    "    for i,j in drawed:\n",
    "        mat.values[i,j] += 1\n",
    "    return mat"
   ]
  },
  {
   "cell_type": "markdown",
   "id": "8cbbf6ed-aeae-49f8-b87b-561ce1cdb208",
   "metadata": {},
   "source": [
    "# Loading data\n",
    "In this notebook we will be looking at the same data-set as in the [Getting Started](https://ompy.readthedocs.io/en/latest/getting_started.html) tutorial, but will do the analysis with three different statistics levels. To simulate low statistics we will use the `draw_random` function declared above. We will be looking at the full statistics case (5,279,152 counts), a low count case (100,000 counts) and a medium count case (250,000 counts).\n",
    "\n",
    "The $^{164}\\mathrm{Dy}$ data used below has been gathered from following experiment: Nyhus, H. T. *et al.* (2010). DOI: [10.1103/physrevc.81.024325](https://doi.org/10.1103/PhysRevC.81.024325)\n",
    "and is reanalyzed in Renstrøm, T. *et al.* (2018). DOI: [10.1103/physrevc.98.054310](https://doi.org/10.1103/PhysRevC.98.054310)"
   ]
  },
  {
   "cell_type": "code",
   "execution_count": 6,
   "id": "ed0784d7-9111-4519-a940-4f5e33e0592c",
   "metadata": {},
   "outputs": [
    {
     "name": "stdout",
     "output_type": "stream",
     "text": [
      "Total number of counts in raw matrix: 5279151.998904223\n"
     ]
    },
    {
     "data": {
      "application/vnd.jupyter.widget-view+json": {
       "model_id": "fb0a934117f249349701a8dd2b95a723",
       "version_major": 2,
       "version_minor": 0
      },
      "text/plain": [
       "Canvas(toolbar=Toolbar(toolitems=[('Home', 'Reset original view', 'home', 'home'), ('Back', 'Back to previous …"
      ]
     },
     "metadata": {},
     "output_type": "display_data"
    }
   ],
   "source": [
    "# Import raw matrix into instance of om.Matrix() and plot it\n",
    "raw = om.example_raw('Dy164')\n",
    "# To use you own data, uncomment/adapt the line below instead\n",
    "# raw = om.Matrix(path=\"/path/to/matrix.ending\")\n",
    "\n",
    "print(f\"Total number of counts in raw matrix: {np.sum(raw.values)}\")\n",
    "\n",
    "# Cut the diagonal\n",
    "raw.cut_diagonal(E1=(800, 0), E2=(7500, 7300))\n",
    "raw.cut('Ex', 0, 8400)\n",
    "\n",
    "# Plot the entire matrix\n",
    "raw_org = raw.copy() # workaround due to execution order in jupyter notebook\n",
    "                     # (calculations are performed before plotting, but we make a cut to raw further down)\n",
    "raw_org.plot();"
   ]
  },
  {
   "cell_type": "markdown",
   "id": "6c653219-7b91-4e22-95e0-75c51efd0b49",
   "metadata": {},
   "source": [
    "## Declare and define used classes\n",
    "We are declaring all our analysis classes in the cells bellow as we only need to do this once."
   ]
  },
  {
   "cell_type": "code",
   "execution_count": 7,
   "id": "c4fd9521-72c7-403b-ae06-b1fb390802fa",
   "metadata": {},
   "outputs": [
    {
     "name": "stdout",
     "output_type": "stream",
     "text": [
      "2021-08-12 09:56:07,851 - ompy.response - INFO - Note: Spectra outside of 200.0 and 20000.0 are extrapolation only.\n"
     ]
    }
   ],
   "source": [
    "logger = om.introspection.get_logger('response', 'INFO')\n",
    "# Then do the same using OMpy functionality:\n",
    "# You may need to adpot this to whereever you response matrices are stored\n",
    "folderpath = \"../OCL_response_functions/oscar2017_scale1.15\"\n",
    "\n",
    "# Energy calibration of resulting response matrix:\n",
    "Eg = raw.Eg\n",
    "\n",
    "# Experimental relative FWHM at 1.33 MeV of resulting array\n",
    "fwhm_abs = 30 # (30/1330 = 2.25% )\n",
    "\n",
    "# Magne recommends 1/10 of the actual resolution for unfolding purposes\n",
    "response = om.Response(folderpath)\n",
    "R_ompy_unf, R_tab_unf = response.interpolate(Eg, fwhm_abs=fwhm_abs/10, return_table=True)"
   ]
  },
  {
   "cell_type": "code",
   "execution_count": 8,
   "id": "62cb066b-0b79-4932-a69b-41dfef2e69c7",
   "metadata": {},
   "outputs": [],
   "source": [
    "# With compton subtraction and all tweaks\n",
    "unfolder= om.Unfolder(response=R_ompy_unf)\n",
    "firstgen = om.FirstGeneration()\n",
    "unfolder.use_compton_subtraction = True # default\n",
    "unfolder.response_tab = R_tab_unf\n",
    "# Magne suggests some \"tweaks\" for a better unfolding performance. Default is 1 for all.\n",
    "unfolder.FWHM_tweak_multiplier = {\"fe\": 1., \"se\": 1.1,\n",
    "                                     \"de\": 1.3, \"511\": 0.9}\n",
    "\n",
    "trapezoid_cut = om.Action('matrix')\n",
    "trapezoid_cut.trapezoid(Ex_min=4000, Ex_max=7000, Eg_min=1000, Eg_max=7000+200, inplace=True)\n",
    "E_rebinned = np.arange(100., 8500, 200)"
   ]
  },
  {
   "cell_type": "markdown",
   "id": "da8405e4-6667-4da2-b30e-5717be7f72c4",
   "metadata": {},
   "source": [
    "### Normalization parameters\n",
    "See [getting started]() for more details."
   ]
  },
  {
   "cell_type": "code",
   "execution_count": 9,
   "id": "99350fc0-4246-411b-af81-c7451ffff09a",
   "metadata": {},
   "outputs": [],
   "source": [
    "norm_pars = om.NormalizationParameters(name=\"164Dy\")\n",
    "norm_pars.D0 = [6.8, 0.6]  # eV\n",
    "norm_pars.Sn = [7.658, 0.001] # MeV\n",
    "norm_pars.Gg = [113., 13.]  #meV\n",
    "norm_pars.spincutModel = 'Disc_and_EB05'  # see eg. Guttormsen et al., 2017, PRC 96, 024313\n",
    "norm_pars.spincutPars = {\"mass\":164, \"NLDa\":18.12, \"Eshift\":0.31,\n",
    "                         \"Sn\": norm_pars.Sn[0], \"sigma2_disc\":[1.5, 3.6]}\n",
    "norm_pars.Jtarget = 5/2 # A-1 nucleus"
   ]
  },
  {
   "cell_type": "markdown",
   "id": "1933ac94-54f0-430e-a4d2-a539c7797352",
   "metadata": {},
   "source": [
    "### Setup useful loggers"
   ]
  },
  {
   "cell_type": "code",
   "execution_count": 10,
   "id": "f9f34016-82b5-4eb3-b736-68d9660cb3ee",
   "metadata": {},
   "outputs": [],
   "source": [
    "nld_log = om.introspection.get_logger('normalizer_nld', 'INFO')\n",
    "gsf_log = om.introspection.get_logger('normalizer_gsf', 'INFO')\n",
    "sim_log = om.introspection.get_logger('normalizer_simultan', 'INFO')\n",
    "ens_log = om.introspection.get_logger('ensembleNormalizer', 'INFO')\n",
    "logger = om.introspection.get_logger('error_finder', 'DEBUG')"
   ]
  },
  {
   "cell_type": "markdown",
   "id": "ed0a22ee-97fa-4e0b-a15e-8db8b90a0ea3",
   "metadata": {},
   "source": [
    "## Declare ErrorFinder\n",
    "This declares the error estimator using the logarithmic model. This is the more stable model."
   ]
  },
  {
   "cell_type": "code",
   "execution_count": 11,
   "id": "83dbc654-9179-44fa-8caa-6661db38b7d5",
   "metadata": {},
   "outputs": [],
   "source": [
    "error_estimator = om.error_finder.ErrorFinder(algorithm='log')"
   ]
  },
  {
   "cell_type": "markdown",
   "id": "dc7d94d1-93ff-4840-9cf6-d8f27941758f",
   "metadata": {},
   "source": [
    "## Test dependence on statistics\n",
    "In the next few cells we will generate input matrices with various number of counts. This is to simulate the effect of statistics has on the results."
   ]
  },
  {
   "cell_type": "code",
   "execution_count": 12,
   "id": "96b883fc-66f6-4c95-8c76-6ece9f000c69",
   "metadata": {},
   "outputs": [],
   "source": [
    "raw_orig = raw.copy()\n",
    "raw_orig.fill_and_remove_negative(window_size=2)\n",
    "\n",
    "counts = [25000, 50000, 75000, 100000, 150000, 200000, 250000, 500000, 750000, 1000000, 1500000, 2000000]\n",
    "raw_matrices = [draw_random(raw_orig, count) for count in counts]\n",
    "raw_matrices.append(raw_orig.copy())\n",
    "counts.append(int(raw_orig.counts))"
   ]
  },
  {
   "cell_type": "markdown",
   "id": "16f9f6d2-347d-48e1-b921-b6860ddce67a",
   "metadata": {},
   "source": [
    "### Setup the ensembles"
   ]
  },
  {
   "cell_type": "code",
   "execution_count": 13,
   "id": "f7f32cc8-8074-4959-88ce-c008954ad525",
   "metadata": {
    "tags": []
   },
   "outputs": [
    {
     "data": {
      "application/vnd.jupyter.widget-view+json": {
       "model_id": "a891a1cf71644fae9304b8606cadc53d",
       "version_major": 2,
       "version_minor": 0
      },
      "text/plain": [
       "  0%|          | 0/10 [00:00<?, ?it/s]"
      ]
     },
     "metadata": {},
     "output_type": "display_data"
    },
    {
     "data": {
      "application/vnd.jupyter.widget-view+json": {
       "model_id": "abcf49c0f92940a58645f32c507f2c29",
       "version_major": 2,
       "version_minor": 0
      },
      "text/plain": [
       "  0%|          | 0/10 [00:00<?, ?it/s]"
      ]
     },
     "metadata": {},
     "output_type": "display_data"
    },
    {
     "data": {
      "application/vnd.jupyter.widget-view+json": {
       "model_id": "1da93e91342041d2b3bcc34060390db4",
       "version_major": 2,
       "version_minor": 0
      },
      "text/plain": [
       "  0%|          | 0/10 [00:00<?, ?it/s]"
      ]
     },
     "metadata": {},
     "output_type": "display_data"
    },
    {
     "data": {
      "application/vnd.jupyter.widget-view+json": {
       "model_id": "c2bdfdfbf07141a9903c2e9a0c809e6d",
       "version_major": 2,
       "version_minor": 0
      },
      "text/plain": [
       "  0%|          | 0/10 [00:00<?, ?it/s]"
      ]
     },
     "metadata": {},
     "output_type": "display_data"
    },
    {
     "data": {
      "application/vnd.jupyter.widget-view+json": {
       "model_id": "82b55b9d0b4f4d44a25a5a302ed22121",
       "version_major": 2,
       "version_minor": 0
      },
      "text/plain": [
       "  0%|          | 0/10 [00:00<?, ?it/s]"
      ]
     },
     "metadata": {},
     "output_type": "display_data"
    },
    {
     "data": {
      "application/vnd.jupyter.widget-view+json": {
       "model_id": "69194d6f9245471f93c6d5782235aafd",
       "version_major": 2,
       "version_minor": 0
      },
      "text/plain": [
       "  0%|          | 0/10 [00:00<?, ?it/s]"
      ]
     },
     "metadata": {},
     "output_type": "display_data"
    },
    {
     "data": {
      "application/vnd.jupyter.widget-view+json": {
       "model_id": "689e9677dca54f0fa139dc8a831b0a79",
       "version_major": 2,
       "version_minor": 0
      },
      "text/plain": [
       "  0%|          | 0/10 [00:00<?, ?it/s]"
      ]
     },
     "metadata": {},
     "output_type": "display_data"
    },
    {
     "data": {
      "application/vnd.jupyter.widget-view+json": {
       "model_id": "0742a7b70c644b8383beb4ce3d75630b",
       "version_major": 2,
       "version_minor": 0
      },
      "text/plain": [
       "  0%|          | 0/10 [00:00<?, ?it/s]"
      ]
     },
     "metadata": {},
     "output_type": "display_data"
    },
    {
     "data": {
      "application/vnd.jupyter.widget-view+json": {
       "model_id": "edcc6efe59454cd291bc8b00366f7560",
       "version_major": 2,
       "version_minor": 0
      },
      "text/plain": [
       "  0%|          | 0/10 [00:00<?, ?it/s]"
      ]
     },
     "metadata": {},
     "output_type": "display_data"
    },
    {
     "data": {
      "application/vnd.jupyter.widget-view+json": {
       "model_id": "7a1e3d01f30044218c666f3a650be3d8",
       "version_major": 2,
       "version_minor": 0
      },
      "text/plain": [
       "  0%|          | 0/10 [00:00<?, ?it/s]"
      ]
     },
     "metadata": {},
     "output_type": "display_data"
    },
    {
     "data": {
      "application/vnd.jupyter.widget-view+json": {
       "model_id": "8d396fec90354b368be22d0cfeb8f34d",
       "version_major": 2,
       "version_minor": 0
      },
      "text/plain": [
       "  0%|          | 0/10 [00:00<?, ?it/s]"
      ]
     },
     "metadata": {},
     "output_type": "display_data"
    },
    {
     "data": {
      "application/vnd.jupyter.widget-view+json": {
       "model_id": "f6771a5f5cb44e24aa3f6c979ca21eff",
       "version_major": 2,
       "version_minor": 0
      },
      "text/plain": [
       "  0%|          | 0/10 [00:00<?, ?it/s]"
      ]
     },
     "metadata": {},
     "output_type": "display_data"
    },
    {
     "data": {
      "application/vnd.jupyter.widget-view+json": {
       "model_id": "7c13d879570441abafca925cd13935b7",
       "version_major": 2,
       "version_minor": 0
      },
      "text/plain": [
       "  0%|          | 0/10 [00:00<?, ?it/s]"
      ]
     },
     "metadata": {},
     "output_type": "display_data"
    },
    {
     "data": {
      "application/vnd.jupyter.widget-view+json": {
       "model_id": "450d605417bd4b19b277824744d12e45",
       "version_major": 2,
       "version_minor": 0
      },
      "text/plain": [
       "  0%|          | 0/10 [00:00<?, ?it/s]"
      ]
     },
     "metadata": {},
     "output_type": "display_data"
    },
    {
     "data": {
      "application/vnd.jupyter.widget-view+json": {
       "model_id": "e70bd2e6e0154f888fe585b7063c0017",
       "version_major": 2,
       "version_minor": 0
      },
      "text/plain": [
       "  0%|          | 0/10 [00:00<?, ?it/s]"
      ]
     },
     "metadata": {},
     "output_type": "display_data"
    },
    {
     "data": {
      "application/vnd.jupyter.widget-view+json": {
       "model_id": "29d13ebed9e841f1b785aebc421f6987",
       "version_major": 2,
       "version_minor": 0
      },
      "text/plain": [
       "  0%|          | 0/10 [00:00<?, ?it/s]"
      ]
     },
     "metadata": {},
     "output_type": "display_data"
    },
    {
     "data": {
      "application/vnd.jupyter.widget-view+json": {
       "model_id": "1265386ec01847df96e350d0e76fd2fa",
       "version_major": 2,
       "version_minor": 0
      },
      "text/plain": [
       "  0%|          | 0/10 [00:00<?, ?it/s]"
      ]
     },
     "metadata": {},
     "output_type": "display_data"
    },
    {
     "data": {
      "application/vnd.jupyter.widget-view+json": {
       "model_id": "b636903fef304fea9c6163038530fe2b",
       "version_major": 2,
       "version_minor": 0
      },
      "text/plain": [
       "  0%|          | 0/10 [00:00<?, ?it/s]"
      ]
     },
     "metadata": {},
     "output_type": "display_data"
    },
    {
     "data": {
      "application/vnd.jupyter.widget-view+json": {
       "model_id": "2493776c31804923a4bbfacec62d4e9c",
       "version_major": 2,
       "version_minor": 0
      },
      "text/plain": [
       "  0%|          | 0/10 [00:00<?, ?it/s]"
      ]
     },
     "metadata": {},
     "output_type": "display_data"
    },
    {
     "data": {
      "application/vnd.jupyter.widget-view+json": {
       "model_id": "291dad705ba54493a863ae7953e649b1",
       "version_major": 2,
       "version_minor": 0
      },
      "text/plain": [
       "  0%|          | 0/10 [00:00<?, ?it/s]"
      ]
     },
     "metadata": {},
     "output_type": "display_data"
    },
    {
     "data": {
      "application/vnd.jupyter.widget-view+json": {
       "model_id": "d315dfe6886249f5ba3a8cce3a7aae72",
       "version_major": 2,
       "version_minor": 0
      },
      "text/plain": [
       "  0%|          | 0/10 [00:00<?, ?it/s]"
      ]
     },
     "metadata": {},
     "output_type": "display_data"
    },
    {
     "data": {
      "application/vnd.jupyter.widget-view+json": {
       "model_id": "9a34247510d1431c8461c1cab37ce18d",
       "version_major": 2,
       "version_minor": 0
      },
      "text/plain": [
       "  0%|          | 0/10 [00:00<?, ?it/s]"
      ]
     },
     "metadata": {},
     "output_type": "display_data"
    },
    {
     "data": {
      "application/vnd.jupyter.widget-view+json": {
       "model_id": "8ad573addbf14673b52780491c5447d3",
       "version_major": 2,
       "version_minor": 0
      },
      "text/plain": [
       "  0%|          | 0/10 [00:00<?, ?it/s]"
      ]
     },
     "metadata": {},
     "output_type": "display_data"
    },
    {
     "data": {
      "application/vnd.jupyter.widget-view+json": {
       "model_id": "3ad611a219c149feb8bfe50c0e20aac5",
       "version_major": 2,
       "version_minor": 0
      },
      "text/plain": [
       "  0%|          | 0/10 [00:00<?, ?it/s]"
      ]
     },
     "metadata": {},
     "output_type": "display_data"
    },
    {
     "data": {
      "application/vnd.jupyter.widget-view+json": {
       "model_id": "c79ac81e871147a9a85f0af91e965b46",
       "version_major": 2,
       "version_minor": 0
      },
      "text/plain": [
       "  0%|          | 0/10 [00:00<?, ?it/s]"
      ]
     },
     "metadata": {},
     "output_type": "display_data"
    },
    {
     "data": {
      "application/vnd.jupyter.widget-view+json": {
       "model_id": "5f1d6fcf31024348bf3e4c4ba089496b",
       "version_major": 2,
       "version_minor": 0
      },
      "text/plain": [
       "  0%|          | 0/10 [00:00<?, ?it/s]"
      ]
     },
     "metadata": {},
     "output_type": "display_data"
    }
   ],
   "source": [
    "ensembles = [om.Ensemble(raw=raw) for raw in raw_matrices]\n",
    "for ensemble in ensembles:\n",
    "    ensemble.unfolder = unfolder\n",
    "    ensemble.first_generation_method = firstgen\n",
    "    ensemble.generate(ensemble_size, regenerate=True)\n",
    "    ensemble.rebin(E_rebinned, member=\"firstgen\")"
   ]
  },
  {
   "cell_type": "markdown",
   "id": "bdce5960-a2aa-4c10-8879-97df3525f027",
   "metadata": {},
   "source": [
    "### Setup extractors"
   ]
  },
  {
   "cell_type": "code",
   "execution_count": 15,
   "id": "1fb1aaba-2350-4cea-8cd7-71884eed65d8",
   "metadata": {
    "collapsed": true,
    "jupyter": {
     "outputs_hidden": true
    },
    "tags": []
   },
   "outputs": [
    {
     "data": {
      "application/vnd.jupyter.widget-view+json": {
       "model_id": "d5343d3753814dcea4edf586d445389c",
       "version_major": 2,
       "version_minor": 0
      },
      "text/plain": [
       "  0%|          | 0/10 [00:00<?, ?it/s]"
      ]
     },
     "metadata": {},
     "output_type": "display_data"
    },
    {
     "name": "stderr",
     "output_type": "stream",
     "text": [
      "nld #0 contains nan's.\n",
      "Consider removing them e.g. with:\n",
      "# for nld in extractor.nld:\n",
      "#     nld.cut_nan()\n",
      "\n",
      "nld #1 contains nan's.\n",
      "Consider removing them e.g. with:\n",
      "# for nld in extractor.nld:\n",
      "#     nld.cut_nan()\n",
      "\n",
      "nld #2 contains nan's.\n",
      "Consider removing them e.g. with:\n",
      "# for nld in extractor.nld:\n",
      "#     nld.cut_nan()\n",
      "\n",
      "nld #3 contains nan's.\n",
      "Consider removing them e.g. with:\n",
      "# for nld in extractor.nld:\n",
      "#     nld.cut_nan()\n",
      "\n",
      "nld #4 contains nan's.\n",
      "Consider removing them e.g. with:\n",
      "# for nld in extractor.nld:\n",
      "#     nld.cut_nan()\n",
      "\n",
      "nld #5 contains nan's.\n",
      "Consider removing them e.g. with:\n",
      "# for nld in extractor.nld:\n",
      "#     nld.cut_nan()\n",
      "\n",
      "nld #6 contains nan's.\n",
      "Consider removing them e.g. with:\n",
      "# for nld in extractor.nld:\n",
      "#     nld.cut_nan()\n",
      "\n",
      "nld #7 contains nan's.\n",
      "Consider removing them e.g. with:\n",
      "# for nld in extractor.nld:\n",
      "#     nld.cut_nan()\n",
      "\n",
      "nld #8 contains nan's.\n",
      "Consider removing them e.g. with:\n",
      "# for nld in extractor.nld:\n",
      "#     nld.cut_nan()\n",
      "\n",
      "nld #9 contains nan's.\n",
      "Consider removing them e.g. with:\n",
      "# for nld in extractor.nld:\n",
      "#     nld.cut_nan()\n",
      "\n",
      "gsf #0 contains nan's.\n",
      "Consider removing them e.g. with:\n",
      "# for gsf in extractor.gsf:\n",
      "#     gsf.cut_nan()\n",
      "\n",
      "gsf #1 contains nan's.\n",
      "Consider removing them e.g. with:\n",
      "# for gsf in extractor.gsf:\n",
      "#     gsf.cut_nan()\n",
      "\n",
      "gsf #2 contains nan's.\n",
      "Consider removing them e.g. with:\n",
      "# for gsf in extractor.gsf:\n",
      "#     gsf.cut_nan()\n",
      "\n",
      "gsf #3 contains nan's.\n",
      "Consider removing them e.g. with:\n",
      "# for gsf in extractor.gsf:\n",
      "#     gsf.cut_nan()\n",
      "\n",
      "gsf #4 contains nan's.\n",
      "Consider removing them e.g. with:\n",
      "# for gsf in extractor.gsf:\n",
      "#     gsf.cut_nan()\n",
      "\n",
      "gsf #5 contains nan's.\n",
      "Consider removing them e.g. with:\n",
      "# for gsf in extractor.gsf:\n",
      "#     gsf.cut_nan()\n",
      "\n",
      "gsf #6 contains nan's.\n",
      "Consider removing them e.g. with:\n",
      "# for gsf in extractor.gsf:\n",
      "#     gsf.cut_nan()\n",
      "\n",
      "gsf #7 contains nan's.\n",
      "Consider removing them e.g. with:\n",
      "# for gsf in extractor.gsf:\n",
      "#     gsf.cut_nan()\n",
      "\n",
      "gsf #8 contains nan's.\n",
      "Consider removing them e.g. with:\n",
      "# for gsf in extractor.gsf:\n",
      "#     gsf.cut_nan()\n",
      "\n",
      "gsf #9 contains nan's.\n",
      "Consider removing them e.g. with:\n",
      "# for gsf in extractor.gsf:\n",
      "#     gsf.cut_nan()\n",
      "\n"
     ]
    },
    {
     "data": {
      "application/vnd.jupyter.widget-view+json": {
       "model_id": "4a198120d47c4d25b4efcba966c0ef2a",
       "version_major": 2,
       "version_minor": 0
      },
      "text/plain": [
       "  0%|          | 0/10 [00:00<?, ?it/s]"
      ]
     },
     "metadata": {},
     "output_type": "display_data"
    },
    {
     "name": "stderr",
     "output_type": "stream",
     "text": [
      "nld #0 contains nan's.\n",
      "Consider removing them e.g. with:\n",
      "# for nld in extractor.nld:\n",
      "#     nld.cut_nan()\n",
      "\n",
      "nld #1 contains nan's.\n",
      "Consider removing them e.g. with:\n",
      "# for nld in extractor.nld:\n",
      "#     nld.cut_nan()\n",
      "\n",
      "nld #2 contains nan's.\n",
      "Consider removing them e.g. with:\n",
      "# for nld in extractor.nld:\n",
      "#     nld.cut_nan()\n",
      "\n",
      "nld #3 contains nan's.\n",
      "Consider removing them e.g. with:\n",
      "# for nld in extractor.nld:\n",
      "#     nld.cut_nan()\n",
      "\n",
      "nld #4 contains nan's.\n",
      "Consider removing them e.g. with:\n",
      "# for nld in extractor.nld:\n",
      "#     nld.cut_nan()\n",
      "\n",
      "nld #5 contains nan's.\n",
      "Consider removing them e.g. with:\n",
      "# for nld in extractor.nld:\n",
      "#     nld.cut_nan()\n",
      "\n",
      "nld #6 contains nan's.\n",
      "Consider removing them e.g. with:\n",
      "# for nld in extractor.nld:\n",
      "#     nld.cut_nan()\n",
      "\n",
      "nld #7 contains nan's.\n",
      "Consider removing them e.g. with:\n",
      "# for nld in extractor.nld:\n",
      "#     nld.cut_nan()\n",
      "\n",
      "nld #8 contains nan's.\n",
      "Consider removing them e.g. with:\n",
      "# for nld in extractor.nld:\n",
      "#     nld.cut_nan()\n",
      "\n",
      "nld #9 contains nan's.\n",
      "Consider removing them e.g. with:\n",
      "# for nld in extractor.nld:\n",
      "#     nld.cut_nan()\n",
      "\n",
      "gsf #0 contains nan's.\n",
      "Consider removing them e.g. with:\n",
      "# for gsf in extractor.gsf:\n",
      "#     gsf.cut_nan()\n",
      "\n",
      "gsf #1 contains nan's.\n",
      "Consider removing them e.g. with:\n",
      "# for gsf in extractor.gsf:\n",
      "#     gsf.cut_nan()\n",
      "\n",
      "gsf #2 contains nan's.\n",
      "Consider removing them e.g. with:\n",
      "# for gsf in extractor.gsf:\n",
      "#     gsf.cut_nan()\n",
      "\n",
      "gsf #3 contains nan's.\n",
      "Consider removing them e.g. with:\n",
      "# for gsf in extractor.gsf:\n",
      "#     gsf.cut_nan()\n",
      "\n",
      "gsf #4 contains nan's.\n",
      "Consider removing them e.g. with:\n",
      "# for gsf in extractor.gsf:\n",
      "#     gsf.cut_nan()\n",
      "\n",
      "gsf #5 contains nan's.\n",
      "Consider removing them e.g. with:\n",
      "# for gsf in extractor.gsf:\n",
      "#     gsf.cut_nan()\n",
      "\n",
      "gsf #6 contains nan's.\n",
      "Consider removing them e.g. with:\n",
      "# for gsf in extractor.gsf:\n",
      "#     gsf.cut_nan()\n",
      "\n",
      "gsf #7 contains nan's.\n",
      "Consider removing them e.g. with:\n",
      "# for gsf in extractor.gsf:\n",
      "#     gsf.cut_nan()\n",
      "\n",
      "gsf #8 contains nan's.\n",
      "Consider removing them e.g. with:\n",
      "# for gsf in extractor.gsf:\n",
      "#     gsf.cut_nan()\n",
      "\n",
      "gsf #9 contains nan's.\n",
      "Consider removing them e.g. with:\n",
      "# for gsf in extractor.gsf:\n",
      "#     gsf.cut_nan()\n",
      "\n"
     ]
    },
    {
     "data": {
      "application/vnd.jupyter.widget-view+json": {
       "model_id": "c49f6c1689684ac6a80d20ca898db245",
       "version_major": 2,
       "version_minor": 0
      },
      "text/plain": [
       "  0%|          | 0/10 [00:00<?, ?it/s]"
      ]
     },
     "metadata": {},
     "output_type": "display_data"
    },
    {
     "name": "stderr",
     "output_type": "stream",
     "text": [
      "nld #0 contains nan's.\n",
      "Consider removing them e.g. with:\n",
      "# for nld in extractor.nld:\n",
      "#     nld.cut_nan()\n",
      "\n",
      "nld #1 contains nan's.\n",
      "Consider removing them e.g. with:\n",
      "# for nld in extractor.nld:\n",
      "#     nld.cut_nan()\n",
      "\n",
      "nld #2 contains nan's.\n",
      "Consider removing them e.g. with:\n",
      "# for nld in extractor.nld:\n",
      "#     nld.cut_nan()\n",
      "\n",
      "nld #3 contains nan's.\n",
      "Consider removing them e.g. with:\n",
      "# for nld in extractor.nld:\n",
      "#     nld.cut_nan()\n",
      "\n",
      "nld #4 contains nan's.\n",
      "Consider removing them e.g. with:\n",
      "# for nld in extractor.nld:\n",
      "#     nld.cut_nan()\n",
      "\n",
      "nld #5 contains nan's.\n",
      "Consider removing them e.g. with:\n",
      "# for nld in extractor.nld:\n",
      "#     nld.cut_nan()\n",
      "\n",
      "nld #6 contains nan's.\n",
      "Consider removing them e.g. with:\n",
      "# for nld in extractor.nld:\n",
      "#     nld.cut_nan()\n",
      "\n",
      "nld #7 contains nan's.\n",
      "Consider removing them e.g. with:\n",
      "# for nld in extractor.nld:\n",
      "#     nld.cut_nan()\n",
      "\n",
      "nld #8 contains nan's.\n",
      "Consider removing them e.g. with:\n",
      "# for nld in extractor.nld:\n",
      "#     nld.cut_nan()\n",
      "\n",
      "nld #9 contains nan's.\n",
      "Consider removing them e.g. with:\n",
      "# for nld in extractor.nld:\n",
      "#     nld.cut_nan()\n",
      "\n",
      "gsf #0 contains nan's.\n",
      "Consider removing them e.g. with:\n",
      "# for gsf in extractor.gsf:\n",
      "#     gsf.cut_nan()\n",
      "\n",
      "gsf #1 contains nan's.\n",
      "Consider removing them e.g. with:\n",
      "# for gsf in extractor.gsf:\n",
      "#     gsf.cut_nan()\n",
      "\n",
      "gsf #2 contains nan's.\n",
      "Consider removing them e.g. with:\n",
      "# for gsf in extractor.gsf:\n",
      "#     gsf.cut_nan()\n",
      "\n",
      "gsf #3 contains nan's.\n",
      "Consider removing them e.g. with:\n",
      "# for gsf in extractor.gsf:\n",
      "#     gsf.cut_nan()\n",
      "\n",
      "gsf #4 contains nan's.\n",
      "Consider removing them e.g. with:\n",
      "# for gsf in extractor.gsf:\n",
      "#     gsf.cut_nan()\n",
      "\n",
      "gsf #5 contains nan's.\n",
      "Consider removing them e.g. with:\n",
      "# for gsf in extractor.gsf:\n",
      "#     gsf.cut_nan()\n",
      "\n",
      "gsf #6 contains nan's.\n",
      "Consider removing them e.g. with:\n",
      "# for gsf in extractor.gsf:\n",
      "#     gsf.cut_nan()\n",
      "\n",
      "gsf #7 contains nan's.\n",
      "Consider removing them e.g. with:\n",
      "# for gsf in extractor.gsf:\n",
      "#     gsf.cut_nan()\n",
      "\n",
      "gsf #8 contains nan's.\n",
      "Consider removing them e.g. with:\n",
      "# for gsf in extractor.gsf:\n",
      "#     gsf.cut_nan()\n",
      "\n",
      "gsf #9 contains nan's.\n",
      "Consider removing them e.g. with:\n",
      "# for gsf in extractor.gsf:\n",
      "#     gsf.cut_nan()\n",
      "\n"
     ]
    },
    {
     "data": {
      "application/vnd.jupyter.widget-view+json": {
       "model_id": "3a5b5d0fe85c41a28fdda1ee7eedbb88",
       "version_major": 2,
       "version_minor": 0
      },
      "text/plain": [
       "  0%|          | 0/10 [00:00<?, ?it/s]"
      ]
     },
     "metadata": {},
     "output_type": "display_data"
    },
    {
     "name": "stderr",
     "output_type": "stream",
     "text": [
      "nld #0 contains nan's.\n",
      "Consider removing them e.g. with:\n",
      "# for nld in extractor.nld:\n",
      "#     nld.cut_nan()\n",
      "\n",
      "nld #1 contains nan's.\n",
      "Consider removing them e.g. with:\n",
      "# for nld in extractor.nld:\n",
      "#     nld.cut_nan()\n",
      "\n",
      "nld #2 contains nan's.\n",
      "Consider removing them e.g. with:\n",
      "# for nld in extractor.nld:\n",
      "#     nld.cut_nan()\n",
      "\n",
      "nld #3 contains nan's.\n",
      "Consider removing them e.g. with:\n",
      "# for nld in extractor.nld:\n",
      "#     nld.cut_nan()\n",
      "\n",
      "nld #4 contains nan's.\n",
      "Consider removing them e.g. with:\n",
      "# for nld in extractor.nld:\n",
      "#     nld.cut_nan()\n",
      "\n",
      "nld #5 contains nan's.\n",
      "Consider removing them e.g. with:\n",
      "# for nld in extractor.nld:\n",
      "#     nld.cut_nan()\n",
      "\n",
      "nld #6 contains nan's.\n",
      "Consider removing them e.g. with:\n",
      "# for nld in extractor.nld:\n",
      "#     nld.cut_nan()\n",
      "\n",
      "nld #7 contains nan's.\n",
      "Consider removing them e.g. with:\n",
      "# for nld in extractor.nld:\n",
      "#     nld.cut_nan()\n",
      "\n",
      "nld #8 contains nan's.\n",
      "Consider removing them e.g. with:\n",
      "# for nld in extractor.nld:\n",
      "#     nld.cut_nan()\n",
      "\n",
      "nld #9 contains nan's.\n",
      "Consider removing them e.g. with:\n",
      "# for nld in extractor.nld:\n",
      "#     nld.cut_nan()\n",
      "\n",
      "gsf #0 contains nan's.\n",
      "Consider removing them e.g. with:\n",
      "# for gsf in extractor.gsf:\n",
      "#     gsf.cut_nan()\n",
      "\n",
      "gsf #1 contains nan's.\n",
      "Consider removing them e.g. with:\n",
      "# for gsf in extractor.gsf:\n",
      "#     gsf.cut_nan()\n",
      "\n",
      "gsf #2 contains nan's.\n",
      "Consider removing them e.g. with:\n",
      "# for gsf in extractor.gsf:\n",
      "#     gsf.cut_nan()\n",
      "\n",
      "gsf #3 contains nan's.\n",
      "Consider removing them e.g. with:\n",
      "# for gsf in extractor.gsf:\n",
      "#     gsf.cut_nan()\n",
      "\n",
      "gsf #4 contains nan's.\n",
      "Consider removing them e.g. with:\n",
      "# for gsf in extractor.gsf:\n",
      "#     gsf.cut_nan()\n",
      "\n",
      "gsf #5 contains nan's.\n",
      "Consider removing them e.g. with:\n",
      "# for gsf in extractor.gsf:\n",
      "#     gsf.cut_nan()\n",
      "\n",
      "gsf #6 contains nan's.\n",
      "Consider removing them e.g. with:\n",
      "# for gsf in extractor.gsf:\n",
      "#     gsf.cut_nan()\n",
      "\n",
      "gsf #7 contains nan's.\n",
      "Consider removing them e.g. with:\n",
      "# for gsf in extractor.gsf:\n",
      "#     gsf.cut_nan()\n",
      "\n",
      "gsf #8 contains nan's.\n",
      "Consider removing them e.g. with:\n",
      "# for gsf in extractor.gsf:\n",
      "#     gsf.cut_nan()\n",
      "\n",
      "gsf #9 contains nan's.\n",
      "Consider removing them e.g. with:\n",
      "# for gsf in extractor.gsf:\n",
      "#     gsf.cut_nan()\n",
      "\n"
     ]
    },
    {
     "data": {
      "application/vnd.jupyter.widget-view+json": {
       "model_id": "3dc24e35038349aebb87fdb2a6654774",
       "version_major": 2,
       "version_minor": 0
      },
      "text/plain": [
       "  0%|          | 0/10 [00:00<?, ?it/s]"
      ]
     },
     "metadata": {},
     "output_type": "display_data"
    },
    {
     "name": "stderr",
     "output_type": "stream",
     "text": [
      "nld #0 contains nan's.\n",
      "Consider removing them e.g. with:\n",
      "# for nld in extractor.nld:\n",
      "#     nld.cut_nan()\n",
      "\n",
      "nld #1 contains nan's.\n",
      "Consider removing them e.g. with:\n",
      "# for nld in extractor.nld:\n",
      "#     nld.cut_nan()\n",
      "\n",
      "nld #2 contains nan's.\n",
      "Consider removing them e.g. with:\n",
      "# for nld in extractor.nld:\n",
      "#     nld.cut_nan()\n",
      "\n",
      "nld #3 contains nan's.\n",
      "Consider removing them e.g. with:\n",
      "# for nld in extractor.nld:\n",
      "#     nld.cut_nan()\n",
      "\n",
      "nld #4 contains nan's.\n",
      "Consider removing them e.g. with:\n",
      "# for nld in extractor.nld:\n",
      "#     nld.cut_nan()\n",
      "\n",
      "nld #5 contains nan's.\n",
      "Consider removing them e.g. with:\n",
      "# for nld in extractor.nld:\n",
      "#     nld.cut_nan()\n",
      "\n",
      "nld #6 contains nan's.\n",
      "Consider removing them e.g. with:\n",
      "# for nld in extractor.nld:\n",
      "#     nld.cut_nan()\n",
      "\n",
      "nld #7 contains nan's.\n",
      "Consider removing them e.g. with:\n",
      "# for nld in extractor.nld:\n",
      "#     nld.cut_nan()\n",
      "\n",
      "nld #8 contains nan's.\n",
      "Consider removing them e.g. with:\n",
      "# for nld in extractor.nld:\n",
      "#     nld.cut_nan()\n",
      "\n",
      "nld #9 contains nan's.\n",
      "Consider removing them e.g. with:\n",
      "# for nld in extractor.nld:\n",
      "#     nld.cut_nan()\n",
      "\n",
      "gsf #0 contains nan's.\n",
      "Consider removing them e.g. with:\n",
      "# for gsf in extractor.gsf:\n",
      "#     gsf.cut_nan()\n",
      "\n",
      "gsf #1 contains nan's.\n",
      "Consider removing them e.g. with:\n",
      "# for gsf in extractor.gsf:\n",
      "#     gsf.cut_nan()\n",
      "\n",
      "gsf #2 contains nan's.\n",
      "Consider removing them e.g. with:\n",
      "# for gsf in extractor.gsf:\n",
      "#     gsf.cut_nan()\n",
      "\n",
      "gsf #3 contains nan's.\n",
      "Consider removing them e.g. with:\n",
      "# for gsf in extractor.gsf:\n",
      "#     gsf.cut_nan()\n",
      "\n",
      "gsf #4 contains nan's.\n",
      "Consider removing them e.g. with:\n",
      "# for gsf in extractor.gsf:\n",
      "#     gsf.cut_nan()\n",
      "\n",
      "gsf #5 contains nan's.\n",
      "Consider removing them e.g. with:\n",
      "# for gsf in extractor.gsf:\n",
      "#     gsf.cut_nan()\n",
      "\n",
      "gsf #6 contains nan's.\n",
      "Consider removing them e.g. with:\n",
      "# for gsf in extractor.gsf:\n",
      "#     gsf.cut_nan()\n",
      "\n",
      "gsf #7 contains nan's.\n",
      "Consider removing them e.g. with:\n",
      "# for gsf in extractor.gsf:\n",
      "#     gsf.cut_nan()\n",
      "\n",
      "gsf #8 contains nan's.\n",
      "Consider removing them e.g. with:\n",
      "# for gsf in extractor.gsf:\n",
      "#     gsf.cut_nan()\n",
      "\n",
      "gsf #9 contains nan's.\n",
      "Consider removing them e.g. with:\n",
      "# for gsf in extractor.gsf:\n",
      "#     gsf.cut_nan()\n",
      "\n"
     ]
    },
    {
     "data": {
      "application/vnd.jupyter.widget-view+json": {
       "model_id": "9d4c58d2a0d6416eab596c6126b6f95b",
       "version_major": 2,
       "version_minor": 0
      },
      "text/plain": [
       "  0%|          | 0/10 [00:00<?, ?it/s]"
      ]
     },
     "metadata": {},
     "output_type": "display_data"
    },
    {
     "name": "stderr",
     "output_type": "stream",
     "text": [
      "nld #0 contains nan's.\n",
      "Consider removing them e.g. with:\n",
      "# for nld in extractor.nld:\n",
      "#     nld.cut_nan()\n",
      "\n",
      "nld #1 contains nan's.\n",
      "Consider removing them e.g. with:\n",
      "# for nld in extractor.nld:\n",
      "#     nld.cut_nan()\n",
      "\n",
      "nld #2 contains nan's.\n",
      "Consider removing them e.g. with:\n",
      "# for nld in extractor.nld:\n",
      "#     nld.cut_nan()\n",
      "\n",
      "nld #3 contains nan's.\n",
      "Consider removing them e.g. with:\n",
      "# for nld in extractor.nld:\n",
      "#     nld.cut_nan()\n",
      "\n",
      "nld #4 contains nan's.\n",
      "Consider removing them e.g. with:\n",
      "# for nld in extractor.nld:\n",
      "#     nld.cut_nan()\n",
      "\n",
      "nld #5 contains nan's.\n",
      "Consider removing them e.g. with:\n",
      "# for nld in extractor.nld:\n",
      "#     nld.cut_nan()\n",
      "\n",
      "nld #6 contains nan's.\n",
      "Consider removing them e.g. with:\n",
      "# for nld in extractor.nld:\n",
      "#     nld.cut_nan()\n",
      "\n",
      "nld #7 contains nan's.\n",
      "Consider removing them e.g. with:\n",
      "# for nld in extractor.nld:\n",
      "#     nld.cut_nan()\n",
      "\n",
      "nld #8 contains nan's.\n",
      "Consider removing them e.g. with:\n",
      "# for nld in extractor.nld:\n",
      "#     nld.cut_nan()\n",
      "\n",
      "nld #9 contains nan's.\n",
      "Consider removing them e.g. with:\n",
      "# for nld in extractor.nld:\n",
      "#     nld.cut_nan()\n",
      "\n",
      "gsf #0 contains nan's.\n",
      "Consider removing them e.g. with:\n",
      "# for gsf in extractor.gsf:\n",
      "#     gsf.cut_nan()\n",
      "\n",
      "gsf #1 contains nan's.\n",
      "Consider removing them e.g. with:\n",
      "# for gsf in extractor.gsf:\n",
      "#     gsf.cut_nan()\n",
      "\n",
      "gsf #2 contains nan's.\n",
      "Consider removing them e.g. with:\n",
      "# for gsf in extractor.gsf:\n",
      "#     gsf.cut_nan()\n",
      "\n",
      "gsf #3 contains nan's.\n",
      "Consider removing them e.g. with:\n",
      "# for gsf in extractor.gsf:\n",
      "#     gsf.cut_nan()\n",
      "\n",
      "gsf #4 contains nan's.\n",
      "Consider removing them e.g. with:\n",
      "# for gsf in extractor.gsf:\n",
      "#     gsf.cut_nan()\n",
      "\n",
      "gsf #5 contains nan's.\n",
      "Consider removing them e.g. with:\n",
      "# for gsf in extractor.gsf:\n",
      "#     gsf.cut_nan()\n",
      "\n",
      "gsf #6 contains nan's.\n",
      "Consider removing them e.g. with:\n",
      "# for gsf in extractor.gsf:\n",
      "#     gsf.cut_nan()\n",
      "\n",
      "gsf #7 contains nan's.\n",
      "Consider removing them e.g. with:\n",
      "# for gsf in extractor.gsf:\n",
      "#     gsf.cut_nan()\n",
      "\n",
      "gsf #8 contains nan's.\n",
      "Consider removing them e.g. with:\n",
      "# for gsf in extractor.gsf:\n",
      "#     gsf.cut_nan()\n",
      "\n",
      "gsf #9 contains nan's.\n",
      "Consider removing them e.g. with:\n",
      "# for gsf in extractor.gsf:\n",
      "#     gsf.cut_nan()\n",
      "\n"
     ]
    },
    {
     "data": {
      "application/vnd.jupyter.widget-view+json": {
       "model_id": "78de5519e5624725b425665dee5ebfa4",
       "version_major": 2,
       "version_minor": 0
      },
      "text/plain": [
       "  0%|          | 0/10 [00:00<?, ?it/s]"
      ]
     },
     "metadata": {},
     "output_type": "display_data"
    },
    {
     "name": "stderr",
     "output_type": "stream",
     "text": [
      "nld #0 contains nan's.\n",
      "Consider removing them e.g. with:\n",
      "# for nld in extractor.nld:\n",
      "#     nld.cut_nan()\n",
      "\n",
      "nld #1 contains nan's.\n",
      "Consider removing them e.g. with:\n",
      "# for nld in extractor.nld:\n",
      "#     nld.cut_nan()\n",
      "\n",
      "nld #2 contains nan's.\n",
      "Consider removing them e.g. with:\n",
      "# for nld in extractor.nld:\n",
      "#     nld.cut_nan()\n",
      "\n",
      "nld #3 contains nan's.\n",
      "Consider removing them e.g. with:\n",
      "# for nld in extractor.nld:\n",
      "#     nld.cut_nan()\n",
      "\n",
      "nld #4 contains nan's.\n",
      "Consider removing them e.g. with:\n",
      "# for nld in extractor.nld:\n",
      "#     nld.cut_nan()\n",
      "\n",
      "nld #5 contains nan's.\n",
      "Consider removing them e.g. with:\n",
      "# for nld in extractor.nld:\n",
      "#     nld.cut_nan()\n",
      "\n",
      "nld #6 contains nan's.\n",
      "Consider removing them e.g. with:\n",
      "# for nld in extractor.nld:\n",
      "#     nld.cut_nan()\n",
      "\n",
      "nld #7 contains nan's.\n",
      "Consider removing them e.g. with:\n",
      "# for nld in extractor.nld:\n",
      "#     nld.cut_nan()\n",
      "\n",
      "nld #8 contains nan's.\n",
      "Consider removing them e.g. with:\n",
      "# for nld in extractor.nld:\n",
      "#     nld.cut_nan()\n",
      "\n",
      "nld #9 contains nan's.\n",
      "Consider removing them e.g. with:\n",
      "# for nld in extractor.nld:\n",
      "#     nld.cut_nan()\n",
      "\n",
      "gsf #0 contains nan's.\n",
      "Consider removing them e.g. with:\n",
      "# for gsf in extractor.gsf:\n",
      "#     gsf.cut_nan()\n",
      "\n",
      "gsf #1 contains nan's.\n",
      "Consider removing them e.g. with:\n",
      "# for gsf in extractor.gsf:\n",
      "#     gsf.cut_nan()\n",
      "\n",
      "gsf #2 contains nan's.\n",
      "Consider removing them e.g. with:\n",
      "# for gsf in extractor.gsf:\n",
      "#     gsf.cut_nan()\n",
      "\n",
      "gsf #3 contains nan's.\n",
      "Consider removing them e.g. with:\n",
      "# for gsf in extractor.gsf:\n",
      "#     gsf.cut_nan()\n",
      "\n",
      "gsf #4 contains nan's.\n",
      "Consider removing them e.g. with:\n",
      "# for gsf in extractor.gsf:\n",
      "#     gsf.cut_nan()\n",
      "\n",
      "gsf #5 contains nan's.\n",
      "Consider removing them e.g. with:\n",
      "# for gsf in extractor.gsf:\n",
      "#     gsf.cut_nan()\n",
      "\n",
      "gsf #6 contains nan's.\n",
      "Consider removing them e.g. with:\n",
      "# for gsf in extractor.gsf:\n",
      "#     gsf.cut_nan()\n",
      "\n",
      "gsf #7 contains nan's.\n",
      "Consider removing them e.g. with:\n",
      "# for gsf in extractor.gsf:\n",
      "#     gsf.cut_nan()\n",
      "\n",
      "gsf #8 contains nan's.\n",
      "Consider removing them e.g. with:\n",
      "# for gsf in extractor.gsf:\n",
      "#     gsf.cut_nan()\n",
      "\n",
      "gsf #9 contains nan's.\n",
      "Consider removing them e.g. with:\n",
      "# for gsf in extractor.gsf:\n",
      "#     gsf.cut_nan()\n",
      "\n"
     ]
    },
    {
     "data": {
      "application/vnd.jupyter.widget-view+json": {
       "model_id": "f3bd211fc87b4968911f7cd574c97b4f",
       "version_major": 2,
       "version_minor": 0
      },
      "text/plain": [
       "  0%|          | 0/10 [00:00<?, ?it/s]"
      ]
     },
     "metadata": {},
     "output_type": "display_data"
    },
    {
     "name": "stderr",
     "output_type": "stream",
     "text": [
      "nld #0 contains nan's.\n",
      "Consider removing them e.g. with:\n",
      "# for nld in extractor.nld:\n",
      "#     nld.cut_nan()\n",
      "\n",
      "nld #1 contains nan's.\n",
      "Consider removing them e.g. with:\n",
      "# for nld in extractor.nld:\n",
      "#     nld.cut_nan()\n",
      "\n",
      "nld #2 contains nan's.\n",
      "Consider removing them e.g. with:\n",
      "# for nld in extractor.nld:\n",
      "#     nld.cut_nan()\n",
      "\n",
      "nld #3 contains nan's.\n",
      "Consider removing them e.g. with:\n",
      "# for nld in extractor.nld:\n",
      "#     nld.cut_nan()\n",
      "\n",
      "nld #4 contains nan's.\n",
      "Consider removing them e.g. with:\n",
      "# for nld in extractor.nld:\n",
      "#     nld.cut_nan()\n",
      "\n",
      "nld #5 contains nan's.\n",
      "Consider removing them e.g. with:\n",
      "# for nld in extractor.nld:\n",
      "#     nld.cut_nan()\n",
      "\n",
      "nld #6 contains nan's.\n",
      "Consider removing them e.g. with:\n",
      "# for nld in extractor.nld:\n",
      "#     nld.cut_nan()\n",
      "\n",
      "nld #7 contains nan's.\n",
      "Consider removing them e.g. with:\n",
      "# for nld in extractor.nld:\n",
      "#     nld.cut_nan()\n",
      "\n",
      "nld #8 contains nan's.\n",
      "Consider removing them e.g. with:\n",
      "# for nld in extractor.nld:\n",
      "#     nld.cut_nan()\n",
      "\n",
      "nld #9 contains nan's.\n",
      "Consider removing them e.g. with:\n",
      "# for nld in extractor.nld:\n",
      "#     nld.cut_nan()\n",
      "\n",
      "gsf #0 contains nan's.\n",
      "Consider removing them e.g. with:\n",
      "# for gsf in extractor.gsf:\n",
      "#     gsf.cut_nan()\n",
      "\n",
      "gsf #1 contains nan's.\n",
      "Consider removing them e.g. with:\n",
      "# for gsf in extractor.gsf:\n",
      "#     gsf.cut_nan()\n",
      "\n",
      "gsf #2 contains nan's.\n",
      "Consider removing them e.g. with:\n",
      "# for gsf in extractor.gsf:\n",
      "#     gsf.cut_nan()\n",
      "\n",
      "gsf #3 contains nan's.\n",
      "Consider removing them e.g. with:\n",
      "# for gsf in extractor.gsf:\n",
      "#     gsf.cut_nan()\n",
      "\n",
      "gsf #4 contains nan's.\n",
      "Consider removing them e.g. with:\n",
      "# for gsf in extractor.gsf:\n",
      "#     gsf.cut_nan()\n",
      "\n",
      "gsf #5 contains nan's.\n",
      "Consider removing them e.g. with:\n",
      "# for gsf in extractor.gsf:\n",
      "#     gsf.cut_nan()\n",
      "\n",
      "gsf #6 contains nan's.\n",
      "Consider removing them e.g. with:\n",
      "# for gsf in extractor.gsf:\n",
      "#     gsf.cut_nan()\n",
      "\n",
      "gsf #7 contains nan's.\n",
      "Consider removing them e.g. with:\n",
      "# for gsf in extractor.gsf:\n",
      "#     gsf.cut_nan()\n",
      "\n",
      "gsf #8 contains nan's.\n",
      "Consider removing them e.g. with:\n",
      "# for gsf in extractor.gsf:\n",
      "#     gsf.cut_nan()\n",
      "\n",
      "gsf #9 contains nan's.\n",
      "Consider removing them e.g. with:\n",
      "# for gsf in extractor.gsf:\n",
      "#     gsf.cut_nan()\n",
      "\n"
     ]
    },
    {
     "data": {
      "application/vnd.jupyter.widget-view+json": {
       "model_id": "d286e674b04241ebb419b3936d56d589",
       "version_major": 2,
       "version_minor": 0
      },
      "text/plain": [
       "  0%|          | 0/10 [00:00<?, ?it/s]"
      ]
     },
     "metadata": {},
     "output_type": "display_data"
    },
    {
     "name": "stderr",
     "output_type": "stream",
     "text": [
      "nld #0 contains nan's.\n",
      "Consider removing them e.g. with:\n",
      "# for nld in extractor.nld:\n",
      "#     nld.cut_nan()\n",
      "\n",
      "nld #1 contains nan's.\n",
      "Consider removing them e.g. with:\n",
      "# for nld in extractor.nld:\n",
      "#     nld.cut_nan()\n",
      "\n",
      "nld #2 contains nan's.\n",
      "Consider removing them e.g. with:\n",
      "# for nld in extractor.nld:\n",
      "#     nld.cut_nan()\n",
      "\n",
      "nld #3 contains nan's.\n",
      "Consider removing them e.g. with:\n",
      "# for nld in extractor.nld:\n",
      "#     nld.cut_nan()\n",
      "\n",
      "nld #4 contains nan's.\n",
      "Consider removing them e.g. with:\n",
      "# for nld in extractor.nld:\n",
      "#     nld.cut_nan()\n",
      "\n",
      "nld #5 contains nan's.\n",
      "Consider removing them e.g. with:\n",
      "# for nld in extractor.nld:\n",
      "#     nld.cut_nan()\n",
      "\n",
      "nld #6 contains nan's.\n",
      "Consider removing them e.g. with:\n",
      "# for nld in extractor.nld:\n",
      "#     nld.cut_nan()\n",
      "\n",
      "nld #7 contains nan's.\n",
      "Consider removing them e.g. with:\n",
      "# for nld in extractor.nld:\n",
      "#     nld.cut_nan()\n",
      "\n",
      "nld #8 contains nan's.\n",
      "Consider removing them e.g. with:\n",
      "# for nld in extractor.nld:\n",
      "#     nld.cut_nan()\n",
      "\n",
      "nld #9 contains nan's.\n",
      "Consider removing them e.g. with:\n",
      "# for nld in extractor.nld:\n",
      "#     nld.cut_nan()\n",
      "\n",
      "gsf #0 contains nan's.\n",
      "Consider removing them e.g. with:\n",
      "# for gsf in extractor.gsf:\n",
      "#     gsf.cut_nan()\n",
      "\n",
      "gsf #1 contains nan's.\n",
      "Consider removing them e.g. with:\n",
      "# for gsf in extractor.gsf:\n",
      "#     gsf.cut_nan()\n",
      "\n",
      "gsf #2 contains nan's.\n",
      "Consider removing them e.g. with:\n",
      "# for gsf in extractor.gsf:\n",
      "#     gsf.cut_nan()\n",
      "\n",
      "gsf #3 contains nan's.\n",
      "Consider removing them e.g. with:\n",
      "# for gsf in extractor.gsf:\n",
      "#     gsf.cut_nan()\n",
      "\n",
      "gsf #4 contains nan's.\n",
      "Consider removing them e.g. with:\n",
      "# for gsf in extractor.gsf:\n",
      "#     gsf.cut_nan()\n",
      "\n",
      "gsf #5 contains nan's.\n",
      "Consider removing them e.g. with:\n",
      "# for gsf in extractor.gsf:\n",
      "#     gsf.cut_nan()\n",
      "\n",
      "gsf #6 contains nan's.\n",
      "Consider removing them e.g. with:\n",
      "# for gsf in extractor.gsf:\n",
      "#     gsf.cut_nan()\n",
      "\n",
      "gsf #7 contains nan's.\n",
      "Consider removing them e.g. with:\n",
      "# for gsf in extractor.gsf:\n",
      "#     gsf.cut_nan()\n",
      "\n",
      "gsf #8 contains nan's.\n",
      "Consider removing them e.g. with:\n",
      "# for gsf in extractor.gsf:\n",
      "#     gsf.cut_nan()\n",
      "\n",
      "gsf #9 contains nan's.\n",
      "Consider removing them e.g. with:\n",
      "# for gsf in extractor.gsf:\n",
      "#     gsf.cut_nan()\n",
      "\n"
     ]
    },
    {
     "data": {
      "application/vnd.jupyter.widget-view+json": {
       "model_id": "5d20d142a7ec4a9eb98275b95a805201",
       "version_major": 2,
       "version_minor": 0
      },
      "text/plain": [
       "  0%|          | 0/10 [00:00<?, ?it/s]"
      ]
     },
     "metadata": {},
     "output_type": "display_data"
    },
    {
     "name": "stderr",
     "output_type": "stream",
     "text": [
      "nld #0 contains nan's.\n",
      "Consider removing them e.g. with:\n",
      "# for nld in extractor.nld:\n",
      "#     nld.cut_nan()\n",
      "\n",
      "nld #1 contains nan's.\n",
      "Consider removing them e.g. with:\n",
      "# for nld in extractor.nld:\n",
      "#     nld.cut_nan()\n",
      "\n",
      "nld #2 contains nan's.\n",
      "Consider removing them e.g. with:\n",
      "# for nld in extractor.nld:\n",
      "#     nld.cut_nan()\n",
      "\n",
      "nld #3 contains nan's.\n",
      "Consider removing them e.g. with:\n",
      "# for nld in extractor.nld:\n",
      "#     nld.cut_nan()\n",
      "\n",
      "nld #4 contains nan's.\n",
      "Consider removing them e.g. with:\n",
      "# for nld in extractor.nld:\n",
      "#     nld.cut_nan()\n",
      "\n",
      "nld #5 contains nan's.\n",
      "Consider removing them e.g. with:\n",
      "# for nld in extractor.nld:\n",
      "#     nld.cut_nan()\n",
      "\n",
      "nld #6 contains nan's.\n",
      "Consider removing them e.g. with:\n",
      "# for nld in extractor.nld:\n",
      "#     nld.cut_nan()\n",
      "\n",
      "nld #7 contains nan's.\n",
      "Consider removing them e.g. with:\n",
      "# for nld in extractor.nld:\n",
      "#     nld.cut_nan()\n",
      "\n",
      "nld #8 contains nan's.\n",
      "Consider removing them e.g. with:\n",
      "# for nld in extractor.nld:\n",
      "#     nld.cut_nan()\n",
      "\n",
      "nld #9 contains nan's.\n",
      "Consider removing them e.g. with:\n",
      "# for nld in extractor.nld:\n",
      "#     nld.cut_nan()\n",
      "\n",
      "gsf #0 contains nan's.\n",
      "Consider removing them e.g. with:\n",
      "# for gsf in extractor.gsf:\n",
      "#     gsf.cut_nan()\n",
      "\n",
      "gsf #1 contains nan's.\n",
      "Consider removing them e.g. with:\n",
      "# for gsf in extractor.gsf:\n",
      "#     gsf.cut_nan()\n",
      "\n",
      "gsf #2 contains nan's.\n",
      "Consider removing them e.g. with:\n",
      "# for gsf in extractor.gsf:\n",
      "#     gsf.cut_nan()\n",
      "\n",
      "gsf #3 contains nan's.\n",
      "Consider removing them e.g. with:\n",
      "# for gsf in extractor.gsf:\n",
      "#     gsf.cut_nan()\n",
      "\n",
      "gsf #4 contains nan's.\n",
      "Consider removing them e.g. with:\n",
      "# for gsf in extractor.gsf:\n",
      "#     gsf.cut_nan()\n",
      "\n",
      "gsf #5 contains nan's.\n",
      "Consider removing them e.g. with:\n",
      "# for gsf in extractor.gsf:\n",
      "#     gsf.cut_nan()\n",
      "\n",
      "gsf #6 contains nan's.\n",
      "Consider removing them e.g. with:\n",
      "# for gsf in extractor.gsf:\n",
      "#     gsf.cut_nan()\n",
      "\n",
      "gsf #7 contains nan's.\n",
      "Consider removing them e.g. with:\n",
      "# for gsf in extractor.gsf:\n",
      "#     gsf.cut_nan()\n",
      "\n",
      "gsf #8 contains nan's.\n",
      "Consider removing them e.g. with:\n",
      "# for gsf in extractor.gsf:\n",
      "#     gsf.cut_nan()\n",
      "\n",
      "gsf #9 contains nan's.\n",
      "Consider removing them e.g. with:\n",
      "# for gsf in extractor.gsf:\n",
      "#     gsf.cut_nan()\n",
      "\n"
     ]
    },
    {
     "data": {
      "application/vnd.jupyter.widget-view+json": {
       "model_id": "cbf093143ca34bda8b057731876ad0d6",
       "version_major": 2,
       "version_minor": 0
      },
      "text/plain": [
       "  0%|          | 0/10 [00:00<?, ?it/s]"
      ]
     },
     "metadata": {},
     "output_type": "display_data"
    },
    {
     "name": "stderr",
     "output_type": "stream",
     "text": [
      "nld #0 contains nan's.\n",
      "Consider removing them e.g. with:\n",
      "# for nld in extractor.nld:\n",
      "#     nld.cut_nan()\n",
      "\n",
      "nld #1 contains nan's.\n",
      "Consider removing them e.g. with:\n",
      "# for nld in extractor.nld:\n",
      "#     nld.cut_nan()\n",
      "\n",
      "nld #2 contains nan's.\n",
      "Consider removing them e.g. with:\n",
      "# for nld in extractor.nld:\n",
      "#     nld.cut_nan()\n",
      "\n",
      "nld #3 contains nan's.\n",
      "Consider removing them e.g. with:\n",
      "# for nld in extractor.nld:\n",
      "#     nld.cut_nan()\n",
      "\n",
      "nld #4 contains nan's.\n",
      "Consider removing them e.g. with:\n",
      "# for nld in extractor.nld:\n",
      "#     nld.cut_nan()\n",
      "\n",
      "nld #5 contains nan's.\n",
      "Consider removing them e.g. with:\n",
      "# for nld in extractor.nld:\n",
      "#     nld.cut_nan()\n",
      "\n",
      "nld #6 contains nan's.\n",
      "Consider removing them e.g. with:\n",
      "# for nld in extractor.nld:\n",
      "#     nld.cut_nan()\n",
      "\n",
      "nld #7 contains nan's.\n",
      "Consider removing them e.g. with:\n",
      "# for nld in extractor.nld:\n",
      "#     nld.cut_nan()\n",
      "\n",
      "nld #8 contains nan's.\n",
      "Consider removing them e.g. with:\n",
      "# for nld in extractor.nld:\n",
      "#     nld.cut_nan()\n",
      "\n",
      "nld #9 contains nan's.\n",
      "Consider removing them e.g. with:\n",
      "# for nld in extractor.nld:\n",
      "#     nld.cut_nan()\n",
      "\n",
      "gsf #0 contains nan's.\n",
      "Consider removing them e.g. with:\n",
      "# for gsf in extractor.gsf:\n",
      "#     gsf.cut_nan()\n",
      "\n",
      "gsf #1 contains nan's.\n",
      "Consider removing them e.g. with:\n",
      "# for gsf in extractor.gsf:\n",
      "#     gsf.cut_nan()\n",
      "\n",
      "gsf #2 contains nan's.\n",
      "Consider removing them e.g. with:\n",
      "# for gsf in extractor.gsf:\n",
      "#     gsf.cut_nan()\n",
      "\n",
      "gsf #3 contains nan's.\n",
      "Consider removing them e.g. with:\n",
      "# for gsf in extractor.gsf:\n",
      "#     gsf.cut_nan()\n",
      "\n",
      "gsf #4 contains nan's.\n",
      "Consider removing them e.g. with:\n",
      "# for gsf in extractor.gsf:\n",
      "#     gsf.cut_nan()\n",
      "\n",
      "gsf #5 contains nan's.\n",
      "Consider removing them e.g. with:\n",
      "# for gsf in extractor.gsf:\n",
      "#     gsf.cut_nan()\n",
      "\n",
      "gsf #6 contains nan's.\n",
      "Consider removing them e.g. with:\n",
      "# for gsf in extractor.gsf:\n",
      "#     gsf.cut_nan()\n",
      "\n",
      "gsf #7 contains nan's.\n",
      "Consider removing them e.g. with:\n",
      "# for gsf in extractor.gsf:\n",
      "#     gsf.cut_nan()\n",
      "\n",
      "gsf #8 contains nan's.\n",
      "Consider removing them e.g. with:\n",
      "# for gsf in extractor.gsf:\n",
      "#     gsf.cut_nan()\n",
      "\n",
      "gsf #9 contains nan's.\n",
      "Consider removing them e.g. with:\n",
      "# for gsf in extractor.gsf:\n",
      "#     gsf.cut_nan()\n",
      "\n"
     ]
    },
    {
     "data": {
      "application/vnd.jupyter.widget-view+json": {
       "model_id": "d28d2cf4096442f1a9f6019b47b9ff08",
       "version_major": 2,
       "version_minor": 0
      },
      "text/plain": [
       "  0%|          | 0/10 [00:00<?, ?it/s]"
      ]
     },
     "metadata": {},
     "output_type": "display_data"
    },
    {
     "name": "stderr",
     "output_type": "stream",
     "text": [
      "nld #0 contains nan's.\n",
      "Consider removing them e.g. with:\n",
      "# for nld in extractor.nld:\n",
      "#     nld.cut_nan()\n",
      "\n",
      "nld #1 contains nan's.\n",
      "Consider removing them e.g. with:\n",
      "# for nld in extractor.nld:\n",
      "#     nld.cut_nan()\n",
      "\n",
      "nld #2 contains nan's.\n",
      "Consider removing them e.g. with:\n",
      "# for nld in extractor.nld:\n",
      "#     nld.cut_nan()\n",
      "\n",
      "nld #3 contains nan's.\n",
      "Consider removing them e.g. with:\n",
      "# for nld in extractor.nld:\n",
      "#     nld.cut_nan()\n",
      "\n",
      "nld #4 contains nan's.\n",
      "Consider removing them e.g. with:\n",
      "# for nld in extractor.nld:\n",
      "#     nld.cut_nan()\n",
      "\n",
      "nld #5 contains nan's.\n",
      "Consider removing them e.g. with:\n",
      "# for nld in extractor.nld:\n",
      "#     nld.cut_nan()\n",
      "\n",
      "nld #6 contains nan's.\n",
      "Consider removing them e.g. with:\n",
      "# for nld in extractor.nld:\n",
      "#     nld.cut_nan()\n",
      "\n",
      "nld #7 contains nan's.\n",
      "Consider removing them e.g. with:\n",
      "# for nld in extractor.nld:\n",
      "#     nld.cut_nan()\n",
      "\n",
      "nld #8 contains nan's.\n",
      "Consider removing them e.g. with:\n",
      "# for nld in extractor.nld:\n",
      "#     nld.cut_nan()\n",
      "\n",
      "nld #9 contains nan's.\n",
      "Consider removing them e.g. with:\n",
      "# for nld in extractor.nld:\n",
      "#     nld.cut_nan()\n",
      "\n",
      "gsf #0 contains nan's.\n",
      "Consider removing them e.g. with:\n",
      "# for gsf in extractor.gsf:\n",
      "#     gsf.cut_nan()\n",
      "\n",
      "gsf #1 contains nan's.\n",
      "Consider removing them e.g. with:\n",
      "# for gsf in extractor.gsf:\n",
      "#     gsf.cut_nan()\n",
      "\n",
      "gsf #2 contains nan's.\n",
      "Consider removing them e.g. with:\n",
      "# for gsf in extractor.gsf:\n",
      "#     gsf.cut_nan()\n",
      "\n",
      "gsf #3 contains nan's.\n",
      "Consider removing them e.g. with:\n",
      "# for gsf in extractor.gsf:\n",
      "#     gsf.cut_nan()\n",
      "\n",
      "gsf #4 contains nan's.\n",
      "Consider removing them e.g. with:\n",
      "# for gsf in extractor.gsf:\n",
      "#     gsf.cut_nan()\n",
      "\n",
      "gsf #5 contains nan's.\n",
      "Consider removing them e.g. with:\n",
      "# for gsf in extractor.gsf:\n",
      "#     gsf.cut_nan()\n",
      "\n",
      "gsf #6 contains nan's.\n",
      "Consider removing them e.g. with:\n",
      "# for gsf in extractor.gsf:\n",
      "#     gsf.cut_nan()\n",
      "\n",
      "gsf #7 contains nan's.\n",
      "Consider removing them e.g. with:\n",
      "# for gsf in extractor.gsf:\n",
      "#     gsf.cut_nan()\n",
      "\n",
      "gsf #8 contains nan's.\n",
      "Consider removing them e.g. with:\n",
      "# for gsf in extractor.gsf:\n",
      "#     gsf.cut_nan()\n",
      "\n",
      "gsf #9 contains nan's.\n",
      "Consider removing them e.g. with:\n",
      "# for gsf in extractor.gsf:\n",
      "#     gsf.cut_nan()\n",
      "\n"
     ]
    },
    {
     "data": {
      "application/vnd.jupyter.widget-view+json": {
       "model_id": "e843ce81885e4501b71c0cd0969b93b6",
       "version_major": 2,
       "version_minor": 0
      },
      "text/plain": [
       "  0%|          | 0/10 [00:00<?, ?it/s]"
      ]
     },
     "metadata": {},
     "output_type": "display_data"
    },
    {
     "name": "stderr",
     "output_type": "stream",
     "text": [
      "nld #0 contains nan's.\n",
      "Consider removing them e.g. with:\n",
      "# for nld in extractor.nld:\n",
      "#     nld.cut_nan()\n",
      "\n",
      "nld #1 contains nan's.\n",
      "Consider removing them e.g. with:\n",
      "# for nld in extractor.nld:\n",
      "#     nld.cut_nan()\n",
      "\n",
      "nld #2 contains nan's.\n",
      "Consider removing them e.g. with:\n",
      "# for nld in extractor.nld:\n",
      "#     nld.cut_nan()\n",
      "\n",
      "nld #3 contains nan's.\n",
      "Consider removing them e.g. with:\n",
      "# for nld in extractor.nld:\n",
      "#     nld.cut_nan()\n",
      "\n",
      "nld #4 contains nan's.\n",
      "Consider removing them e.g. with:\n",
      "# for nld in extractor.nld:\n",
      "#     nld.cut_nan()\n",
      "\n",
      "nld #5 contains nan's.\n",
      "Consider removing them e.g. with:\n",
      "# for nld in extractor.nld:\n",
      "#     nld.cut_nan()\n",
      "\n",
      "nld #6 contains nan's.\n",
      "Consider removing them e.g. with:\n",
      "# for nld in extractor.nld:\n",
      "#     nld.cut_nan()\n",
      "\n",
      "nld #7 contains nan's.\n",
      "Consider removing them e.g. with:\n",
      "# for nld in extractor.nld:\n",
      "#     nld.cut_nan()\n",
      "\n",
      "nld #8 contains nan's.\n",
      "Consider removing them e.g. with:\n",
      "# for nld in extractor.nld:\n",
      "#     nld.cut_nan()\n",
      "\n",
      "nld #9 contains nan's.\n",
      "Consider removing them e.g. with:\n",
      "# for nld in extractor.nld:\n",
      "#     nld.cut_nan()\n",
      "\n",
      "gsf #0 contains nan's.\n",
      "Consider removing them e.g. with:\n",
      "# for gsf in extractor.gsf:\n",
      "#     gsf.cut_nan()\n",
      "\n",
      "gsf #1 contains nan's.\n",
      "Consider removing them e.g. with:\n",
      "# for gsf in extractor.gsf:\n",
      "#     gsf.cut_nan()\n",
      "\n",
      "gsf #2 contains nan's.\n",
      "Consider removing them e.g. with:\n",
      "# for gsf in extractor.gsf:\n",
      "#     gsf.cut_nan()\n",
      "\n",
      "gsf #3 contains nan's.\n",
      "Consider removing them e.g. with:\n",
      "# for gsf in extractor.gsf:\n",
      "#     gsf.cut_nan()\n",
      "\n",
      "gsf #4 contains nan's.\n",
      "Consider removing them e.g. with:\n",
      "# for gsf in extractor.gsf:\n",
      "#     gsf.cut_nan()\n",
      "\n",
      "gsf #5 contains nan's.\n",
      "Consider removing them e.g. with:\n",
      "# for gsf in extractor.gsf:\n",
      "#     gsf.cut_nan()\n",
      "\n",
      "gsf #6 contains nan's.\n",
      "Consider removing them e.g. with:\n",
      "# for gsf in extractor.gsf:\n",
      "#     gsf.cut_nan()\n",
      "\n",
      "gsf #7 contains nan's.\n",
      "Consider removing them e.g. with:\n",
      "# for gsf in extractor.gsf:\n",
      "#     gsf.cut_nan()\n",
      "\n",
      "gsf #8 contains nan's.\n",
      "Consider removing them e.g. with:\n",
      "# for gsf in extractor.gsf:\n",
      "#     gsf.cut_nan()\n",
      "\n",
      "gsf #9 contains nan's.\n",
      "Consider removing them e.g. with:\n",
      "# for gsf in extractor.gsf:\n",
      "#     gsf.cut_nan()\n",
      "\n"
     ]
    }
   ],
   "source": [
    "extractors = [om.Extractor() for raw in raw_matrices]\n",
    "for extractor, ensemble in zip(extractors, ensembles):\n",
    "    extractor.trapezoid = trapezoid_cut\n",
    "    extractor.extract_from(ensemble, regenerate=True)"
   ]
  },
  {
   "cell_type": "markdown",
   "id": "54927ecd-ee65-4dc9-9f13-55c575340daf",
   "metadata": {},
   "source": [
    "### Estimate relative uncertanties"
   ]
  },
  {
   "cell_type": "code",
   "execution_count": 17,
   "id": "52ca7f94-a8ea-4729-8eef-c1a0629b91b8",
   "metadata": {
    "collapsed": true,
    "jupyter": {
     "outputs_hidden": true
    },
    "tags": []
   },
   "outputs": [
    {
     "name": "stdout",
     "output_type": "stream",
     "text": [
      "2021-08-12 10:15:42,736 - ompy.error_finder - DEBUG - Processing an ensemble with 10 members\n",
      "2021-08-12 10:15:42,737 - ompy.error_finder - DEBUG - Before removing nan: 45 NLD values and 31 GSF values\n",
      "2021-08-12 10:15:42,739 - ompy.error_finder - WARNING - NLDs and/or γSFs contains nan's. They will be removed\n",
      "2021-08-12 10:15:42,740 - ompy.error_finder - WARNING - Some members of the ensemble have different lengths. Consider re-binning or changing limits.\n",
      "2021-08-12 10:15:42,743 - ompy.error_finder - DEBUG - After removing nan: 30 NLD values and 27 GSF values\n",
      "2021-08-12 10:15:42,745 - ompy.error_finder - INFO - Starting pyMC3 inference - logarithmic model\n"
     ]
    },
    {
     "name": "stderr",
     "output_type": "stream",
     "text": [
      "Auto-assigning NUTS sampler...\n",
      "Initializing NUTS using jitter+adapt_diag...\n",
      "Multiprocess sampling (4 chains in 4 jobs)\n",
      "NUTS: [σ_f, σ_ρ, α, F, D, σ_α, σ_F, σ_D]\n"
     ]
    },
    {
     "data": {
      "text/html": [
       "\n",
       "    <div>\n",
       "        <style>\n",
       "            /* Turns off some styling */\n",
       "            progress {\n",
       "                /* gets rid of default border in Firefox and Opera. */\n",
       "                border: none;\n",
       "                /* Needs to be in here for Safari polyfill so background images work as expected. */\n",
       "                background-size: auto;\n",
       "            }\n",
       "            .progress-bar-interrupted, .progress-bar-interrupted::-webkit-progress-bar {\n",
       "                background: #F44336;\n",
       "            }\n",
       "        </style>\n",
       "      <progress value='8000' class='' max='8000' style='width:300px; height:20px; vertical-align: middle;'></progress>\n",
       "      100.00% [8000/8000 01:05<00:00 Sampling 4 chains, 0 divergences]\n",
       "    </div>\n",
       "    "
      ],
      "text/plain": [
       "<IPython.core.display.HTML object>"
      ]
     },
     "metadata": {},
     "output_type": "display_data"
    },
    {
     "name": "stderr",
     "output_type": "stream",
     "text": [
      "Sampling 4 chains for 1_000 tune and 1_000 draw iterations (4_000 + 4_000 draws total) took 76 seconds.\n"
     ]
    },
    {
     "name": "stdout",
     "output_type": "stream",
     "text": [
      "2021-08-12 10:17:25,444 - ompy.error_finder - INFO - Inference results:\n",
      "┌─────────────┬─────────────┬────────────────┬───────────────┬───────────────┬─────────────────┐\n",
      "│ D           │ F           │ α              │ σ_D           │ σ_F           │ σ_α             │\n",
      "╞═════════════╪═════════════╪════════════════╪═══════════════╪═══════════════╪═════════════════╡\n",
      "│ 0.00 ± 0.27 │ 0.00 ± 0.17 │ -0.000 ± 0.049 │ 0.276 ± 0.022 │ 0.168 ± 0.015 │ 0.0492 ± 0.0043 │\n",
      "└─────────────┴─────────────┴────────────────┴───────────────┴───────────────┴─────────────────┘\n",
      "┌────┬──────────────┬──────────────┐\n",
      "│    │ σ_ρ [%]      │ σ_f [%]      │\n",
      "╞════╪══════════════╪══════════════╡\n",
      "│ 0  │ 37.0 ± 2.9   │ 13.2 ± 1.1   │\n",
      "├────┼──────────────┼──────────────┤\n",
      "│ 1  │ 32.5 ± 2.5   │ 11.39 ± 0.98 │\n",
      "├────┼──────────────┼──────────────┤\n",
      "│ 2  │ 46.5 ± 3.7   │ 10.11 ± 0.87 │\n",
      "├────┼──────────────┼──────────────┤\n",
      "│ 3  │ 20.6 ± 1.7   │ 15.1 ± 1.2   │\n",
      "├────┼──────────────┼──────────────┤\n",
      "│ 4  │ 18.0 ± 1.5   │ 9.25 ± 0.78  │\n",
      "├────┼──────────────┼──────────────┤\n",
      "│ 5  │ 22.7 ± 1.8   │ 9.57 ± 0.79  │\n",
      "├────┼──────────────┼──────────────┤\n",
      "│ 6  │ 18.7 ± 1.5   │ 12.20 ± 0.98 │\n",
      "├────┼──────────────┼──────────────┤\n",
      "│ 7  │ 12.2 ± 1.0   │ 14.6 ± 1.2   │\n",
      "├────┼──────────────┼──────────────┤\n",
      "│ 8  │ 15.3 ± 1.1   │ 18.7 ± 1.4   │\n",
      "├────┼──────────────┼──────────────┤\n",
      "│ 9  │ 9.61 ± 0.82  │ 5.11 ± 0.57  │\n",
      "├────┼──────────────┼──────────────┤\n",
      "│ 10 │ 13.8 ± 1.1   │ 11.37 ± 0.92 │\n",
      "├────┼──────────────┼──────────────┤\n",
      "│ 11 │ 10.21 ± 0.82 │ 12.2 ± 1.0   │\n",
      "├────┼──────────────┼──────────────┤\n",
      "│ 12 │ 5.53 ± 0.56  │ 14.0 ± 1.1   │\n",
      "├────┼──────────────┼──────────────┤\n",
      "│ 13 │ 11.42 ± 0.88 │ 9.08 ± 0.80  │\n",
      "├────┼──────────────┼──────────────┤\n",
      "│ 14 │ 10.62 ± 0.84 │ 17.0 ± 1.4   │\n",
      "├────┼──────────────┼──────────────┤\n",
      "│ 15 │ 12.33 ± 1.00 │ 13.6 ± 1.2   │\n",
      "├────┼──────────────┼──────────────┤\n",
      "│ 16 │ 10.08 ± 0.82 │ 26.6 ± 2.1   │\n",
      "├────┼──────────────┼──────────────┤\n",
      "│ 17 │ 10.51 ± 0.86 │ 20.6 ± 1.6   │\n",
      "├────┼──────────────┼──────────────┤\n",
      "│ 18 │ 16.0 ± 1.3   │ 42.3 ± 3.2   │\n",
      "├────┼──────────────┼──────────────┤\n",
      "│ 19 │ 17.9 ± 1.4   │ 34.4 ± 2.6   │\n",
      "├────┼──────────────┼──────────────┤\n",
      "│ 20 │ 13.3 ± 1.1   │ 54.1 ± 4.3   │\n",
      "├────┼──────────────┼──────────────┤\n",
      "│ 21 │ 13.7 ± 1.2   │ 39.6 ± 3.1   │\n",
      "├────┼──────────────┼──────────────┤\n",
      "│ 22 │ 14.6 ± 1.2   │ 88.1 ± 6.2   │\n",
      "├────┼──────────────┼──────────────┤\n",
      "│ 23 │ 13.9 ± 1.1   │ 56.9 ± 4.3   │\n",
      "├────┼──────────────┼──────────────┤\n",
      "│ 24 │ 17.8 ± 1.4   │ 61.2 ± 4.7   │\n",
      "├────┼──────────────┼──────────────┤\n",
      "│ 25 │ 29.5 ± 2.2   │ 82.3 ± 6.1   │\n",
      "├────┼──────────────┼──────────────┤\n",
      "│ 26 │ 15.1 ± 1.3   │ 68.6 ± 5.0   │\n",
      "├────┼──────────────┼──────────────┤\n",
      "│ 27 │ 27.0 ± 2.1   │              │\n",
      "├────┼──────────────┼──────────────┤\n",
      "│ 28 │ 52.3 ± 4.2   │              │\n",
      "├────┼──────────────┼──────────────┤\n",
      "│ 29 │ 44.4 ± 3.5   │              │\n",
      "└────┴──────────────┴──────────────┘\n",
      "2021-08-12 10:17:25,462 - ompy.error_finder - DEBUG - Processing an ensemble with 10 members\n",
      "2021-08-12 10:17:25,463 - ompy.error_finder - DEBUG - Before removing nan: 45 NLD values and 31 GSF values\n",
      "2021-08-12 10:17:25,467 - ompy.error_finder - WARNING - NLDs and/or γSFs contains nan's. They will be removed\n",
      "2021-08-12 10:17:25,468 - ompy.error_finder - WARNING - Some members of the ensemble have different lengths. Consider re-binning or changing limits.\n",
      "2021-08-12 10:17:25,471 - ompy.error_finder - DEBUG - After removing nan: 30 NLD values and 28 GSF values\n",
      "2021-08-12 10:17:25,473 - ompy.error_finder - INFO - Starting pyMC3 inference - logarithmic model\n"
     ]
    },
    {
     "name": "stderr",
     "output_type": "stream",
     "text": [
      "Auto-assigning NUTS sampler...\n",
      "Initializing NUTS using jitter+adapt_diag...\n",
      "Multiprocess sampling (4 chains in 4 jobs)\n",
      "NUTS: [σ_f, σ_ρ, α, F, D, σ_α, σ_F, σ_D]\n"
     ]
    },
    {
     "data": {
      "text/html": [
       "\n",
       "    <div>\n",
       "        <style>\n",
       "            /* Turns off some styling */\n",
       "            progress {\n",
       "                /* gets rid of default border in Firefox and Opera. */\n",
       "                border: none;\n",
       "                /* Needs to be in here for Safari polyfill so background images work as expected. */\n",
       "                background-size: auto;\n",
       "            }\n",
       "            .progress-bar-interrupted, .progress-bar-interrupted::-webkit-progress-bar {\n",
       "                background: #F44336;\n",
       "            }\n",
       "        </style>\n",
       "      <progress value='8000' class='' max='8000' style='width:300px; height:20px; vertical-align: middle;'></progress>\n",
       "      100.00% [8000/8000 01:07<00:00 Sampling 4 chains, 0 divergences]\n",
       "    </div>\n",
       "    "
      ],
      "text/plain": [
       "<IPython.core.display.HTML object>"
      ]
     },
     "metadata": {},
     "output_type": "display_data"
    },
    {
     "name": "stderr",
     "output_type": "stream",
     "text": [
      "Sampling 4 chains for 1_000 tune and 1_000 draw iterations (4_000 + 4_000 draws total) took 78 seconds.\n"
     ]
    },
    {
     "name": "stdout",
     "output_type": "stream",
     "text": [
      "2021-08-12 10:18:55,744 - ompy.error_finder - INFO - Inference results:\n",
      "┌──────────────┬──────────────┬───────────────┬───────────────┬───────────────┬─────────────────┐\n",
      "│ D            │ F            │ α             │ σ_D           │ σ_F           │ σ_α             │\n",
      "╞══════════════╪══════════════╪═══════════════╪═══════════════╪═══════════════╪═════════════════╡\n",
      "│ -0.00 ± 0.33 │ -0.00 ± 0.31 │ 0.000 ± 0.067 │ 0.332 ± 0.026 │ 0.309 ± 0.023 │ 0.0679 ± 0.0054 │\n",
      "└──────────────┴──────────────┴───────────────┴───────────────┴───────────────┴─────────────────┘\n",
      "┌────┬──────────────┬──────────────┐\n",
      "│    │ σ_ρ [%]      │ σ_f [%]      │\n",
      "╞════╪══════════════╪══════════════╡\n",
      "│ 0  │ 165 ± 11     │ 13.4 ± 1.1   │\n",
      "├────┼──────────────┼──────────────┤\n",
      "│ 1  │ 12.3 ± 1.0   │ 5.29 ± 0.58  │\n",
      "├────┼──────────────┼──────────────┤\n",
      "│ 2  │ 14.7 ± 1.2   │ 8.79 ± 0.73  │\n",
      "├────┼──────────────┼──────────────┤\n",
      "│ 3  │ 11.7 ± 1.0   │ 12.10 ± 0.95 │\n",
      "├────┼──────────────┼──────────────┤\n",
      "│ 4  │ 13.2 ± 1.1   │ 11.97 ± 0.95 │\n",
      "├────┼──────────────┼──────────────┤\n",
      "│ 5  │ 11.68 ± 0.98 │ 10.04 ± 0.85 │\n",
      "├────┼──────────────┼──────────────┤\n",
      "│ 6  │ 13.8 ± 1.1   │ 11.85 ± 0.94 │\n",
      "├────┼──────────────┼──────────────┤\n",
      "│ 7  │ 17.1 ± 1.4   │ 6.85 ± 0.63  │\n",
      "├────┼──────────────┼──────────────┤\n",
      "│ 8  │ 18.0 ± 1.4   │ 7.35 ± 0.64  │\n",
      "├────┼──────────────┼──────────────┤\n",
      "│ 9  │ 11.96 ± 0.93 │ 8.41 ± 0.71  │\n",
      "├────┼──────────────┼──────────────┤\n",
      "│ 10 │ 7.29 ± 0.63  │ 11.66 ± 0.91 │\n",
      "├────┼──────────────┼──────────────┤\n",
      "│ 11 │ 11.37 ± 0.91 │ 10.07 ± 0.81 │\n",
      "├────┼──────────────┼──────────────┤\n",
      "│ 12 │ 6.73 ± 0.59  │ 9.23 ± 0.77  │\n",
      "├────┼──────────────┼──────────────┤\n",
      "│ 13 │ 7.71 ± 0.63  │ 13.4 ± 1.1   │\n",
      "├────┼──────────────┼──────────────┤\n",
      "│ 14 │ 9.27 ± 0.74  │ 12.8 ± 1.0   │\n",
      "├────┼──────────────┼──────────────┤\n",
      "│ 15 │ 10.91 ± 0.84 │ 12.7 ± 1.0   │\n",
      "├────┼──────────────┼──────────────┤\n",
      "│ 16 │ 7.62 ± 0.65  │ 11.93 ± 0.97 │\n",
      "├────┼──────────────┼──────────────┤\n",
      "│ 17 │ 13.9 ± 1.1   │ 12.7 ± 1.0   │\n",
      "├────┼──────────────┼──────────────┤\n",
      "│ 18 │ 6.07 ± 0.56  │ 16.1 ± 1.3   │\n",
      "├────┼──────────────┼──────────────┤\n",
      "│ 19 │ 7.68 ± 0.66  │ 14.0 ± 1.2   │\n",
      "├────┼──────────────┼──────────────┤\n",
      "│ 20 │ 9.43 ± 0.77  │ 27.7 ± 2.1   │\n",
      "├────┼──────────────┼──────────────┤\n",
      "│ 21 │ 14.6 ± 1.1   │ 44.9 ± 3.4   │\n",
      "├────┼──────────────┼──────────────┤\n",
      "│ 22 │ 18.4 ± 1.5   │ 31.8 ± 2.4   │\n",
      "├────┼──────────────┼──────────────┤\n",
      "│ 23 │ 14.7 ± 1.2   │ 25.9 ± 2.1   │\n",
      "├────┼──────────────┼──────────────┤\n",
      "│ 24 │ 20.6 ± 1.6   │ 49.1 ± 3.8   │\n",
      "├────┼──────────────┼──────────────┤\n",
      "│ 25 │ 16.4 ± 1.3   │ 39.6 ± 3.1   │\n",
      "├────┼──────────────┼──────────────┤\n",
      "│ 26 │ 27.1 ± 2.0   │ 251 ± 16     │\n",
      "├────┼──────────────┼──────────────┤\n",
      "│ 27 │ 17.5 ± 1.5   │ 108.8 ± 7.5  │\n",
      "├────┼──────────────┼──────────────┤\n",
      "│ 28 │ 33.2 ± 2.5   │              │\n",
      "├────┼──────────────┼──────────────┤\n",
      "│ 29 │ 38.6 ± 3.0   │              │\n",
      "└────┴──────────────┴──────────────┘\n",
      "2021-08-12 10:18:55,759 - ompy.error_finder - DEBUG - Processing an ensemble with 10 members\n",
      "2021-08-12 10:18:55,760 - ompy.error_finder - DEBUG - Before removing nan: 45 NLD values and 31 GSF values\n",
      "2021-08-12 10:18:55,761 - ompy.error_finder - WARNING - NLDs and/or γSFs contains nan's. They will be removed\n",
      "2021-08-12 10:18:55,762 - ompy.error_finder - WARNING - Some members of the ensemble have different lengths. Consider re-binning or changing limits.\n",
      "2021-08-12 10:18:55,765 - ompy.error_finder - DEBUG - After removing nan: 30 NLD values and 28 GSF values\n",
      "2021-08-12 10:18:55,767 - ompy.error_finder - INFO - Starting pyMC3 inference - logarithmic model\n"
     ]
    },
    {
     "name": "stderr",
     "output_type": "stream",
     "text": [
      "Auto-assigning NUTS sampler...\n",
      "Initializing NUTS using jitter+adapt_diag...\n",
      "Multiprocess sampling (4 chains in 4 jobs)\n",
      "NUTS: [σ_f, σ_ρ, α, F, D, σ_α, σ_F, σ_D]\n"
     ]
    },
    {
     "data": {
      "text/html": [
       "\n",
       "    <div>\n",
       "        <style>\n",
       "            /* Turns off some styling */\n",
       "            progress {\n",
       "                /* gets rid of default border in Firefox and Opera. */\n",
       "                border: none;\n",
       "                /* Needs to be in here for Safari polyfill so background images work as expected. */\n",
       "                background-size: auto;\n",
       "            }\n",
       "            .progress-bar-interrupted, .progress-bar-interrupted::-webkit-progress-bar {\n",
       "                background: #F44336;\n",
       "            }\n",
       "        </style>\n",
       "      <progress value='8000' class='' max='8000' style='width:300px; height:20px; vertical-align: middle;'></progress>\n",
       "      100.00% [8000/8000 01:11<00:00 Sampling 4 chains, 0 divergences]\n",
       "    </div>\n",
       "    "
      ],
      "text/plain": [
       "<IPython.core.display.HTML object>"
      ]
     },
     "metadata": {},
     "output_type": "display_data"
    },
    {
     "name": "stderr",
     "output_type": "stream",
     "text": [
      "Sampling 4 chains for 1_000 tune and 1_000 draw iterations (4_000 + 4_000 draws total) took 82 seconds.\n"
     ]
    },
    {
     "name": "stdout",
     "output_type": "stream",
     "text": [
      "2021-08-12 10:20:28,338 - ompy.error_finder - INFO - Inference results:\n",
      "┌──────────────┬─────────────┬────────────────┬───────────────┬───────────────┬─────────────────┐\n",
      "│ D            │ F           │ α              │ σ_D           │ σ_F           │ σ_α             │\n",
      "╞══════════════╪═════════════╪════════════════╪═══════════════╪═══════════════╪═════════════════╡\n",
      "│ -0.00 ± 0.28 │ 0.00 ± 0.18 │ -0.000 ± 0.068 │ 0.289 ± 0.022 │ 0.185 ± 0.015 │ 0.0690 ± 0.0057 │\n",
      "└──────────────┴─────────────┴────────────────┴───────────────┴───────────────┴─────────────────┘\n",
      "┌────┬──────────────┬──────────────┐\n",
      "│    │ σ_ρ [%]      │ σ_f [%]      │\n",
      "╞════╪══════════════╪══════════════╡\n",
      "│ 0  │ 8.35 ± 0.72  │ 8.80 ± 0.73  │\n",
      "├────┼──────────────┼──────────────┤\n",
      "│ 1  │ 10.91 ± 0.88 │ 7.14 ± 0.61  │\n",
      "├────┼──────────────┼──────────────┤\n",
      "│ 2  │ 11.41 ± 0.93 │ 10.56 ± 0.85 │\n",
      "├────┼──────────────┼──────────────┤\n",
      "│ 3  │ 11.15 ± 0.89 │ 9.76 ± 0.80  │\n",
      "├────┼──────────────┼──────────────┤\n",
      "│ 4  │ 16.1 ± 1.2   │ 4.90 ± 0.49  │\n",
      "├────┼──────────────┼──────────────┤\n",
      "│ 5  │ 8.49 ± 0.69  │ 4.58 ± 0.46  │\n",
      "├────┼──────────────┼──────────────┤\n",
      "│ 6  │ 13.2 ± 1.1   │ 10.88 ± 0.83 │\n",
      "├────┼──────────────┼──────────────┤\n",
      "│ 7  │ 14.7 ± 1.1   │ 10.60 ± 0.86 │\n",
      "├────┼──────────────┼──────────────┤\n",
      "│ 8  │ 8.45 ± 0.68  │ 7.18 ± 0.61  │\n",
      "├────┼──────────────┼──────────────┤\n",
      "│ 9  │ 12.42 ± 0.97 │ 9.61 ± 0.76  │\n",
      "├────┼──────────────┼──────────────┤\n",
      "│ 10 │ 3.96 ± 0.37  │ 11.02 ± 0.87 │\n",
      "├────┼──────────────┼──────────────┤\n",
      "│ 11 │ 6.51 ± 0.53  │ 10.08 ± 0.79 │\n",
      "├────┼──────────────┼──────────────┤\n",
      "│ 12 │ 4.68 ± 0.41  │ 6.97 ± 0.59  │\n",
      "├────┼──────────────┼──────────────┤\n",
      "│ 13 │ 6.32 ± 0.52  │ 9.84 ± 0.78  │\n",
      "├────┼──────────────┼──────────────┤\n",
      "│ 14 │ 8.88 ± 0.70  │ 7.20 ± 0.60  │\n",
      "├────┼──────────────┼──────────────┤\n",
      "│ 15 │ 7.13 ± 0.58  │ 12.09 ± 0.97 │\n",
      "├────┼──────────────┼──────────────┤\n",
      "│ 16 │ 9.00 ± 0.69  │ 13.1 ± 1.1   │\n",
      "├────┼──────────────┼──────────────┤\n",
      "│ 17 │ 8.25 ± 0.66  │ 11.26 ± 0.89 │\n",
      "├────┼──────────────┼──────────────┤\n",
      "│ 18 │ 15.9 ± 1.2   │ 12.5 ± 1.0   │\n",
      "├────┼──────────────┼──────────────┤\n",
      "│ 19 │ 10.93 ± 0.87 │ 15.2 ± 1.2   │\n",
      "├────┼──────────────┼──────────────┤\n",
      "│ 20 │ 8.41 ± 0.70  │ 21.0 ± 1.7   │\n",
      "├────┼──────────────┼──────────────┤\n",
      "│ 21 │ 9.89 ± 0.80  │ 25.4 ± 2.0   │\n",
      "├────┼──────────────┼──────────────┤\n",
      "│ 22 │ 15.6 ± 1.2   │ 19.5 ± 1.5   │\n",
      "├────┼──────────────┼──────────────┤\n",
      "│ 23 │ 8.90 ± 0.70  │ 41.2 ± 3.0   │\n",
      "├────┼──────────────┼──────────────┤\n",
      "│ 24 │ 16.3 ± 1.3   │ 11.40 ± 0.98 │\n",
      "├────┼──────────────┼──────────────┤\n",
      "│ 25 │ 6.92 ± 0.68  │ 22.7 ± 1.8   │\n",
      "├────┼──────────────┼──────────────┤\n",
      "│ 26 │ 27.5 ± 2.2   │ 50.6 ± 3.9   │\n",
      "├────┼──────────────┼──────────────┤\n",
      "│ 27 │ 27.1 ± 2.0   │ 55.5 ± 4.3   │\n",
      "├────┼──────────────┼──────────────┤\n",
      "│ 28 │ 43.8 ± 3.3   │              │\n",
      "├────┼──────────────┼──────────────┤\n",
      "│ 29 │ 45.0 ± 3.5   │              │\n",
      "└────┴──────────────┴──────────────┘\n",
      "2021-08-12 10:20:28,354 - ompy.error_finder - DEBUG - Processing an ensemble with 10 members\n",
      "2021-08-12 10:20:28,355 - ompy.error_finder - DEBUG - Before removing nan: 45 NLD values and 31 GSF values\n",
      "2021-08-12 10:20:28,356 - ompy.error_finder - WARNING - NLDs and/or γSFs contains nan's. They will be removed\n",
      "2021-08-12 10:20:28,357 - ompy.error_finder - DEBUG - After removing nan: 30 NLD values and 30 GSF values\n",
      "2021-08-12 10:20:28,359 - ompy.error_finder - INFO - Starting pyMC3 inference - logarithmic model\n"
     ]
    },
    {
     "name": "stderr",
     "output_type": "stream",
     "text": [
      "Auto-assigning NUTS sampler...\n",
      "Initializing NUTS using jitter+adapt_diag...\n",
      "Multiprocess sampling (4 chains in 4 jobs)\n",
      "NUTS: [σ_f, σ_ρ, α, F, D, σ_α, σ_F, σ_D]\n"
     ]
    },
    {
     "data": {
      "text/html": [
       "\n",
       "    <div>\n",
       "        <style>\n",
       "            /* Turns off some styling */\n",
       "            progress {\n",
       "                /* gets rid of default border in Firefox and Opera. */\n",
       "                border: none;\n",
       "                /* Needs to be in here for Safari polyfill so background images work as expected. */\n",
       "                background-size: auto;\n",
       "            }\n",
       "            .progress-bar-interrupted, .progress-bar-interrupted::-webkit-progress-bar {\n",
       "                background: #F44336;\n",
       "            }\n",
       "        </style>\n",
       "      <progress value='8000' class='' max='8000' style='width:300px; height:20px; vertical-align: middle;'></progress>\n",
       "      100.00% [8000/8000 01:11<00:00 Sampling 4 chains, 0 divergences]\n",
       "    </div>\n",
       "    "
      ],
      "text/plain": [
       "<IPython.core.display.HTML object>"
      ]
     },
     "metadata": {},
     "output_type": "display_data"
    },
    {
     "name": "stderr",
     "output_type": "stream",
     "text": [
      "Sampling 4 chains for 1_000 tune and 1_000 draw iterations (4_000 + 4_000 draws total) took 81 seconds.\n"
     ]
    },
    {
     "name": "stdout",
     "output_type": "stream",
     "text": [
      "2021-08-12 10:22:02,477 - ompy.error_finder - INFO - Inference results:\n",
      "┌──────────────┬──────────────┬───────────────┬───────────────┬───────────────┬─────────────────┐\n",
      "│ D            │ F            │ α             │ σ_D           │ σ_F           │ σ_α             │\n",
      "╞══════════════╪══════════════╪═══════════════╪═══════════════╪═══════════════╪═════════════════╡\n",
      "│ -0.00 ± 0.28 │ -0.00 ± 0.21 │ 0.000 ± 0.066 │ 0.288 ± 0.023 │ 0.216 ± 0.017 │ 0.0671 ± 0.0052 │\n",
      "└──────────────┴──────────────┴───────────────┴───────────────┴───────────────┴─────────────────┘\n",
      "┌────┬──────────────┬──────────────┐\n",
      "│    │ σ_ρ [%]      │ σ_f [%]      │\n",
      "╞════╪══════════════╪══════════════╡\n",
      "│ 0  │ 10.89 ± 0.93 │ 6.94 ± 0.61  │\n",
      "├────┼──────────────┼──────────────┤\n",
      "│ 1  │ 10.74 ± 0.88 │ 5.37 ± 0.50  │\n",
      "├────┼──────────────┼──────────────┤\n",
      "│ 2  │ 10.79 ± 0.87 │ 8.28 ± 0.68  │\n",
      "├────┼──────────────┼──────────────┤\n",
      "│ 3  │ 11.38 ± 0.94 │ 11.25 ± 0.89 │\n",
      "├────┼──────────────┼──────────────┤\n",
      "│ 4  │ 11.86 ± 0.97 │ 10.91 ± 0.86 │\n",
      "├────┼──────────────┼──────────────┤\n",
      "│ 5  │ 10.77 ± 0.85 │ 5.14 ± 0.46  │\n",
      "├────┼──────────────┼──────────────┤\n",
      "│ 6  │ 12.8 ± 1.0   │ 10.58 ± 0.84 │\n",
      "├────┼──────────────┼──────────────┤\n",
      "│ 7  │ 7.45 ± 0.64  │ 6.96 ± 0.56  │\n",
      "├────┼──────────────┼──────────────┤\n",
      "│ 8  │ 11.98 ± 0.94 │ 6.10 ± 0.51  │\n",
      "├────┼──────────────┼──────────────┤\n",
      "│ 9  │ 10.83 ± 0.86 │ 6.64 ± 0.55  │\n",
      "├────┼──────────────┼──────────────┤\n",
      "│ 10 │ 8.95 ± 0.72  │ 8.04 ± 0.66  │\n",
      "├────┼──────────────┼──────────────┤\n",
      "│ 11 │ 8.12 ± 0.65  │ 6.54 ± 0.54  │\n",
      "├────┼──────────────┼──────────────┤\n",
      "│ 12 │ 8.44 ± 0.68  │ 9.41 ± 0.76  │\n",
      "├────┼──────────────┼──────────────┤\n",
      "│ 13 │ 6.12 ± 0.51  │ 8.61 ± 0.69  │\n",
      "├────┼──────────────┼──────────────┤\n",
      "│ 14 │ 8.22 ± 0.67  │ 5.35 ± 0.48  │\n",
      "├────┼──────────────┼──────────────┤\n",
      "│ 15 │ 10.93 ± 0.85 │ 11.18 ± 0.87 │\n",
      "├────┼──────────────┼──────────────┤\n",
      "│ 16 │ 11.09 ± 0.89 │ 14.2 ± 1.1   │\n",
      "├────┼──────────────┼──────────────┤\n",
      "│ 17 │ 5.20 ± 0.47  │ 14.1 ± 1.1   │\n",
      "├────┼──────────────┼──────────────┤\n",
      "│ 18 │ 9.91 ± 0.77  │ 15.3 ± 1.2   │\n",
      "├────┼──────────────┼──────────────┤\n",
      "│ 19 │ 8.42 ± 0.68  │ 13.2 ± 1.0   │\n",
      "├────┼──────────────┼──────────────┤\n",
      "│ 20 │ 9.19 ± 0.78  │ 14.0 ± 1.1   │\n",
      "├────┼──────────────┼──────────────┤\n",
      "│ 21 │ 12.29 ± 0.96 │ 16.7 ± 1.3   │\n",
      "├────┼──────────────┼──────────────┤\n",
      "│ 22 │ 9.64 ± 0.79  │ 15.1 ± 1.2   │\n",
      "├────┼──────────────┼──────────────┤\n",
      "│ 23 │ 10.71 ± 0.85 │ 28.8 ± 2.3   │\n",
      "├────┼──────────────┼──────────────┤\n",
      "│ 24 │ 10.58 ± 0.88 │ 17.8 ± 1.5   │\n",
      "├────┼──────────────┼──────────────┤\n",
      "│ 25 │ 12.46 ± 0.99 │ 21.6 ± 1.6   │\n",
      "├────┼──────────────┼──────────────┤\n",
      "│ 26 │ 20.4 ± 1.6   │ 49.9 ± 3.8   │\n",
      "├────┼──────────────┼──────────────┤\n",
      "│ 27 │ 18.4 ± 1.4   │ 62.5 ± 4.9   │\n",
      "├────┼──────────────┼──────────────┤\n",
      "│ 28 │ 16.3 ± 1.3   │ 54.9 ± 4.2   │\n",
      "├────┼──────────────┼──────────────┤\n",
      "│ 29 │ 58.4 ± 4.3   │ 66.1 ± 5.0   │\n",
      "└────┴──────────────┴──────────────┘\n",
      "2021-08-12 10:22:02,494 - ompy.error_finder - DEBUG - Processing an ensemble with 10 members\n",
      "2021-08-12 10:22:02,495 - ompy.error_finder - DEBUG - Before removing nan: 45 NLD values and 31 GSF values\n",
      "2021-08-12 10:22:02,497 - ompy.error_finder - WARNING - NLDs and/or γSFs contains nan's. They will be removed\n",
      "2021-08-12 10:22:02,497 - ompy.error_finder - WARNING - Some members of the ensemble have different lengths. Consider re-binning or changing limits.\n",
      "2021-08-12 10:22:02,500 - ompy.error_finder - DEBUG - After removing nan: 30 NLD values and 29 GSF values\n",
      "2021-08-12 10:22:02,502 - ompy.error_finder - INFO - Starting pyMC3 inference - logarithmic model\n"
     ]
    },
    {
     "name": "stderr",
     "output_type": "stream",
     "text": [
      "Auto-assigning NUTS sampler...\n",
      "Initializing NUTS using jitter+adapt_diag...\n",
      "Multiprocess sampling (4 chains in 4 jobs)\n",
      "NUTS: [σ_f, σ_ρ, α, F, D, σ_α, σ_F, σ_D]\n"
     ]
    },
    {
     "data": {
      "text/html": [
       "\n",
       "    <div>\n",
       "        <style>\n",
       "            /* Turns off some styling */\n",
       "            progress {\n",
       "                /* gets rid of default border in Firefox and Opera. */\n",
       "                border: none;\n",
       "                /* Needs to be in here for Safari polyfill so background images work as expected. */\n",
       "                background-size: auto;\n",
       "            }\n",
       "            .progress-bar-interrupted, .progress-bar-interrupted::-webkit-progress-bar {\n",
       "                background: #F44336;\n",
       "            }\n",
       "        </style>\n",
       "      <progress value='8000' class='' max='8000' style='width:300px; height:20px; vertical-align: middle;'></progress>\n",
       "      100.00% [8000/8000 01:14<00:00 Sampling 4 chains, 0 divergences]\n",
       "    </div>\n",
       "    "
      ],
      "text/plain": [
       "<IPython.core.display.HTML object>"
      ]
     },
     "metadata": {},
     "output_type": "display_data"
    },
    {
     "name": "stderr",
     "output_type": "stream",
     "text": [
      "Sampling 4 chains for 1_000 tune and 1_000 draw iterations (4_000 + 4_000 draws total) took 84 seconds.\n"
     ]
    },
    {
     "name": "stdout",
     "output_type": "stream",
     "text": [
      "2021-08-12 10:23:39,646 - ompy.error_finder - INFO - Inference results:\n",
      "┌──────────────┬──────────────┬───────────────┬───────────────┬───────────────┬─────────────────┐\n",
      "│ D            │ F            │ α             │ σ_D           │ σ_F           │ σ_α             │\n",
      "╞══════════════╪══════════════╪═══════════════╪═══════════════╪═══════════════╪═════════════════╡\n",
      "│ -0.00 ± 0.29 │ -0.00 ± 0.21 │ 0.000 ± 0.057 │ 0.297 ± 0.023 │ 0.216 ± 0.017 │ 0.0578 ± 0.0046 │\n",
      "└──────────────┴──────────────┴───────────────┴───────────────┴───────────────┴─────────────────┘\n",
      "┌────┬──────────────┬──────────────┐\n",
      "│    │ σ_ρ [%]      │ σ_f [%]      │\n",
      "╞════╪══════════════╪══════════════╡\n",
      "│ 0  │ 13.7 ± 1.1   │ 15.0 ± 1.1   │\n",
      "├────┼──────────────┼──────────────┤\n",
      "│ 1  │ 5.71 ± 0.58  │ 10.84 ± 0.85 │\n",
      "├────┼──────────────┼──────────────┤\n",
      "│ 2  │ 12.8 ± 1.0   │ 10.36 ± 0.81 │\n",
      "├────┼──────────────┼──────────────┤\n",
      "│ 3  │ 16.9 ± 1.4   │ 9.92 ± 0.78  │\n",
      "├────┼──────────────┼──────────────┤\n",
      "│ 4  │ 9.14 ± 0.77  │ 6.45 ± 0.54  │\n",
      "├────┼──────────────┼──────────────┤\n",
      "│ 5  │ 7.29 ± 0.61  │ 4.78 ± 0.42  │\n",
      "├────┼──────────────┼──────────────┤\n",
      "│ 6  │ 6.12 ± 0.54  │ 7.51 ± 0.61  │\n",
      "├────┼──────────────┼──────────────┤\n",
      "│ 7  │ 9.69 ± 0.79  │ 7.16 ± 0.57  │\n",
      "├────┼──────────────┼──────────────┤\n",
      "│ 8  │ 7.11 ± 0.59  │ 8.24 ± 0.66  │\n",
      "├────┼──────────────┼──────────────┤\n",
      "│ 9  │ 6.48 ± 0.53  │ 2.47 ± 0.30  │\n",
      "├────┼──────────────┼──────────────┤\n",
      "│ 10 │ 5.77 ± 0.45  │ 4.42 ± 0.40  │\n",
      "├────┼──────────────┼──────────────┤\n",
      "│ 11 │ 8.74 ± 0.70  │ 7.79 ± 0.61  │\n",
      "├────┼──────────────┼──────────────┤\n",
      "│ 12 │ 4.02 ± 0.37  │ 10.98 ± 0.85 │\n",
      "├────┼──────────────┼──────────────┤\n",
      "│ 13 │ 3.98 ± 0.38  │ 8.38 ± 0.65  │\n",
      "├────┼──────────────┼──────────────┤\n",
      "│ 14 │ 5.55 ± 0.47  │ 9.24 ± 0.73  │\n",
      "├────┼──────────────┼──────────────┤\n",
      "│ 15 │ 8.45 ± 0.67  │ 7.56 ± 0.62  │\n",
      "├────┼──────────────┼──────────────┤\n",
      "│ 16 │ 10.47 ± 0.81 │ 6.20 ± 0.51  │\n",
      "├────┼──────────────┼──────────────┤\n",
      "│ 17 │ 13.6 ± 1.1   │ 5.99 ± 0.53  │\n",
      "├────┼──────────────┼──────────────┤\n",
      "│ 18 │ 6.83 ± 0.56  │ 11.54 ± 0.91 │\n",
      "├────┼──────────────┼──────────────┤\n",
      "│ 19 │ 17.1 ± 1.3   │ 15.6 ± 1.2   │\n",
      "├────┼──────────────┼──────────────┤\n",
      "│ 20 │ 12.28 ± 0.94 │ 17.3 ± 1.4   │\n",
      "├────┼──────────────┼──────────────┤\n",
      "│ 21 │ 8.87 ± 0.73  │ 17.2 ± 1.4   │\n",
      "├────┼──────────────┼──────────────┤\n",
      "│ 22 │ 8.64 ± 0.72  │ 18.7 ± 1.5   │\n",
      "├────┼──────────────┼──────────────┤\n",
      "│ 23 │ 18.2 ± 1.4   │ 29.0 ± 2.2   │\n",
      "├────┼──────────────┼──────────────┤\n",
      "│ 24 │ 12.03 ± 0.99 │ 15.6 ± 1.3   │\n",
      "├────┼──────────────┼──────────────┤\n",
      "│ 25 │ 9.97 ± 0.85  │ 17.8 ± 1.4   │\n",
      "├────┼──────────────┼──────────────┤\n",
      "│ 26 │ 17.5 ± 1.4   │ 44.9 ± 3.4   │\n",
      "├────┼──────────────┼──────────────┤\n",
      "│ 27 │ 25.6 ± 1.9   │ 71.0 ± 5.4   │\n",
      "├────┼──────────────┼──────────────┤\n",
      "│ 28 │ 22.5 ± 1.7   │ 52.1 ± 4.0   │\n",
      "├────┼──────────────┼──────────────┤\n",
      "│ 29 │ 46.4 ± 3.5   │              │\n",
      "└────┴──────────────┴──────────────┘\n",
      "2021-08-12 10:23:39,664 - ompy.error_finder - DEBUG - Processing an ensemble with 10 members\n",
      "2021-08-12 10:23:39,665 - ompy.error_finder - DEBUG - Before removing nan: 45 NLD values and 31 GSF values\n",
      "2021-08-12 10:23:39,666 - ompy.error_finder - WARNING - NLDs and/or γSFs contains nan's. They will be removed\n",
      "2021-08-12 10:23:39,667 - ompy.error_finder - DEBUG - After removing nan: 30 NLD values and 30 GSF values\n",
      "2021-08-12 10:23:39,668 - ompy.error_finder - INFO - Starting pyMC3 inference - logarithmic model\n"
     ]
    },
    {
     "name": "stderr",
     "output_type": "stream",
     "text": [
      "Auto-assigning NUTS sampler...\n",
      "Initializing NUTS using jitter+adapt_diag...\n",
      "Multiprocess sampling (4 chains in 4 jobs)\n",
      "NUTS: [σ_f, σ_ρ, α, F, D, σ_α, σ_F, σ_D]\n"
     ]
    },
    {
     "data": {
      "text/html": [
       "\n",
       "    <div>\n",
       "        <style>\n",
       "            /* Turns off some styling */\n",
       "            progress {\n",
       "                /* gets rid of default border in Firefox and Opera. */\n",
       "                border: none;\n",
       "                /* Needs to be in here for Safari polyfill so background images work as expected. */\n",
       "                background-size: auto;\n",
       "            }\n",
       "            .progress-bar-interrupted, .progress-bar-interrupted::-webkit-progress-bar {\n",
       "                background: #F44336;\n",
       "            }\n",
       "        </style>\n",
       "      <progress value='8000' class='' max='8000' style='width:300px; height:20px; vertical-align: middle;'></progress>\n",
       "      100.00% [8000/8000 01:22<00:00 Sampling 4 chains, 0 divergences]\n",
       "    </div>\n",
       "    "
      ],
      "text/plain": [
       "<IPython.core.display.HTML object>"
      ]
     },
     "metadata": {},
     "output_type": "display_data"
    },
    {
     "name": "stderr",
     "output_type": "stream",
     "text": [
      "Sampling 4 chains for 1_000 tune and 1_000 draw iterations (4_000 + 4_000 draws total) took 93 seconds.\n"
     ]
    },
    {
     "name": "stdout",
     "output_type": "stream",
     "text": [
      "2021-08-12 10:25:25,352 - ompy.error_finder - INFO - Inference results:\n",
      "┌─────────────┬──────────────┬───────────────┬───────────────┬───────────────┬─────────────────┐\n",
      "│ D           │ F            │ α             │ σ_D           │ σ_F           │ σ_α             │\n",
      "╞═════════════╪══════════════╪═══════════════╪═══════════════╪═══════════════╪═════════════════╡\n",
      "│ 0.00 ± 0.25 │ -0.00 ± 0.23 │ 0.000 ± 0.061 │ 0.258 ± 0.020 │ 0.231 ± 0.018 │ 0.0617 ± 0.0049 │\n",
      "└─────────────┴──────────────┴───────────────┴───────────────┴───────────────┴─────────────────┘\n",
      "┌────┬──────────────┬──────────────┐\n",
      "│    │ σ_ρ [%]      │ σ_f [%]      │\n",
      "╞════╪══════════════╪══════════════╡\n",
      "│ 0  │ 8.81 ± 0.73  │ 5.59 ± 0.50  │\n",
      "├────┼──────────────┼──────────────┤\n",
      "│ 1  │ 9.00 ± 0.73  │ 8.70 ± 0.71  │\n",
      "├────┼──────────────┼──────────────┤\n",
      "│ 2  │ 6.67 ± 0.58  │ 7.57 ± 0.60  │\n",
      "├────┼──────────────┼──────────────┤\n",
      "│ 3  │ 12.36 ± 0.97 │ 5.81 ± 0.49  │\n",
      "├────┼──────────────┼──────────────┤\n",
      "│ 4  │ 8.48 ± 0.68  │ 4.94 ± 0.42  │\n",
      "├────┼──────────────┼──────────────┤\n",
      "│ 5  │ 7.28 ± 0.60  │ 8.18 ± 0.69  │\n",
      "├────┼──────────────┼──────────────┤\n",
      "│ 6  │ 9.92 ± 0.79  │ 5.57 ± 0.44  │\n",
      "├────┼──────────────┼──────────────┤\n",
      "│ 7  │ 11.70 ± 0.92 │ 4.97 ± 0.44  │\n",
      "├────┼──────────────┼──────────────┤\n",
      "│ 8  │ 9.33 ± 0.72  │ 5.85 ± 0.46  │\n",
      "├────┼──────────────┼──────────────┤\n",
      "│ 9  │ 6.06 ± 0.51  │ 4.03 ± 0.35  │\n",
      "├────┼──────────────┼──────────────┤\n",
      "│ 10 │ 3.13 ± 0.31  │ 8.89 ± 0.71  │\n",
      "├────┼──────────────┼──────────────┤\n",
      "│ 11 │ 7.59 ± 0.60  │ 11.54 ± 0.91 │\n",
      "├────┼──────────────┼──────────────┤\n",
      "│ 12 │ 5.97 ± 0.49  │ 6.97 ± 0.55  │\n",
      "├────┼──────────────┼──────────────┤\n",
      "│ 13 │ 8.45 ± 0.67  │ 5.94 ± 0.48  │\n",
      "├────┼──────────────┼──────────────┤\n",
      "│ 14 │ 6.03 ± 0.49  │ 9.60 ± 0.76  │\n",
      "├────┼──────────────┼──────────────┤\n",
      "│ 15 │ 3.59 ± 0.32  │ 9.45 ± 0.73  │\n",
      "├────┼──────────────┼──────────────┤\n",
      "│ 16 │ 6.43 ± 0.52  │ 11.11 ± 0.88 │\n",
      "├────┼──────────────┼──────────────┤\n",
      "│ 17 │ 5.78 ± 0.47  │ 5.69 ± 0.48  │\n",
      "├────┼──────────────┼──────────────┤\n",
      "│ 18 │ 7.46 ± 0.60  │ 4.11 ± 0.41  │\n",
      "├────┼──────────────┼──────────────┤\n",
      "│ 19 │ 10.10 ± 0.81 │ 9.68 ± 0.76  │\n",
      "├────┼──────────────┼──────────────┤\n",
      "│ 20 │ 6.14 ± 0.52  │ 14.6 ± 1.1   │\n",
      "├────┼──────────────┼──────────────┤\n",
      "│ 21 │ 9.45 ± 0.75  │ 21.5 ± 1.6   │\n",
      "├────┼──────────────┼──────────────┤\n",
      "│ 22 │ 9.41 ± 0.75  │ 12.74 ± 0.98 │\n",
      "├────┼──────────────┼──────────────┤\n",
      "│ 23 │ 11.51 ± 0.91 │ 14.0 ± 1.1   │\n",
      "├────┼──────────────┼──────────────┤\n",
      "│ 24 │ 10.63 ± 0.87 │ 20.8 ± 1.6   │\n",
      "├────┼──────────────┼──────────────┤\n",
      "│ 25 │ 10.27 ± 0.86 │ 24.2 ± 1.9   │\n",
      "├────┼──────────────┼──────────────┤\n",
      "│ 26 │ 15.4 ± 1.2   │ 16.5 ± 1.3   │\n",
      "├────┼──────────────┼──────────────┤\n",
      "│ 27 │ 15.1 ± 1.2   │ 26.2 ± 2.0   │\n",
      "├────┼──────────────┼──────────────┤\n",
      "│ 28 │ 15.9 ± 1.2   │ 37.8 ± 3.0   │\n",
      "├────┼──────────────┼──────────────┤\n",
      "│ 29 │ 37.9 ± 2.9   │ 107.4 ± 7.2  │\n",
      "└────┴──────────────┴──────────────┘\n",
      "2021-08-12 10:25:25,371 - ompy.error_finder - DEBUG - Processing an ensemble with 10 members\n",
      "2021-08-12 10:25:25,372 - ompy.error_finder - DEBUG - Before removing nan: 45 NLD values and 31 GSF values\n",
      "2021-08-12 10:25:25,374 - ompy.error_finder - WARNING - NLDs and/or γSFs contains nan's. They will be removed\n",
      "2021-08-12 10:25:25,374 - ompy.error_finder - WARNING - Some members of the ensemble have different lengths. Consider re-binning or changing limits.\n",
      "2021-08-12 10:25:25,377 - ompy.error_finder - DEBUG - After removing nan: 30 NLD values and 29 GSF values\n",
      "2021-08-12 10:25:25,378 - ompy.error_finder - INFO - Starting pyMC3 inference - logarithmic model\n"
     ]
    },
    {
     "name": "stderr",
     "output_type": "stream",
     "text": [
      "Auto-assigning NUTS sampler...\n",
      "Initializing NUTS using jitter+adapt_diag...\n",
      "Multiprocess sampling (4 chains in 4 jobs)\n",
      "NUTS: [σ_f, σ_ρ, α, F, D, σ_α, σ_F, σ_D]\n"
     ]
    },
    {
     "data": {
      "text/html": [
       "\n",
       "    <div>\n",
       "        <style>\n",
       "            /* Turns off some styling */\n",
       "            progress {\n",
       "                /* gets rid of default border in Firefox and Opera. */\n",
       "                border: none;\n",
       "                /* Needs to be in here for Safari polyfill so background images work as expected. */\n",
       "                background-size: auto;\n",
       "            }\n",
       "            .progress-bar-interrupted, .progress-bar-interrupted::-webkit-progress-bar {\n",
       "                background: #F44336;\n",
       "            }\n",
       "        </style>\n",
       "      <progress value='8000' class='' max='8000' style='width:300px; height:20px; vertical-align: middle;'></progress>\n",
       "      100.00% [8000/8000 01:13<00:00 Sampling 4 chains, 0 divergences]\n",
       "    </div>\n",
       "    "
      ],
      "text/plain": [
       "<IPython.core.display.HTML object>"
      ]
     },
     "metadata": {},
     "output_type": "display_data"
    },
    {
     "name": "stderr",
     "output_type": "stream",
     "text": [
      "Sampling 4 chains for 1_000 tune and 1_000 draw iterations (4_000 + 4_000 draws total) took 84 seconds.\n"
     ]
    },
    {
     "name": "stdout",
     "output_type": "stream",
     "text": [
      "2021-08-12 10:27:03,190 - ompy.error_finder - INFO - Inference results:\n",
      "┌──────────────┬──────────────┬───────────────┬───────────────┬───────────────┬─────────────────┐\n",
      "│ D            │ F            │ α             │ σ_D           │ σ_F           │ σ_α             │\n",
      "╞══════════════╪══════════════╪═══════════════╪═══════════════╪═══════════════╪═════════════════╡\n",
      "│ -0.00 ± 0.25 │ -0.00 ± 0.23 │ 0.000 ± 0.050 │ 0.251 ± 0.019 │ 0.233 ± 0.018 │ 0.0502 ± 0.0039 │\n",
      "└──────────────┴──────────────┴───────────────┴───────────────┴───────────────┴─────────────────┘\n",
      "┌────┬──────────────┬──────────────┐\n",
      "│    │ σ_ρ [%]      │ σ_f [%]      │\n",
      "╞════╪══════════════╪══════════════╡\n",
      "│ 0  │ 7.74 ± 0.65  │ 5.80 ± 0.52  │\n",
      "├────┼──────────────┼──────────────┤\n",
      "│ 1  │ 7.71 ± 0.64  │ 5.16 ± 0.48  │\n",
      "├────┼──────────────┼──────────────┤\n",
      "│ 2  │ 6.03 ± 0.51  │ 7.43 ± 0.60  │\n",
      "├────┼──────────────┼──────────────┤\n",
      "│ 3  │ 7.55 ± 0.63  │ 8.40 ± 0.68  │\n",
      "├────┼──────────────┼──────────────┤\n",
      "│ 4  │ 8.26 ± 0.68  │ 7.28 ± 0.59  │\n",
      "├────┼──────────────┼──────────────┤\n",
      "│ 5  │ 9.02 ± 0.73  │ 5.78 ± 0.51  │\n",
      "├────┼──────────────┼──────────────┤\n",
      "│ 6  │ 5.43 ± 0.46  │ 5.69 ± 0.48  │\n",
      "├────┼──────────────┼──────────────┤\n",
      "│ 7  │ 12.64 ± 0.98 │ 5.43 ± 0.46  │\n",
      "├────┼──────────────┼──────────────┤\n",
      "│ 8  │ 7.77 ± 0.62  │ 6.89 ± 0.56  │\n",
      "├────┼──────────────┼──────────────┤\n",
      "│ 9  │ 5.22 ± 0.42  │ 8.54 ± 0.70  │\n",
      "├────┼──────────────┼──────────────┤\n",
      "│ 10 │ 5.20 ± 0.43  │ 10.04 ± 0.77 │\n",
      "├────┼──────────────┼──────────────┤\n",
      "│ 11 │ 5.88 ± 0.48  │ 5.97 ± 0.50  │\n",
      "├────┼──────────────┼──────────────┤\n",
      "│ 12 │ 5.42 ± 0.44  │ 7.41 ± 0.58  │\n",
      "├────┼──────────────┼──────────────┤\n",
      "│ 13 │ 8.37 ± 0.63  │ 8.78 ± 0.72  │\n",
      "├────┼──────────────┼──────────────┤\n",
      "│ 14 │ 6.30 ± 0.51  │ 11.10 ± 0.86 │\n",
      "├────┼──────────────┼──────────────┤\n",
      "│ 15 │ 5.65 ± 0.45  │ 8.09 ± 0.66  │\n",
      "├────┼──────────────┼──────────────┤\n",
      "│ 16 │ 6.69 ± 0.54  │ 6.47 ± 0.55  │\n",
      "├────┼──────────────┼──────────────┤\n",
      "│ 17 │ 4.46 ± 0.40  │ 7.41 ± 0.61  │\n",
      "├────┼──────────────┼──────────────┤\n",
      "│ 18 │ 7.88 ± 0.62  │ 9.96 ± 0.82  │\n",
      "├────┼──────────────┼──────────────┤\n",
      "│ 19 │ 11.97 ± 0.91 │ 14.8 ± 1.1   │\n",
      "├────┼──────────────┼──────────────┤\n",
      "│ 20 │ 5.03 ± 0.46  │ 11.17 ± 0.89 │\n",
      "├────┼──────────────┼──────────────┤\n",
      "│ 21 │ 4.08 ± 0.42  │ 12.8 ± 1.1   │\n",
      "├────┼──────────────┼──────────────┤\n",
      "│ 22 │ 9.43 ± 0.76  │ 12.09 ± 0.97 │\n",
      "├────┼──────────────┼──────────────┤\n",
      "│ 23 │ 13.7 ± 1.1   │ 19.3 ± 1.5   │\n",
      "├────┼──────────────┼──────────────┤\n",
      "│ 24 │ 13.0 ± 1.0   │ 20.2 ± 1.6   │\n",
      "├────┼──────────────┼──────────────┤\n",
      "│ 25 │ 14.3 ± 1.2   │ 20.5 ± 1.6   │\n",
      "├────┼──────────────┼──────────────┤\n",
      "│ 26 │ 14.7 ± 1.1   │ 20.1 ± 1.6   │\n",
      "├────┼──────────────┼──────────────┤\n",
      "│ 27 │ 11.37 ± 0.92 │ 30.7 ± 2.3   │\n",
      "├────┼──────────────┼──────────────┤\n",
      "│ 28 │ 29.5 ± 2.3   │ 61.1 ± 4.8   │\n",
      "├────┼──────────────┼──────────────┤\n",
      "│ 29 │ 24.4 ± 1.9   │              │\n",
      "└────┴──────────────┴──────────────┘\n",
      "2021-08-12 10:27:03,209 - ompy.error_finder - DEBUG - Processing an ensemble with 10 members\n",
      "2021-08-12 10:27:03,211 - ompy.error_finder - DEBUG - Before removing nan: 45 NLD values and 31 GSF values\n",
      "2021-08-12 10:27:03,213 - ompy.error_finder - WARNING - NLDs and/or γSFs contains nan's. They will be removed\n",
      "2021-08-12 10:27:03,214 - ompy.error_finder - DEBUG - After removing nan: 30 NLD values and 30 GSF values\n",
      "2021-08-12 10:27:03,217 - ompy.error_finder - INFO - Starting pyMC3 inference - logarithmic model\n"
     ]
    },
    {
     "name": "stderr",
     "output_type": "stream",
     "text": [
      "Auto-assigning NUTS sampler...\n",
      "Initializing NUTS using jitter+adapt_diag...\n",
      "Multiprocess sampling (4 chains in 4 jobs)\n",
      "NUTS: [σ_f, σ_ρ, α, F, D, σ_α, σ_F, σ_D]\n"
     ]
    },
    {
     "data": {
      "text/html": [
       "\n",
       "    <div>\n",
       "        <style>\n",
       "            /* Turns off some styling */\n",
       "            progress {\n",
       "                /* gets rid of default border in Firefox and Opera. */\n",
       "                border: none;\n",
       "                /* Needs to be in here for Safari polyfill so background images work as expected. */\n",
       "                background-size: auto;\n",
       "            }\n",
       "            .progress-bar-interrupted, .progress-bar-interrupted::-webkit-progress-bar {\n",
       "                background: #F44336;\n",
       "            }\n",
       "        </style>\n",
       "      <progress value='8000' class='' max='8000' style='width:300px; height:20px; vertical-align: middle;'></progress>\n",
       "      100.00% [8000/8000 01:16<00:00 Sampling 4 chains, 0 divergences]\n",
       "    </div>\n",
       "    "
      ],
      "text/plain": [
       "<IPython.core.display.HTML object>"
      ]
     },
     "metadata": {},
     "output_type": "display_data"
    },
    {
     "name": "stderr",
     "output_type": "stream",
     "text": [
      "Sampling 4 chains for 1_000 tune and 1_000 draw iterations (4_000 + 4_000 draws total) took 88 seconds.\n"
     ]
    },
    {
     "name": "stdout",
     "output_type": "stream",
     "text": [
      "2021-08-12 10:28:44,238 - ompy.error_finder - INFO - Inference results:\n",
      "┌──────────────┬─────────────┬────────────────┬───────────────┬───────────────┬─────────────────┐\n",
      "│ D            │ F           │ α              │ σ_D           │ σ_F           │ σ_α             │\n",
      "╞══════════════╪═════════════╪════════════════╪═══════════════╪═══════════════╪═════════════════╡\n",
      "│ -0.00 ± 0.27 │ 0.00 ± 0.26 │ -0.000 ± 0.060 │ 0.273 ± 0.021 │ 0.266 ± 0.020 │ 0.0611 ± 0.0047 │\n",
      "└──────────────┴─────────────┴────────────────┴───────────────┴───────────────┴─────────────────┘\n",
      "┌────┬──────────────┬──────────────┐\n",
      "│    │ σ_ρ [%]      │ σ_f [%]      │\n",
      "╞════╪══════════════╪══════════════╡\n",
      "│ 0  │ 7.03 ± 0.57  │ 5.15 ± 0.44  │\n",
      "├────┼──────────────┼──────────────┤\n",
      "│ 1  │ 6.36 ± 0.53  │ 5.85 ± 0.49  │\n",
      "├────┼──────────────┼──────────────┤\n",
      "│ 2  │ 4.85 ± 0.43  │ 8.68 ± 0.68  │\n",
      "├────┼──────────────┼──────────────┤\n",
      "│ 3  │ 4.81 ± 0.42  │ 5.02 ± 0.42  │\n",
      "├────┼──────────────┼──────────────┤\n",
      "│ 4  │ 6.86 ± 0.55  │ 5.09 ± 0.42  │\n",
      "├────┼──────────────┼──────────────┤\n",
      "│ 5  │ 5.03 ± 0.41  │ 4.17 ± 0.37  │\n",
      "├────┼──────────────┼──────────────┤\n",
      "│ 6  │ 5.72 ± 0.47  │ 4.46 ± 0.37  │\n",
      "├────┼──────────────┼──────────────┤\n",
      "│ 7  │ 6.18 ± 0.49  │ 4.66 ± 0.39  │\n",
      "├────┼──────────────┼──────────────┤\n",
      "│ 8  │ 5.90 ± 0.49  │ 5.40 ± 0.44  │\n",
      "├────┼──────────────┼──────────────┤\n",
      "│ 9  │ 5.94 ± 0.47  │ 5.95 ± 0.48  │\n",
      "├────┼──────────────┼──────────────┤\n",
      "│ 10 │ 3.08 ± 0.28  │ 4.41 ± 0.37  │\n",
      "├────┼──────────────┼──────────────┤\n",
      "│ 11 │ 3.76 ± 0.32  │ 7.15 ± 0.56  │\n",
      "├────┼──────────────┼──────────────┤\n",
      "│ 12 │ 6.78 ± 0.54  │ 5.51 ± 0.45  │\n",
      "├────┼──────────────┼──────────────┤\n",
      "│ 13 │ 4.80 ± 0.39  │ 7.55 ± 0.61  │\n",
      "├────┼──────────────┼──────────────┤\n",
      "│ 14 │ 6.66 ± 0.52  │ 5.37 ± 0.44  │\n",
      "├────┼──────────────┼──────────────┤\n",
      "│ 15 │ 5.38 ± 0.43  │ 8.77 ± 0.69  │\n",
      "├────┼──────────────┼──────────────┤\n",
      "│ 16 │ 6.71 ± 0.52  │ 8.42 ± 0.66  │\n",
      "├────┼──────────────┼──────────────┤\n",
      "│ 17 │ 5.38 ± 0.45  │ 6.16 ± 0.51  │\n",
      "├────┼──────────────┼──────────────┤\n",
      "│ 18 │ 6.20 ± 0.50  │ 7.66 ± 0.63  │\n",
      "├────┼──────────────┼──────────────┤\n",
      "│ 19 │ 7.71 ± 0.61  │ 11.61 ± 0.93 │\n",
      "├────┼──────────────┼──────────────┤\n",
      "│ 20 │ 5.06 ± 0.43  │ 6.47 ± 0.53  │\n",
      "├────┼──────────────┼──────────────┤\n",
      "│ 21 │ 4.66 ± 0.42  │ 10.73 ± 0.84 │\n",
      "├────┼──────────────┼──────────────┤\n",
      "│ 22 │ 7.49 ± 0.59  │ 12.72 ± 1.00 │\n",
      "├────┼──────────────┼──────────────┤\n",
      "│ 23 │ 10.23 ± 0.84 │ 21.5 ± 1.6   │\n",
      "├────┼──────────────┼──────────────┤\n",
      "│ 24 │ 12.8 ± 1.0   │ 15.1 ± 1.1   │\n",
      "├────┼──────────────┼──────────────┤\n",
      "│ 25 │ 9.91 ± 0.78  │ 21.5 ± 1.7   │\n",
      "├────┼──────────────┼──────────────┤\n",
      "│ 26 │ 10.05 ± 0.79 │ 11.83 ± 0.95 │\n",
      "├────┼──────────────┼──────────────┤\n",
      "│ 27 │ 9.32 ± 0.74  │ 27.7 ± 2.1   │\n",
      "├────┼──────────────┼──────────────┤\n",
      "│ 28 │ 15.9 ± 1.2   │ 23.2 ± 1.8   │\n",
      "├────┼──────────────┼──────────────┤\n",
      "│ 29 │ 24.6 ± 1.9   │ 39.1 ± 2.9   │\n",
      "└────┴──────────────┴──────────────┘\n",
      "2021-08-12 10:28:44,255 - ompy.error_finder - DEBUG - Processing an ensemble with 10 members\n",
      "2021-08-12 10:28:44,256 - ompy.error_finder - DEBUG - Before removing nan: 45 NLD values and 31 GSF values\n",
      "2021-08-12 10:28:44,257 - ompy.error_finder - WARNING - NLDs and/or γSFs contains nan's. They will be removed\n",
      "2021-08-12 10:28:44,258 - ompy.error_finder - DEBUG - After removing nan: 30 NLD values and 30 GSF values\n",
      "2021-08-12 10:28:44,259 - ompy.error_finder - INFO - Starting pyMC3 inference - logarithmic model\n"
     ]
    },
    {
     "name": "stderr",
     "output_type": "stream",
     "text": [
      "Auto-assigning NUTS sampler...\n",
      "Initializing NUTS using jitter+adapt_diag...\n",
      "Multiprocess sampling (4 chains in 4 jobs)\n",
      "NUTS: [σ_f, σ_ρ, α, F, D, σ_α, σ_F, σ_D]\n"
     ]
    },
    {
     "data": {
      "text/html": [
       "\n",
       "    <div>\n",
       "        <style>\n",
       "            /* Turns off some styling */\n",
       "            progress {\n",
       "                /* gets rid of default border in Firefox and Opera. */\n",
       "                border: none;\n",
       "                /* Needs to be in here for Safari polyfill so background images work as expected. */\n",
       "                background-size: auto;\n",
       "            }\n",
       "            .progress-bar-interrupted, .progress-bar-interrupted::-webkit-progress-bar {\n",
       "                background: #F44336;\n",
       "            }\n",
       "        </style>\n",
       "      <progress value='8000' class='' max='8000' style='width:300px; height:20px; vertical-align: middle;'></progress>\n",
       "      100.00% [8000/8000 01:12<00:00 Sampling 4 chains, 0 divergences]\n",
       "    </div>\n",
       "    "
      ],
      "text/plain": [
       "<IPython.core.display.HTML object>"
      ]
     },
     "metadata": {},
     "output_type": "display_data"
    },
    {
     "name": "stderr",
     "output_type": "stream",
     "text": [
      "Sampling 4 chains for 1_000 tune and 1_000 draw iterations (4_000 + 4_000 draws total) took 83 seconds.\n"
     ]
    },
    {
     "name": "stdout",
     "output_type": "stream",
     "text": [
      "2021-08-12 10:30:19,612 - ompy.error_finder - INFO - Inference results:\n",
      "┌─────────────┬─────────────┬────────────────┬───────────────┬───────────────┬─────────────────┐\n",
      "│ D           │ F           │ α              │ σ_D           │ σ_F           │ σ_α             │\n",
      "╞═════════════╪═════════════╪════════════════╪═══════════════╪═══════════════╪═════════════════╡\n",
      "│ 0.00 ± 0.28 │ 0.00 ± 0.25 │ -0.000 ± 0.070 │ 0.287 ± 0.022 │ 0.256 ± 0.020 │ 0.0709 ± 0.0054 │\n",
      "└─────────────┴─────────────┴────────────────┴───────────────┴───────────────┴─────────────────┘\n",
      "┌────┬──────────────┬──────────────┐\n",
      "│    │ σ_ρ [%]      │ σ_f [%]      │\n",
      "╞════╪══════════════╪══════════════╡\n",
      "│ 0  │ 3.92 ± 0.38  │ 6.39 ± 0.50  │\n",
      "├────┼──────────────┼──────────────┤\n",
      "│ 1  │ 5.01 ± 0.43  │ 9.85 ± 0.75  │\n",
      "├────┼──────────────┼──────────────┤\n",
      "│ 2  │ 6.02 ± 0.49  │ 4.82 ± 0.41  │\n",
      "├────┼──────────────┼──────────────┤\n",
      "│ 3  │ 14.4 ± 1.1   │ 5.66 ± 0.46  │\n",
      "├────┼──────────────┼──────────────┤\n",
      "│ 4  │ 7.86 ± 0.63  │ 3.61 ± 0.31  │\n",
      "├────┼──────────────┼──────────────┤\n",
      "│ 5  │ 5.53 ± 0.43  │ 2.93 ± 0.25  │\n",
      "├────┼──────────────┼──────────────┤\n",
      "│ 6  │ 6.85 ± 0.55  │ 5.49 ± 0.44  │\n",
      "├────┼──────────────┼──────────────┤\n",
      "│ 7  │ 7.72 ± 0.61  │ 2.18 ± 0.21  │\n",
      "├────┼──────────────┼──────────────┤\n",
      "│ 8  │ 10.03 ± 0.76 │ 1.99 ± 0.19  │\n",
      "├────┼──────────────┼──────────────┤\n",
      "│ 9  │ 5.47 ± 0.44  │ 3.02 ± 0.25  │\n",
      "├────┼──────────────┼──────────────┤\n",
      "│ 10 │ 3.54 ± 0.30  │ 6.09 ± 0.48  │\n",
      "├────┼──────────────┼──────────────┤\n",
      "│ 11 │ 4.13 ± 0.34  │ 3.43 ± 0.28  │\n",
      "├────┼──────────────┼──────────────┤\n",
      "│ 12 │ 4.08 ± 0.34  │ 4.61 ± 0.38  │\n",
      "├────┼──────────────┼──────────────┤\n",
      "│ 13 │ 4.23 ± 0.34  │ 4.93 ± 0.39  │\n",
      "├────┼──────────────┼──────────────┤\n",
      "│ 14 │ 3.22 ± 0.27  │ 5.77 ± 0.46  │\n",
      "├────┼──────────────┼──────────────┤\n",
      "│ 15 │ 3.68 ± 0.30  │ 6.53 ± 0.52  │\n",
      "├────┼──────────────┼──────────────┤\n",
      "│ 16 │ 4.40 ± 0.36  │ 6.57 ± 0.52  │\n",
      "├────┼──────────────┼──────────────┤\n",
      "│ 17 │ 4.99 ± 0.39  │ 6.79 ± 0.53  │\n",
      "├────┼──────────────┼──────────────┤\n",
      "│ 18 │ 3.43 ± 0.30  │ 5.68 ± 0.46  │\n",
      "├────┼──────────────┼──────────────┤\n",
      "│ 19 │ 6.10 ± 0.47  │ 7.53 ± 0.60  │\n",
      "├────┼──────────────┼──────────────┤\n",
      "│ 20 │ 4.91 ± 0.40  │ 8.97 ± 0.69  │\n",
      "├────┼──────────────┼──────────────┤\n",
      "│ 21 │ 5.45 ± 0.45  │ 11.10 ± 0.87 │\n",
      "├────┼──────────────┼──────────────┤\n",
      "│ 22 │ 6.74 ± 0.56  │ 9.76 ± 0.77  │\n",
      "├────┼──────────────┼──────────────┤\n",
      "│ 23 │ 12.57 ± 0.97 │ 6.78 ± 0.56  │\n",
      "├────┼──────────────┼──────────────┤\n",
      "│ 24 │ 5.65 ± 0.48  │ 12.15 ± 0.93 │\n",
      "├────┼──────────────┼──────────────┤\n",
      "│ 25 │ 8.14 ± 0.64  │ 14.1 ± 1.1   │\n",
      "├────┼──────────────┼──────────────┤\n",
      "│ 26 │ 9.20 ± 0.74  │ 13.0 ± 1.0   │\n",
      "├────┼──────────────┼──────────────┤\n",
      "│ 27 │ 13.2 ± 1.0   │ 13.6 ± 1.1   │\n",
      "├────┼──────────────┼──────────────┤\n",
      "│ 28 │ 14.6 ± 1.1   │ 26.9 ± 2.0   │\n",
      "├────┼──────────────┼──────────────┤\n",
      "│ 29 │ 19.4 ± 1.5   │ 59.4 ± 4.5   │\n",
      "└────┴──────────────┴──────────────┘\n",
      "2021-08-12 10:30:19,635 - ompy.error_finder - DEBUG - Processing an ensemble with 10 members\n",
      "2021-08-12 10:30:19,636 - ompy.error_finder - DEBUG - Before removing nan: 45 NLD values and 31 GSF values\n",
      "2021-08-12 10:30:19,639 - ompy.error_finder - WARNING - NLDs and/or γSFs contains nan's. They will be removed\n",
      "2021-08-12 10:30:19,640 - ompy.error_finder - DEBUG - After removing nan: 30 NLD values and 30 GSF values\n",
      "2021-08-12 10:30:19,643 - ompy.error_finder - INFO - Starting pyMC3 inference - logarithmic model\n"
     ]
    },
    {
     "name": "stderr",
     "output_type": "stream",
     "text": [
      "Auto-assigning NUTS sampler...\n",
      "Initializing NUTS using jitter+adapt_diag...\n",
      "Multiprocess sampling (4 chains in 4 jobs)\n",
      "NUTS: [σ_f, σ_ρ, α, F, D, σ_α, σ_F, σ_D]\n"
     ]
    },
    {
     "data": {
      "text/html": [
       "\n",
       "    <div>\n",
       "        <style>\n",
       "            /* Turns off some styling */\n",
       "            progress {\n",
       "                /* gets rid of default border in Firefox and Opera. */\n",
       "                border: none;\n",
       "                /* Needs to be in here for Safari polyfill so background images work as expected. */\n",
       "                background-size: auto;\n",
       "            }\n",
       "            .progress-bar-interrupted, .progress-bar-interrupted::-webkit-progress-bar {\n",
       "                background: #F44336;\n",
       "            }\n",
       "        </style>\n",
       "      <progress value='8000' class='' max='8000' style='width:300px; height:20px; vertical-align: middle;'></progress>\n",
       "      100.00% [8000/8000 01:11<00:00 Sampling 4 chains, 0 divergences]\n",
       "    </div>\n",
       "    "
      ],
      "text/plain": [
       "<IPython.core.display.HTML object>"
      ]
     },
     "metadata": {},
     "output_type": "display_data"
    },
    {
     "name": "stderr",
     "output_type": "stream",
     "text": [
      "Sampling 4 chains for 1_000 tune and 1_000 draw iterations (4_000 + 4_000 draws total) took 80 seconds.\n"
     ]
    },
    {
     "name": "stdout",
     "output_type": "stream",
     "text": [
      "2021-08-12 10:31:52,349 - ompy.error_finder - INFO - Inference results:\n",
      "┌─────────────┬─────────────┬────────────────┬───────────────┬───────────────┬─────────────────┐\n",
      "│ D           │ F           │ α              │ σ_D           │ σ_F           │ σ_α             │\n",
      "╞═════════════╪═════════════╪════════════════╪═══════════════╪═══════════════╪═════════════════╡\n",
      "│ 0.00 ± 0.27 │ 0.00 ± 0.27 │ -0.000 ± 0.068 │ 0.270 ± 0.021 │ 0.272 ± 0.021 │ 0.0687 ± 0.0054 │\n",
      "└─────────────┴─────────────┴────────────────┴───────────────┴───────────────┴─────────────────┘\n",
      "┌────┬──────────────┬──────────────┐\n",
      "│    │ σ_ρ [%]      │ σ_f [%]      │\n",
      "╞════╪══════════════╪══════════════╡\n",
      "│ 0  │ 3.33 ± 0.33  │ 4.17 ± 0.36  │\n",
      "├────┼──────────────┼──────────────┤\n",
      "│ 1  │ 4.48 ± 0.37  │ 4.63 ± 0.37  │\n",
      "├────┼──────────────┼──────────────┤\n",
      "│ 2  │ 4.78 ± 0.39  │ 7.46 ± 0.60  │\n",
      "├────┼──────────────┼──────────────┤\n",
      "│ 3  │ 6.06 ± 0.49  │ 6.49 ± 0.52  │\n",
      "├────┼──────────────┼──────────────┤\n",
      "│ 4  │ 6.26 ± 0.48  │ 3.75 ± 0.31  │\n",
      "├────┼──────────────┼──────────────┤\n",
      "│ 5  │ 4.15 ± 0.34  │ 2.19 ± 0.22  │\n",
      "├────┼──────────────┼──────────────┤\n",
      "│ 6  │ 5.05 ± 0.40  │ 2.88 ± 0.25  │\n",
      "├────┼──────────────┼──────────────┤\n",
      "│ 7  │ 3.45 ± 0.29  │ 2.94 ± 0.25  │\n",
      "├────┼──────────────┼──────────────┤\n",
      "│ 8  │ 5.09 ± 0.40  │ 4.48 ± 0.35  │\n",
      "├────┼──────────────┼──────────────┤\n",
      "│ 9  │ 6.23 ± 0.50  │ 4.35 ± 0.36  │\n",
      "├────┼──────────────┼──────────────┤\n",
      "│ 10 │ 2.53 ± 0.23  │ 5.59 ± 0.43  │\n",
      "├────┼──────────────┼──────────────┤\n",
      "│ 11 │ 2.43 ± 0.22  │ 6.86 ± 0.55  │\n",
      "├────┼──────────────┼──────────────┤\n",
      "│ 12 │ 3.69 ± 0.30  │ 5.46 ± 0.43  │\n",
      "├────┼──────────────┼──────────────┤\n",
      "│ 13 │ 3.68 ± 0.31  │ 2.70 ± 0.24  │\n",
      "├────┼──────────────┼──────────────┤\n",
      "│ 14 │ 5.96 ± 0.47  │ 3.00 ± 0.27  │\n",
      "├────┼──────────────┼──────────────┤\n",
      "│ 15 │ 5.46 ± 0.43  │ 5.17 ± 0.41  │\n",
      "├────┼──────────────┼──────────────┤\n",
      "│ 16 │ 6.62 ± 0.52  │ 4.24 ± 0.34  │\n",
      "├────┼──────────────┼──────────────┤\n",
      "│ 17 │ 5.32 ± 0.43  │ 5.54 ± 0.46  │\n",
      "├────┼──────────────┼──────────────┤\n",
      "│ 18 │ 4.28 ± 0.36  │ 8.53 ± 0.66  │\n",
      "├────┼──────────────┼──────────────┤\n",
      "│ 19 │ 5.97 ± 0.48  │ 7.53 ± 0.58  │\n",
      "├────┼──────────────┼──────────────┤\n",
      "│ 20 │ 7.17 ± 0.56  │ 8.87 ± 0.69  │\n",
      "├────┼──────────────┼──────────────┤\n",
      "│ 21 │ 5.17 ± 0.42  │ 12.02 ± 0.92 │\n",
      "├────┼──────────────┼──────────────┤\n",
      "│ 22 │ 6.53 ± 0.53  │ 9.95 ± 0.77  │\n",
      "├────┼──────────────┼──────────────┤\n",
      "│ 23 │ 6.01 ± 0.50  │ 10.43 ± 0.81 │\n",
      "├────┼──────────────┼──────────────┤\n",
      "│ 24 │ 7.28 ± 0.59  │ 11.55 ± 0.91 │\n",
      "├────┼──────────────┼──────────────┤\n",
      "│ 25 │ 11.97 ± 0.95 │ 9.76 ± 0.78  │\n",
      "├────┼──────────────┼──────────────┤\n",
      "│ 26 │ 11.42 ± 0.90 │ 9.85 ± 0.78  │\n",
      "├────┼──────────────┼──────────────┤\n",
      "│ 27 │ 13.0 ± 1.0   │ 16.1 ± 1.2   │\n",
      "├────┼──────────────┼──────────────┤\n",
      "│ 28 │ 15.5 ± 1.2   │ 16.2 ± 1.3   │\n",
      "├────┼──────────────┼──────────────┤\n",
      "│ 29 │ 28.1 ± 2.1   │ 45.6 ± 3.5   │\n",
      "└────┴──────────────┴──────────────┘\n",
      "2021-08-12 10:31:52,363 - ompy.error_finder - DEBUG - Processing an ensemble with 10 members\n",
      "2021-08-12 10:31:52,364 - ompy.error_finder - DEBUG - Before removing nan: 45 NLD values and 31 GSF values\n",
      "2021-08-12 10:31:52,366 - ompy.error_finder - WARNING - NLDs and/or γSFs contains nan's. They will be removed\n",
      "2021-08-12 10:31:52,366 - ompy.error_finder - DEBUG - After removing nan: 30 NLD values and 30 GSF values\n",
      "2021-08-12 10:31:52,368 - ompy.error_finder - INFO - Starting pyMC3 inference - logarithmic model\n"
     ]
    },
    {
     "name": "stderr",
     "output_type": "stream",
     "text": [
      "Auto-assigning NUTS sampler...\n",
      "Initializing NUTS using jitter+adapt_diag...\n",
      "Multiprocess sampling (4 chains in 4 jobs)\n",
      "NUTS: [σ_f, σ_ρ, α, F, D, σ_α, σ_F, σ_D]\n"
     ]
    },
    {
     "data": {
      "text/html": [
       "\n",
       "    <div>\n",
       "        <style>\n",
       "            /* Turns off some styling */\n",
       "            progress {\n",
       "                /* gets rid of default border in Firefox and Opera. */\n",
       "                border: none;\n",
       "                /* Needs to be in here for Safari polyfill so background images work as expected. */\n",
       "                background-size: auto;\n",
       "            }\n",
       "            .progress-bar-interrupted, .progress-bar-interrupted::-webkit-progress-bar {\n",
       "                background: #F44336;\n",
       "            }\n",
       "        </style>\n",
       "      <progress value='8000' class='' max='8000' style='width:300px; height:20px; vertical-align: middle;'></progress>\n",
       "      100.00% [8000/8000 01:20<00:00 Sampling 4 chains, 0 divergences]\n",
       "    </div>\n",
       "    "
      ],
      "text/plain": [
       "<IPython.core.display.HTML object>"
      ]
     },
     "metadata": {},
     "output_type": "display_data"
    },
    {
     "name": "stderr",
     "output_type": "stream",
     "text": [
      "Sampling 4 chains for 1_000 tune and 1_000 draw iterations (4_000 + 4_000 draws total) took 91 seconds.\n"
     ]
    },
    {
     "name": "stdout",
     "output_type": "stream",
     "text": [
      "2021-08-12 10:33:36,028 - ompy.error_finder - INFO - Inference results:\n",
      "┌──────────────┬─────────────┬────────────────┬───────────────┬───────────────┬─────────────────┐\n",
      "│ D            │ F           │ α              │ σ_D           │ σ_F           │ σ_α             │\n",
      "╞══════════════╪═════════════╪════════════════╪═══════════════╪═══════════════╪═════════════════╡\n",
      "│ -0.00 ± 0.26 │ 0.00 ± 0.27 │ -0.000 ± 0.065 │ 0.267 ± 0.020 │ 0.277 ± 0.021 │ 0.0655 ± 0.0048 │\n",
      "└──────────────┴─────────────┴────────────────┴───────────────┴───────────────┴─────────────────┘\n",
      "┌────┬──────────────┬──────────────┐\n",
      "│    │ σ_ρ [%]      │ σ_f [%]      │\n",
      "╞════╪══════════════╪══════════════╡\n",
      "│ 0  │ 2.91 ± 0.29  │ 4.62 ± 0.38  │\n",
      "├────┼──────────────┼──────────────┤\n",
      "│ 1  │ 2.96 ± 0.28  │ 5.65 ± 0.46  │\n",
      "├────┼──────────────┼──────────────┤\n",
      "│ 2  │ 6.34 ± 0.49  │ 5.15 ± 0.43  │\n",
      "├────┼──────────────┼──────────────┤\n",
      "│ 3  │ 6.48 ± 0.51  │ 7.13 ± 0.56  │\n",
      "├────┼──────────────┼──────────────┤\n",
      "│ 4  │ 5.02 ± 0.41  │ 2.92 ± 0.26  │\n",
      "├────┼──────────────┼──────────────┤\n",
      "│ 5  │ 6.16 ± 0.48  │ 3.43 ± 0.28  │\n",
      "├────┼──────────────┼──────────────┤\n",
      "│ 6  │ 2.50 ± 0.24  │ 5.28 ± 0.42  │\n",
      "├────┼──────────────┼──────────────┤\n",
      "│ 7  │ 5.92 ± 0.46  │ 3.40 ± 0.28  │\n",
      "├────┼──────────────┼──────────────┤\n",
      "│ 8  │ 3.90 ± 0.32  │ 2.65 ± 0.23  │\n",
      "├────┼──────────────┼──────────────┤\n",
      "│ 9  │ 3.83 ± 0.31  │ 3.11 ± 0.26  │\n",
      "├────┼──────────────┼──────────────┤\n",
      "│ 10 │ 3.20 ± 0.27  │ 2.94 ± 0.26  │\n",
      "├────┼──────────────┼──────────────┤\n",
      "│ 11 │ 3.57 ± 0.29  │ 4.68 ± 0.36  │\n",
      "├────┼──────────────┼──────────────┤\n",
      "│ 12 │ 3.79 ± 0.31  │ 3.85 ± 0.31  │\n",
      "├────┼──────────────┼──────────────┤\n",
      "│ 13 │ 2.20 ± 0.21  │ 4.81 ± 0.38  │\n",
      "├────┼──────────────┼──────────────┤\n",
      "│ 14 │ 4.83 ± 0.38  │ 3.43 ± 0.29  │\n",
      "├────┼──────────────┼──────────────┤\n",
      "│ 15 │ 5.23 ± 0.43  │ 4.71 ± 0.38  │\n",
      "├────┼──────────────┼──────────────┤\n",
      "│ 16 │ 6.10 ± 0.49  │ 6.24 ± 0.48  │\n",
      "├────┼──────────────┼──────────────┤\n",
      "│ 17 │ 5.14 ± 0.41  │ 3.44 ± 0.30  │\n",
      "├────┼──────────────┼──────────────┤\n",
      "│ 18 │ 4.56 ± 0.36  │ 6.61 ± 0.51  │\n",
      "├────┼──────────────┼──────────────┤\n",
      "│ 19 │ 4.49 ± 0.37  │ 8.78 ± 0.70  │\n",
      "├────┼──────────────┼──────────────┤\n",
      "│ 20 │ 6.63 ± 0.54  │ 5.14 ± 0.43  │\n",
      "├────┼──────────────┼──────────────┤\n",
      "│ 21 │ 7.12 ± 0.57  │ 9.77 ± 0.76  │\n",
      "├────┼──────────────┼──────────────┤\n",
      "│ 22 │ 4.64 ± 0.39  │ 9.62 ± 0.74  │\n",
      "├────┼──────────────┼──────────────┤\n",
      "│ 23 │ 9.07 ± 0.71  │ 8.81 ± 0.69  │\n",
      "├────┼──────────────┼──────────────┤\n",
      "│ 24 │ 7.14 ± 0.57  │ 12.52 ± 0.95 │\n",
      "├────┼──────────────┼──────────────┤\n",
      "│ 25 │ 5.19 ± 0.42  │ 11.66 ± 0.90 │\n",
      "├────┼──────────────┼──────────────┤\n",
      "│ 26 │ 6.18 ± 0.50  │ 9.75 ± 0.77  │\n",
      "├────┼──────────────┼──────────────┤\n",
      "│ 27 │ 12.23 ± 0.95 │ 5.69 ± 0.48  │\n",
      "├────┼──────────────┼──────────────┤\n",
      "│ 28 │ 11.26 ± 0.86 │ 17.5 ± 1.4   │\n",
      "├────┼──────────────┼──────────────┤\n",
      "│ 29 │ 27.1 ± 2.1   │ 21.1 ± 1.6   │\n",
      "└────┴──────────────┴──────────────┘\n",
      "2021-08-12 10:33:36,043 - ompy.error_finder - DEBUG - Processing an ensemble with 10 members\n",
      "2021-08-12 10:33:36,044 - ompy.error_finder - DEBUG - Before removing nan: 45 NLD values and 31 GSF values\n",
      "2021-08-12 10:33:36,045 - ompy.error_finder - WARNING - NLDs and/or γSFs contains nan's. They will be removed\n",
      "2021-08-12 10:33:36,046 - ompy.error_finder - DEBUG - After removing nan: 30 NLD values and 30 GSF values\n",
      "2021-08-12 10:33:36,048 - ompy.error_finder - INFO - Starting pyMC3 inference - logarithmic model\n"
     ]
    },
    {
     "name": "stderr",
     "output_type": "stream",
     "text": [
      "Auto-assigning NUTS sampler...\n",
      "Initializing NUTS using jitter+adapt_diag...\n",
      "Multiprocess sampling (4 chains in 4 jobs)\n",
      "NUTS: [σ_f, σ_ρ, α, F, D, σ_α, σ_F, σ_D]\n"
     ]
    },
    {
     "data": {
      "text/html": [
       "\n",
       "    <div>\n",
       "        <style>\n",
       "            /* Turns off some styling */\n",
       "            progress {\n",
       "                /* gets rid of default border in Firefox and Opera. */\n",
       "                border: none;\n",
       "                /* Needs to be in here for Safari polyfill so background images work as expected. */\n",
       "                background-size: auto;\n",
       "            }\n",
       "            .progress-bar-interrupted, .progress-bar-interrupted::-webkit-progress-bar {\n",
       "                background: #F44336;\n",
       "            }\n",
       "        </style>\n",
       "      <progress value='8000' class='' max='8000' style='width:300px; height:20px; vertical-align: middle;'></progress>\n",
       "      100.00% [8000/8000 01:24<00:00 Sampling 4 chains, 0 divergences]\n",
       "    </div>\n",
       "    "
      ],
      "text/plain": [
       "<IPython.core.display.HTML object>"
      ]
     },
     "metadata": {},
     "output_type": "display_data"
    },
    {
     "name": "stderr",
     "output_type": "stream",
     "text": [
      "Sampling 4 chains for 1_000 tune and 1_000 draw iterations (4_000 + 4_000 draws total) took 94 seconds.\n"
     ]
    },
    {
     "name": "stdout",
     "output_type": "stream",
     "text": [
      "2021-08-12 10:35:22,537 - ompy.error_finder - INFO - Inference results:\n",
      "┌──────────────┬──────────────┬───────────────┬───────────────┬───────────────┬─────────────────┐\n",
      "│ D            │ F            │ α             │ σ_D           │ σ_F           │ σ_α             │\n",
      "╞══════════════╪══════════════╪═══════════════╪═══════════════╪═══════════════╪═════════════════╡\n",
      "│ -0.00 ± 0.26 │ -0.00 ± 0.26 │ 0.000 ± 0.064 │ 0.264 ± 0.020 │ 0.264 ± 0.020 │ 0.0646 ± 0.0049 │\n",
      "└──────────────┴──────────────┴───────────────┴───────────────┴───────────────┴─────────────────┘\n",
      "┌────┬──────────────┬──────────────┐\n",
      "│    │ σ_ρ [%]      │ σ_f [%]      │\n",
      "╞════╪══════════════╪══════════════╡\n",
      "│ 0  │ 2.34 ± 0.26  │ 3.96 ± 0.33  │\n",
      "├────┼──────────────┼──────────────┤\n",
      "│ 1  │ 3.93 ± 0.33  │ 5.10 ± 0.40  │\n",
      "├────┼──────────────┼──────────────┤\n",
      "│ 2  │ 5.71 ± 0.44  │ 3.59 ± 0.29  │\n",
      "├────┼──────────────┼──────────────┤\n",
      "│ 3  │ 5.92 ± 0.48  │ 3.35 ± 0.28  │\n",
      "├────┼──────────────┼──────────────┤\n",
      "│ 4  │ 5.09 ± 0.42  │ 2.78 ± 0.23  │\n",
      "├────┼──────────────┼──────────────┤\n",
      "│ 5  │ 4.38 ± 0.34  │ 1.98 ± 0.18  │\n",
      "├────┼──────────────┼──────────────┤\n",
      "│ 6  │ 4.76 ± 0.38  │ 2.15 ± 0.18  │\n",
      "├────┼──────────────┼──────────────┤\n",
      "│ 7  │ 7.11 ± 0.56  │ 3.37 ± 0.27  │\n",
      "├────┼──────────────┼──────────────┤\n",
      "│ 8  │ 4.94 ± 0.39  │ 1.93 ± 0.16  │\n",
      "├────┼──────────────┼──────────────┤\n",
      "│ 9  │ 5.32 ± 0.40  │ 3.07 ± 0.25  │\n",
      "├────┼──────────────┼──────────────┤\n",
      "│ 10 │ 4.31 ± 0.34  │ 1.40 ± 0.14  │\n",
      "├────┼──────────────┼──────────────┤\n",
      "│ 11 │ 1.58 ± 0.16  │ 2.65 ± 0.21  │\n",
      "├────┼──────────────┼──────────────┤\n",
      "│ 12 │ 2.50 ± 0.22  │ 4.22 ± 0.33  │\n",
      "├────┼──────────────┼──────────────┤\n",
      "│ 13 │ 5.13 ± 0.38  │ 3.86 ± 0.29  │\n",
      "├────┼──────────────┼──────────────┤\n",
      "│ 14 │ 3.64 ± 0.29  │ 4.10 ± 0.33  │\n",
      "├────┼──────────────┼──────────────┤\n",
      "│ 15 │ 2.50 ± 0.21  │ 4.15 ± 0.32  │\n",
      "├────┼──────────────┼──────────────┤\n",
      "│ 16 │ 4.44 ± 0.35  │ 2.61 ± 0.22  │\n",
      "├────┼──────────────┼──────────────┤\n",
      "│ 17 │ 4.27 ± 0.34  │ 4.97 ± 0.39  │\n",
      "├────┼──────────────┼──────────────┤\n",
      "│ 18 │ 5.65 ± 0.44  │ 4.70 ± 0.37  │\n",
      "├────┼──────────────┼──────────────┤\n",
      "│ 19 │ 6.37 ± 0.50  │ 5.21 ± 0.41  │\n",
      "├────┼──────────────┼──────────────┤\n",
      "│ 20 │ 4.85 ± 0.39  │ 4.99 ± 0.40  │\n",
      "├────┼──────────────┼──────────────┤\n",
      "│ 21 │ 6.40 ± 0.49  │ 6.83 ± 0.55  │\n",
      "├────┼──────────────┼──────────────┤\n",
      "│ 22 │ 4.09 ± 0.34  │ 6.84 ± 0.55  │\n",
      "├────┼──────────────┼──────────────┤\n",
      "│ 23 │ 3.97 ± 0.34  │ 9.09 ± 0.74  │\n",
      "├────┼──────────────┼──────────────┤\n",
      "│ 24 │ 5.22 ± 0.43  │ 11.74 ± 0.91 │\n",
      "├────┼──────────────┼──────────────┤\n",
      "│ 25 │ 9.62 ± 0.75  │ 10.42 ± 0.80 │\n",
      "├────┼──────────────┼──────────────┤\n",
      "│ 26 │ 7.19 ± 0.57  │ 10.29 ± 0.80 │\n",
      "├────┼──────────────┼──────────────┤\n",
      "│ 27 │ 11.35 ± 0.88 │ 11.72 ± 0.90 │\n",
      "├────┼──────────────┼──────────────┤\n",
      "│ 28 │ 11.26 ± 0.88 │ 12.30 ± 0.94 │\n",
      "├────┼──────────────┼──────────────┤\n",
      "│ 29 │ 16.5 ± 1.3   │ 35.0 ± 2.7   │\n",
      "└────┴──────────────┴──────────────┘\n",
      "2021-08-12 10:35:22,554 - ompy.error_finder - DEBUG - Processing an ensemble with 10 members\n",
      "2021-08-12 10:35:22,556 - ompy.error_finder - DEBUG - Before removing nan: 45 NLD values and 31 GSF values\n",
      "2021-08-12 10:35:22,557 - ompy.error_finder - WARNING - NLDs and/or γSFs contains nan's. They will be removed\n",
      "2021-08-12 10:35:22,558 - ompy.error_finder - DEBUG - After removing nan: 30 NLD values and 30 GSF values\n",
      "2021-08-12 10:35:22,560 - ompy.error_finder - INFO - Starting pyMC3 inference - logarithmic model\n"
     ]
    },
    {
     "name": "stderr",
     "output_type": "stream",
     "text": [
      "Auto-assigning NUTS sampler...\n",
      "Initializing NUTS using jitter+adapt_diag...\n",
      "Multiprocess sampling (4 chains in 4 jobs)\n",
      "NUTS: [σ_f, σ_ρ, α, F, D, σ_α, σ_F, σ_D]\n"
     ]
    },
    {
     "data": {
      "text/html": [
       "\n",
       "    <div>\n",
       "        <style>\n",
       "            /* Turns off some styling */\n",
       "            progress {\n",
       "                /* gets rid of default border in Firefox and Opera. */\n",
       "                border: none;\n",
       "                /* Needs to be in here for Safari polyfill so background images work as expected. */\n",
       "                background-size: auto;\n",
       "            }\n",
       "            .progress-bar-interrupted, .progress-bar-interrupted::-webkit-progress-bar {\n",
       "                background: #F44336;\n",
       "            }\n",
       "        </style>\n",
       "      <progress value='8000' class='' max='8000' style='width:300px; height:20px; vertical-align: middle;'></progress>\n",
       "      100.00% [8000/8000 01:26<00:00 Sampling 4 chains, 0 divergences]\n",
       "    </div>\n",
       "    "
      ],
      "text/plain": [
       "<IPython.core.display.HTML object>"
      ]
     },
     "metadata": {},
     "output_type": "display_data"
    },
    {
     "name": "stderr",
     "output_type": "stream",
     "text": [
      "Sampling 4 chains for 1_000 tune and 1_000 draw iterations (4_000 + 4_000 draws total) took 96 seconds.\n"
     ]
    },
    {
     "name": "stdout",
     "output_type": "stream",
     "text": [
      "2021-08-12 10:37:10,134 - ompy.error_finder - INFO - Inference results:\n",
      "┌──────────────┬──────────────┬───────────────┬───────────────┬───────────────┬─────────────────┐\n",
      "│ D            │ F            │ α             │ σ_D           │ σ_F           │ σ_α             │\n",
      "╞══════════════╪══════════════╪═══════════════╪═══════════════╪═══════════════╪═════════════════╡\n",
      "│ -0.00 ± 0.26 │ -0.00 ± 0.26 │ 0.000 ± 0.067 │ 0.267 ± 0.020 │ 0.263 ± 0.020 │ 0.0679 ± 0.0050 │\n",
      "└──────────────┴──────────────┴───────────────┴───────────────┴───────────────┴─────────────────┘\n",
      "┌────┬──────────────┬─────────────┐\n",
      "│    │ σ_ρ [%]      │ σ_f [%]     │\n",
      "╞════╪══════════════╪═════════════╡\n",
      "│ 0  │ 1.93 ± 0.22  │ 4.11 ± 0.33 │\n",
      "├────┼──────────────┼─────────────┤\n",
      "│ 1  │ 1.93 ± 0.21  │ 4.09 ± 0.34 │\n",
      "├────┼──────────────┼─────────────┤\n",
      "│ 2  │ 3.32 ± 0.26  │ 3.58 ± 0.27 │\n",
      "├────┼──────────────┼─────────────┤\n",
      "│ 3  │ 4.63 ± 0.36  │ 4.97 ± 0.39 │\n",
      "├────┼──────────────┼─────────────┤\n",
      "│ 4  │ 3.59 ± 0.29  │ 1.15 ± 0.14 │\n",
      "├────┼──────────────┼─────────────┤\n",
      "│ 5  │ 3.38 ± 0.27  │ 2.52 ± 0.21 │\n",
      "├────┼──────────────┼─────────────┤\n",
      "│ 6  │ 3.17 ± 0.27  │ 2.17 ± 0.18 │\n",
      "├────┼──────────────┼─────────────┤\n",
      "│ 7  │ 6.15 ± 0.48  │ 1.53 ± 0.14 │\n",
      "├────┼──────────────┼─────────────┤\n",
      "│ 8  │ 3.22 ± 0.26  │ 2.31 ± 0.19 │\n",
      "├────┼──────────────┼─────────────┤\n",
      "│ 9  │ 3.39 ± 0.27  │ 2.20 ± 0.18 │\n",
      "├────┼──────────────┼─────────────┤\n",
      "│ 10 │ 1.71 ± 0.16  │ 1.60 ± 0.14 │\n",
      "├────┼──────────────┼─────────────┤\n",
      "│ 11 │ 2.30 ± 0.19  │ 1.47 ± 0.13 │\n",
      "├────┼──────────────┼─────────────┤\n",
      "│ 12 │ 3.06 ± 0.24  │ 2.94 ± 0.23 │\n",
      "├────┼──────────────┼─────────────┤\n",
      "│ 13 │ 3.54 ± 0.28  │ 2.93 ± 0.23 │\n",
      "├────┼──────────────┼─────────────┤\n",
      "│ 14 │ 2.92 ± 0.23  │ 3.47 ± 0.27 │\n",
      "├────┼──────────────┼─────────────┤\n",
      "│ 15 │ 4.48 ± 0.35  │ 2.69 ± 0.22 │\n",
      "├────┼──────────────┼─────────────┤\n",
      "│ 16 │ 2.54 ± 0.21  │ 5.13 ± 0.40 │\n",
      "├────┼──────────────┼─────────────┤\n",
      "│ 17 │ 4.21 ± 0.35  │ 4.63 ± 0.36 │\n",
      "├────┼──────────────┼─────────────┤\n",
      "│ 18 │ 4.35 ± 0.33  │ 5.47 ± 0.41 │\n",
      "├────┼──────────────┼─────────────┤\n",
      "│ 19 │ 3.53 ± 0.30  │ 2.54 ± 0.22 │\n",
      "├────┼──────────────┼─────────────┤\n",
      "│ 20 │ 4.15 ± 0.33  │ 7.84 ± 0.58 │\n",
      "├────┼──────────────┼─────────────┤\n",
      "│ 21 │ 5.25 ± 0.41  │ 6.89 ± 0.54 │\n",
      "├────┼──────────────┼─────────────┤\n",
      "│ 22 │ 6.55 ± 0.50  │ 5.28 ± 0.40 │\n",
      "├────┼──────────────┼─────────────┤\n",
      "│ 23 │ 5.71 ± 0.46  │ 6.38 ± 0.50 │\n",
      "├────┼──────────────┼─────────────┤\n",
      "│ 24 │ 4.41 ± 0.38  │ 5.69 ± 0.45 │\n",
      "├────┼──────────────┼─────────────┤\n",
      "│ 25 │ 5.09 ± 0.41  │ 7.27 ± 0.56 │\n",
      "├────┼──────────────┼─────────────┤\n",
      "│ 26 │ 8.14 ± 0.63  │ 9.80 ± 0.75 │\n",
      "├────┼──────────────┼─────────────┤\n",
      "│ 27 │ 7.64 ± 0.60  │ 6.46 ± 0.52 │\n",
      "├────┼──────────────┼─────────────┤\n",
      "│ 28 │ 12.73 ± 1.00 │ 17.3 ± 1.3  │\n",
      "├────┼──────────────┼─────────────┤\n",
      "│ 29 │ 19.5 ± 1.5   │ 19.1 ± 1.4  │\n",
      "└────┴──────────────┴─────────────┘\n"
     ]
    }
   ],
   "source": [
    "nld_errors = []\n",
    "gsf_errors = []\n",
    "for extractor in extractors:\n",
    "    nld_err, gsf_err = error_estimator.evaluate(extractor.nld, extractor.gsf)\n",
    "    nld_errors.append(nld_err.copy())\n",
    "    gsf_errors.append(gsf_err.copy())"
   ]
  },
  {
   "cell_type": "code",
   "execution_count": 41,
   "id": "490ba702-a5a8-4717-a49b-2b4cf1bff5df",
   "metadata": {},
   "outputs": [
    {
     "data": {
      "application/vnd.jupyter.widget-view+json": {
       "model_id": "8ff5556759514faa9bb3dc58ac2e0c92",
       "version_major": 2,
       "version_minor": 0
      },
      "text/plain": [
       "Canvas(toolbar=Toolbar(toolitems=[('Home', 'Reset original view', 'home', 'home'), ('Back', 'Back to previous …"
      ]
     },
     "metadata": {},
     "output_type": "display_data"
    },
    {
     "data": {
      "application/vnd.jupyter.widget-view+json": {
       "model_id": "955289786d5d41409c72be764dbca56b",
       "version_major": 2,
       "version_minor": 0
      },
      "text/plain": [
       "Canvas(toolbar=Toolbar(toolitems=[('Home', 'Reset original view', 'home', 'home'), ('Back', 'Back to previous …"
      ]
     },
     "metadata": {},
     "output_type": "display_data"
    },
    {
     "data": {
      "application/vnd.jupyter.widget-view+json": {
       "model_id": "84b7609888cf45308cb7d6f841292873",
       "version_major": 2,
       "version_minor": 0
      },
      "text/plain": [
       "Canvas(toolbar=Toolbar(toolitems=[('Home', 'Reset original view', 'home', 'home'), ('Back', 'Back to previous …"
      ]
     },
     "metadata": {},
     "output_type": "display_data"
    }
   ],
   "source": [
    "def make_vec(nlds, counts, point):\n",
    "    return om.Vector(E=np.array(counts)/1.0e6, values=np.array([nld.values[nld.index(point)] for nld in nlds]),\n",
    "                     std=np.array([nld.std[nld.index(point)] for nld in nlds]))\n",
    "\n",
    "extractors[-1].plot()\n",
    "\n",
    "err = nld_errors[0].copy()\n",
    "err.values *= 100.\n",
    "fig, ax = err.plot(label=\"N=25000\")\n",
    "for i in range(1, len(counts), 4):\n",
    "    err = nld_errors[i].copy()\n",
    "    err.values *= 100.\n",
    "    err.plot(ax=ax, label=f\"N={counts[i]}\")\n",
    "\n",
    "err = nld_errors[-1].copy()\n",
    "err.values *= 100.\n",
    "err.plot(ax=ax, label=f\"N={counts[-1]}\")\n",
    "    \n",
    "ax.set_ylim(0, 100)\n",
    "ax.set_ylabel(\"Relative error [%]\")\n",
    "ax.legend(loc='best')\n",
    "\n",
    "nld_0MeV = make_vec(nld_errors, counts, 0)\n",
    "nld_15MeV = make_vec(nld_errors, counts, 1.5)\n",
    "nld_3MeV = make_vec(nld_errors, counts, 3)\n",
    "nld_5MeV = make_vec(nld_errors, counts, 5)\n",
    "\n",
    "nld_0MeV = make_vec(nld_errors, counts, 0)\n",
    "nld_0MeV.values *= 100.\n",
    "nld_0MeV.std *= 100.\n",
    "# nld_0MeV.save(\"nld_0MeV.csv\", sep=\"\\t\")\n",
    "nld_2MeV = make_vec(nld_errors, counts, 2)\n",
    "nld_2MeV.values *= 100.\n",
    "nld_2MeV.std *= 100.\n",
    "# nld_2MeV.save(\"nld_2MeV.csv\", sep=\"\\t\")\n",
    "nld_4MeV = make_vec(nld_errors, counts, 4)\n",
    "nld_4MeV.values *= 100.\n",
    "nld_4MeV.std *= 100.\n",
    "# nld_4MeV.save(\"nld_4MeV.csv\", sep=\"\\t\")\n",
    "\n",
    "nld_1MeV = make_vec(nld_errors, counts, 0)\n",
    "_, ax = nld_0MeV.plot(label=r\"$E_x = 0$ MeV\")\n",
    "nld_2MeV.plot(ax=ax, label=r\"$E_x = 2$ MeV\")\n",
    "nld_4MeV.plot(ax=ax, label=r\"$E_x = 4$ MeV\")\n",
    "ax.set_xlabel(\"Counts [$10^6$]\")\n",
    "c = np.linspace(min(counts), max(counts), 1001)\n",
    "ax.plot(c/1e6, (np.sqrt(counts[0])*20.)*1./np.sqrt(c))\n",
    "ax.legend(loc='best')\n",
    "ax.set_ylabel(\"Relative uncertanty [%]\");"
   ]
  },
  {
   "cell_type": "markdown",
   "id": "71efe2f7-63a5-4c3e-a0c5-723e9b0859c2",
   "metadata": {},
   "source": [
    "### Investigate dependence on ensemble members"
   ]
  },
  {
   "cell_type": "code",
   "execution_count": 19,
   "id": "a48c4fb1-2d00-4073-badf-eb0dc295dae8",
   "metadata": {
    "collapsed": true,
    "jupyter": {
     "outputs_hidden": true
    },
    "tags": []
   },
   "outputs": [
    {
     "data": {
      "application/vnd.jupyter.widget-view+json": {
       "model_id": "bbc78f1db92f418fb5b0904c0e5e3de6",
       "version_major": 2,
       "version_minor": 0
      },
      "text/plain": [
       "  0%|          | 0/3 [00:00<?, ?it/s]"
      ]
     },
     "metadata": {},
     "output_type": "display_data"
    },
    {
     "data": {
      "application/vnd.jupyter.widget-view+json": {
       "model_id": "7200d306e31848d8a08f00af43322938",
       "version_major": 2,
       "version_minor": 0
      },
      "text/plain": [
       "  0%|          | 0/3 [00:00<?, ?it/s]"
      ]
     },
     "metadata": {},
     "output_type": "display_data"
    },
    {
     "data": {
      "application/vnd.jupyter.widget-view+json": {
       "model_id": "ec438f2c9e1c46e5963c74b1dffaea60",
       "version_major": 2,
       "version_minor": 0
      },
      "text/plain": [
       "  0%|          | 0/3 [00:00<?, ?it/s]"
      ]
     },
     "metadata": {},
     "output_type": "display_data"
    },
    {
     "name": "stderr",
     "output_type": "stream",
     "text": [
      "nld #0 contains nan's.\n",
      "Consider removing them e.g. with:\n",
      "# for nld in extractor.nld:\n",
      "#     nld.cut_nan()\n",
      "\n",
      "nld #1 contains nan's.\n",
      "Consider removing them e.g. with:\n",
      "# for nld in extractor.nld:\n",
      "#     nld.cut_nan()\n",
      "\n",
      "nld #2 contains nan's.\n",
      "Consider removing them e.g. with:\n",
      "# for nld in extractor.nld:\n",
      "#     nld.cut_nan()\n",
      "\n",
      "gsf #0 contains nan's.\n",
      "Consider removing them e.g. with:\n",
      "# for gsf in extractor.gsf:\n",
      "#     gsf.cut_nan()\n",
      "\n",
      "gsf #1 contains nan's.\n",
      "Consider removing them e.g. with:\n",
      "# for gsf in extractor.gsf:\n",
      "#     gsf.cut_nan()\n",
      "\n",
      "gsf #2 contains nan's.\n",
      "Consider removing them e.g. with:\n",
      "# for gsf in extractor.gsf:\n",
      "#     gsf.cut_nan()\n",
      "\n"
     ]
    },
    {
     "data": {
      "application/vnd.jupyter.widget-view+json": {
       "model_id": "4b0af3ce436c47fda08c3d12ca39782c",
       "version_major": 2,
       "version_minor": 0
      },
      "text/plain": [
       "  0%|          | 0/4 [00:00<?, ?it/s]"
      ]
     },
     "metadata": {},
     "output_type": "display_data"
    },
    {
     "data": {
      "application/vnd.jupyter.widget-view+json": {
       "model_id": "5b7a6fb2f7dc47bdb18dfda1deb5effa",
       "version_major": 2,
       "version_minor": 0
      },
      "text/plain": [
       "  0%|          | 0/4 [00:00<?, ?it/s]"
      ]
     },
     "metadata": {},
     "output_type": "display_data"
    },
    {
     "data": {
      "application/vnd.jupyter.widget-view+json": {
       "model_id": "87af5993ba9649bb92d8fa3baa49b991",
       "version_major": 2,
       "version_minor": 0
      },
      "text/plain": [
       "  0%|          | 0/4 [00:00<?, ?it/s]"
      ]
     },
     "metadata": {},
     "output_type": "display_data"
    },
    {
     "name": "stderr",
     "output_type": "stream",
     "text": [
      "nld #0 contains nan's.\n",
      "Consider removing them e.g. with:\n",
      "# for nld in extractor.nld:\n",
      "#     nld.cut_nan()\n",
      "\n",
      "nld #1 contains nan's.\n",
      "Consider removing them e.g. with:\n",
      "# for nld in extractor.nld:\n",
      "#     nld.cut_nan()\n",
      "\n",
      "nld #2 contains nan's.\n",
      "Consider removing them e.g. with:\n",
      "# for nld in extractor.nld:\n",
      "#     nld.cut_nan()\n",
      "\n",
      "nld #3 contains nan's.\n",
      "Consider removing them e.g. with:\n",
      "# for nld in extractor.nld:\n",
      "#     nld.cut_nan()\n",
      "\n",
      "gsf #0 contains nan's.\n",
      "Consider removing them e.g. with:\n",
      "# for gsf in extractor.gsf:\n",
      "#     gsf.cut_nan()\n",
      "\n",
      "gsf #1 contains nan's.\n",
      "Consider removing them e.g. with:\n",
      "# for gsf in extractor.gsf:\n",
      "#     gsf.cut_nan()\n",
      "\n",
      "gsf #2 contains nan's.\n",
      "Consider removing them e.g. with:\n",
      "# for gsf in extractor.gsf:\n",
      "#     gsf.cut_nan()\n",
      "\n",
      "gsf #3 contains nan's.\n",
      "Consider removing them e.g. with:\n",
      "# for gsf in extractor.gsf:\n",
      "#     gsf.cut_nan()\n",
      "\n"
     ]
    },
    {
     "data": {
      "application/vnd.jupyter.widget-view+json": {
       "model_id": "1ddb2869ba4e403e88fcb73bb303eae7",
       "version_major": 2,
       "version_minor": 0
      },
      "text/plain": [
       "  0%|          | 0/5 [00:00<?, ?it/s]"
      ]
     },
     "metadata": {},
     "output_type": "display_data"
    },
    {
     "data": {
      "application/vnd.jupyter.widget-view+json": {
       "model_id": "224a99f2d404474491fef468341c9fe2",
       "version_major": 2,
       "version_minor": 0
      },
      "text/plain": [
       "  0%|          | 0/5 [00:00<?, ?it/s]"
      ]
     },
     "metadata": {},
     "output_type": "display_data"
    },
    {
     "data": {
      "application/vnd.jupyter.widget-view+json": {
       "model_id": "427d8779ac074fb0bef8023d0bb849ed",
       "version_major": 2,
       "version_minor": 0
      },
      "text/plain": [
       "  0%|          | 0/5 [00:00<?, ?it/s]"
      ]
     },
     "metadata": {},
     "output_type": "display_data"
    },
    {
     "name": "stderr",
     "output_type": "stream",
     "text": [
      "nld #0 contains nan's.\n",
      "Consider removing them e.g. with:\n",
      "# for nld in extractor.nld:\n",
      "#     nld.cut_nan()\n",
      "\n",
      "nld #1 contains nan's.\n",
      "Consider removing them e.g. with:\n",
      "# for nld in extractor.nld:\n",
      "#     nld.cut_nan()\n",
      "\n",
      "nld #2 contains nan's.\n",
      "Consider removing them e.g. with:\n",
      "# for nld in extractor.nld:\n",
      "#     nld.cut_nan()\n",
      "\n",
      "nld #3 contains nan's.\n",
      "Consider removing them e.g. with:\n",
      "# for nld in extractor.nld:\n",
      "#     nld.cut_nan()\n",
      "\n",
      "nld #4 contains nan's.\n",
      "Consider removing them e.g. with:\n",
      "# for nld in extractor.nld:\n",
      "#     nld.cut_nan()\n",
      "\n",
      "gsf #0 contains nan's.\n",
      "Consider removing them e.g. with:\n",
      "# for gsf in extractor.gsf:\n",
      "#     gsf.cut_nan()\n",
      "\n",
      "gsf #1 contains nan's.\n",
      "Consider removing them e.g. with:\n",
      "# for gsf in extractor.gsf:\n",
      "#     gsf.cut_nan()\n",
      "\n",
      "gsf #2 contains nan's.\n",
      "Consider removing them e.g. with:\n",
      "# for gsf in extractor.gsf:\n",
      "#     gsf.cut_nan()\n",
      "\n",
      "gsf #3 contains nan's.\n",
      "Consider removing them e.g. with:\n",
      "# for gsf in extractor.gsf:\n",
      "#     gsf.cut_nan()\n",
      "\n",
      "gsf #4 contains nan's.\n",
      "Consider removing them e.g. with:\n",
      "# for gsf in extractor.gsf:\n",
      "#     gsf.cut_nan()\n",
      "\n"
     ]
    },
    {
     "data": {
      "application/vnd.jupyter.widget-view+json": {
       "model_id": "6387cc4c83374ef1afd35c802f8f385e",
       "version_major": 2,
       "version_minor": 0
      },
      "text/plain": [
       "  0%|          | 0/6 [00:00<?, ?it/s]"
      ]
     },
     "metadata": {},
     "output_type": "display_data"
    },
    {
     "data": {
      "application/vnd.jupyter.widget-view+json": {
       "model_id": "586e24f4d44a4d288e88aac9091e848f",
       "version_major": 2,
       "version_minor": 0
      },
      "text/plain": [
       "  0%|          | 0/6 [00:00<?, ?it/s]"
      ]
     },
     "metadata": {},
     "output_type": "display_data"
    },
    {
     "data": {
      "application/vnd.jupyter.widget-view+json": {
       "model_id": "3217749e99e24c55968f4aaf23f1021b",
       "version_major": 2,
       "version_minor": 0
      },
      "text/plain": [
       "  0%|          | 0/6 [00:00<?, ?it/s]"
      ]
     },
     "metadata": {},
     "output_type": "display_data"
    },
    {
     "name": "stderr",
     "output_type": "stream",
     "text": [
      "nld #0 contains nan's.\n",
      "Consider removing them e.g. with:\n",
      "# for nld in extractor.nld:\n",
      "#     nld.cut_nan()\n",
      "\n",
      "nld #1 contains nan's.\n",
      "Consider removing them e.g. with:\n",
      "# for nld in extractor.nld:\n",
      "#     nld.cut_nan()\n",
      "\n",
      "nld #2 contains nan's.\n",
      "Consider removing them e.g. with:\n",
      "# for nld in extractor.nld:\n",
      "#     nld.cut_nan()\n",
      "\n",
      "nld #3 contains nan's.\n",
      "Consider removing them e.g. with:\n",
      "# for nld in extractor.nld:\n",
      "#     nld.cut_nan()\n",
      "\n",
      "nld #4 contains nan's.\n",
      "Consider removing them e.g. with:\n",
      "# for nld in extractor.nld:\n",
      "#     nld.cut_nan()\n",
      "\n",
      "nld #5 contains nan's.\n",
      "Consider removing them e.g. with:\n",
      "# for nld in extractor.nld:\n",
      "#     nld.cut_nan()\n",
      "\n",
      "gsf #0 contains nan's.\n",
      "Consider removing them e.g. with:\n",
      "# for gsf in extractor.gsf:\n",
      "#     gsf.cut_nan()\n",
      "\n",
      "gsf #1 contains nan's.\n",
      "Consider removing them e.g. with:\n",
      "# for gsf in extractor.gsf:\n",
      "#     gsf.cut_nan()\n",
      "\n",
      "gsf #2 contains nan's.\n",
      "Consider removing them e.g. with:\n",
      "# for gsf in extractor.gsf:\n",
      "#     gsf.cut_nan()\n",
      "\n",
      "gsf #3 contains nan's.\n",
      "Consider removing them e.g. with:\n",
      "# for gsf in extractor.gsf:\n",
      "#     gsf.cut_nan()\n",
      "\n",
      "gsf #4 contains nan's.\n",
      "Consider removing them e.g. with:\n",
      "# for gsf in extractor.gsf:\n",
      "#     gsf.cut_nan()\n",
      "\n",
      "gsf #5 contains nan's.\n",
      "Consider removing them e.g. with:\n",
      "# for gsf in extractor.gsf:\n",
      "#     gsf.cut_nan()\n",
      "\n"
     ]
    },
    {
     "data": {
      "application/vnd.jupyter.widget-view+json": {
       "model_id": "2aa3a14e215245fd946df63543ef117c",
       "version_major": 2,
       "version_minor": 0
      },
      "text/plain": [
       "  0%|          | 0/7 [00:00<?, ?it/s]"
      ]
     },
     "metadata": {},
     "output_type": "display_data"
    },
    {
     "data": {
      "application/vnd.jupyter.widget-view+json": {
       "model_id": "173d12fdd22e4c85ad2dc9a1e32542d6",
       "version_major": 2,
       "version_minor": 0
      },
      "text/plain": [
       "  0%|          | 0/7 [00:00<?, ?it/s]"
      ]
     },
     "metadata": {},
     "output_type": "display_data"
    },
    {
     "data": {
      "application/vnd.jupyter.widget-view+json": {
       "model_id": "8befdd71e4834d6e93c9fc0d410dcaf2",
       "version_major": 2,
       "version_minor": 0
      },
      "text/plain": [
       "  0%|          | 0/7 [00:00<?, ?it/s]"
      ]
     },
     "metadata": {},
     "output_type": "display_data"
    },
    {
     "name": "stderr",
     "output_type": "stream",
     "text": [
      "nld #0 contains nan's.\n",
      "Consider removing them e.g. with:\n",
      "# for nld in extractor.nld:\n",
      "#     nld.cut_nan()\n",
      "\n",
      "nld #1 contains nan's.\n",
      "Consider removing them e.g. with:\n",
      "# for nld in extractor.nld:\n",
      "#     nld.cut_nan()\n",
      "\n",
      "nld #2 contains nan's.\n",
      "Consider removing them e.g. with:\n",
      "# for nld in extractor.nld:\n",
      "#     nld.cut_nan()\n",
      "\n",
      "nld #3 contains nan's.\n",
      "Consider removing them e.g. with:\n",
      "# for nld in extractor.nld:\n",
      "#     nld.cut_nan()\n",
      "\n",
      "nld #4 contains nan's.\n",
      "Consider removing them e.g. with:\n",
      "# for nld in extractor.nld:\n",
      "#     nld.cut_nan()\n",
      "\n",
      "nld #5 contains nan's.\n",
      "Consider removing them e.g. with:\n",
      "# for nld in extractor.nld:\n",
      "#     nld.cut_nan()\n",
      "\n",
      "nld #6 contains nan's.\n",
      "Consider removing them e.g. with:\n",
      "# for nld in extractor.nld:\n",
      "#     nld.cut_nan()\n",
      "\n",
      "gsf #0 contains nan's.\n",
      "Consider removing them e.g. with:\n",
      "# for gsf in extractor.gsf:\n",
      "#     gsf.cut_nan()\n",
      "\n",
      "gsf #1 contains nan's.\n",
      "Consider removing them e.g. with:\n",
      "# for gsf in extractor.gsf:\n",
      "#     gsf.cut_nan()\n",
      "\n",
      "gsf #2 contains nan's.\n",
      "Consider removing them e.g. with:\n",
      "# for gsf in extractor.gsf:\n",
      "#     gsf.cut_nan()\n",
      "\n",
      "gsf #3 contains nan's.\n",
      "Consider removing them e.g. with:\n",
      "# for gsf in extractor.gsf:\n",
      "#     gsf.cut_nan()\n",
      "\n",
      "gsf #4 contains nan's.\n",
      "Consider removing them e.g. with:\n",
      "# for gsf in extractor.gsf:\n",
      "#     gsf.cut_nan()\n",
      "\n",
      "gsf #5 contains nan's.\n",
      "Consider removing them e.g. with:\n",
      "# for gsf in extractor.gsf:\n",
      "#     gsf.cut_nan()\n",
      "\n",
      "gsf #6 contains nan's.\n",
      "Consider removing them e.g. with:\n",
      "# for gsf in extractor.gsf:\n",
      "#     gsf.cut_nan()\n",
      "\n"
     ]
    },
    {
     "data": {
      "application/vnd.jupyter.widget-view+json": {
       "model_id": "228bc371ca6946439da1ea249c83e9b8",
       "version_major": 2,
       "version_minor": 0
      },
      "text/plain": [
       "  0%|          | 0/8 [00:00<?, ?it/s]"
      ]
     },
     "metadata": {},
     "output_type": "display_data"
    },
    {
     "data": {
      "application/vnd.jupyter.widget-view+json": {
       "model_id": "5117f0931bd644a7beca3409deda7fcf",
       "version_major": 2,
       "version_minor": 0
      },
      "text/plain": [
       "  0%|          | 0/8 [00:00<?, ?it/s]"
      ]
     },
     "metadata": {},
     "output_type": "display_data"
    },
    {
     "data": {
      "application/vnd.jupyter.widget-view+json": {
       "model_id": "71c3bb0c41cb4afd8e77ce5812260234",
       "version_major": 2,
       "version_minor": 0
      },
      "text/plain": [
       "  0%|          | 0/8 [00:00<?, ?it/s]"
      ]
     },
     "metadata": {},
     "output_type": "display_data"
    },
    {
     "name": "stderr",
     "output_type": "stream",
     "text": [
      "nld #0 contains nan's.\n",
      "Consider removing them e.g. with:\n",
      "# for nld in extractor.nld:\n",
      "#     nld.cut_nan()\n",
      "\n",
      "nld #1 contains nan's.\n",
      "Consider removing them e.g. with:\n",
      "# for nld in extractor.nld:\n",
      "#     nld.cut_nan()\n",
      "\n",
      "nld #2 contains nan's.\n",
      "Consider removing them e.g. with:\n",
      "# for nld in extractor.nld:\n",
      "#     nld.cut_nan()\n",
      "\n",
      "nld #3 contains nan's.\n",
      "Consider removing them e.g. with:\n",
      "# for nld in extractor.nld:\n",
      "#     nld.cut_nan()\n",
      "\n",
      "nld #4 contains nan's.\n",
      "Consider removing them e.g. with:\n",
      "# for nld in extractor.nld:\n",
      "#     nld.cut_nan()\n",
      "\n",
      "nld #5 contains nan's.\n",
      "Consider removing them e.g. with:\n",
      "# for nld in extractor.nld:\n",
      "#     nld.cut_nan()\n",
      "\n",
      "nld #6 contains nan's.\n",
      "Consider removing them e.g. with:\n",
      "# for nld in extractor.nld:\n",
      "#     nld.cut_nan()\n",
      "\n",
      "nld #7 contains nan's.\n",
      "Consider removing them e.g. with:\n",
      "# for nld in extractor.nld:\n",
      "#     nld.cut_nan()\n",
      "\n",
      "gsf #0 contains nan's.\n",
      "Consider removing them e.g. with:\n",
      "# for gsf in extractor.gsf:\n",
      "#     gsf.cut_nan()\n",
      "\n",
      "gsf #1 contains nan's.\n",
      "Consider removing them e.g. with:\n",
      "# for gsf in extractor.gsf:\n",
      "#     gsf.cut_nan()\n",
      "\n",
      "gsf #2 contains nan's.\n",
      "Consider removing them e.g. with:\n",
      "# for gsf in extractor.gsf:\n",
      "#     gsf.cut_nan()\n",
      "\n",
      "gsf #3 contains nan's.\n",
      "Consider removing them e.g. with:\n",
      "# for gsf in extractor.gsf:\n",
      "#     gsf.cut_nan()\n",
      "\n",
      "gsf #4 contains nan's.\n",
      "Consider removing them e.g. with:\n",
      "# for gsf in extractor.gsf:\n",
      "#     gsf.cut_nan()\n",
      "\n",
      "gsf #5 contains nan's.\n",
      "Consider removing them e.g. with:\n",
      "# for gsf in extractor.gsf:\n",
      "#     gsf.cut_nan()\n",
      "\n",
      "gsf #6 contains nan's.\n",
      "Consider removing them e.g. with:\n",
      "# for gsf in extractor.gsf:\n",
      "#     gsf.cut_nan()\n",
      "\n",
      "gsf #7 contains nan's.\n",
      "Consider removing them e.g. with:\n",
      "# for gsf in extractor.gsf:\n",
      "#     gsf.cut_nan()\n",
      "\n"
     ]
    },
    {
     "data": {
      "application/vnd.jupyter.widget-view+json": {
       "model_id": "500d0be3632c4b13b739df46071769f3",
       "version_major": 2,
       "version_minor": 0
      },
      "text/plain": [
       "  0%|          | 0/9 [00:00<?, ?it/s]"
      ]
     },
     "metadata": {},
     "output_type": "display_data"
    },
    {
     "data": {
      "application/vnd.jupyter.widget-view+json": {
       "model_id": "b4d934f158d448f9ada52ffe0f184174",
       "version_major": 2,
       "version_minor": 0
      },
      "text/plain": [
       "  0%|          | 0/9 [00:00<?, ?it/s]"
      ]
     },
     "metadata": {},
     "output_type": "display_data"
    },
    {
     "data": {
      "application/vnd.jupyter.widget-view+json": {
       "model_id": "b15df1845ec946cf9b2ec50afd604ee5",
       "version_major": 2,
       "version_minor": 0
      },
      "text/plain": [
       "  0%|          | 0/9 [00:00<?, ?it/s]"
      ]
     },
     "metadata": {},
     "output_type": "display_data"
    },
    {
     "name": "stderr",
     "output_type": "stream",
     "text": [
      "nld #0 contains nan's.\n",
      "Consider removing them e.g. with:\n",
      "# for nld in extractor.nld:\n",
      "#     nld.cut_nan()\n",
      "\n",
      "nld #1 contains nan's.\n",
      "Consider removing them e.g. with:\n",
      "# for nld in extractor.nld:\n",
      "#     nld.cut_nan()\n",
      "\n",
      "nld #2 contains nan's.\n",
      "Consider removing them e.g. with:\n",
      "# for nld in extractor.nld:\n",
      "#     nld.cut_nan()\n",
      "\n",
      "nld #3 contains nan's.\n",
      "Consider removing them e.g. with:\n",
      "# for nld in extractor.nld:\n",
      "#     nld.cut_nan()\n",
      "\n",
      "nld #4 contains nan's.\n",
      "Consider removing them e.g. with:\n",
      "# for nld in extractor.nld:\n",
      "#     nld.cut_nan()\n",
      "\n",
      "nld #5 contains nan's.\n",
      "Consider removing them e.g. with:\n",
      "# for nld in extractor.nld:\n",
      "#     nld.cut_nan()\n",
      "\n",
      "nld #6 contains nan's.\n",
      "Consider removing them e.g. with:\n",
      "# for nld in extractor.nld:\n",
      "#     nld.cut_nan()\n",
      "\n",
      "nld #7 contains nan's.\n",
      "Consider removing them e.g. with:\n",
      "# for nld in extractor.nld:\n",
      "#     nld.cut_nan()\n",
      "\n",
      "nld #8 contains nan's.\n",
      "Consider removing them e.g. with:\n",
      "# for nld in extractor.nld:\n",
      "#     nld.cut_nan()\n",
      "\n",
      "gsf #0 contains nan's.\n",
      "Consider removing them e.g. with:\n",
      "# for gsf in extractor.gsf:\n",
      "#     gsf.cut_nan()\n",
      "\n",
      "gsf #1 contains nan's.\n",
      "Consider removing them e.g. with:\n",
      "# for gsf in extractor.gsf:\n",
      "#     gsf.cut_nan()\n",
      "\n",
      "gsf #2 contains nan's.\n",
      "Consider removing them e.g. with:\n",
      "# for gsf in extractor.gsf:\n",
      "#     gsf.cut_nan()\n",
      "\n",
      "gsf #3 contains nan's.\n",
      "Consider removing them e.g. with:\n",
      "# for gsf in extractor.gsf:\n",
      "#     gsf.cut_nan()\n",
      "\n",
      "gsf #4 contains nan's.\n",
      "Consider removing them e.g. with:\n",
      "# for gsf in extractor.gsf:\n",
      "#     gsf.cut_nan()\n",
      "\n",
      "gsf #5 contains nan's.\n",
      "Consider removing them e.g. with:\n",
      "# for gsf in extractor.gsf:\n",
      "#     gsf.cut_nan()\n",
      "\n",
      "gsf #6 contains nan's.\n",
      "Consider removing them e.g. with:\n",
      "# for gsf in extractor.gsf:\n",
      "#     gsf.cut_nan()\n",
      "\n",
      "gsf #7 contains nan's.\n",
      "Consider removing them e.g. with:\n",
      "# for gsf in extractor.gsf:\n",
      "#     gsf.cut_nan()\n",
      "\n",
      "gsf #8 contains nan's.\n",
      "Consider removing them e.g. with:\n",
      "# for gsf in extractor.gsf:\n",
      "#     gsf.cut_nan()\n",
      "\n"
     ]
    },
    {
     "data": {
      "application/vnd.jupyter.widget-view+json": {
       "model_id": "4c151481b72b4bae898b66bcbbc8475f",
       "version_major": 2,
       "version_minor": 0
      },
      "text/plain": [
       "  0%|          | 0/10 [00:00<?, ?it/s]"
      ]
     },
     "metadata": {},
     "output_type": "display_data"
    },
    {
     "data": {
      "application/vnd.jupyter.widget-view+json": {
       "model_id": "42f6bd53108e4a838c772ef4eec38b48",
       "version_major": 2,
       "version_minor": 0
      },
      "text/plain": [
       "  0%|          | 0/10 [00:00<?, ?it/s]"
      ]
     },
     "metadata": {},
     "output_type": "display_data"
    },
    {
     "data": {
      "application/vnd.jupyter.widget-view+json": {
       "model_id": "a0f7c2b81bdf4405b8f4f7bf777c814d",
       "version_major": 2,
       "version_minor": 0
      },
      "text/plain": [
       "  0%|          | 0/10 [00:00<?, ?it/s]"
      ]
     },
     "metadata": {},
     "output_type": "display_data"
    },
    {
     "name": "stderr",
     "output_type": "stream",
     "text": [
      "nld #0 contains nan's.\n",
      "Consider removing them e.g. with:\n",
      "# for nld in extractor.nld:\n",
      "#     nld.cut_nan()\n",
      "\n",
      "nld #1 contains nan's.\n",
      "Consider removing them e.g. with:\n",
      "# for nld in extractor.nld:\n",
      "#     nld.cut_nan()\n",
      "\n",
      "nld #2 contains nan's.\n",
      "Consider removing them e.g. with:\n",
      "# for nld in extractor.nld:\n",
      "#     nld.cut_nan()\n",
      "\n",
      "nld #3 contains nan's.\n",
      "Consider removing them e.g. with:\n",
      "# for nld in extractor.nld:\n",
      "#     nld.cut_nan()\n",
      "\n",
      "nld #4 contains nan's.\n",
      "Consider removing them e.g. with:\n",
      "# for nld in extractor.nld:\n",
      "#     nld.cut_nan()\n",
      "\n",
      "nld #5 contains nan's.\n",
      "Consider removing them e.g. with:\n",
      "# for nld in extractor.nld:\n",
      "#     nld.cut_nan()\n",
      "\n",
      "nld #6 contains nan's.\n",
      "Consider removing them e.g. with:\n",
      "# for nld in extractor.nld:\n",
      "#     nld.cut_nan()\n",
      "\n",
      "nld #7 contains nan's.\n",
      "Consider removing them e.g. with:\n",
      "# for nld in extractor.nld:\n",
      "#     nld.cut_nan()\n",
      "\n",
      "nld #8 contains nan's.\n",
      "Consider removing them e.g. with:\n",
      "# for nld in extractor.nld:\n",
      "#     nld.cut_nan()\n",
      "\n",
      "nld #9 contains nan's.\n",
      "Consider removing them e.g. with:\n",
      "# for nld in extractor.nld:\n",
      "#     nld.cut_nan()\n",
      "\n",
      "gsf #0 contains nan's.\n",
      "Consider removing them e.g. with:\n",
      "# for gsf in extractor.gsf:\n",
      "#     gsf.cut_nan()\n",
      "\n",
      "gsf #1 contains nan's.\n",
      "Consider removing them e.g. with:\n",
      "# for gsf in extractor.gsf:\n",
      "#     gsf.cut_nan()\n",
      "\n",
      "gsf #2 contains nan's.\n",
      "Consider removing them e.g. with:\n",
      "# for gsf in extractor.gsf:\n",
      "#     gsf.cut_nan()\n",
      "\n",
      "gsf #3 contains nan's.\n",
      "Consider removing them e.g. with:\n",
      "# for gsf in extractor.gsf:\n",
      "#     gsf.cut_nan()\n",
      "\n",
      "gsf #4 contains nan's.\n",
      "Consider removing them e.g. with:\n",
      "# for gsf in extractor.gsf:\n",
      "#     gsf.cut_nan()\n",
      "\n",
      "gsf #5 contains nan's.\n",
      "Consider removing them e.g. with:\n",
      "# for gsf in extractor.gsf:\n",
      "#     gsf.cut_nan()\n",
      "\n",
      "gsf #6 contains nan's.\n",
      "Consider removing them e.g. with:\n",
      "# for gsf in extractor.gsf:\n",
      "#     gsf.cut_nan()\n",
      "\n",
      "gsf #7 contains nan's.\n",
      "Consider removing them e.g. with:\n",
      "# for gsf in extractor.gsf:\n",
      "#     gsf.cut_nan()\n",
      "\n",
      "gsf #8 contains nan's.\n",
      "Consider removing them e.g. with:\n",
      "# for gsf in extractor.gsf:\n",
      "#     gsf.cut_nan()\n",
      "\n",
      "gsf #9 contains nan's.\n",
      "Consider removing them e.g. with:\n",
      "# for gsf in extractor.gsf:\n",
      "#     gsf.cut_nan()\n",
      "\n"
     ]
    },
    {
     "data": {
      "application/vnd.jupyter.widget-view+json": {
       "model_id": "7565ccfc296341108a0aa5bea73b867e",
       "version_major": 2,
       "version_minor": 0
      },
      "text/plain": [
       "  0%|          | 0/11 [00:00<?, ?it/s]"
      ]
     },
     "metadata": {},
     "output_type": "display_data"
    },
    {
     "data": {
      "application/vnd.jupyter.widget-view+json": {
       "model_id": "e6cea2b88d904e4c947c60aed0a2f86a",
       "version_major": 2,
       "version_minor": 0
      },
      "text/plain": [
       "  0%|          | 0/11 [00:00<?, ?it/s]"
      ]
     },
     "metadata": {},
     "output_type": "display_data"
    },
    {
     "data": {
      "application/vnd.jupyter.widget-view+json": {
       "model_id": "8574e1093c594c4cba5f1eb225252c5e",
       "version_major": 2,
       "version_minor": 0
      },
      "text/plain": [
       "  0%|          | 0/11 [00:00<?, ?it/s]"
      ]
     },
     "metadata": {},
     "output_type": "display_data"
    },
    {
     "name": "stderr",
     "output_type": "stream",
     "text": [
      "nld #0 contains nan's.\n",
      "Consider removing them e.g. with:\n",
      "# for nld in extractor.nld:\n",
      "#     nld.cut_nan()\n",
      "\n",
      "nld #1 contains nan's.\n",
      "Consider removing them e.g. with:\n",
      "# for nld in extractor.nld:\n",
      "#     nld.cut_nan()\n",
      "\n",
      "nld #2 contains nan's.\n",
      "Consider removing them e.g. with:\n",
      "# for nld in extractor.nld:\n",
      "#     nld.cut_nan()\n",
      "\n",
      "nld #3 contains nan's.\n",
      "Consider removing them e.g. with:\n",
      "# for nld in extractor.nld:\n",
      "#     nld.cut_nan()\n",
      "\n",
      "nld #4 contains nan's.\n",
      "Consider removing them e.g. with:\n",
      "# for nld in extractor.nld:\n",
      "#     nld.cut_nan()\n",
      "\n",
      "nld #5 contains nan's.\n",
      "Consider removing them e.g. with:\n",
      "# for nld in extractor.nld:\n",
      "#     nld.cut_nan()\n",
      "\n",
      "nld #6 contains nan's.\n",
      "Consider removing them e.g. with:\n",
      "# for nld in extractor.nld:\n",
      "#     nld.cut_nan()\n",
      "\n",
      "nld #7 contains nan's.\n",
      "Consider removing them e.g. with:\n",
      "# for nld in extractor.nld:\n",
      "#     nld.cut_nan()\n",
      "\n",
      "nld #8 contains nan's.\n",
      "Consider removing them e.g. with:\n",
      "# for nld in extractor.nld:\n",
      "#     nld.cut_nan()\n",
      "\n",
      "nld #9 contains nan's.\n",
      "Consider removing them e.g. with:\n",
      "# for nld in extractor.nld:\n",
      "#     nld.cut_nan()\n",
      "\n",
      "nld #10 contains nan's.\n",
      "Consider removing them e.g. with:\n",
      "# for nld in extractor.nld:\n",
      "#     nld.cut_nan()\n",
      "\n",
      "gsf #0 contains nan's.\n",
      "Consider removing them e.g. with:\n",
      "# for gsf in extractor.gsf:\n",
      "#     gsf.cut_nan()\n",
      "\n",
      "gsf #1 contains nan's.\n",
      "Consider removing them e.g. with:\n",
      "# for gsf in extractor.gsf:\n",
      "#     gsf.cut_nan()\n",
      "\n",
      "gsf #2 contains nan's.\n",
      "Consider removing them e.g. with:\n",
      "# for gsf in extractor.gsf:\n",
      "#     gsf.cut_nan()\n",
      "\n",
      "gsf #3 contains nan's.\n",
      "Consider removing them e.g. with:\n",
      "# for gsf in extractor.gsf:\n",
      "#     gsf.cut_nan()\n",
      "\n",
      "gsf #4 contains nan's.\n",
      "Consider removing them e.g. with:\n",
      "# for gsf in extractor.gsf:\n",
      "#     gsf.cut_nan()\n",
      "\n",
      "gsf #5 contains nan's.\n",
      "Consider removing them e.g. with:\n",
      "# for gsf in extractor.gsf:\n",
      "#     gsf.cut_nan()\n",
      "\n",
      "gsf #6 contains nan's.\n",
      "Consider removing them e.g. with:\n",
      "# for gsf in extractor.gsf:\n",
      "#     gsf.cut_nan()\n",
      "\n",
      "gsf #7 contains nan's.\n",
      "Consider removing them e.g. with:\n",
      "# for gsf in extractor.gsf:\n",
      "#     gsf.cut_nan()\n",
      "\n",
      "gsf #8 contains nan's.\n",
      "Consider removing them e.g. with:\n",
      "# for gsf in extractor.gsf:\n",
      "#     gsf.cut_nan()\n",
      "\n",
      "gsf #9 contains nan's.\n",
      "Consider removing them e.g. with:\n",
      "# for gsf in extractor.gsf:\n",
      "#     gsf.cut_nan()\n",
      "\n",
      "gsf #10 contains nan's.\n",
      "Consider removing them e.g. with:\n",
      "# for gsf in extractor.gsf:\n",
      "#     gsf.cut_nan()\n",
      "\n"
     ]
    },
    {
     "data": {
      "application/vnd.jupyter.widget-view+json": {
       "model_id": "3325671cd5fe470788d127cdcbd0cfd3",
       "version_major": 2,
       "version_minor": 0
      },
      "text/plain": [
       "  0%|          | 0/12 [00:00<?, ?it/s]"
      ]
     },
     "metadata": {},
     "output_type": "display_data"
    },
    {
     "data": {
      "application/vnd.jupyter.widget-view+json": {
       "model_id": "171c81af2c2c4cd58b5249c76af77f3c",
       "version_major": 2,
       "version_minor": 0
      },
      "text/plain": [
       "  0%|          | 0/12 [00:00<?, ?it/s]"
      ]
     },
     "metadata": {},
     "output_type": "display_data"
    },
    {
     "data": {
      "application/vnd.jupyter.widget-view+json": {
       "model_id": "afbe6e637e6743549f8b79c98df11a28",
       "version_major": 2,
       "version_minor": 0
      },
      "text/plain": [
       "  0%|          | 0/12 [00:00<?, ?it/s]"
      ]
     },
     "metadata": {},
     "output_type": "display_data"
    },
    {
     "name": "stderr",
     "output_type": "stream",
     "text": [
      "nld #0 contains nan's.\n",
      "Consider removing them e.g. with:\n",
      "# for nld in extractor.nld:\n",
      "#     nld.cut_nan()\n",
      "\n",
      "nld #1 contains nan's.\n",
      "Consider removing them e.g. with:\n",
      "# for nld in extractor.nld:\n",
      "#     nld.cut_nan()\n",
      "\n",
      "nld #2 contains nan's.\n",
      "Consider removing them e.g. with:\n",
      "# for nld in extractor.nld:\n",
      "#     nld.cut_nan()\n",
      "\n",
      "nld #3 contains nan's.\n",
      "Consider removing them e.g. with:\n",
      "# for nld in extractor.nld:\n",
      "#     nld.cut_nan()\n",
      "\n",
      "nld #4 contains nan's.\n",
      "Consider removing them e.g. with:\n",
      "# for nld in extractor.nld:\n",
      "#     nld.cut_nan()\n",
      "\n",
      "nld #5 contains nan's.\n",
      "Consider removing them e.g. with:\n",
      "# for nld in extractor.nld:\n",
      "#     nld.cut_nan()\n",
      "\n",
      "nld #6 contains nan's.\n",
      "Consider removing them e.g. with:\n",
      "# for nld in extractor.nld:\n",
      "#     nld.cut_nan()\n",
      "\n",
      "nld #7 contains nan's.\n",
      "Consider removing them e.g. with:\n",
      "# for nld in extractor.nld:\n",
      "#     nld.cut_nan()\n",
      "\n",
      "nld #8 contains nan's.\n",
      "Consider removing them e.g. with:\n",
      "# for nld in extractor.nld:\n",
      "#     nld.cut_nan()\n",
      "\n",
      "nld #9 contains nan's.\n",
      "Consider removing them e.g. with:\n",
      "# for nld in extractor.nld:\n",
      "#     nld.cut_nan()\n",
      "\n",
      "nld #10 contains nan's.\n",
      "Consider removing them e.g. with:\n",
      "# for nld in extractor.nld:\n",
      "#     nld.cut_nan()\n",
      "\n",
      "nld #11 contains nan's.\n",
      "Consider removing them e.g. with:\n",
      "# for nld in extractor.nld:\n",
      "#     nld.cut_nan()\n",
      "\n",
      "gsf #0 contains nan's.\n",
      "Consider removing them e.g. with:\n",
      "# for gsf in extractor.gsf:\n",
      "#     gsf.cut_nan()\n",
      "\n",
      "gsf #1 contains nan's.\n",
      "Consider removing them e.g. with:\n",
      "# for gsf in extractor.gsf:\n",
      "#     gsf.cut_nan()\n",
      "\n",
      "gsf #2 contains nan's.\n",
      "Consider removing them e.g. with:\n",
      "# for gsf in extractor.gsf:\n",
      "#     gsf.cut_nan()\n",
      "\n",
      "gsf #3 contains nan's.\n",
      "Consider removing them e.g. with:\n",
      "# for gsf in extractor.gsf:\n",
      "#     gsf.cut_nan()\n",
      "\n",
      "gsf #4 contains nan's.\n",
      "Consider removing them e.g. with:\n",
      "# for gsf in extractor.gsf:\n",
      "#     gsf.cut_nan()\n",
      "\n",
      "gsf #5 contains nan's.\n",
      "Consider removing them e.g. with:\n",
      "# for gsf in extractor.gsf:\n",
      "#     gsf.cut_nan()\n",
      "\n",
      "gsf #6 contains nan's.\n",
      "Consider removing them e.g. with:\n",
      "# for gsf in extractor.gsf:\n",
      "#     gsf.cut_nan()\n",
      "\n",
      "gsf #7 contains nan's.\n",
      "Consider removing them e.g. with:\n",
      "# for gsf in extractor.gsf:\n",
      "#     gsf.cut_nan()\n",
      "\n",
      "gsf #8 contains nan's.\n",
      "Consider removing them e.g. with:\n",
      "# for gsf in extractor.gsf:\n",
      "#     gsf.cut_nan()\n",
      "\n",
      "gsf #9 contains nan's.\n",
      "Consider removing them e.g. with:\n",
      "# for gsf in extractor.gsf:\n",
      "#     gsf.cut_nan()\n",
      "\n",
      "gsf #10 contains nan's.\n",
      "Consider removing them e.g. with:\n",
      "# for gsf in extractor.gsf:\n",
      "#     gsf.cut_nan()\n",
      "\n",
      "gsf #11 contains nan's.\n",
      "Consider removing them e.g. with:\n",
      "# for gsf in extractor.gsf:\n",
      "#     gsf.cut_nan()\n",
      "\n"
     ]
    },
    {
     "data": {
      "application/vnd.jupyter.widget-view+json": {
       "model_id": "24501b5b04ea425d9b2fa225167fee7d",
       "version_major": 2,
       "version_minor": 0
      },
      "text/plain": [
       "  0%|          | 0/13 [00:00<?, ?it/s]"
      ]
     },
     "metadata": {},
     "output_type": "display_data"
    },
    {
     "data": {
      "application/vnd.jupyter.widget-view+json": {
       "model_id": "64e02a5ba0e046b69f1a0435619bc132",
       "version_major": 2,
       "version_minor": 0
      },
      "text/plain": [
       "  0%|          | 0/13 [00:00<?, ?it/s]"
      ]
     },
     "metadata": {},
     "output_type": "display_data"
    },
    {
     "data": {
      "application/vnd.jupyter.widget-view+json": {
       "model_id": "1e3db738fdb54e9f8b7d56df3290a88b",
       "version_major": 2,
       "version_minor": 0
      },
      "text/plain": [
       "  0%|          | 0/13 [00:00<?, ?it/s]"
      ]
     },
     "metadata": {},
     "output_type": "display_data"
    },
    {
     "name": "stderr",
     "output_type": "stream",
     "text": [
      "nld #0 contains nan's.\n",
      "Consider removing them e.g. with:\n",
      "# for nld in extractor.nld:\n",
      "#     nld.cut_nan()\n",
      "\n",
      "nld #1 contains nan's.\n",
      "Consider removing them e.g. with:\n",
      "# for nld in extractor.nld:\n",
      "#     nld.cut_nan()\n",
      "\n",
      "nld #2 contains nan's.\n",
      "Consider removing them e.g. with:\n",
      "# for nld in extractor.nld:\n",
      "#     nld.cut_nan()\n",
      "\n",
      "nld #3 contains nan's.\n",
      "Consider removing them e.g. with:\n",
      "# for nld in extractor.nld:\n",
      "#     nld.cut_nan()\n",
      "\n",
      "nld #4 contains nan's.\n",
      "Consider removing them e.g. with:\n",
      "# for nld in extractor.nld:\n",
      "#     nld.cut_nan()\n",
      "\n",
      "nld #5 contains nan's.\n",
      "Consider removing them e.g. with:\n",
      "# for nld in extractor.nld:\n",
      "#     nld.cut_nan()\n",
      "\n",
      "nld #6 contains nan's.\n",
      "Consider removing them e.g. with:\n",
      "# for nld in extractor.nld:\n",
      "#     nld.cut_nan()\n",
      "\n",
      "nld #7 contains nan's.\n",
      "Consider removing them e.g. with:\n",
      "# for nld in extractor.nld:\n",
      "#     nld.cut_nan()\n",
      "\n",
      "nld #8 contains nan's.\n",
      "Consider removing them e.g. with:\n",
      "# for nld in extractor.nld:\n",
      "#     nld.cut_nan()\n",
      "\n",
      "nld #9 contains nan's.\n",
      "Consider removing them e.g. with:\n",
      "# for nld in extractor.nld:\n",
      "#     nld.cut_nan()\n",
      "\n",
      "nld #10 contains nan's.\n",
      "Consider removing them e.g. with:\n",
      "# for nld in extractor.nld:\n",
      "#     nld.cut_nan()\n",
      "\n",
      "nld #11 contains nan's.\n",
      "Consider removing them e.g. with:\n",
      "# for nld in extractor.nld:\n",
      "#     nld.cut_nan()\n",
      "\n",
      "nld #12 contains nan's.\n",
      "Consider removing them e.g. with:\n",
      "# for nld in extractor.nld:\n",
      "#     nld.cut_nan()\n",
      "\n",
      "gsf #0 contains nan's.\n",
      "Consider removing them e.g. with:\n",
      "# for gsf in extractor.gsf:\n",
      "#     gsf.cut_nan()\n",
      "\n",
      "gsf #1 contains nan's.\n",
      "Consider removing them e.g. with:\n",
      "# for gsf in extractor.gsf:\n",
      "#     gsf.cut_nan()\n",
      "\n",
      "gsf #2 contains nan's.\n",
      "Consider removing them e.g. with:\n",
      "# for gsf in extractor.gsf:\n",
      "#     gsf.cut_nan()\n",
      "\n",
      "gsf #3 contains nan's.\n",
      "Consider removing them e.g. with:\n",
      "# for gsf in extractor.gsf:\n",
      "#     gsf.cut_nan()\n",
      "\n",
      "gsf #4 contains nan's.\n",
      "Consider removing them e.g. with:\n",
      "# for gsf in extractor.gsf:\n",
      "#     gsf.cut_nan()\n",
      "\n",
      "gsf #5 contains nan's.\n",
      "Consider removing them e.g. with:\n",
      "# for gsf in extractor.gsf:\n",
      "#     gsf.cut_nan()\n",
      "\n",
      "gsf #6 contains nan's.\n",
      "Consider removing them e.g. with:\n",
      "# for gsf in extractor.gsf:\n",
      "#     gsf.cut_nan()\n",
      "\n",
      "gsf #7 contains nan's.\n",
      "Consider removing them e.g. with:\n",
      "# for gsf in extractor.gsf:\n",
      "#     gsf.cut_nan()\n",
      "\n",
      "gsf #8 contains nan's.\n",
      "Consider removing them e.g. with:\n",
      "# for gsf in extractor.gsf:\n",
      "#     gsf.cut_nan()\n",
      "\n",
      "gsf #9 contains nan's.\n",
      "Consider removing them e.g. with:\n",
      "# for gsf in extractor.gsf:\n",
      "#     gsf.cut_nan()\n",
      "\n",
      "gsf #10 contains nan's.\n",
      "Consider removing them e.g. with:\n",
      "# for gsf in extractor.gsf:\n",
      "#     gsf.cut_nan()\n",
      "\n",
      "gsf #11 contains nan's.\n",
      "Consider removing them e.g. with:\n",
      "# for gsf in extractor.gsf:\n",
      "#     gsf.cut_nan()\n",
      "\n",
      "gsf #12 contains nan's.\n",
      "Consider removing them e.g. with:\n",
      "# for gsf in extractor.gsf:\n",
      "#     gsf.cut_nan()\n",
      "\n"
     ]
    },
    {
     "data": {
      "application/vnd.jupyter.widget-view+json": {
       "model_id": "5cea7d801a014315af131207a937b494",
       "version_major": 2,
       "version_minor": 0
      },
      "text/plain": [
       "  0%|          | 0/14 [00:00<?, ?it/s]"
      ]
     },
     "metadata": {},
     "output_type": "display_data"
    },
    {
     "data": {
      "application/vnd.jupyter.widget-view+json": {
       "model_id": "a29a28d3740148d6943e424be306bb71",
       "version_major": 2,
       "version_minor": 0
      },
      "text/plain": [
       "  0%|          | 0/14 [00:00<?, ?it/s]"
      ]
     },
     "metadata": {},
     "output_type": "display_data"
    },
    {
     "data": {
      "application/vnd.jupyter.widget-view+json": {
       "model_id": "35ec1d1c5eae46278e0918ef241daabc",
       "version_major": 2,
       "version_minor": 0
      },
      "text/plain": [
       "  0%|          | 0/14 [00:00<?, ?it/s]"
      ]
     },
     "metadata": {},
     "output_type": "display_data"
    },
    {
     "name": "stderr",
     "output_type": "stream",
     "text": [
      "nld #0 contains nan's.\n",
      "Consider removing them e.g. with:\n",
      "# for nld in extractor.nld:\n",
      "#     nld.cut_nan()\n",
      "\n",
      "nld #1 contains nan's.\n",
      "Consider removing them e.g. with:\n",
      "# for nld in extractor.nld:\n",
      "#     nld.cut_nan()\n",
      "\n",
      "nld #2 contains nan's.\n",
      "Consider removing them e.g. with:\n",
      "# for nld in extractor.nld:\n",
      "#     nld.cut_nan()\n",
      "\n",
      "nld #3 contains nan's.\n",
      "Consider removing them e.g. with:\n",
      "# for nld in extractor.nld:\n",
      "#     nld.cut_nan()\n",
      "\n",
      "nld #4 contains nan's.\n",
      "Consider removing them e.g. with:\n",
      "# for nld in extractor.nld:\n",
      "#     nld.cut_nan()\n",
      "\n",
      "nld #5 contains nan's.\n",
      "Consider removing them e.g. with:\n",
      "# for nld in extractor.nld:\n",
      "#     nld.cut_nan()\n",
      "\n",
      "nld #6 contains nan's.\n",
      "Consider removing them e.g. with:\n",
      "# for nld in extractor.nld:\n",
      "#     nld.cut_nan()\n",
      "\n",
      "nld #7 contains nan's.\n",
      "Consider removing them e.g. with:\n",
      "# for nld in extractor.nld:\n",
      "#     nld.cut_nan()\n",
      "\n",
      "nld #8 contains nan's.\n",
      "Consider removing them e.g. with:\n",
      "# for nld in extractor.nld:\n",
      "#     nld.cut_nan()\n",
      "\n",
      "nld #9 contains nan's.\n",
      "Consider removing them e.g. with:\n",
      "# for nld in extractor.nld:\n",
      "#     nld.cut_nan()\n",
      "\n",
      "nld #10 contains nan's.\n",
      "Consider removing them e.g. with:\n",
      "# for nld in extractor.nld:\n",
      "#     nld.cut_nan()\n",
      "\n",
      "nld #11 contains nan's.\n",
      "Consider removing them e.g. with:\n",
      "# for nld in extractor.nld:\n",
      "#     nld.cut_nan()\n",
      "\n",
      "nld #12 contains nan's.\n",
      "Consider removing them e.g. with:\n",
      "# for nld in extractor.nld:\n",
      "#     nld.cut_nan()\n",
      "\n",
      "nld #13 contains nan's.\n",
      "Consider removing them e.g. with:\n",
      "# for nld in extractor.nld:\n",
      "#     nld.cut_nan()\n",
      "\n",
      "gsf #0 contains nan's.\n",
      "Consider removing them e.g. with:\n",
      "# for gsf in extractor.gsf:\n",
      "#     gsf.cut_nan()\n",
      "\n",
      "gsf #1 contains nan's.\n",
      "Consider removing them e.g. with:\n",
      "# for gsf in extractor.gsf:\n",
      "#     gsf.cut_nan()\n",
      "\n",
      "gsf #2 contains nan's.\n",
      "Consider removing them e.g. with:\n",
      "# for gsf in extractor.gsf:\n",
      "#     gsf.cut_nan()\n",
      "\n",
      "gsf #3 contains nan's.\n",
      "Consider removing them e.g. with:\n",
      "# for gsf in extractor.gsf:\n",
      "#     gsf.cut_nan()\n",
      "\n",
      "gsf #4 contains nan's.\n",
      "Consider removing them e.g. with:\n",
      "# for gsf in extractor.gsf:\n",
      "#     gsf.cut_nan()\n",
      "\n",
      "gsf #5 contains nan's.\n",
      "Consider removing them e.g. with:\n",
      "# for gsf in extractor.gsf:\n",
      "#     gsf.cut_nan()\n",
      "\n",
      "gsf #6 contains nan's.\n",
      "Consider removing them e.g. with:\n",
      "# for gsf in extractor.gsf:\n",
      "#     gsf.cut_nan()\n",
      "\n",
      "gsf #7 contains nan's.\n",
      "Consider removing them e.g. with:\n",
      "# for gsf in extractor.gsf:\n",
      "#     gsf.cut_nan()\n",
      "\n",
      "gsf #8 contains nan's.\n",
      "Consider removing them e.g. with:\n",
      "# for gsf in extractor.gsf:\n",
      "#     gsf.cut_nan()\n",
      "\n",
      "gsf #9 contains nan's.\n",
      "Consider removing them e.g. with:\n",
      "# for gsf in extractor.gsf:\n",
      "#     gsf.cut_nan()\n",
      "\n",
      "gsf #10 contains nan's.\n",
      "Consider removing them e.g. with:\n",
      "# for gsf in extractor.gsf:\n",
      "#     gsf.cut_nan()\n",
      "\n",
      "gsf #11 contains nan's.\n",
      "Consider removing them e.g. with:\n",
      "# for gsf in extractor.gsf:\n",
      "#     gsf.cut_nan()\n",
      "\n",
      "gsf #12 contains nan's.\n",
      "Consider removing them e.g. with:\n",
      "# for gsf in extractor.gsf:\n",
      "#     gsf.cut_nan()\n",
      "\n",
      "gsf #13 contains nan's.\n",
      "Consider removing them e.g. with:\n",
      "# for gsf in extractor.gsf:\n",
      "#     gsf.cut_nan()\n",
      "\n"
     ]
    }
   ],
   "source": [
    "ensemble_full = om.Ensemble(raw=raw_orig, path=\"saved_run/ensemble/full\") # Note raw will be changed later manually.\n",
    "ensemble_full.unfolder = unfolder\n",
    "ensemble_full.first_generation_method = firstgen\n",
    "\n",
    "extractors_ens = []\n",
    "for n in range(3, 15):\n",
    "    ensemble_full.generate(n, regenerate=True)\n",
    "    ensemble_full.rebin(E_rebinned, member=\"firstgen\")\n",
    "    extractors_ens.append(om.Extractor())\n",
    "    extractors_ens[-1].trapezoid = trapezoid_cut\n",
    "    extractors_ens[-1].extract_from(ensemble_full, regenerate=True)"
   ]
  },
  {
   "cell_type": "code",
   "execution_count": 20,
   "id": "4256da72-829b-4e50-9c66-ad211e8b6165",
   "metadata": {
    "collapsed": true,
    "jupyter": {
     "outputs_hidden": true
    },
    "tags": []
   },
   "outputs": [
    {
     "name": "stdout",
     "output_type": "stream",
     "text": [
      "2021-08-12 10:43:04,405 - ompy.error_finder - DEBUG - Processing an ensemble with 3 members\n",
      "2021-08-12 10:43:04,406 - ompy.error_finder - DEBUG - Before removing nan: 45 NLD values and 31 GSF values\n",
      "2021-08-12 10:43:04,407 - ompy.error_finder - WARNING - NLDs and/or γSFs contains nan's. They will be removed\n",
      "2021-08-12 10:43:04,408 - ompy.error_finder - DEBUG - After removing nan: 30 NLD values and 30 GSF values\n",
      "2021-08-12 10:43:04,409 - ompy.error_finder - INFO - Starting pyMC3 inference - logarithmic model\n"
     ]
    },
    {
     "name": "stderr",
     "output_type": "stream",
     "text": [
      "Auto-assigning NUTS sampler...\n",
      "Initializing NUTS using jitter+adapt_diag...\n",
      "Multiprocess sampling (4 chains in 4 jobs)\n",
      "NUTS: [σ_f, σ_ρ, α, F, D, σ_α, σ_F, σ_D]\n"
     ]
    },
    {
     "data": {
      "text/html": [
       "\n",
       "    <div>\n",
       "        <style>\n",
       "            /* Turns off some styling */\n",
       "            progress {\n",
       "                /* gets rid of default border in Firefox and Opera. */\n",
       "                border: none;\n",
       "                /* Needs to be in here for Safari polyfill so background images work as expected. */\n",
       "                background-size: auto;\n",
       "            }\n",
       "            .progress-bar-interrupted, .progress-bar-interrupted::-webkit-progress-bar {\n",
       "                background: #F44336;\n",
       "            }\n",
       "        </style>\n",
       "      <progress value='8000' class='' max='8000' style='width:300px; height:20px; vertical-align: middle;'></progress>\n",
       "      100.00% [8000/8000 01:10<00:00 Sampling 4 chains, 500 divergences]\n",
       "    </div>\n",
       "    "
      ],
      "text/plain": [
       "<IPython.core.display.HTML object>"
      ]
     },
     "metadata": {},
     "output_type": "display_data"
    },
    {
     "name": "stderr",
     "output_type": "stream",
     "text": [
      "Sampling 4 chains for 1_000 tune and 1_000 draw iterations (4_000 + 4_000 draws total) took 82 seconds.\n",
      "There were 310 divergences after tuning. Increase `target_accept` or reparameterize.\n",
      "The acceptance probability does not match the target. It is 0.5323431089331814, but should be close to 0.8. Try to increase the number of tuning steps.\n",
      "There were 29 divergences after tuning. Increase `target_accept` or reparameterize.\n",
      "There were 117 divergences after tuning. Increase `target_accept` or reparameterize.\n",
      "The acceptance probability does not match the target. It is 0.6415360461552452, but should be close to 0.8. Try to increase the number of tuning steps.\n",
      "There were 44 divergences after tuning. Increase `target_accept` or reparameterize.\n",
      "The rhat statistic is larger than 1.05 for some parameters. This indicates slight problems during sampling.\n",
      "The estimated number of effective samples is smaller than 200 for some parameters.\n"
     ]
    },
    {
     "name": "stdout",
     "output_type": "stream",
     "text": [
      "2021-08-12 10:44:36,679 - ompy.error_finder - INFO - Inference results:\n",
      "┌─────────────┬─────────────┬────────────────┬─────────────┬─────────────┬───────────────┐\n",
      "│ D           │ F           │ α              │ σ_D         │ σ_F         │ σ_α           │\n",
      "╞═════════════╪═════════════╪════════════════╪═════════════╪═════════════╪═══════════════╡\n",
      "│ 0.00 ± 0.31 │ 0.00 ± 0.32 │ -0.000 ± 0.069 │ 0.39 ± 0.15 │ 0.41 ± 0.16 │ 0.088 ± 0.037 │\n",
      "└─────────────┴─────────────┴────────────────┴─────────────┴─────────────┴───────────────┘\n",
      "┌────┬───────────────┬─────────────┐\n",
      "│    │ σ_ρ [%]       │ σ_f [%]     │\n",
      "╞════╪═══════════════╪═════════════╡\n",
      "│ 0  │ 2.32 ± 0.94   │ 3.2 ± 1.3   │\n",
      "├────┼───────────────┼─────────────┤\n",
      "│ 1  │ 0.046 ± 0.039 │ 1.38 ± 0.58 │\n",
      "├────┼───────────────┼─────────────┤\n",
      "│ 2  │ 0.049 ± 0.044 │ 2.5 ± 1.1   │\n",
      "├────┼───────────────┼─────────────┤\n",
      "│ 3  │ 3.3 ± 1.2     │ 3.3 ± 1.3   │\n",
      "├────┼───────────────┼─────────────┤\n",
      "│ 4  │ 2.8 ± 1.0     │ 0.85 ± 0.49 │\n",
      "├────┼───────────────┼─────────────┤\n",
      "│ 5  │ 3.9 ± 1.6     │ 2.9 ± 1.5   │\n",
      "├────┼───────────────┼─────────────┤\n",
      "│ 6  │ 4.4 ± 1.7     │ 0.25 ± 0.32 │\n",
      "├────┼───────────────┼─────────────┤\n",
      "│ 7  │ 3.5 ± 1.4     │ 1.31 ± 0.55 │\n",
      "├────┼───────────────┼─────────────┤\n",
      "│ 8  │ 4.5 ± 1.8     │ 2.03 ± 0.91 │\n",
      "├────┼───────────────┼─────────────┤\n",
      "│ 9  │ 3.8 ± 1.5     │ 1.16 ± 0.46 │\n",
      "├────┼───────────────┼─────────────┤\n",
      "│ 10 │ 1.24 ± 0.53   │ 2.21 ± 0.95 │\n",
      "├────┼───────────────┼─────────────┤\n",
      "│ 11 │ 2.05 ± 0.82   │ 2.5 ± 1.2   │\n",
      "├────┼───────────────┼─────────────┤\n",
      "│ 12 │ 2.39 ± 1.00   │ 6.9 ± 2.7   │\n",
      "├────┼───────────────┼─────────────┤\n",
      "│ 13 │ 3.9 ± 1.5     │ 0.10 ± 0.11 │\n",
      "├────┼───────────────┼─────────────┤\n",
      "│ 14 │ 1.54 ± 0.65   │ 2.20 ± 0.84 │\n",
      "├────┼───────────────┼─────────────┤\n",
      "│ 15 │ 4.2 ± 1.6     │ 1.81 ± 0.74 │\n",
      "├────┼───────────────┼─────────────┤\n",
      "│ 16 │ 6.4 ± 3.2     │ 4.3 ± 2.5   │\n",
      "├────┼───────────────┼─────────────┤\n",
      "│ 17 │ 6.6 ± 2.7     │ 1.24 ± 0.80 │\n",
      "├────┼───────────────┼─────────────┤\n",
      "│ 18 │ 3.2 ± 1.3     │ 8.3 ± 3.6   │\n",
      "├────┼───────────────┼─────────────┤\n",
      "│ 19 │ 1.29 ± 0.73   │ 7.5 ± 3.1   │\n",
      "├────┼───────────────┼─────────────┤\n",
      "│ 20 │ 1.30 ± 0.72   │ 0.27 ± 0.19 │\n",
      "├────┼───────────────┼─────────────┤\n",
      "│ 21 │ 1.47 ± 0.82   │ 7.8 ± 2.9   │\n",
      "├────┼───────────────┼─────────────┤\n",
      "│ 22 │ 11.4 ± 4.5    │ 0.35 ± 0.31 │\n",
      "├────┼───────────────┼─────────────┤\n",
      "│ 23 │ 4.7 ± 2.1     │ 5.6 ± 2.2   │\n",
      "├────┼───────────────┼─────────────┤\n",
      "│ 24 │ 3.5 ± 1.5     │ 2.5 ± 1.0   │\n",
      "├────┼───────────────┼─────────────┤\n",
      "│ 25 │ 3.5 ± 1.6     │ 2.8 ± 1.3   │\n",
      "├────┼───────────────┼─────────────┤\n",
      "│ 26 │ 10.3 ± 4.1    │ 7.3 ± 3.2   │\n",
      "├────┼───────────────┼─────────────┤\n",
      "│ 27 │ 4.3 ± 1.8     │ 5.6 ± 2.6   │\n",
      "├────┼───────────────┼─────────────┤\n",
      "│ 28 │ 12.2 ± 4.7    │ 34 ± 16     │\n",
      "├────┼───────────────┼─────────────┤\n",
      "│ 29 │ 16.5 ± 6.8    │ 31 ± 11     │\n",
      "└────┴───────────────┴─────────────┘\n",
      "2021-08-12 10:44:36,687 - ompy.error_finder - DEBUG - Processing an ensemble with 4 members\n",
      "2021-08-12 10:44:36,688 - ompy.error_finder - DEBUG - Before removing nan: 45 NLD values and 31 GSF values\n",
      "2021-08-12 10:44:36,689 - ompy.error_finder - WARNING - NLDs and/or γSFs contains nan's. They will be removed\n",
      "2021-08-12 10:44:36,690 - ompy.error_finder - DEBUG - After removing nan: 30 NLD values and 30 GSF values\n",
      "2021-08-12 10:44:36,690 - ompy.error_finder - INFO - Starting pyMC3 inference - logarithmic model\n"
     ]
    },
    {
     "name": "stderr",
     "output_type": "stream",
     "text": [
      "Auto-assigning NUTS sampler...\n",
      "Initializing NUTS using jitter+adapt_diag...\n",
      "Multiprocess sampling (4 chains in 4 jobs)\n",
      "NUTS: [σ_f, σ_ρ, α, F, D, σ_α, σ_F, σ_D]\n"
     ]
    },
    {
     "data": {
      "text/html": [
       "\n",
       "    <div>\n",
       "        <style>\n",
       "            /* Turns off some styling */\n",
       "            progress {\n",
       "                /* gets rid of default border in Firefox and Opera. */\n",
       "                border: none;\n",
       "                /* Needs to be in here for Safari polyfill so background images work as expected. */\n",
       "                background-size: auto;\n",
       "            }\n",
       "            .progress-bar-interrupted, .progress-bar-interrupted::-webkit-progress-bar {\n",
       "                background: #F44336;\n",
       "            }\n",
       "        </style>\n",
       "      <progress value='8000' class='' max='8000' style='width:300px; height:20px; vertical-align: middle;'></progress>\n",
       "      100.00% [8000/8000 01:01<00:00 Sampling 4 chains, 19 divergences]\n",
       "    </div>\n",
       "    "
      ],
      "text/plain": [
       "<IPython.core.display.HTML object>"
      ]
     },
     "metadata": {},
     "output_type": "display_data"
    },
    {
     "name": "stderr",
     "output_type": "stream",
     "text": [
      "Sampling 4 chains for 1_000 tune and 1_000 draw iterations (4_000 + 4_000 draws total) took 71 seconds.\n",
      "There were 3 divergences after tuning. Increase `target_accept` or reparameterize.\n",
      "There were 3 divergences after tuning. Increase `target_accept` or reparameterize.\n",
      "There were 13 divergences after tuning. Increase `target_accept` or reparameterize.\n",
      "The rhat statistic is larger than 1.05 for some parameters. This indicates slight problems during sampling.\n",
      "The estimated number of effective samples is smaller than 200 for some parameters.\n"
     ]
    },
    {
     "name": "stdout",
     "output_type": "stream",
     "text": [
      "2021-08-12 10:45:57,231 - ompy.error_finder - INFO - Inference results:\n",
      "┌──────────────┬─────────────┬────────────────┬───────────────┬─────────────┬───────────────┐\n",
      "│ D            │ F           │ α              │ σ_D           │ σ_F         │ σ_α           │\n",
      "╞══════════════╪═════════════╪════════════════╪═══════════════╪═════════════╪═══════════════╡\n",
      "│ -0.00 ± 0.31 │ 0.00 ± 0.43 │ -0.000 ± 0.071 │ 0.346 ± 0.082 │ 0.48 ± 0.12 │ 0.080 ± 0.019 │\n",
      "└──────────────┴─────────────┴────────────────┴───────────────┴─────────────┴───────────────┘\n",
      "┌────┬─────────────┬─────────────┐\n",
      "│    │ σ_ρ [%]     │ σ_f [%]     │\n",
      "╞════╪═════════════╪═════════════╡\n",
      "│ 0  │ 0.51 ± 0.32 │ 1.96 ± 0.49 │\n",
      "├────┼─────────────┼─────────────┤\n",
      "│ 1  │ 0.62 ± 0.31 │ 0.22 ± 0.15 │\n",
      "├────┼─────────────┼─────────────┤\n",
      "│ 2  │ 1.21 ± 0.31 │ 3.18 ± 0.76 │\n",
      "├────┼─────────────┼─────────────┤\n",
      "│ 3  │ 3.35 ± 0.85 │ 2.98 ± 0.73 │\n",
      "├────┼─────────────┼─────────────┤\n",
      "│ 4  │ 2.11 ± 0.51 │ 0.28 ± 0.15 │\n",
      "├────┼─────────────┼─────────────┤\n",
      "│ 5  │ 2.79 ± 0.66 │ 2.94 ± 0.69 │\n",
      "├────┼─────────────┼─────────────┤\n",
      "│ 6  │ 2.23 ± 0.57 │ 1.65 ± 0.41 │\n",
      "├────┼─────────────┼─────────────┤\n",
      "│ 7  │ 3.87 ± 0.92 │ 1.49 ± 0.37 │\n",
      "├────┼─────────────┼─────────────┤\n",
      "│ 8  │ 4.07 ± 0.98 │ 2.19 ± 0.54 │\n",
      "├────┼─────────────┼─────────────┤\n",
      "│ 9  │ 2.14 ± 0.51 │ 1.48 ± 0.38 │\n",
      "├────┼─────────────┼─────────────┤\n",
      "│ 10 │ 0.78 ± 0.23 │ 1.48 ± 0.38 │\n",
      "├────┼─────────────┼─────────────┤\n",
      "│ 11 │ 2.45 ± 0.58 │ 0.52 ± 0.25 │\n",
      "├────┼─────────────┼─────────────┤\n",
      "│ 12 │ 3.08 ± 0.73 │ 5.7 ± 1.3   │\n",
      "├────┼─────────────┼─────────────┤\n",
      "│ 13 │ 1.33 ± 0.34 │ 1.77 ± 0.46 │\n",
      "├────┼─────────────┼─────────────┤\n",
      "│ 14 │ 0.26 ± 0.23 │ 5.0 ± 1.2   │\n",
      "├────┼─────────────┼─────────────┤\n",
      "│ 15 │ 4.3 ± 1.1   │ 3.24 ± 0.83 │\n",
      "├────┼─────────────┼─────────────┤\n",
      "│ 16 │ 4.9 ± 1.2   │ 4.6 ± 1.1   │\n",
      "├────┼─────────────┼─────────────┤\n",
      "│ 17 │ 4.5 ± 1.1   │ 3.19 ± 0.77 │\n",
      "├────┼─────────────┼─────────────┤\n",
      "│ 18 │ 6.8 ± 1.7   │ 8.4 ± 2.0   │\n",
      "├────┼─────────────┼─────────────┤\n",
      "│ 19 │ 3.62 ± 0.88 │ 2.85 ± 0.69 │\n",
      "├────┼─────────────┼─────────────┤\n",
      "│ 20 │ 3.19 ± 0.81 │ 6.1 ± 1.5   │\n",
      "├────┼─────────────┼─────────────┤\n",
      "│ 21 │ 3.69 ± 0.89 │ 6.9 ± 1.7   │\n",
      "├────┼─────────────┼─────────────┤\n",
      "│ 22 │ 7.8 ± 1.8   │ 1.65 ± 0.54 │\n",
      "├────┼─────────────┼─────────────┤\n",
      "│ 23 │ 4.5 ± 1.1   │ 9.4 ± 2.3   │\n",
      "├────┼─────────────┼─────────────┤\n",
      "│ 24 │ 2.90 ± 0.75 │ 9.2 ± 2.3   │\n",
      "├────┼─────────────┼─────────────┤\n",
      "│ 25 │ 6.6 ± 1.6   │ 5.2 ± 1.3   │\n",
      "├────┼─────────────┼─────────────┤\n",
      "│ 26 │ 7.8 ± 1.8   │ 6.0 ± 1.5   │\n",
      "├────┼─────────────┼─────────────┤\n",
      "│ 27 │ 5.2 ± 1.3   │ 7.3 ± 1.8   │\n",
      "├────┼─────────────┼─────────────┤\n",
      "│ 28 │ 10.7 ± 2.7  │ 26.9 ± 6.3  │\n",
      "├────┼─────────────┼─────────────┤\n",
      "│ 29 │ 25.5 ± 6.1  │ 24.6 ± 5.9  │\n",
      "└────┴─────────────┴─────────────┘\n",
      "2021-08-12 10:45:57,237 - ompy.error_finder - DEBUG - Processing an ensemble with 5 members\n",
      "2021-08-12 10:45:57,238 - ompy.error_finder - DEBUG - Before removing nan: 45 NLD values and 31 GSF values\n",
      "2021-08-12 10:45:57,239 - ompy.error_finder - WARNING - NLDs and/or γSFs contains nan's. They will be removed\n",
      "2021-08-12 10:45:57,240 - ompy.error_finder - DEBUG - After removing nan: 30 NLD values and 30 GSF values\n",
      "2021-08-12 10:45:57,241 - ompy.error_finder - INFO - Starting pyMC3 inference - logarithmic model\n"
     ]
    },
    {
     "name": "stderr",
     "output_type": "stream",
     "text": [
      "Auto-assigning NUTS sampler...\n",
      "Initializing NUTS using jitter+adapt_diag...\n",
      "Multiprocess sampling (4 chains in 4 jobs)\n",
      "NUTS: [σ_f, σ_ρ, α, F, D, σ_α, σ_F, σ_D]\n"
     ]
    },
    {
     "data": {
      "text/html": [
       "\n",
       "    <div>\n",
       "        <style>\n",
       "            /* Turns off some styling */\n",
       "            progress {\n",
       "                /* gets rid of default border in Firefox and Opera. */\n",
       "                border: none;\n",
       "                /* Needs to be in here for Safari polyfill so background images work as expected. */\n",
       "                background-size: auto;\n",
       "            }\n",
       "            .progress-bar-interrupted, .progress-bar-interrupted::-webkit-progress-bar {\n",
       "                background: #F44336;\n",
       "            }\n",
       "        </style>\n",
       "      <progress value='8000' class='' max='8000' style='width:300px; height:20px; vertical-align: middle;'></progress>\n",
       "      100.00% [8000/8000 01:29<00:00 Sampling 4 chains, 57 divergences]\n",
       "    </div>\n",
       "    "
      ],
      "text/plain": [
       "<IPython.core.display.HTML object>"
      ]
     },
     "metadata": {},
     "output_type": "display_data"
    },
    {
     "name": "stderr",
     "output_type": "stream",
     "text": [
      "Sampling 4 chains for 1_000 tune and 1_000 draw iterations (4_000 + 4_000 draws total) took 98 seconds.\n",
      "There was 1 divergence after tuning. Increase `target_accept` or reparameterize.\n",
      "There were 8 divergences after tuning. Increase `target_accept` or reparameterize.\n",
      "The acceptance probability does not match the target. It is 0.6820218655545547, but should be close to 0.8. Try to increase the number of tuning steps.\n",
      "There were 48 divergences after tuning. Increase `target_accept` or reparameterize.\n",
      "The acceptance probability does not match the target. It is 0.5621465385353126, but should be close to 0.8. Try to increase the number of tuning steps.\n",
      "The acceptance probability does not match the target. It is 0.9501354874730317, but should be close to 0.8. Try to increase the number of tuning steps.\n",
      "The rhat statistic is larger than 1.05 for some parameters. This indicates slight problems during sampling.\n",
      "The estimated number of effective samples is smaller than 200 for some parameters.\n"
     ]
    },
    {
     "name": "stdout",
     "output_type": "stream",
     "text": [
      "2021-08-12 10:47:45,945 - ompy.error_finder - INFO - Inference results:\n",
      "┌─────────────┬─────────────┬────────────────┬───────────────┬───────────────┬───────────────┐\n",
      "│ D           │ F           │ α              │ σ_D           │ σ_F           │ σ_α           │\n",
      "╞═════════════╪═════════════╪════════════════╪═══════════════╪═══════════════╪═══════════════╡\n",
      "│ 0.00 ± 0.28 │ 0.00 ± 0.34 │ -0.000 ± 0.064 │ 0.309 ± 0.058 │ 0.368 ± 0.063 │ 0.068 ± 0.012 │\n",
      "└─────────────┴─────────────┴────────────────┴───────────────┴───────────────┴───────────────┘\n",
      "┌────┬───────────────┬─────────────┐\n",
      "│    │ σ_ρ [%]       │ σ_f [%]     │\n",
      "╞════╪═══════════════╪═════════════╡\n",
      "│ 0  │ 2.22 ± 0.57   │ 1.41 ± 0.55 │\n",
      "├────┼───────────────┼─────────────┤\n",
      "│ 1  │ 0.41 ± 0.51   │ 3.44 ± 0.71 │\n",
      "├────┼───────────────┼─────────────┤\n",
      "│ 2  │ 2.12 ± 0.49   │ 4.29 ± 0.82 │\n",
      "├────┼───────────────┼─────────────┤\n",
      "│ 3  │ 2.80 ± 0.58   │ 3.72 ± 0.66 │\n",
      "├────┼───────────────┼─────────────┤\n",
      "│ 4  │ 2.74 ± 0.55   │ 1.67 ± 0.46 │\n",
      "├────┼───────────────┼─────────────┤\n",
      "│ 5  │ 2.85 ± 0.55   │ 1.91 ± 0.35 │\n",
      "├────┼───────────────┼─────────────┤\n",
      "│ 6  │ 3.10 ± 0.54   │ 2.01 ± 0.40 │\n",
      "├────┼───────────────┼─────────────┤\n",
      "│ 7  │ 4.17 ± 0.72   │ 0.96 ± 0.32 │\n",
      "├────┼───────────────┼─────────────┤\n",
      "│ 8  │ 3.54 ± 0.62   │ 1.21 ± 0.24 │\n",
      "├────┼───────────────┼─────────────┤\n",
      "│ 9  │ 2.09 ± 0.37   │ 3.27 ± 0.65 │\n",
      "├────┼───────────────┼─────────────┤\n",
      "│ 10 │ 2.74 ± 0.47   │ 1.02 ± 0.23 │\n",
      "├────┼───────────────┼─────────────┤\n",
      "│ 11 │ 2.08 ± 0.35   │ 0.89 ± 0.24 │\n",
      "├────┼───────────────┼─────────────┤\n",
      "│ 12 │ 2.15 ± 0.37   │ 5.19 ± 0.90 │\n",
      "├────┼───────────────┼─────────────┤\n",
      "│ 13 │ 2.73 ± 0.47   │ 2.41 ± 0.42 │\n",
      "├────┼───────────────┼─────────────┤\n",
      "│ 14 │ 0.128 ± 0.079 │ 3.60 ± 0.64 │\n",
      "├────┼───────────────┼─────────────┤\n",
      "│ 15 │ 3.33 ± 0.56   │ 2.12 ± 0.43 │\n",
      "├────┼───────────────┼─────────────┤\n",
      "│ 16 │ 3.74 ± 0.66   │ 4.41 ± 0.81 │\n",
      "├────┼───────────────┼─────────────┤\n",
      "│ 17 │ 4.43 ± 0.77   │ 3.90 ± 0.72 │\n",
      "├────┼───────────────┼─────────────┤\n",
      "│ 18 │ 5.13 ± 0.94   │ 6.1 ± 1.1   │\n",
      "├────┼───────────────┼─────────────┤\n",
      "│ 19 │ 2.85 ± 0.49   │ 2.83 ± 0.57 │\n",
      "├────┼───────────────┼─────────────┤\n",
      "│ 20 │ 2.94 ± 0.50   │ 6.0 ± 1.0   │\n",
      "├────┼───────────────┼─────────────┤\n",
      "│ 21 │ 5.77 ± 0.98   │ 6.0 ± 1.1   │\n",
      "├────┼───────────────┼─────────────┤\n",
      "│ 22 │ 7.5 ± 1.3     │ 1.78 ± 0.47 │\n",
      "├────┼───────────────┼─────────────┤\n",
      "│ 23 │ 3.26 ± 0.56   │ 8.1 ± 1.4   │\n",
      "├────┼───────────────┼─────────────┤\n",
      "│ 24 │ 2.88 ± 0.53   │ 7.6 ± 1.3   │\n",
      "├────┼───────────────┼─────────────┤\n",
      "│ 25 │ 6.2 ± 1.1     │ 5.22 ± 0.88 │\n",
      "├────┼───────────────┼─────────────┤\n",
      "│ 26 │ 9.2 ± 1.6     │ 7.0 ± 1.3   │\n",
      "├────┼───────────────┼─────────────┤\n",
      "│ 27 │ 2.37 ± 0.43   │ 6.8 ± 1.2   │\n",
      "├────┼───────────────┼─────────────┤\n",
      "│ 28 │ 9.5 ± 1.7     │ 24.6 ± 4.2  │\n",
      "├────┼───────────────┼─────────────┤\n",
      "│ 29 │ 27.3 ± 4.6    │ 27.3 ± 4.9  │\n",
      "└────┴───────────────┴─────────────┘\n",
      "2021-08-12 10:47:45,954 - ompy.error_finder - DEBUG - Processing an ensemble with 6 members\n",
      "2021-08-12 10:47:45,956 - ompy.error_finder - DEBUG - Before removing nan: 45 NLD values and 31 GSF values\n",
      "2021-08-12 10:47:45,957 - ompy.error_finder - WARNING - NLDs and/or γSFs contains nan's. They will be removed\n",
      "2021-08-12 10:47:45,957 - ompy.error_finder - DEBUG - After removing nan: 30 NLD values and 30 GSF values\n",
      "2021-08-12 10:47:45,959 - ompy.error_finder - INFO - Starting pyMC3 inference - logarithmic model\n"
     ]
    },
    {
     "name": "stderr",
     "output_type": "stream",
     "text": [
      "Auto-assigning NUTS sampler...\n",
      "Initializing NUTS using jitter+adapt_diag...\n",
      "Multiprocess sampling (4 chains in 4 jobs)\n",
      "NUTS: [σ_f, σ_ρ, α, F, D, σ_α, σ_F, σ_D]\n"
     ]
    },
    {
     "data": {
      "text/html": [
       "\n",
       "    <div>\n",
       "        <style>\n",
       "            /* Turns off some styling */\n",
       "            progress {\n",
       "                /* gets rid of default border in Firefox and Opera. */\n",
       "                border: none;\n",
       "                /* Needs to be in here for Safari polyfill so background images work as expected. */\n",
       "                background-size: auto;\n",
       "            }\n",
       "            .progress-bar-interrupted, .progress-bar-interrupted::-webkit-progress-bar {\n",
       "                background: #F44336;\n",
       "            }\n",
       "        </style>\n",
       "      <progress value='8000' class='' max='8000' style='width:300px; height:20px; vertical-align: middle;'></progress>\n",
       "      100.00% [8000/8000 01:08<00:00 Sampling 4 chains, 949 divergences]\n",
       "    </div>\n",
       "    "
      ],
      "text/plain": [
       "<IPython.core.display.HTML object>"
      ]
     },
     "metadata": {},
     "output_type": "display_data"
    },
    {
     "name": "stderr",
     "output_type": "stream",
     "text": [
      "Sampling 4 chains for 1_000 tune and 1_000 draw iterations (4_000 + 4_000 draws total) took 78 seconds.\n",
      "There was 1 divergence after tuning. Increase `target_accept` or reparameterize.\n",
      "There were 944 divergences after tuning. Increase `target_accept` or reparameterize.\n",
      "The acceptance probability does not match the target. It is 2.8572558743334045e-23, but should be close to 0.8. Try to increase the number of tuning steps.\n",
      "There were 3 divergences after tuning. Increase `target_accept` or reparameterize.\n",
      "There was 1 divergence after tuning. Increase `target_accept` or reparameterize.\n",
      "The rhat statistic is larger than 1.4 for some parameters. The sampler did not converge.\n",
      "The estimated number of effective samples is smaller than 200 for some parameters.\n"
     ]
    },
    {
     "name": "stdout",
     "output_type": "stream",
     "text": [
      "2021-08-12 10:49:15,688 - ompy.error_finder - INFO - Inference results:\n",
      "┌─────────────┬─────────────┬────────────────┬───────────────┬───────────────┬───────────────┐\n",
      "│ D           │ F           │ α              │ σ_D           │ σ_F           │ σ_α           │\n",
      "╞═════════════╪═════════════╪════════════════╪═══════════════╪═══════════════╪═══════════════╡\n",
      "│ 0.00 ± 0.27 │ 0.00 ± 0.31 │ -0.000 ± 0.081 │ 0.273 ± 0.037 │ 0.316 ± 0.045 │ 0.087 ± 0.011 │\n",
      "└─────────────┴─────────────┴────────────────┴───────────────┴───────────────┴───────────────┘\n",
      "┌────┬─────────────┬─────────────┐\n",
      "│    │ σ_ρ [%]     │ σ_f [%]     │\n",
      "╞════╪═════════════╪═════════════╡\n",
      "│ 0  │ 2.86 ± 0.50 │ 1.47 ± 0.20 │\n",
      "├────┼─────────────┼─────────────┤\n",
      "│ 1  │ 0.26 ± 0.17 │ 3.49 ± 0.50 │\n",
      "├────┼─────────────┼─────────────┤\n",
      "│ 2  │ 1.55 ± 0.19 │ 3.99 ± 0.51 │\n",
      "├────┼─────────────┼─────────────┤\n",
      "│ 3  │ 3.58 ± 0.43 │ 3.63 ± 0.43 │\n",
      "├────┼─────────────┼─────────────┤\n",
      "│ 4  │ 2.85 ± 0.38 │ 1.86 ± 0.38 │\n",
      "├────┼─────────────┼─────────────┤\n",
      "│ 5  │ 2.97 ± 0.38 │ 1.92 ± 0.26 │\n",
      "├────┼─────────────┼─────────────┤\n",
      "│ 6  │ 3.97 ± 0.55 │ 2.70 ± 0.35 │\n",
      "├────┼─────────────┼─────────────┤\n",
      "│ 7  │ 7.31 ± 0.90 │ 1.02 ± 0.28 │\n",
      "├────┼─────────────┼─────────────┤\n",
      "│ 8  │ 3.50 ± 0.43 │ 2.14 ± 0.28 │\n",
      "├────┼─────────────┼─────────────┤\n",
      "│ 9  │ 3.21 ± 0.39 │ 2.73 ± 0.39 │\n",
      "├────┼─────────────┼─────────────┤\n",
      "│ 10 │ 2.68 ± 0.35 │ 1.81 ± 0.24 │\n",
      "├────┼─────────────┼─────────────┤\n",
      "│ 11 │ 2.38 ± 0.28 │ 0.83 ± 0.22 │\n",
      "├────┼─────────────┼─────────────┤\n",
      "│ 12 │ 1.83 ± 0.23 │ 3.85 ± 0.46 │\n",
      "├────┼─────────────┼─────────────┤\n",
      "│ 13 │ 3.64 ± 0.44 │ 2.70 ± 0.34 │\n",
      "├────┼─────────────┼─────────────┤\n",
      "│ 14 │ 0.15 ± 0.13 │ 3.51 ± 0.60 │\n",
      "├────┼─────────────┼─────────────┤\n",
      "│ 15 │ 4.97 ± 0.55 │ 3.19 ± 0.53 │\n",
      "├────┼─────────────┼─────────────┤\n",
      "│ 16 │ 3.25 ± 0.52 │ 4.47 ± 0.63 │\n",
      "├────┼─────────────┼─────────────┤\n",
      "│ 17 │ 4.39 ± 0.67 │ 5.29 ± 0.74 │\n",
      "├────┼─────────────┼─────────────┤\n",
      "│ 18 │ 5.15 ± 0.68 │ 6.11 ± 0.73 │\n",
      "├────┼─────────────┼─────────────┤\n",
      "│ 19 │ 4.01 ± 0.50 │ 3.28 ± 0.49 │\n",
      "├────┼─────────────┼─────────────┤\n",
      "│ 20 │ 3.50 ± 0.41 │ 8.11 ± 1.00 │\n",
      "├────┼─────────────┼─────────────┤\n",
      "│ 21 │ 5.02 ± 0.62 │ 5.32 ± 0.62 │\n",
      "├────┼─────────────┼─────────────┤\n",
      "│ 22 │ 8.3 ± 1.1   │ 3.60 ± 0.51 │\n",
      "├────┼─────────────┼─────────────┤\n",
      "│ 23 │ 5.03 ± 0.57 │ 6.85 ± 0.91 │\n",
      "├────┼─────────────┼─────────────┤\n",
      "│ 24 │ 4.46 ± 0.54 │ 5.80 ± 0.73 │\n",
      "├────┼─────────────┼─────────────┤\n",
      "│ 25 │ 5.80 ± 0.70 │ 5.00 ± 0.61 │\n",
      "├────┼─────────────┼─────────────┤\n",
      "│ 26 │ 10.2 ± 1.3  │ 6.1 ± 1.0   │\n",
      "├────┼─────────────┼─────────────┤\n",
      "│ 27 │ 7.81 ± 0.96 │ 6.4 ± 1.0   │\n",
      "├────┼─────────────┼─────────────┤\n",
      "│ 28 │ 9.7 ± 1.2   │ 24.0 ± 2.9  │\n",
      "├────┼─────────────┼─────────────┤\n",
      "│ 29 │ 25.3 ± 3.4  │ 22.9 ± 2.9  │\n",
      "└────┴─────────────┴─────────────┘\n",
      "2021-08-12 10:49:15,696 - ompy.error_finder - DEBUG - Processing an ensemble with 7 members\n",
      "2021-08-12 10:49:15,697 - ompy.error_finder - DEBUG - Before removing nan: 45 NLD values and 31 GSF values\n",
      "2021-08-12 10:49:15,698 - ompy.error_finder - WARNING - NLDs and/or γSFs contains nan's. They will be removed\n",
      "2021-08-12 10:49:15,699 - ompy.error_finder - DEBUG - After removing nan: 30 NLD values and 30 GSF values\n",
      "2021-08-12 10:49:15,700 - ompy.error_finder - INFO - Starting pyMC3 inference - logarithmic model\n"
     ]
    },
    {
     "name": "stderr",
     "output_type": "stream",
     "text": [
      "Auto-assigning NUTS sampler...\n",
      "Initializing NUTS using jitter+adapt_diag...\n",
      "Multiprocess sampling (4 chains in 4 jobs)\n",
      "NUTS: [σ_f, σ_ρ, α, F, D, σ_α, σ_F, σ_D]\n"
     ]
    },
    {
     "data": {
      "text/html": [
       "\n",
       "    <div>\n",
       "        <style>\n",
       "            /* Turns off some styling */\n",
       "            progress {\n",
       "                /* gets rid of default border in Firefox and Opera. */\n",
       "                border: none;\n",
       "                /* Needs to be in here for Safari polyfill so background images work as expected. */\n",
       "                background-size: auto;\n",
       "            }\n",
       "            .progress-bar-interrupted, .progress-bar-interrupted::-webkit-progress-bar {\n",
       "                background: #F44336;\n",
       "            }\n",
       "        </style>\n",
       "      <progress value='8000' class='' max='8000' style='width:300px; height:20px; vertical-align: middle;'></progress>\n",
       "      100.00% [8000/8000 00:43<00:00 Sampling 4 chains, 0 divergences]\n",
       "    </div>\n",
       "    "
      ],
      "text/plain": [
       "<IPython.core.display.HTML object>"
      ]
     },
     "metadata": {},
     "output_type": "display_data"
    },
    {
     "name": "stderr",
     "output_type": "stream",
     "text": [
      "Sampling 4 chains for 1_000 tune and 1_000 draw iterations (4_000 + 4_000 draws total) took 54 seconds.\n",
      "The number of effective samples is smaller than 25% for some parameters.\n"
     ]
    },
    {
     "name": "stdout",
     "output_type": "stream",
     "text": [
      "2021-08-12 10:50:20,251 - ompy.error_finder - INFO - Inference results:\n",
      "┌──────────────┬──────────────┬───────────────┬───────────────┬───────────────┬─────────────────┐\n",
      "│ D            │ F            │ α             │ σ_D           │ σ_F           │ σ_α             │\n",
      "╞══════════════╪══════════════╪═══════════════╪═══════════════╪═══════════════╪═════════════════╡\n",
      "│ -0.00 ± 0.25 │ -0.00 ± 0.29 │ 0.000 ± 0.077 │ 0.260 ± 0.031 │ 0.297 ± 0.033 │ 0.0791 ± 0.0088 │\n",
      "└──────────────┴──────────────┴───────────────┴───────────────┴───────────────┴─────────────────┘\n",
      "┌────┬─────────────┬─────────────┐\n",
      "│    │ σ_ρ [%]     │ σ_f [%]     │\n",
      "╞════╪═════════════╪═════════════╡\n",
      "│ 0  │ 1.31 ± 0.30 │ 3.14 ± 0.39 │\n",
      "├────┼─────────────┼─────────────┤\n",
      "│ 1  │ 2.23 ± 0.32 │ 3.56 ± 0.42 │\n",
      "├────┼─────────────┼─────────────┤\n",
      "│ 2  │ 3.26 ± 0.39 │ 2.96 ± 0.36 │\n",
      "├────┼─────────────┼─────────────┤\n",
      "│ 3  │ 5.00 ± 0.59 │ 5.07 ± 0.58 │\n",
      "├────┼─────────────┼─────────────┤\n",
      "│ 4  │ 2.79 ± 0.34 │ 0.70 ± 0.20 │\n",
      "├────┼─────────────┼─────────────┤\n",
      "│ 5  │ 3.25 ± 0.41 │ 1.99 ± 0.23 │\n",
      "├────┼─────────────┼─────────────┤\n",
      "│ 6  │ 3.31 ± 0.40 │ 1.83 ± 0.22 │\n",
      "├────┼─────────────┼─────────────┤\n",
      "│ 7  │ 6.36 ± 0.75 │ 1.68 ± 0.24 │\n",
      "├────┼─────────────┼─────────────┤\n",
      "│ 8  │ 4.11 ± 0.48 │ 2.46 ± 0.30 │\n",
      "├────┼─────────────┼─────────────┤\n",
      "│ 9  │ 3.18 ± 0.38 │ 1.71 ± 0.23 │\n",
      "├────┼─────────────┼─────────────┤\n",
      "│ 10 │ 2.07 ± 0.27 │ 1.82 ± 0.23 │\n",
      "├────┼─────────────┼─────────────┤\n",
      "│ 11 │ 2.40 ± 0.29 │ 1.53 ± 0.22 │\n",
      "├────┼─────────────┼─────────────┤\n",
      "│ 12 │ 2.60 ± 0.31 │ 3.57 ± 0.42 │\n",
      "├────┼─────────────┼─────────────┤\n",
      "│ 13 │ 3.72 ± 0.43 │ 3.44 ± 0.40 │\n",
      "├────┼─────────────┼─────────────┤\n",
      "│ 14 │ 1.51 ± 0.21 │ 3.60 ± 0.44 │\n",
      "├────┼─────────────┼─────────────┤\n",
      "│ 15 │ 4.27 ± 0.51 │ 3.19 ± 0.40 │\n",
      "├────┼─────────────┼─────────────┤\n",
      "│ 16 │ 2.78 ± 0.33 │ 5.57 ± 0.65 │\n",
      "├────┼─────────────┼─────────────┤\n",
      "│ 17 │ 4.15 ± 0.49 │ 5.26 ± 0.62 │\n",
      "├────┼─────────────┼─────────────┤\n",
      "│ 18 │ 3.74 ± 0.44 │ 5.50 ± 0.62 │\n",
      "├────┼─────────────┼─────────────┤\n",
      "│ 19 │ 4.04 ± 0.49 │ 3.14 ± 0.40 │\n",
      "├────┼─────────────┼─────────────┤\n",
      "│ 20 │ 3.20 ± 0.41 │ 6.71 ± 0.76 │\n",
      "├────┼─────────────┼─────────────┤\n",
      "│ 21 │ 5.92 ± 0.70 │ 6.44 ± 0.75 │\n",
      "├────┼─────────────┼─────────────┤\n",
      "│ 22 │ 6.83 ± 0.80 │ 4.82 ± 0.57 │\n",
      "├────┼─────────────┼─────────────┤\n",
      "│ 23 │ 3.13 ± 0.41 │ 7.13 ± 0.84 │\n",
      "├────┼─────────────┼─────────────┤\n",
      "│ 24 │ 3.49 ± 0.47 │ 6.02 ± 0.71 │\n",
      "├────┼─────────────┼─────────────┤\n",
      "│ 25 │ 6.08 ± 0.72 │ 6.51 ± 0.78 │\n",
      "├────┼─────────────┼─────────────┤\n",
      "│ 26 │ 10.4 ± 1.2  │ 10.6 ± 1.2  │\n",
      "├────┼─────────────┼─────────────┤\n",
      "│ 27 │ 4.78 ± 0.60 │ 7.69 ± 0.92 │\n",
      "├────┼─────────────┼─────────────┤\n",
      "│ 28 │ 8.12 ± 0.98 │ 20.8 ± 2.4  │\n",
      "├────┼─────────────┼─────────────┤\n",
      "│ 29 │ 23.2 ± 2.6  │ 24.1 ± 2.7  │\n",
      "└────┴─────────────┴─────────────┘\n",
      "2021-08-12 10:50:20,264 - ompy.error_finder - DEBUG - Processing an ensemble with 8 members\n",
      "2021-08-12 10:50:20,265 - ompy.error_finder - DEBUG - Before removing nan: 45 NLD values and 31 GSF values\n",
      "2021-08-12 10:50:20,266 - ompy.error_finder - WARNING - NLDs and/or γSFs contains nan's. They will be removed\n",
      "2021-08-12 10:50:20,266 - ompy.error_finder - DEBUG - After removing nan: 30 NLD values and 30 GSF values\n",
      "2021-08-12 10:50:20,267 - ompy.error_finder - INFO - Starting pyMC3 inference - logarithmic model\n"
     ]
    },
    {
     "name": "stderr",
     "output_type": "stream",
     "text": [
      "Auto-assigning NUTS sampler...\n",
      "Initializing NUTS using jitter+adapt_diag...\n",
      "Multiprocess sampling (4 chains in 4 jobs)\n",
      "NUTS: [σ_f, σ_ρ, α, F, D, σ_α, σ_F, σ_D]\n"
     ]
    },
    {
     "data": {
      "text/html": [
       "\n",
       "    <div>\n",
       "        <style>\n",
       "            /* Turns off some styling */\n",
       "            progress {\n",
       "                /* gets rid of default border in Firefox and Opera. */\n",
       "                border: none;\n",
       "                /* Needs to be in here for Safari polyfill so background images work as expected. */\n",
       "                background-size: auto;\n",
       "            }\n",
       "            .progress-bar-interrupted, .progress-bar-interrupted::-webkit-progress-bar {\n",
       "                background: #F44336;\n",
       "            }\n",
       "        </style>\n",
       "      <progress value='8000' class='' max='8000' style='width:300px; height:20px; vertical-align: middle;'></progress>\n",
       "      100.00% [8000/8000 00:54<00:00 Sampling 4 chains, 0 divergences]\n",
       "    </div>\n",
       "    "
      ],
      "text/plain": [
       "<IPython.core.display.HTML object>"
      ]
     },
     "metadata": {},
     "output_type": "display_data"
    },
    {
     "name": "stderr",
     "output_type": "stream",
     "text": [
      "Sampling 4 chains for 1_000 tune and 1_000 draw iterations (4_000 + 4_000 draws total) took 64 seconds.\n"
     ]
    },
    {
     "name": "stdout",
     "output_type": "stream",
     "text": [
      "2021-08-12 10:51:35,371 - ompy.error_finder - INFO - Inference results:\n",
      "┌─────────────┬─────────────┬────────────────┬───────────────┬───────────────┬─────────────────┐\n",
      "│ D           │ F           │ α              │ σ_D           │ σ_F           │ σ_α             │\n",
      "╞═════════════╪═════════════╪════════════════╪═══════════════╪═══════════════╪═════════════════╡\n",
      "│ 0.00 ± 0.23 │ 0.00 ± 0.28 │ -0.000 ± 0.073 │ 0.238 ± 0.024 │ 0.287 ± 0.028 │ 0.0747 ± 0.0072 │\n",
      "└─────────────┴─────────────┴────────────────┴───────────────┴───────────────┴─────────────────┘\n",
      "┌────┬─────────────┬─────────────┐\n",
      "│    │ σ_ρ [%]     │ σ_f [%]     │\n",
      "╞════╪═════════════╪═════════════╡\n",
      "│ 0  │ 2.19 ± 0.29 │ 2.51 ± 0.27 │\n",
      "├────┼─────────────┼─────────────┤\n",
      "│ 1  │ 2.23 ± 0.28 │ 4.92 ± 0.48 │\n",
      "├────┼─────────────┼─────────────┤\n",
      "│ 2  │ 3.14 ± 0.33 │ 3.64 ± 0.37 │\n",
      "├────┼─────────────┼─────────────┤\n",
      "│ 3  │ 5.16 ± 0.53 │ 4.67 ± 0.46 │\n",
      "├────┼─────────────┼─────────────┤\n",
      "│ 4  │ 3.37 ± 0.34 │ 1.17 ± 0.17 │\n",
      "├────┼─────────────┼─────────────┤\n",
      "│ 5  │ 3.00 ± 0.31 │ 1.90 ± 0.21 │\n",
      "├────┼─────────────┼─────────────┤\n",
      "│ 6  │ 3.37 ± 0.34 │ 2.22 ± 0.24 │\n",
      "├────┼─────────────┼─────────────┤\n",
      "│ 7  │ 6.16 ± 0.62 │ 1.76 ± 0.20 │\n",
      "├────┼─────────────┼─────────────┤\n",
      "│ 8  │ 3.70 ± 0.37 │ 2.21 ± 0.24 │\n",
      "├────┼─────────────┼─────────────┤\n",
      "│ 9  │ 2.97 ± 0.31 │ 2.01 ± 0.22 │\n",
      "├────┼─────────────┼─────────────┤\n",
      "│ 10 │ 2.14 ± 0.23 │ 1.85 ± 0.20 │\n",
      "├────┼─────────────┼─────────────┤\n",
      "│ 11 │ 2.34 ± 0.24 │ 1.38 ± 0.17 │\n",
      "├────┼─────────────┼─────────────┤\n",
      "│ 12 │ 3.12 ± 0.32 │ 3.30 ± 0.34 │\n",
      "├────┼─────────────┼─────────────┤\n",
      "│ 13 │ 3.47 ± 0.36 │ 3.38 ± 0.34 │\n",
      "├────┼─────────────┼─────────────┤\n",
      "│ 14 │ 1.79 ± 0.20 │ 3.94 ± 0.39 │\n",
      "├────┼─────────────┼─────────────┤\n",
      "│ 15 │ 4.88 ± 0.50 │ 3.26 ± 0.34 │\n",
      "├────┼─────────────┼─────────────┤\n",
      "│ 16 │ 2.60 ± 0.27 │ 5.05 ± 0.50 │\n",
      "├────┼─────────────┼─────────────┤\n",
      "│ 17 │ 4.16 ± 0.42 │ 4.72 ± 0.47 │\n",
      "├────┼─────────────┼─────────────┤\n",
      "│ 18 │ 4.13 ± 0.40 │ 5.84 ± 0.59 │\n",
      "├────┼─────────────┼─────────────┤\n",
      "│ 19 │ 3.89 ± 0.38 │ 2.70 ± 0.30 │\n",
      "├────┼─────────────┼─────────────┤\n",
      "│ 20 │ 3.14 ± 0.33 │ 6.45 ± 0.64 │\n",
      "├────┼─────────────┼─────────────┤\n",
      "│ 21 │ 5.42 ± 0.54 │ 6.28 ± 0.62 │\n",
      "├────┼─────────────┼─────────────┤\n",
      "│ 22 │ 6.46 ± 0.64 │ 5.07 ± 0.53 │\n",
      "├────┼─────────────┼─────────────┤\n",
      "│ 23 │ 3.85 ± 0.41 │ 6.82 ± 0.66 │\n",
      "├────┼─────────────┼─────────────┤\n",
      "│ 24 │ 3.98 ± 0.43 │ 6.91 ± 0.71 │\n",
      "├────┼─────────────┼─────────────┤\n",
      "│ 25 │ 6.04 ± 0.60 │ 7.67 ± 0.77 │\n",
      "├────┼─────────────┼─────────────┤\n",
      "│ 26 │ 8.89 ± 0.90 │ 9.52 ± 0.95 │\n",
      "├────┼─────────────┼─────────────┤\n",
      "│ 27 │ 8.94 ± 0.85 │ 7.29 ± 0.72 │\n",
      "├────┼─────────────┼─────────────┤\n",
      "│ 28 │ 8.15 ± 0.85 │ 19.6 ± 2.0  │\n",
      "├────┼─────────────┼─────────────┤\n",
      "│ 29 │ 21.9 ± 2.1  │ 22.0 ± 2.1  │\n",
      "└────┴─────────────┴─────────────┘\n",
      "2021-08-12 10:51:35,386 - ompy.error_finder - DEBUG - Processing an ensemble with 9 members\n",
      "2021-08-12 10:51:35,387 - ompy.error_finder - DEBUG - Before removing nan: 45 NLD values and 31 GSF values\n",
      "2021-08-12 10:51:35,388 - ompy.error_finder - WARNING - NLDs and/or γSFs contains nan's. They will be removed\n",
      "2021-08-12 10:51:35,389 - ompy.error_finder - DEBUG - After removing nan: 30 NLD values and 30 GSF values\n",
      "2021-08-12 10:51:35,390 - ompy.error_finder - INFO - Starting pyMC3 inference - logarithmic model\n"
     ]
    },
    {
     "name": "stderr",
     "output_type": "stream",
     "text": [
      "Auto-assigning NUTS sampler...\n",
      "Initializing NUTS using jitter+adapt_diag...\n",
      "Multiprocess sampling (4 chains in 4 jobs)\n",
      "NUTS: [σ_f, σ_ρ, α, F, D, σ_α, σ_F, σ_D]\n"
     ]
    },
    {
     "data": {
      "text/html": [
       "\n",
       "    <div>\n",
       "        <style>\n",
       "            /* Turns off some styling */\n",
       "            progress {\n",
       "                /* gets rid of default border in Firefox and Opera. */\n",
       "                border: none;\n",
       "                /* Needs to be in here for Safari polyfill so background images work as expected. */\n",
       "                background-size: auto;\n",
       "            }\n",
       "            .progress-bar-interrupted, .progress-bar-interrupted::-webkit-progress-bar {\n",
       "                background: #F44336;\n",
       "            }\n",
       "        </style>\n",
       "      <progress value='8000' class='' max='8000' style='width:300px; height:20px; vertical-align: middle;'></progress>\n",
       "      100.00% [8000/8000 01:08<00:00 Sampling 4 chains, 0 divergences]\n",
       "    </div>\n",
       "    "
      ],
      "text/plain": [
       "<IPython.core.display.HTML object>"
      ]
     },
     "metadata": {},
     "output_type": "display_data"
    },
    {
     "name": "stderr",
     "output_type": "stream",
     "text": [
      "Sampling 4 chains for 1_000 tune and 1_000 draw iterations (4_000 + 4_000 draws total) took 78 seconds.\n"
     ]
    },
    {
     "name": "stdout",
     "output_type": "stream",
     "text": [
      "2021-08-12 10:53:05,209 - ompy.error_finder - INFO - Inference results:\n",
      "┌──────────────┬──────────────┬───────────────┬───────────────┬───────────────┬─────────────────┐\n",
      "│ D            │ F            │ α             │ σ_D           │ σ_F           │ σ_α             │\n",
      "╞══════════════╪══════════════╪═══════════════╪═══════════════╪═══════════════╪═════════════════╡\n",
      "│ -0.00 ± 0.22 │ -0.00 ± 0.27 │ 0.000 ± 0.069 │ 0.227 ± 0.019 │ 0.278 ± 0.024 │ 0.0698 ± 0.0063 │\n",
      "└──────────────┴──────────────┴───────────────┴───────────────┴───────────────┴─────────────────┘\n",
      "┌────┬─────────────┬─────────────┐\n",
      "│    │ σ_ρ [%]     │ σ_f [%]     │\n",
      "╞════╪═════════════╪═════════════╡\n",
      "│ 0  │ 2.15 ± 0.25 │ 3.32 ± 0.31 │\n",
      "├────┼─────────────┼─────────────┤\n",
      "│ 1  │ 1.91 ± 0.23 │ 4.46 ± 0.39 │\n",
      "├────┼─────────────┼─────────────┤\n",
      "│ 2  │ 3.08 ± 0.29 │ 3.70 ± 0.33 │\n",
      "├────┼─────────────┼─────────────┤\n",
      "│ 3  │ 4.82 ± 0.43 │ 4.33 ± 0.38 │\n",
      "├────┼─────────────┼─────────────┤\n",
      "│ 4  │ 3.33 ± 0.31 │ 1.39 ± 0.17 │\n",
      "├────┼─────────────┼─────────────┤\n",
      "│ 5  │ 3.14 ± 0.29 │ 2.61 ± 0.24 │\n",
      "├────┼─────────────┼─────────────┤\n",
      "│ 6  │ 3.05 ± 0.28 │ 2.41 ± 0.22 │\n",
      "├────┼─────────────┼─────────────┤\n",
      "│ 7  │ 6.01 ± 0.53 │ 1.42 ± 0.15 │\n",
      "├────┼─────────────┼─────────────┤\n",
      "│ 8  │ 3.22 ± 0.29 │ 2.39 ± 0.23 │\n",
      "├────┼─────────────┼─────────────┤\n",
      "│ 9  │ 3.48 ± 0.31 │ 2.32 ± 0.21 │\n",
      "├────┼─────────────┼─────────────┤\n",
      "│ 10 │ 1.80 ± 0.18 │ 1.59 ± 0.16 │\n",
      "├────┼─────────────┼─────────────┤\n",
      "│ 11 │ 2.49 ± 0.23 │ 1.35 ± 0.14 │\n",
      "├────┼─────────────┼─────────────┤\n",
      "│ 12 │ 3.27 ± 0.30 │ 3.13 ± 0.28 │\n",
      "├────┼─────────────┼─────────────┤\n",
      "│ 13 │ 3.60 ± 0.32 │ 2.84 ± 0.26 │\n",
      "├────┼─────────────┼─────────────┤\n",
      "│ 14 │ 2.56 ± 0.24 │ 3.93 ± 0.35 │\n",
      "├────┼─────────────┼─────────────┤\n",
      "│ 15 │ 4.73 ± 0.41 │ 3.05 ± 0.28 │\n",
      "├────┼─────────────┼─────────────┤\n",
      "│ 16 │ 2.66 ± 0.25 │ 5.07 ± 0.45 │\n",
      "├────┼─────────────┼─────────────┤\n",
      "│ 17 │ 4.63 ± 0.40 │ 4.57 ± 0.41 │\n",
      "├────┼─────────────┼─────────────┤\n",
      "│ 18 │ 4.66 ± 0.41 │ 5.73 ± 0.50 │\n",
      "├────┼─────────────┼─────────────┤\n",
      "│ 19 │ 3.82 ± 0.34 │ 2.59 ± 0.25 │\n",
      "├────┼─────────────┼─────────────┤\n",
      "│ 20 │ 4.09 ± 0.38 │ 8.48 ± 0.73 │\n",
      "├────┼─────────────┼─────────────┤\n",
      "│ 21 │ 4.87 ± 0.44 │ 7.38 ± 0.66 │\n",
      "├────┼─────────────┼─────────────┤\n",
      "│ 22 │ 6.41 ± 0.56 │ 5.42 ± 0.48 │\n",
      "├────┼─────────────┼─────────────┤\n",
      "│ 23 │ 5.39 ± 0.47 │ 6.26 ± 0.53 │\n",
      "├────┼─────────────┼─────────────┤\n",
      "│ 24 │ 4.77 ± 0.46 │ 6.78 ± 0.61 │\n",
      "├────┼─────────────┼─────────────┤\n",
      "│ 25 │ 5.50 ± 0.50 │ 7.09 ± 0.63 │\n",
      "├────┼─────────────┼─────────────┤\n",
      "│ 26 │ 8.50 ± 0.74 │ 9.23 ± 0.80 │\n",
      "├────┼─────────────┼─────────────┤\n",
      "│ 27 │ 8.36 ± 0.74 │ 6.47 ± 0.58 │\n",
      "├────┼─────────────┼─────────────┤\n",
      "│ 28 │ 12.9 ± 1.1  │ 18.4 ± 1.6  │\n",
      "├────┼─────────────┼─────────────┤\n",
      "│ 29 │ 20.6 ± 1.8  │ 20.3 ± 1.8  │\n",
      "└────┴─────────────┴─────────────┘\n",
      "2021-08-12 10:53:05,230 - ompy.error_finder - DEBUG - Processing an ensemble with 10 members\n",
      "2021-08-12 10:53:05,231 - ompy.error_finder - DEBUG - Before removing nan: 45 NLD values and 31 GSF values\n",
      "2021-08-12 10:53:05,232 - ompy.error_finder - WARNING - NLDs and/or γSFs contains nan's. They will be removed\n",
      "2021-08-12 10:53:05,233 - ompy.error_finder - DEBUG - After removing nan: 30 NLD values and 30 GSF values\n",
      "2021-08-12 10:53:05,236 - ompy.error_finder - INFO - Starting pyMC3 inference - logarithmic model\n"
     ]
    },
    {
     "name": "stderr",
     "output_type": "stream",
     "text": [
      "Auto-assigning NUTS sampler...\n",
      "Initializing NUTS using jitter+adapt_diag...\n",
      "Multiprocess sampling (4 chains in 4 jobs)\n",
      "NUTS: [σ_f, σ_ρ, α, F, D, σ_α, σ_F, σ_D]\n"
     ]
    },
    {
     "data": {
      "text/html": [
       "\n",
       "    <div>\n",
       "        <style>\n",
       "            /* Turns off some styling */\n",
       "            progress {\n",
       "                /* gets rid of default border in Firefox and Opera. */\n",
       "                border: none;\n",
       "                /* Needs to be in here for Safari polyfill so background images work as expected. */\n",
       "                background-size: auto;\n",
       "            }\n",
       "            .progress-bar-interrupted, .progress-bar-interrupted::-webkit-progress-bar {\n",
       "                background: #F44336;\n",
       "            }\n",
       "        </style>\n",
       "      <progress value='8000' class='' max='8000' style='width:300px; height:20px; vertical-align: middle;'></progress>\n",
       "      100.00% [8000/8000 01:09<00:00 Sampling 4 chains, 0 divergences]\n",
       "    </div>\n",
       "    "
      ],
      "text/plain": [
       "<IPython.core.display.HTML object>"
      ]
     },
     "metadata": {},
     "output_type": "display_data"
    },
    {
     "name": "stderr",
     "output_type": "stream",
     "text": [
      "Sampling 4 chains for 1_000 tune and 1_000 draw iterations (4_000 + 4_000 draws total) took 80 seconds.\n"
     ]
    },
    {
     "name": "stdout",
     "output_type": "stream",
     "text": [
      "2021-08-12 10:54:36,888 - ompy.error_finder - INFO - Inference results:\n",
      "┌──────────────┬──────────────┬───────────────┬───────────────┬───────────────┬─────────────────┐\n",
      "│ D            │ F            │ α             │ σ_D           │ σ_F           │ σ_α             │\n",
      "╞══════════════╪══════════════╪═══════════════╪═══════════════╪═══════════════╪═════════════════╡\n",
      "│ -0.00 ± 0.26 │ -0.00 ± 0.26 │ 0.000 ± 0.067 │ 0.267 ± 0.020 │ 0.263 ± 0.020 │ 0.0679 ± 0.0050 │\n",
      "└──────────────┴──────────────┴───────────────┴───────────────┴───────────────┴─────────────────┘\n",
      "┌────┬──────────────┬─────────────┐\n",
      "│    │ σ_ρ [%]      │ σ_f [%]     │\n",
      "╞════╪══════════════╪═════════════╡\n",
      "│ 0  │ 1.93 ± 0.22  │ 4.11 ± 0.33 │\n",
      "├────┼──────────────┼─────────────┤\n",
      "│ 1  │ 1.93 ± 0.21  │ 4.09 ± 0.34 │\n",
      "├────┼──────────────┼─────────────┤\n",
      "│ 2  │ 3.32 ± 0.26  │ 3.58 ± 0.27 │\n",
      "├────┼──────────────┼─────────────┤\n",
      "│ 3  │ 4.63 ± 0.36  │ 4.97 ± 0.39 │\n",
      "├────┼──────────────┼─────────────┤\n",
      "│ 4  │ 3.59 ± 0.29  │ 1.15 ± 0.14 │\n",
      "├────┼──────────────┼─────────────┤\n",
      "│ 5  │ 3.38 ± 0.27  │ 2.52 ± 0.21 │\n",
      "├────┼──────────────┼─────────────┤\n",
      "│ 6  │ 3.17 ± 0.27  │ 2.17 ± 0.18 │\n",
      "├────┼──────────────┼─────────────┤\n",
      "│ 7  │ 6.15 ± 0.48  │ 1.53 ± 0.14 │\n",
      "├────┼──────────────┼─────────────┤\n",
      "│ 8  │ 3.22 ± 0.26  │ 2.31 ± 0.19 │\n",
      "├────┼──────────────┼─────────────┤\n",
      "│ 9  │ 3.39 ± 0.27  │ 2.20 ± 0.18 │\n",
      "├────┼──────────────┼─────────────┤\n",
      "│ 10 │ 1.71 ± 0.16  │ 1.60 ± 0.14 │\n",
      "├────┼──────────────┼─────────────┤\n",
      "│ 11 │ 2.30 ± 0.19  │ 1.47 ± 0.13 │\n",
      "├────┼──────────────┼─────────────┤\n",
      "│ 12 │ 3.06 ± 0.24  │ 2.94 ± 0.23 │\n",
      "├────┼──────────────┼─────────────┤\n",
      "│ 13 │ 3.54 ± 0.28  │ 2.93 ± 0.23 │\n",
      "├────┼──────────────┼─────────────┤\n",
      "│ 14 │ 2.92 ± 0.23  │ 3.47 ± 0.27 │\n",
      "├────┼──────────────┼─────────────┤\n",
      "│ 15 │ 4.48 ± 0.35  │ 2.69 ± 0.22 │\n",
      "├────┼──────────────┼─────────────┤\n",
      "│ 16 │ 2.54 ± 0.21  │ 5.13 ± 0.40 │\n",
      "├────┼──────────────┼─────────────┤\n",
      "│ 17 │ 4.21 ± 0.35  │ 4.63 ± 0.36 │\n",
      "├────┼──────────────┼─────────────┤\n",
      "│ 18 │ 4.35 ± 0.33  │ 5.47 ± 0.41 │\n",
      "├────┼──────────────┼─────────────┤\n",
      "│ 19 │ 3.53 ± 0.30  │ 2.54 ± 0.22 │\n",
      "├────┼──────────────┼─────────────┤\n",
      "│ 20 │ 4.15 ± 0.33  │ 7.84 ± 0.58 │\n",
      "├────┼──────────────┼─────────────┤\n",
      "│ 21 │ 5.25 ± 0.41  │ 6.89 ± 0.54 │\n",
      "├────┼──────────────┼─────────────┤\n",
      "│ 22 │ 6.55 ± 0.50  │ 5.28 ± 0.40 │\n",
      "├────┼──────────────┼─────────────┤\n",
      "│ 23 │ 5.71 ± 0.46  │ 6.38 ± 0.50 │\n",
      "├────┼──────────────┼─────────────┤\n",
      "│ 24 │ 4.41 ± 0.38  │ 5.69 ± 0.45 │\n",
      "├────┼──────────────┼─────────────┤\n",
      "│ 25 │ 5.09 ± 0.41  │ 7.27 ± 0.56 │\n",
      "├────┼──────────────┼─────────────┤\n",
      "│ 26 │ 8.14 ± 0.63  │ 9.80 ± 0.75 │\n",
      "├────┼──────────────┼─────────────┤\n",
      "│ 27 │ 7.64 ± 0.60  │ 6.46 ± 0.52 │\n",
      "├────┼──────────────┼─────────────┤\n",
      "│ 28 │ 12.73 ± 1.00 │ 17.3 ± 1.3  │\n",
      "├────┼──────────────┼─────────────┤\n",
      "│ 29 │ 19.5 ± 1.5   │ 19.1 ± 1.4  │\n",
      "└────┴──────────────┴─────────────┘\n",
      "2021-08-12 10:54:36,906 - ompy.error_finder - DEBUG - Processing an ensemble with 11 members\n",
      "2021-08-12 10:54:36,907 - ompy.error_finder - DEBUG - Before removing nan: 45 NLD values and 31 GSF values\n",
      "2021-08-12 10:54:36,908 - ompy.error_finder - WARNING - NLDs and/or γSFs contains nan's. They will be removed\n",
      "2021-08-12 10:54:36,909 - ompy.error_finder - DEBUG - After removing nan: 30 NLD values and 30 GSF values\n",
      "2021-08-12 10:54:36,911 - ompy.error_finder - INFO - Starting pyMC3 inference - logarithmic model\n"
     ]
    },
    {
     "name": "stderr",
     "output_type": "stream",
     "text": [
      "Auto-assigning NUTS sampler...\n",
      "Initializing NUTS using jitter+adapt_diag...\n",
      "Multiprocess sampling (4 chains in 4 jobs)\n",
      "NUTS: [σ_f, σ_ρ, α, F, D, σ_α, σ_F, σ_D]\n"
     ]
    },
    {
     "data": {
      "text/html": [
       "\n",
       "    <div>\n",
       "        <style>\n",
       "            /* Turns off some styling */\n",
       "            progress {\n",
       "                /* gets rid of default border in Firefox and Opera. */\n",
       "                border: none;\n",
       "                /* Needs to be in here for Safari polyfill so background images work as expected. */\n",
       "                background-size: auto;\n",
       "            }\n",
       "            .progress-bar-interrupted, .progress-bar-interrupted::-webkit-progress-bar {\n",
       "                background: #F44336;\n",
       "            }\n",
       "        </style>\n",
       "      <progress value='8000' class='' max='8000' style='width:300px; height:20px; vertical-align: middle;'></progress>\n",
       "      100.00% [8000/8000 01:16<00:00 Sampling 4 chains, 0 divergences]\n",
       "    </div>\n",
       "    "
      ],
      "text/plain": [
       "<IPython.core.display.HTML object>"
      ]
     },
     "metadata": {},
     "output_type": "display_data"
    },
    {
     "name": "stderr",
     "output_type": "stream",
     "text": [
      "Sampling 4 chains for 1_000 tune and 1_000 draw iterations (4_000 + 4_000 draws total) took 87 seconds.\n"
     ]
    },
    {
     "name": "stdout",
     "output_type": "stream",
     "text": [
      "2021-08-12 10:56:14,609 - ompy.error_finder - INFO - Inference results:\n",
      "┌─────────────┬─────────────┬────────────────┬───────────────┬───────────────┬─────────────────┐\n",
      "│ D           │ F           │ α              │ σ_D           │ σ_F           │ σ_α             │\n",
      "╞═════════════╪═════════════╪════════════════╪═══════════════╪═══════════════╪═════════════════╡\n",
      "│ 0.00 ± 0.24 │ 0.00 ± 0.27 │ -0.000 ± 0.066 │ 0.245 ± 0.017 │ 0.270 ± 0.018 │ 0.0665 ± 0.0047 │\n",
      "└─────────────┴─────────────┴────────────────┴───────────────┴───────────────┴─────────────────┘\n",
      "┌────┬──────────────┬──────────────┐\n",
      "│    │ σ_ρ [%]      │ σ_f [%]      │\n",
      "╞════╪══════════════╪══════════════╡\n",
      "│ 0  │ 2.01 ± 0.20  │ 4.70 ± 0.33  │\n",
      "├────┼──────────────┼──────────────┤\n",
      "│ 1  │ 1.64 ± 0.19  │ 4.03 ± 0.29  │\n",
      "├────┼──────────────┼──────────────┤\n",
      "│ 2  │ 3.42 ± 0.25  │ 3.26 ± 0.24  │\n",
      "├────┼──────────────┼──────────────┤\n",
      "│ 3  │ 4.48 ± 0.31  │ 5.77 ± 0.40  │\n",
      "├────┼──────────────┼──────────────┤\n",
      "│ 4  │ 3.33 ± 0.24  │ 1.33 ± 0.12  │\n",
      "├────┼──────────────┼──────────────┤\n",
      "│ 5  │ 3.08 ± 0.22  │ 2.44 ± 0.18  │\n",
      "├────┼──────────────┼──────────────┤\n",
      "│ 6  │ 3.03 ± 0.22  │ 2.92 ± 0.21  │\n",
      "├────┼──────────────┼──────────────┤\n",
      "│ 7  │ 6.22 ± 0.43  │ 1.30 ± 0.11  │\n",
      "├────┼──────────────┼──────────────┤\n",
      "│ 8  │ 3.22 ± 0.23  │ 2.67 ± 0.19  │\n",
      "├────┼──────────────┼──────────────┤\n",
      "│ 9  │ 3.41 ± 0.25  │ 2.15 ± 0.15  │\n",
      "├────┼──────────────┼──────────────┤\n",
      "│ 10 │ 1.72 ± 0.15  │ 1.43 ± 0.12  │\n",
      "├────┼──────────────┼──────────────┤\n",
      "│ 11 │ 3.37 ± 0.24  │ 2.18 ± 0.16  │\n",
      "├────┼──────────────┼──────────────┤\n",
      "│ 12 │ 3.01 ± 0.22  │ 3.06 ± 0.22  │\n",
      "├────┼──────────────┼──────────────┤\n",
      "│ 13 │ 3.75 ± 0.27  │ 2.65 ± 0.19  │\n",
      "├────┼──────────────┼──────────────┤\n",
      "│ 14 │ 2.82 ± 0.21  │ 3.67 ± 0.26  │\n",
      "├────┼──────────────┼──────────────┤\n",
      "│ 15 │ 4.66 ± 0.33  │ 2.53 ± 0.18  │\n",
      "├────┼──────────────┼──────────────┤\n",
      "│ 16 │ 2.45 ± 0.19  │ 4.70 ± 0.33  │\n",
      "├────┼──────────────┼──────────────┤\n",
      "│ 17 │ 4.45 ± 0.31  │ 4.26 ± 0.30  │\n",
      "├────┼──────────────┼──────────────┤\n",
      "│ 18 │ 4.44 ± 0.32  │ 5.23 ± 0.37  │\n",
      "├────┼──────────────┼──────────────┤\n",
      "│ 19 │ 3.76 ± 0.28  │ 2.48 ± 0.19  │\n",
      "├────┼──────────────┼──────────────┤\n",
      "│ 20 │ 3.91 ± 0.29  │ 7.96 ± 0.57  │\n",
      "├────┼──────────────┼──────────────┤\n",
      "│ 21 │ 5.03 ± 0.36  │ 6.64 ± 0.47  │\n",
      "├────┼──────────────┼──────────────┤\n",
      "│ 22 │ 6.22 ± 0.44  │ 5.38 ± 0.39  │\n",
      "├────┼──────────────┼──────────────┤\n",
      "│ 23 │ 5.38 ± 0.39  │ 6.27 ± 0.45  │\n",
      "├────┼──────────────┼──────────────┤\n",
      "│ 24 │ 4.73 ± 0.36  │ 5.66 ± 0.40  │\n",
      "├────┼──────────────┼──────────────┤\n",
      "│ 25 │ 4.78 ± 0.35  │ 6.91 ± 0.49  │\n",
      "├────┼──────────────┼──────────────┤\n",
      "│ 26 │ 7.80 ± 0.56  │ 10.34 ± 0.71 │\n",
      "├────┼──────────────┼──────────────┤\n",
      "│ 27 │ 7.34 ± 0.53  │ 6.59 ± 0.47  │\n",
      "├────┼──────────────┼──────────────┤\n",
      "│ 28 │ 12.21 ± 0.83 │ 16.8 ± 1.2   │\n",
      "├────┼──────────────┼──────────────┤\n",
      "│ 29 │ 21.5 ± 1.5   │ 19.0 ± 1.3   │\n",
      "└────┴──────────────┴──────────────┘\n",
      "2021-08-12 10:56:14,625 - ompy.error_finder - DEBUG - Processing an ensemble with 12 members\n",
      "2021-08-12 10:56:14,626 - ompy.error_finder - DEBUG - Before removing nan: 45 NLD values and 31 GSF values\n",
      "2021-08-12 10:56:14,627 - ompy.error_finder - WARNING - NLDs and/or γSFs contains nan's. They will be removed\n",
      "2021-08-12 10:56:14,628 - ompy.error_finder - DEBUG - After removing nan: 30 NLD values and 30 GSF values\n",
      "2021-08-12 10:56:14,630 - ompy.error_finder - INFO - Starting pyMC3 inference - logarithmic model\n"
     ]
    },
    {
     "name": "stderr",
     "output_type": "stream",
     "text": [
      "Auto-assigning NUTS sampler...\n",
      "Initializing NUTS using jitter+adapt_diag...\n",
      "Multiprocess sampling (4 chains in 4 jobs)\n",
      "NUTS: [σ_f, σ_ρ, α, F, D, σ_α, σ_F, σ_D]\n"
     ]
    },
    {
     "data": {
      "text/html": [
       "\n",
       "    <div>\n",
       "        <style>\n",
       "            /* Turns off some styling */\n",
       "            progress {\n",
       "                /* gets rid of default border in Firefox and Opera. */\n",
       "                border: none;\n",
       "                /* Needs to be in here for Safari polyfill so background images work as expected. */\n",
       "                background-size: auto;\n",
       "            }\n",
       "            .progress-bar-interrupted, .progress-bar-interrupted::-webkit-progress-bar {\n",
       "                background: #F44336;\n",
       "            }\n",
       "        </style>\n",
       "      <progress value='8000' class='' max='8000' style='width:300px; height:20px; vertical-align: middle;'></progress>\n",
       "      100.00% [8000/8000 01:29<00:00 Sampling 4 chains, 0 divergences]\n",
       "    </div>\n",
       "    "
      ],
      "text/plain": [
       "<IPython.core.display.HTML object>"
      ]
     },
     "metadata": {},
     "output_type": "display_data"
    },
    {
     "name": "stderr",
     "output_type": "stream",
     "text": [
      "Sampling 4 chains for 1_000 tune and 1_000 draw iterations (4_000 + 4_000 draws total) took 99 seconds.\n"
     ]
    },
    {
     "name": "stdout",
     "output_type": "stream",
     "text": [
      "2021-08-12 10:58:05,160 - ompy.error_finder - INFO - Inference results:\n",
      "┌──────────────┬──────────────┬───────────────┬───────────────┬───────────────┬─────────────────┐\n",
      "│ D            │ F            │ α             │ σ_D           │ σ_F           │ σ_α             │\n",
      "╞══════════════╪══════════════╪═══════════════╪═══════════════╪═══════════════╪═════════════════╡\n",
      "│ -0.00 ± 0.24 │ -0.00 ± 0.26 │ 0.000 ± 0.062 │ 0.244 ± 0.016 │ 0.263 ± 0.016 │ 0.0627 ± 0.0038 │\n",
      "└──────────────┴──────────────┴───────────────┴───────────────┴───────────────┴─────────────────┘\n",
      "┌────┬──────────────┬──────────────┐\n",
      "│    │ σ_ρ [%]      │ σ_f [%]      │\n",
      "╞════╪══════════════╪══════════════╡\n",
      "│ 0  │ 1.65 ± 0.17  │ 4.53 ± 0.30  │\n",
      "├────┼──────────────┼──────────────┤\n",
      "│ 1  │ 2.11 ± 0.18  │ 3.82 ± 0.25  │\n",
      "├────┼──────────────┼──────────────┤\n",
      "│ 2  │ 3.94 ± 0.26  │ 4.11 ± 0.26  │\n",
      "├────┼──────────────┼──────────────┤\n",
      "│ 3  │ 4.39 ± 0.29  │ 5.47 ± 0.35  │\n",
      "├────┼──────────────┼──────────────┤\n",
      "│ 4  │ 3.22 ± 0.22  │ 1.87 ± 0.14  │\n",
      "├────┼──────────────┼──────────────┤\n",
      "│ 5  │ 3.59 ± 0.24  │ 2.60 ± 0.17  │\n",
      "├────┼──────────────┼──────────────┤\n",
      "│ 6  │ 3.34 ± 0.22  │ 2.84 ± 0.18  │\n",
      "├────┼──────────────┼──────────────┤\n",
      "│ 7  │ 5.92 ± 0.37  │ 1.60 ± 0.12  │\n",
      "├────┼──────────────┼──────────────┤\n",
      "│ 8  │ 3.19 ± 0.21  │ 2.45 ± 0.16  │\n",
      "├────┼──────────────┼──────────────┤\n",
      "│ 9  │ 3.48 ± 0.22  │ 2.15 ± 0.15  │\n",
      "├────┼──────────────┼──────────────┤\n",
      "│ 10 │ 1.55 ± 0.13  │ 1.53 ± 0.11  │\n",
      "├────┼──────────────┼──────────────┤\n",
      "│ 11 │ 3.39 ± 0.22  │ 2.35 ± 0.16  │\n",
      "├────┼──────────────┼──────────────┤\n",
      "│ 12 │ 3.00 ± 0.20  │ 3.18 ± 0.21  │\n",
      "├────┼──────────────┼──────────────┤\n",
      "│ 13 │ 3.75 ± 0.24  │ 2.56 ± 0.16  │\n",
      "├────┼──────────────┼──────────────┤\n",
      "│ 14 │ 2.57 ± 0.18  │ 3.54 ± 0.23  │\n",
      "├────┼──────────────┼──────────────┤\n",
      "│ 15 │ 4.47 ± 0.29  │ 2.76 ± 0.18  │\n",
      "├────┼──────────────┼──────────────┤\n",
      "│ 16 │ 2.76 ± 0.19  │ 4.23 ± 0.27  │\n",
      "├────┼──────────────┼──────────────┤\n",
      "│ 17 │ 4.33 ± 0.27  │ 4.05 ± 0.26  │\n",
      "├────┼──────────────┼──────────────┤\n",
      "│ 18 │ 4.69 ± 0.29  │ 4.99 ± 0.32  │\n",
      "├────┼──────────────┼──────────────┤\n",
      "│ 19 │ 3.83 ± 0.25  │ 2.64 ± 0.18  │\n",
      "├────┼──────────────┼──────────────┤\n",
      "│ 20 │ 4.04 ± 0.27  │ 7.92 ± 0.51  │\n",
      "├────┼──────────────┼──────────────┤\n",
      "│ 21 │ 4.78 ± 0.31  │ 6.34 ± 0.41  │\n",
      "├────┼──────────────┼──────────────┤\n",
      "│ 22 │ 6.11 ± 0.40  │ 5.30 ± 0.34  │\n",
      "├────┼──────────────┼──────────────┤\n",
      "│ 23 │ 5.33 ± 0.35  │ 5.92 ± 0.38  │\n",
      "├────┼──────────────┼──────────────┤\n",
      "│ 24 │ 5.37 ± 0.36  │ 6.16 ± 0.41  │\n",
      "├────┼──────────────┼──────────────┤\n",
      "│ 25 │ 5.02 ± 0.34  │ 7.48 ± 0.46  │\n",
      "├────┼──────────────┼──────────────┤\n",
      "│ 26 │ 7.38 ± 0.46  │ 10.57 ± 0.69 │\n",
      "├────┼──────────────┼──────────────┤\n",
      "│ 27 │ 7.28 ± 0.46  │ 6.96 ± 0.45  │\n",
      "├────┼──────────────┼──────────────┤\n",
      "│ 28 │ 11.52 ± 0.74 │ 16.1 ± 1.0   │\n",
      "├────┼──────────────┼──────────────┤\n",
      "│ 29 │ 21.5 ± 1.4   │ 20.5 ± 1.3   │\n",
      "└────┴──────────────┴──────────────┘\n",
      "2021-08-12 10:58:05,180 - ompy.error_finder - DEBUG - Processing an ensemble with 13 members\n",
      "2021-08-12 10:58:05,181 - ompy.error_finder - DEBUG - Before removing nan: 45 NLD values and 31 GSF values\n",
      "2021-08-12 10:58:05,183 - ompy.error_finder - WARNING - NLDs and/or γSFs contains nan's. They will be removed\n",
      "2021-08-12 10:58:05,183 - ompy.error_finder - DEBUG - After removing nan: 30 NLD values and 30 GSF values\n",
      "2021-08-12 10:58:05,186 - ompy.error_finder - INFO - Starting pyMC3 inference - logarithmic model\n"
     ]
    },
    {
     "name": "stderr",
     "output_type": "stream",
     "text": [
      "Auto-assigning NUTS sampler...\n",
      "Initializing NUTS using jitter+adapt_diag...\n",
      "Multiprocess sampling (4 chains in 4 jobs)\n",
      "NUTS: [σ_f, σ_ρ, α, F, D, σ_α, σ_F, σ_D]\n"
     ]
    },
    {
     "data": {
      "text/html": [
       "\n",
       "    <div>\n",
       "        <style>\n",
       "            /* Turns off some styling */\n",
       "            progress {\n",
       "                /* gets rid of default border in Firefox and Opera. */\n",
       "                border: none;\n",
       "                /* Needs to be in here for Safari polyfill so background images work as expected. */\n",
       "                background-size: auto;\n",
       "            }\n",
       "            .progress-bar-interrupted, .progress-bar-interrupted::-webkit-progress-bar {\n",
       "                background: #F44336;\n",
       "            }\n",
       "        </style>\n",
       "      <progress value='8000' class='' max='8000' style='width:300px; height:20px; vertical-align: middle;'></progress>\n",
       "      100.00% [8000/8000 02:04<00:00 Sampling 4 chains, 0 divergences]\n",
       "    </div>\n",
       "    "
      ],
      "text/plain": [
       "<IPython.core.display.HTML object>"
      ]
     },
     "metadata": {},
     "output_type": "display_data"
    },
    {
     "name": "stderr",
     "output_type": "stream",
     "text": [
      "Sampling 4 chains for 1_000 tune and 1_000 draw iterations (4_000 + 4_000 draws total) took 134 seconds.\n"
     ]
    },
    {
     "name": "stdout",
     "output_type": "stream",
     "text": [
      "2021-08-12 11:00:31,261 - ompy.error_finder - INFO - Inference results:\n",
      "┌─────────────┬──────────────┬────────────────┬───────────────┬───────────────┬─────────────────┐\n",
      "│ D           │ F            │ α              │ σ_D           │ σ_F           │ σ_α             │\n",
      "╞═════════════╪══════════════╪════════════════╪═══════════════╪═══════════════╪═════════════════╡\n",
      "│ 0.00 ± 0.25 │ -0.00 ± 0.26 │ -0.000 ± 0.062 │ 0.250 ± 0.014 │ 0.258 ± 0.015 │ 0.0623 ± 0.0035 │\n",
      "└─────────────┴──────────────┴────────────────┴───────────────┴───────────────┴─────────────────┘\n",
      "┌────┬──────────────┬──────────────┐\n",
      "│    │ σ_ρ [%]      │ σ_f [%]      │\n",
      "╞════╪══════════════╪══════════════╡\n",
      "│ 0  │ 1.56 ± 0.15  │ 4.46 ± 0.26  │\n",
      "├────┼──────────────┼──────────────┤\n",
      "│ 1  │ 2.14 ± 0.16  │ 3.91 ± 0.24  │\n",
      "├────┼──────────────┼──────────────┤\n",
      "│ 2  │ 3.82 ± 0.24  │ 3.97 ± 0.24  │\n",
      "├────┼──────────────┼──────────────┤\n",
      "│ 3  │ 4.52 ± 0.28  │ 5.29 ± 0.31  │\n",
      "├────┼──────────────┼──────────────┤\n",
      "│ 4  │ 5.44 ± 0.33  │ 1.88 ± 0.13  │\n",
      "├────┼──────────────┼──────────────┤\n",
      "│ 5  │ 3.49 ± 0.21  │ 2.48 ± 0.15  │\n",
      "├────┼──────────────┼──────────────┤\n",
      "│ 6  │ 3.51 ± 0.22  │ 2.65 ± 0.16  │\n",
      "├────┼──────────────┼──────────────┤\n",
      "│ 7  │ 6.12 ± 0.35  │ 1.49 ± 0.10  │\n",
      "├────┼──────────────┼──────────────┤\n",
      "│ 8  │ 3.40 ± 0.20  │ 2.44 ± 0.15  │\n",
      "├────┼──────────────┼──────────────┤\n",
      "│ 9  │ 3.38 ± 0.21  │ 2.12 ± 0.13  │\n",
      "├────┼──────────────┼──────────────┤\n",
      "│ 10 │ 1.79 ± 0.12  │ 1.58 ± 0.11  │\n",
      "├────┼──────────────┼──────────────┤\n",
      "│ 11 │ 3.32 ± 0.20  │ 2.20 ± 0.14  │\n",
      "├────┼──────────────┼──────────────┤\n",
      "│ 12 │ 3.19 ± 0.19  │ 3.23 ± 0.19  │\n",
      "├────┼──────────────┼──────────────┤\n",
      "│ 13 │ 3.49 ± 0.21  │ 2.48 ± 0.15  │\n",
      "├────┼──────────────┼──────────────┤\n",
      "│ 14 │ 2.46 ± 0.16  │ 3.34 ± 0.21  │\n",
      "├────┼──────────────┼──────────────┤\n",
      "│ 15 │ 4.87 ± 0.28  │ 2.71 ± 0.17  │\n",
      "├────┼──────────────┼──────────────┤\n",
      "│ 16 │ 2.65 ± 0.17  │ 4.38 ± 0.25  │\n",
      "├────┼──────────────┼──────────────┤\n",
      "│ 17 │ 4.20 ± 0.25  │ 4.02 ± 0.24  │\n",
      "├────┼──────────────┼──────────────┤\n",
      "│ 18 │ 4.65 ± 0.28  │ 4.98 ± 0.30  │\n",
      "├────┼──────────────┼──────────────┤\n",
      "│ 19 │ 3.68 ± 0.23  │ 2.55 ± 0.16  │\n",
      "├────┼──────────────┼──────────────┤\n",
      "│ 20 │ 3.89 ± 0.24  │ 7.59 ± 0.44  │\n",
      "├────┼──────────────┼──────────────┤\n",
      "│ 21 │ 4.73 ± 0.29  │ 6.12 ± 0.36  │\n",
      "├────┼──────────────┼──────────────┤\n",
      "│ 22 │ 6.04 ± 0.37  │ 5.16 ± 0.31  │\n",
      "├────┼──────────────┼──────────────┤\n",
      "│ 23 │ 6.70 ± 0.40  │ 6.31 ± 0.37  │\n",
      "├────┼──────────────┼──────────────┤\n",
      "│ 24 │ 5.36 ± 0.34  │ 5.87 ± 0.35  │\n",
      "├────┼──────────────┼──────────────┤\n",
      "│ 25 │ 4.91 ± 0.30  │ 7.11 ± 0.42  │\n",
      "├────┼──────────────┼──────────────┤\n",
      "│ 26 │ 7.15 ± 0.43  │ 10.28 ± 0.58 │\n",
      "├────┼──────────────┼──────────────┤\n",
      "│ 27 │ 7.13 ± 0.42  │ 7.75 ± 0.45  │\n",
      "├────┼──────────────┼──────────────┤\n",
      "│ 28 │ 11.68 ± 0.69 │ 15.85 ± 0.90 │\n",
      "├────┼──────────────┼──────────────┤\n",
      "│ 29 │ 21.1 ± 1.2   │ 19.9 ± 1.1   │\n",
      "└────┴──────────────┴──────────────┘\n",
      "2021-08-12 11:00:31,269 - ompy.error_finder - DEBUG - Processing an ensemble with 14 members\n",
      "2021-08-12 11:00:31,271 - ompy.error_finder - DEBUG - Before removing nan: 45 NLD values and 31 GSF values\n",
      "2021-08-12 11:00:31,273 - ompy.error_finder - WARNING - NLDs and/or γSFs contains nan's. They will be removed\n",
      "2021-08-12 11:00:31,274 - ompy.error_finder - DEBUG - After removing nan: 30 NLD values and 30 GSF values\n",
      "2021-08-12 11:00:31,278 - ompy.error_finder - INFO - Starting pyMC3 inference - logarithmic model\n"
     ]
    },
    {
     "name": "stderr",
     "output_type": "stream",
     "text": [
      "Auto-assigning NUTS sampler...\n",
      "Initializing NUTS using jitter+adapt_diag...\n",
      "Multiprocess sampling (4 chains in 4 jobs)\n",
      "NUTS: [σ_f, σ_ρ, α, F, D, σ_α, σ_F, σ_D]\n"
     ]
    },
    {
     "data": {
      "text/html": [
       "\n",
       "    <div>\n",
       "        <style>\n",
       "            /* Turns off some styling */\n",
       "            progress {\n",
       "                /* gets rid of default border in Firefox and Opera. */\n",
       "                border: none;\n",
       "                /* Needs to be in here for Safari polyfill so background images work as expected. */\n",
       "                background-size: auto;\n",
       "            }\n",
       "            .progress-bar-interrupted, .progress-bar-interrupted::-webkit-progress-bar {\n",
       "                background: #F44336;\n",
       "            }\n",
       "        </style>\n",
       "      <progress value='8000' class='' max='8000' style='width:300px; height:20px; vertical-align: middle;'></progress>\n",
       "      100.00% [8000/8000 02:43<00:00 Sampling 4 chains, 0 divergences]\n",
       "    </div>\n",
       "    "
      ],
      "text/plain": [
       "<IPython.core.display.HTML object>"
      ]
     },
     "metadata": {},
     "output_type": "display_data"
    },
    {
     "name": "stderr",
     "output_type": "stream",
     "text": [
      "Sampling 4 chains for 1_000 tune and 1_000 draw iterations (4_000 + 4_000 draws total) took 172 seconds.\n"
     ]
    },
    {
     "name": "stdout",
     "output_type": "stream",
     "text": [
      "2021-08-12 11:03:35,101 - ompy.error_finder - INFO - Inference results:\n",
      "┌─────────────┬─────────────┬────────────────┬───────────────┬───────────────┬─────────────────┐\n",
      "│ D           │ F           │ α              │ σ_D           │ σ_F           │ σ_α             │\n",
      "╞═════════════╪═════════════╪════════════════╪═══════════════╪═══════════════╪═════════════════╡\n",
      "│ 0.00 ± 0.28 │ 0.00 ± 0.27 │ -0.000 ± 0.067 │ 0.277 ± 0.015 │ 0.277 ± 0.014 │ 0.0674 ± 0.0035 │\n",
      "└─────────────┴─────────────┴────────────────┴───────────────┴───────────────┴─────────────────┘\n",
      "┌────┬──────────────┬───────────────┐\n",
      "│    │ σ_ρ [%]      │ σ_f [%]       │\n",
      "╞════╪══════════════╪═══════════════╡\n",
      "│ 0  │ 1.57 ± 0.14  │ 4.22 ± 0.23   │\n",
      "├────┼──────────────┼───────────────┤\n",
      "│ 1  │ 2.08 ± 0.15  │ 3.81 ± 0.21   │\n",
      "├────┼──────────────┼───────────────┤\n",
      "│ 2  │ 4.02 ± 0.23  │ 3.80 ± 0.21   │\n",
      "├────┼──────────────┼───────────────┤\n",
      "│ 3  │ 4.37 ± 0.24  │ 5.04 ± 0.27   │\n",
      "├────┼──────────────┼───────────────┤\n",
      "│ 4  │ 5.32 ± 0.29  │ 1.83 ± 0.12   │\n",
      "├────┼──────────────┼───────────────┤\n",
      "│ 5  │ 3.60 ± 0.20  │ 2.43 ± 0.14   │\n",
      "├────┼──────────────┼───────────────┤\n",
      "│ 6  │ 4.06 ± 0.22  │ 2.56 ± 0.15   │\n",
      "├────┼──────────────┼───────────────┤\n",
      "│ 7  │ 5.69 ± 0.31  │ 1.469 ± 0.096 │\n",
      "├────┼──────────────┼───────────────┤\n",
      "│ 8  │ 3.92 ± 0.21  │ 2.43 ± 0.14   │\n",
      "├────┼──────────────┼───────────────┤\n",
      "│ 9  │ 3.67 ± 0.20  │ 2.37 ± 0.14   │\n",
      "├────┼──────────────┼───────────────┤\n",
      "│ 10 │ 1.82 ± 0.11  │ 2.19 ± 0.12   │\n",
      "├────┼──────────────┼───────────────┤\n",
      "│ 11 │ 3.17 ± 0.17  │ 2.16 ± 0.13   │\n",
      "├────┼──────────────┼───────────────┤\n",
      "│ 12 │ 3.24 ± 0.18  │ 3.28 ± 0.18   │\n",
      "├────┼──────────────┼───────────────┤\n",
      "│ 13 │ 3.40 ± 0.19  │ 2.78 ± 0.15   │\n",
      "├────┼──────────────┼───────────────┤\n",
      "│ 14 │ 2.30 ± 0.14  │ 3.21 ± 0.18   │\n",
      "├────┼──────────────┼───────────────┤\n",
      "│ 15 │ 4.86 ± 0.26  │ 2.55 ± 0.14   │\n",
      "├────┼──────────────┼───────────────┤\n",
      "│ 16 │ 3.77 ± 0.21  │ 4.17 ± 0.22   │\n",
      "├────┼──────────────┼───────────────┤\n",
      "│ 17 │ 4.54 ± 0.25  │ 3.87 ± 0.21   │\n",
      "├────┼──────────────┼───────────────┤\n",
      "│ 18 │ 4.51 ± 0.26  │ 4.93 ± 0.27   │\n",
      "├────┼──────────────┼───────────────┤\n",
      "│ 19 │ 4.26 ± 0.24  │ 2.83 ± 0.16   │\n",
      "├────┼──────────────┼───────────────┤\n",
      "│ 20 │ 3.71 ± 0.22  │ 8.13 ± 0.45   │\n",
      "├────┼──────────────┼───────────────┤\n",
      "│ 21 │ 4.55 ± 0.26  │ 5.84 ± 0.31   │\n",
      "├────┼──────────────┼───────────────┤\n",
      "│ 22 │ 5.87 ± 0.32  │ 5.00 ± 0.27   │\n",
      "├────┼──────────────┼───────────────┤\n",
      "│ 23 │ 6.56 ± 0.36  │ 6.63 ± 0.36   │\n",
      "├────┼──────────────┼───────────────┤\n",
      "│ 24 │ 5.31 ± 0.30  │ 5.61 ± 0.32   │\n",
      "├────┼──────────────┼───────────────┤\n",
      "│ 25 │ 4.73 ± 0.27  │ 6.70 ± 0.37   │\n",
      "├────┼──────────────┼───────────────┤\n",
      "│ 26 │ 7.32 ± 0.40  │ 10.69 ± 0.59  │\n",
      "├────┼──────────────┼───────────────┤\n",
      "│ 27 │ 6.94 ± 0.38  │ 7.61 ± 0.41   │\n",
      "├────┼──────────────┼───────────────┤\n",
      "│ 28 │ 11.93 ± 0.65 │ 15.57 ± 0.85  │\n",
      "├────┼──────────────┼───────────────┤\n",
      "│ 29 │ 20.0 ± 1.1   │ 22.8 ± 1.2    │\n",
      "└────┴──────────────┴───────────────┘\n"
     ]
    }
   ],
   "source": [
    "nld_ens_errors = []\n",
    "gsf_ens_errors = []\n",
    "for extractor in extractors_ens:\n",
    "    nld_err, gsf_err = error_estimator.evaluate(extractor.nld, extractor.gsf)\n",
    "    nld_ens_errors.append(nld_err.copy())\n",
    "    gsf_ens_errors.append(gsf_err.copy())"
   ]
  },
  {
   "cell_type": "code",
   "execution_count": 21,
   "id": "995621af-f7b1-4d40-a0a0-b1ec9c0b989a",
   "metadata": {},
   "outputs": [
    {
     "data": {
      "application/vnd.jupyter.widget-view+json": {
       "model_id": "15b6a08502454707898db3bc6a1dd72f",
       "version_major": 2,
       "version_minor": 0
      },
      "text/plain": [
       "Canvas(toolbar=Toolbar(toolitems=[('Home', 'Reset original view', 'home', 'home'), ('Back', 'Back to previous …"
      ]
     },
     "metadata": {},
     "output_type": "display_data"
    }
   ],
   "source": [
    "def make_vec(nlds, point, counts=np.array(range(3,15))):\n",
    "    return om.Vector(E=np.array(counts),\n",
    "                     values=np.array([nld.std[nld.index(point)] for nld in nlds])/np.array([nld.values[nld.index(point)] for nld in nlds]))\n",
    "\n",
    "nld_0MeV = make_vec(nld_ens_errors, 1)\n",
    "nld_0MeV.values *= 100.\n",
    "#nld_0MeV.save(\"nld_ens1MeV.csv\", sep=\"\\t\")\n",
    "nld_2MeV = make_vec(nld_ens_errors, 3)\n",
    "nld_2MeV.values *= 100.\n",
    "#nld_2MeV.save(\"nld_ens3MeV.csv\", sep=\"\\t\")\n",
    "nld_4MeV = make_vec(nld_ens_errors, 5)\n",
    "nld_4MeV.values *= 100.\n",
    "#nld_4MeV.save(\"nld_ens5MeV.csv\", sep=\"\\t\")\n",
    "\n",
    "_, ax = nld_0MeV.plot(label=r\"$E_x = 1$ MeV\", linestyle='')\n",
    "nld_2MeV.plot(ax=ax, label=r\"$E_x = 3$ MeV\", linestyle='')\n",
    "nld_4MeV.plot(ax=ax, label=r\"$E_x = 5$ MeV\", linestyle='')\n",
    "ax.plot(np.linspace(3, 14, 1001), 10.*np.sqrt(8.*7.)/np.sqrt(np.linspace(3, 14, 1001)*(np.linspace(3, 14, 1001)-1)))\n",
    "ax.set_xlabel(\"Ensemble members\")\n",
    "ax.set_ylabel(\"Relative error [%]\")\n",
    "ax.legend(loc='best');"
   ]
  },
  {
   "cell_type": "markdown",
   "id": "754fd57a-b53d-48c7-aea6-8601fb0e6e9f",
   "metadata": {},
   "source": [
    "### Checking if the uncertanties makes sense\n",
    "The estimated uncertanties are for NLDs and $\\gamma$SFs that are taken from a stocastic input. The relative error of the total number of counts ($\\sqrt{N}/N$) found in the first generation matrix should give the lower limit for the estimated uncertanties.\n",
    "\n",
    "For the NLD we are interested in the total number of counts along the diagonals $P(E_f+E_\\gamma, E_\\gamma)$, $E_\\gamma \\in [E_\\gamma^{min}, E_\\gamma^{max}]$. For the $\\gamma$SF we are interested in the horizonal lines, $P(E_x, E_\\gamma)$, $E_x \\in [E_x^{min}, E_x^{max}]$."
   ]
  },
  {
   "cell_type": "code",
   "execution_count": 51,
   "id": "9b5af5ed-2211-4c19-8c93-e67da5b20c42",
   "metadata": {},
   "outputs": [
    {
     "data": {
      "application/vnd.jupyter.widget-view+json": {
       "model_id": "cde4c07b036b4aedaafe461c3bc9d9f1",
       "version_major": 2,
       "version_minor": 0
      },
      "text/plain": [
       "Canvas(toolbar=Toolbar(toolitems=[('Home', 'Reset original view', 'home', 'home'), ('Back', 'Back to previous …"
      ]
     },
     "metadata": {},
     "output_type": "display_data"
    },
    {
     "data": {
      "application/vnd.jupyter.widget-view+json": {
       "model_id": "d07571f4c0484b28815906cde232a50a",
       "version_major": 2,
       "version_minor": 0
      },
      "text/plain": [
       "Canvas(toolbar=Toolbar(toolitems=[('Home', 'Reset original view', 'home', 'home'), ('Back', 'Back to previous …"
      ]
     },
     "metadata": {},
     "output_type": "display_data"
    },
    {
     "data": {
      "application/vnd.jupyter.widget-view+json": {
       "model_id": "19278812b92b422d92350e509fa4167c",
       "version_major": 2,
       "version_minor": 0
      },
      "text/plain": [
       "Canvas(toolbar=Toolbar(toolitems=[('Home', 'Reset original view', 'home', 'home'), ('Back', 'Back to previous …"
      ]
     },
     "metadata": {},
     "output_type": "display_data"
    },
    {
     "data": {
      "application/vnd.jupyter.widget-view+json": {
       "model_id": "5b224ef22c1649d0857416c72a47ebf6",
       "version_major": 2,
       "version_minor": 0
      },
      "text/plain": [
       "Canvas(toolbar=Toolbar(toolitems=[('Home', 'Reset original view', 'home', 'home'), ('Back', 'Back to previous …"
      ]
     },
     "metadata": {},
     "output_type": "display_data"
    },
    {
     "data": {
      "application/vnd.jupyter.widget-view+json": {
       "model_id": "40c8203378ce4225882af7d4e307f449",
       "version_major": 2,
       "version_minor": 0
      },
      "text/plain": [
       "Canvas(toolbar=Toolbar(toolitems=[('Home', 'Reset original view', 'home', 'home'), ('Back', 'Back to previous …"
      ]
     },
     "metadata": {},
     "output_type": "display_data"
    },
    {
     "data": {
      "application/vnd.jupyter.widget-view+json": {
       "model_id": "9badd184bfa54a538461dc967502e957",
       "version_major": 2,
       "version_minor": 0
      },
      "text/plain": [
       "Canvas(toolbar=Toolbar(toolitems=[('Home', 'Reset original view', 'home', 'home'), ('Back', 'Back to previous …"
      ]
     },
     "metadata": {},
     "output_type": "display_data"
    },
    {
     "data": {
      "application/vnd.jupyter.widget-view+json": {
       "model_id": "1b80bd79f7bb4295924c160e4be9b7a2",
       "version_major": 2,
       "version_minor": 0
      },
      "text/plain": [
       "Canvas(toolbar=Toolbar(toolitems=[('Home', 'Reset original view', 'home', 'home'), ('Back', 'Back to previous …"
      ]
     },
     "metadata": {},
     "output_type": "display_data"
    },
    {
     "data": {
      "application/vnd.jupyter.widget-view+json": {
       "model_id": "85264b0048a2418dbfa0f5659126ea90",
       "version_major": 2,
       "version_minor": 0
      },
      "text/plain": [
       "Canvas(toolbar=Toolbar(toolitems=[('Home', 'Reset original view', 'home', 'home'), ('Back', 'Back to previous …"
      ]
     },
     "metadata": {},
     "output_type": "display_data"
    },
    {
     "data": {
      "application/vnd.jupyter.widget-view+json": {
       "model_id": "8dbf8f1918eb40a7ab2fc0b8a926036a",
       "version_major": 2,
       "version_minor": 0
      },
      "text/plain": [
       "Canvas(toolbar=Toolbar(toolitems=[('Home', 'Reset original view', 'home', 'home'), ('Back', 'Back to previous …"
      ]
     },
     "metadata": {},
     "output_type": "display_data"
    },
    {
     "data": {
      "application/vnd.jupyter.widget-view+json": {
       "model_id": "acc7f381ef074e369bc59eb36c335501",
       "version_major": 2,
       "version_minor": 0
      },
      "text/plain": [
       "Canvas(toolbar=Toolbar(toolitems=[('Home', 'Reset original view', 'home', 'home'), ('Back', 'Back to previous …"
      ]
     },
     "metadata": {},
     "output_type": "display_data"
    },
    {
     "data": {
      "application/vnd.jupyter.widget-view+json": {
       "model_id": "c7caa262506c45879a3b1b5cb619dc83",
       "version_major": 2,
       "version_minor": 0
      },
      "text/plain": [
       "Canvas(toolbar=Toolbar(toolitems=[('Home', 'Reset original view', 'home', 'home'), ('Back', 'Back to previous …"
      ]
     },
     "metadata": {},
     "output_type": "display_data"
    },
    {
     "data": {
      "application/vnd.jupyter.widget-view+json": {
       "model_id": "7865346f65ab45cda0671bec9e7244ed",
       "version_major": 2,
       "version_minor": 0
      },
      "text/plain": [
       "Canvas(toolbar=Toolbar(toolitems=[('Home', 'Reset original view', 'home', 'home'), ('Back', 'Back to previous …"
      ]
     },
     "metadata": {},
     "output_type": "display_data"
    },
    {
     "data": {
      "application/vnd.jupyter.widget-view+json": {
       "model_id": "3929409330b043ba8fa0c81660572bde",
       "version_major": 2,
       "version_minor": 0
      },
      "text/plain": [
       "Canvas(toolbar=Toolbar(toolitems=[('Home', 'Reset original view', 'home', 'home'), ('Back', 'Back to previous …"
      ]
     },
     "metadata": {},
     "output_type": "display_data"
    }
   ],
   "source": [
    "for ensemble, gsf_err in zip(ensembles, gsf_errors):\n",
    "    \n",
    "    matrix = ensemble.get_raw(0).copy()\n",
    "    for n in range(1, len(ensemble.raw_ensemble)):\n",
    "        matrix.values += ensemble.get_raw(n).values\n",
    "    matrix.values *= 1./len(ensemble.raw_ensemble)\n",
    "    mat = matrix.copy()\n",
    "    mat.rebin('both', E_rebinned, inplace=True)\n",
    "    trapezoid_cut.act_on(mat)\n",
    "    \n",
    "    vals = np.zeros(len(fg_matrix.Eg))\n",
    "    for i in mat.range_Eg:\n",
    "        for j in mat.range_Ex:\n",
    "            vals[i] += mat.values[j,i]\n",
    "    gsf_counts = om.Vector(E=mat.Eg.copy(), values=vals, units='keV')\n",
    "    gsf_counts.to_MeV()\n",
    "    gsf_counts.values = 100./np.sqrt(gsf_counts.values)\n",
    "    \n",
    "    fig, ax = gsf_counts.plot()\n",
    "    er = gsf_err.copy()\n",
    "    er.values *= 100.\n",
    "    er.plot(ax=ax)\n",
    "    ax.set_ylabel(\"Relative error [%]\")"
   ]
  },
  {
   "cell_type": "code",
   "execution_count": 76,
   "id": "f2204f56-aae6-4766-b5d4-4206881e1683",
   "metadata": {},
   "outputs": [
    {
     "name": "stdout",
     "output_type": "stream",
     "text": [
      "2.3833305269815916\n"
     ]
    },
    {
     "data": {
      "application/vnd.jupyter.widget-view+json": {
       "model_id": "b07468db1d5a4abdafe6b02f37907c50",
       "version_major": 2,
       "version_minor": 0
      },
      "text/plain": [
       "Canvas(toolbar=Toolbar(toolitems=[('Home', 'Reset original view', 'home', 'home'), ('Back', 'Back to previous …"
      ]
     },
     "metadata": {},
     "output_type": "display_data"
    }
   ],
   "source": [
    "# Now similar but for NLD\n",
    "# First we will add together all the first generation matrices in the ensemble and take the average for each bin.\n",
    "fg_matrix = ensemble_full.get_firstgen(0)\n",
    "for i in range(1, len(ensemble_full.raw_ensemble)):\n",
    "    fg_matrix.values += ensemble_full.get_firstgen(i).values\n",
    "\n",
    "fg_matrix.values *= 1./len(ensemble_full.raw_ensemble) # There are 15 ensemble members\n",
    "\n",
    "# Absolute worst would be the statistics from the raw matrix?\n",
    "#fg_matrix = raw_orig.copy()\n",
    "fg_matrix.rebin('both', E_rebinned, inplace=True)\n",
    "\n",
    "\n",
    "# Next we cut\n",
    "trapezoid_cut.act_on(fg_matrix)\n",
    "\n",
    "Ef = nld_ens_errors[-1].E*1000.\n",
    "Ef0 = Ef[0]\n",
    "values = np.zeros(len(Ef))\n",
    "for i, ef in enumerate(Ef):\n",
    "    for j in fg_matrix.range_Eg:\n",
    "        if ef + fg_matrix.Eg[j] < min(fg_matrix.Ex) or ef + fg_matrix.Eg[j] > max(fg_matrix.Ex):\n",
    "            continue\n",
    "        index_Ex = fg_matrix.index_Ex(ef + fg_matrix.Eg[j])\n",
    "        values[i] += fg_matrix.values[index_Ex, j]\n",
    "        #print(i, \" \", index_Ex, \" \", j, \" \", fg_matrix.Ex[index_Ex], \" \", fg_matrix.Eg[j], \" \", fg_matrix.Ex[index_Ex]-fg_matrix.Eg[j])\n",
    "print(100./np.sqrt(values[-1]))\n",
    "nld_counts = om.Vector(E=Ef, values=values, units='keV')\n",
    "nld_counts.to_MeV()\n",
    "nld_counts.values = 100./np.sqrt(nld_counts.values)\n",
    "fig, ax = nld_counts.plot()\n",
    "er = nld_ens_errors[-1].copy()\n",
    "er.values *= 100.\n",
    "er.plot(ax=ax)\n",
    "ax.set_ylabel(\"Relative error [%]\");"
   ]
  },
  {
   "cell_type": "code",
   "execution_count": 96,
   "id": "db6d7c7b-b2e2-463f-a343-cc7e71096237",
   "metadata": {},
   "outputs": [
    {
     "data": {
      "application/vnd.jupyter.widget-view+json": {
       "model_id": "1d2887183f554fa099a03119213770c7",
       "version_major": 2,
       "version_minor": 0
      },
      "text/plain": [
       "Canvas(toolbar=Toolbar(toolitems=[('Home', 'Reset original view', 'home', 'home'), ('Back', 'Back to previous …"
      ]
     },
     "metadata": {},
     "output_type": "display_data"
    },
    {
     "data": {
      "application/vnd.jupyter.widget-view+json": {
       "model_id": "8ce674475fac41a2a8279c0f4665ea8d",
       "version_major": 2,
       "version_minor": 0
      },
      "text/plain": [
       "Canvas(toolbar=Toolbar(toolitems=[('Home', 'Reset original view', 'home', 'home'), ('Back', 'Back to previous …"
      ]
     },
     "metadata": {},
     "output_type": "display_data"
    },
    {
     "data": {
      "application/vnd.jupyter.widget-view+json": {
       "model_id": "851289e099104f368c86d72bdb75a077",
       "version_major": 2,
       "version_minor": 0
      },
      "text/plain": [
       "Canvas(toolbar=Toolbar(toolitems=[('Home', 'Reset original view', 'home', 'home'), ('Back', 'Back to previous …"
      ]
     },
     "metadata": {},
     "output_type": "display_data"
    },
    {
     "data": {
      "application/vnd.jupyter.widget-view+json": {
       "model_id": "b9cc1bd6edc849fbab2b2a849b2f4cc3",
       "version_major": 2,
       "version_minor": 0
      },
      "text/plain": [
       "Canvas(toolbar=Toolbar(toolitems=[('Home', 'Reset original view', 'home', 'home'), ('Back', 'Back to previous …"
      ]
     },
     "metadata": {},
     "output_type": "display_data"
    },
    {
     "data": {
      "application/vnd.jupyter.widget-view+json": {
       "model_id": "5ed0afdac22a44499bc3f9d6a7a45904",
       "version_major": 2,
       "version_minor": 0
      },
      "text/plain": [
       "Canvas(toolbar=Toolbar(toolitems=[('Home', 'Reset original view', 'home', 'home'), ('Back', 'Back to previous …"
      ]
     },
     "metadata": {},
     "output_type": "display_data"
    },
    {
     "data": {
      "application/vnd.jupyter.widget-view+json": {
       "model_id": "64a653461dbd47768b4a85c3b5248773",
       "version_major": 2,
       "version_minor": 0
      },
      "text/plain": [
       "Canvas(toolbar=Toolbar(toolitems=[('Home', 'Reset original view', 'home', 'home'), ('Back', 'Back to previous …"
      ]
     },
     "metadata": {},
     "output_type": "display_data"
    },
    {
     "data": {
      "application/vnd.jupyter.widget-view+json": {
       "model_id": "774b19a2b4214b7cb4e485a7fb30d51e",
       "version_major": 2,
       "version_minor": 0
      },
      "text/plain": [
       "Canvas(toolbar=Toolbar(toolitems=[('Home', 'Reset original view', 'home', 'home'), ('Back', 'Back to previous …"
      ]
     },
     "metadata": {},
     "output_type": "display_data"
    },
    {
     "data": {
      "application/vnd.jupyter.widget-view+json": {
       "model_id": "8630e587d7d140c8a705a0a662be7a3b",
       "version_major": 2,
       "version_minor": 0
      },
      "text/plain": [
       "Canvas(toolbar=Toolbar(toolitems=[('Home', 'Reset original view', 'home', 'home'), ('Back', 'Back to previous …"
      ]
     },
     "metadata": {},
     "output_type": "display_data"
    },
    {
     "data": {
      "application/vnd.jupyter.widget-view+json": {
       "model_id": "44755721f0d7423382b8941a9f4be408",
       "version_major": 2,
       "version_minor": 0
      },
      "text/plain": [
       "Canvas(toolbar=Toolbar(toolitems=[('Home', 'Reset original view', 'home', 'home'), ('Back', 'Back to previous …"
      ]
     },
     "metadata": {},
     "output_type": "display_data"
    },
    {
     "data": {
      "application/vnd.jupyter.widget-view+json": {
       "model_id": "1de80c1c83114cb59f7f6035e6eaba8b",
       "version_major": 2,
       "version_minor": 0
      },
      "text/plain": [
       "Canvas(toolbar=Toolbar(toolitems=[('Home', 'Reset original view', 'home', 'home'), ('Back', 'Back to previous …"
      ]
     },
     "metadata": {},
     "output_type": "display_data"
    },
    {
     "data": {
      "application/vnd.jupyter.widget-view+json": {
       "model_id": "8a7bdfbe21524f2981e139051ba52aef",
       "version_major": 2,
       "version_minor": 0
      },
      "text/plain": [
       "Canvas(toolbar=Toolbar(toolitems=[('Home', 'Reset original view', 'home', 'home'), ('Back', 'Back to previous …"
      ]
     },
     "metadata": {},
     "output_type": "display_data"
    },
    {
     "data": {
      "application/vnd.jupyter.widget-view+json": {
       "model_id": "254f55b8a37e4acaaba52b3215553435",
       "version_major": 2,
       "version_minor": 0
      },
      "text/plain": [
       "Canvas(toolbar=Toolbar(toolitems=[('Home', 'Reset original view', 'home', 'home'), ('Back', 'Back to previous …"
      ]
     },
     "metadata": {},
     "output_type": "display_data"
    },
    {
     "data": {
      "application/vnd.jupyter.widget-view+json": {
       "model_id": "e77eeccc2f6449cea4e0f3a053afc4e5",
       "version_major": 2,
       "version_minor": 0
      },
      "text/plain": [
       "Canvas(toolbar=Toolbar(toolitems=[('Home', 'Reset original view', 'home', 'home'), ('Back', 'Back to previous …"
      ]
     },
     "metadata": {},
     "output_type": "display_data"
    }
   ],
   "source": [
    "for ensemble, nld_err in zip(ensembles, nld_errors):\n",
    "    \n",
    "    matrix = ensemble.get_raw(0).copy()\n",
    "    for n in range(1, len(ensemble.raw_ensemble)):\n",
    "        matrix.values += ensemble.get_raw(n).values\n",
    "    matrix.values *= 1./len(ensemble.raw_ensemble)\n",
    "    mat = matrix.copy()\n",
    "    mat.rebin('both', E_rebinned, inplace=True)\n",
    "    trapezoid_cut.act_on(mat)\n",
    "        \n",
    "    Ef = nld_err.E*1e3\n",
    "    vals = np.zeros(len(Ef))\n",
    "    for i, ef in enumerate(Ef):\n",
    "        for j in fg_matrix.range_Eg:\n",
    "            if ef + fg_matrix.Eg[j] < min(fg_matrix.Ex) or ef + fg_matrix.Eg[j] > max(fg_matrix.Ex):\n",
    "                continue\n",
    "            index_Ex = fg_matrix.index_Ex(ef + fg_matrix.Eg[j])\n",
    "            vals[i] += fg_matrix.values[index_Ex, j]\n",
    "    \n",
    "    nld_counts = om.Vector(E=Ef, values=vals, units='keV')\n",
    "    nld_counts.to_MeV()\n",
    "    nld_counts.values = 100./np.sqrt(nld_counts.values)\n",
    "    \n",
    "    #fig, ax = nld_counts.plot()\n",
    "    er = nld_err.copy()\n",
    "    er.values *= 100.\n",
    "    nld_counts.values *= er.values[15]/nld_counts.values[15]\n",
    "    fig, ax = nld_counts.plot()\n",
    "    er.plot(ax=ax)\n",
    "    ax.set_ylabel(\"Relative error [%]\")"
   ]
  },
  {
   "cell_type": "code",
   "execution_count": null,
   "id": "c10dd58b-0ebd-4613-b42e-850de5baff16",
   "metadata": {},
   "outputs": [],
   "source": []
  }
 ],
 "metadata": {
  "kernelspec": {
   "display_name": "Python 3 (ipykernel)",
   "language": "python",
   "name": "python3"
  },
  "language_info": {
   "codemirror_mode": {
    "name": "ipython",
    "version": 3
   },
   "file_extension": ".py",
   "mimetype": "text/x-python",
   "name": "python",
   "nbconvert_exporter": "python",
   "pygments_lexer": "ipython3",
   "version": "3.9.6"
  }
 },
 "nbformat": 4,
 "nbformat_minor": 5
}
