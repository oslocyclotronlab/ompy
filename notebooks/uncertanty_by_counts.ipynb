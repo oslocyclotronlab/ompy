{
 "cells": [
  {
   "cell_type": "code",
   "execution_count": 1,
   "id": "0e6a22c9-5631-443b-98dd-e25c0cc05cf9",
   "metadata": {},
   "outputs": [],
   "source": [
    "%load_ext autoreload\n",
    "%autoreload 2\n",
    "%matplotlib widget"
   ]
  },
  {
   "cell_type": "code",
   "execution_count": 2,
   "id": "79d7254a-6b71-460d-96f0-400bf769a436",
   "metadata": {},
   "outputs": [],
   "source": [
    "import matplotlib.pyplot as plt\n",
    "import numpy as np\n",
    "import ompy as om\n",
    "import logging\n",
    "import pymc3 as pm\n",
    "import arviz as az"
   ]
  },
  {
   "cell_type": "code",
   "execution_count": 3,
   "id": "cd12b7cd-7248-4ba8-bf64-6a98b86167f7",
   "metadata": {},
   "outputs": [
    {
     "data": {
      "text/plain": [
       "'1.1.0.dev0+562aece'"
      ]
     },
     "execution_count": 3,
     "metadata": {},
     "output_type": "execute_result"
    }
   ],
   "source": [
    "om.__full_version__"
   ]
  },
  {
   "cell_type": "markdown",
   "id": "c085a2be-0201-4ecb-a972-94ec65cb5b44",
   "metadata": {},
   "source": [
    "# Global settings of notebook\n",
    "In the cell below there are a nuber of global settings that will affect the notebook from here. This is to make it easier to do a short PoC without having it to run for hours and hours.\n",
    "\n",
    "* `ensemble_size` controls the number of ensemble members that gets generated. Depending on the operation done the runtime may be linear or N^(N-1).\n",
    "* `multinest_livepoints` controls the number of live points used by PyMultinest. It is recomended to use at least 400 when accuracy is important. For debugging purposes this can be lowered."
   ]
  },
  {
   "cell_type": "code",
   "execution_count": 118,
   "id": "dd94bf0d-0ad4-4c46-a90e-4dd30911f037",
   "metadata": {},
   "outputs": [],
   "source": [
    "ensemble_size = 10\n",
    "multinest_livepoints = 300"
   ]
  },
  {
   "cell_type": "code",
   "execution_count": 5,
   "id": "7c5ff2cd-da69-4d52-bca1-7e723fff8c15",
   "metadata": {},
   "outputs": [],
   "source": [
    "def draw_random(matrix: om.Matrix, count: int, **kwargs) -> om.Matrix:\n",
    "    \"\"\" Simple function to generate a matrix with N counts\n",
    "    where the probability of drawing a particular bin is given\n",
    "    by the number of counts in the input matrix.\n",
    "    Args:\n",
    "        matrix: (Matrix) Matrix giving the probability\n",
    "        count: (int) Number of counts to draw\n",
    "        **kwargs: Keyword arguments to the random number generator.\n",
    "    Returns:\n",
    "        A matrix-type with bin contents randomly drawn with the\n",
    "        same distribution as the input matrix.\n",
    "    \"\"\"\n",
    "    \n",
    "    # Step 1, make a giant array with number of entries equal to the number of counts in each bin in the matrix.\n",
    "    coords = []\n",
    "    probability = []\n",
    "    for i in range(len(matrix.Ex)):\n",
    "        for j in range(len(matrix.Eg)):\n",
    "            coords.append([i,j])\n",
    "            probability.append(int(matrix.values[i,j]))\n",
    "    \n",
    "    coords = np.array(coords)\n",
    "    probability = np.array(probability, dtype=float)\n",
    "    probability /= np.sum(probability)\n",
    "    \n",
    "    # Step 2, draw 'draws' number of elements from the list\n",
    "    rng = np.random.default_rng(**kwargs)\n",
    "    drawed = rng.choice(coords, size=int(count), p=probability)\n",
    "    mat = matrix.copy()\n",
    "    mat.values *= 0\n",
    "    for i,j in drawed:\n",
    "        mat.values[i,j] += 1\n",
    "    return mat"
   ]
  },
  {
   "cell_type": "markdown",
   "id": "8cbbf6ed-aeae-49f8-b87b-561ce1cdb208",
   "metadata": {},
   "source": [
    "# Loading data\n",
    "In this notebook we will be looking at the same data-set as in the [Getting Started](https://ompy.readthedocs.io/en/latest/getting_started.html) tutorial, but will do the analysis with three different statistics levels. To simulate low statistics we will use the `draw_random` function declared above. We will be looking at the full statistics case (5,279,152 counts), a low count case (100,000 counts) and a medium count case (250,000 counts).\n",
    "\n",
    "The $^{164}\\mathrm{Dy}$ data used below has been gathered from following experiment: Nyhus, H. T. *et al.* (2010). DOI: [10.1103/physrevc.81.024325](https://doi.org/10.1103/PhysRevC.81.024325)\n",
    "and is reanalyzed in Renstrøm, T. *et al.* (2018). DOI: [10.1103/physrevc.98.054310](https://doi.org/10.1103/PhysRevC.98.054310)"
   ]
  },
  {
   "cell_type": "code",
   "execution_count": 6,
   "id": "ed0784d7-9111-4519-a940-4f5e33e0592c",
   "metadata": {},
   "outputs": [
    {
     "name": "stdout",
     "output_type": "stream",
     "text": [
      "Total number of counts in raw matrix: 5279151.998904223\n"
     ]
    },
    {
     "data": {
      "application/vnd.jupyter.widget-view+json": {
       "model_id": "be6a09d9d53045448c21262dd9c73943",
       "version_major": 2,
       "version_minor": 0
      },
      "text/plain": [
       "Canvas(toolbar=Toolbar(toolitems=[('Home', 'Reset original view', 'home', 'home'), ('Back', 'Back to previous …"
      ]
     },
     "metadata": {},
     "output_type": "display_data"
    }
   ],
   "source": [
    "# Import raw matrix into instance of om.Matrix() and plot it\n",
    "raw = om.example_raw('Dy164')\n",
    "# To use you own data, uncomment/adapt the line below instead\n",
    "# raw = om.Matrix(path=\"/path/to/matrix.ending\")\n",
    "\n",
    "print(f\"Total number of counts in raw matrix: {np.sum(raw.values)}\")\n",
    "\n",
    "# Cut the diagonal\n",
    "raw.cut_diagonal(E1=(800, 0), E2=(7500, 7300))\n",
    "raw.cut('Ex', 0, 8400)\n",
    "\n",
    "# Plot the entire matrix\n",
    "raw_org = raw.copy() # workaround due to execution order in jupyter notebook\n",
    "                     # (calculations are performed before plotting, but we make a cut to raw further down)\n",
    "raw_org.plot();"
   ]
  },
  {
   "cell_type": "markdown",
   "id": "6c653219-7b91-4e22-95e0-75c51efd0b49",
   "metadata": {},
   "source": [
    "## Declare and define used classes\n",
    "We are declaring all our analysis classes in the cells bellow as we only need to do this once."
   ]
  },
  {
   "cell_type": "code",
   "execution_count": 7,
   "id": "c4fd9521-72c7-403b-ae06-b1fb390802fa",
   "metadata": {},
   "outputs": [
    {
     "name": "stdout",
     "output_type": "stream",
     "text": [
      "2021-08-11 12:47:47,418 - ompy.response - INFO - Note: Spectra outside of 200.0 and 20000.0 are extrapolation only.\n"
     ]
    }
   ],
   "source": [
    "logger = om.introspection.get_logger('response', 'INFO')\n",
    "# Then do the same using OMpy functionality:\n",
    "# You may need to adpot this to whereever you response matrices are stored\n",
    "folderpath = \"../OCL_response_functions/oscar2017_scale1.15\"\n",
    "\n",
    "# Energy calibration of resulting response matrix:\n",
    "Eg = raw.Eg\n",
    "\n",
    "# Experimental relative FWHM at 1.33 MeV of resulting array\n",
    "fwhm_abs = 30 # (30/1330 = 2.25% )\n",
    "\n",
    "# Magne recommends 1/10 of the actual resolution for unfolding purposes\n",
    "response = om.Response(folderpath)\n",
    "R_ompy_unf, R_tab_unf = response.interpolate(Eg, fwhm_abs=fwhm_abs/10, return_table=True)"
   ]
  },
  {
   "cell_type": "code",
   "execution_count": 8,
   "id": "62cb066b-0b79-4932-a69b-41dfef2e69c7",
   "metadata": {},
   "outputs": [],
   "source": [
    "# With compton subtraction and all tweaks\n",
    "unfolder= om.Unfolder(response=R_ompy_unf)\n",
    "firstgen = om.FirstGeneration()\n",
    "unfolder.use_compton_subtraction = True # default\n",
    "unfolder.response_tab = R_tab_unf\n",
    "# Magne suggests some \"tweaks\" for a better unfolding performance. Default is 1 for all.\n",
    "unfolder.FWHM_tweak_multiplier = {\"fe\": 1., \"se\": 1.1,\n",
    "                                     \"de\": 1.3, \"511\": 0.9}\n",
    "\n",
    "trapezoid_cut = om.Action('matrix')\n",
    "trapezoid_cut.trapezoid(Ex_min=4000, Ex_max=7000, Eg_min=1000, Eg_max=7000+200, inplace=True)\n",
    "E_rebinned = np.arange(100., 8500, 200)"
   ]
  },
  {
   "cell_type": "markdown",
   "id": "da8405e4-6667-4da2-b30e-5717be7f72c4",
   "metadata": {},
   "source": [
    "### Normalization parameters\n",
    "See [getting started]() for more details."
   ]
  },
  {
   "cell_type": "code",
   "execution_count": 9,
   "id": "99350fc0-4246-411b-af81-c7451ffff09a",
   "metadata": {},
   "outputs": [],
   "source": [
    "norm_pars = om.NormalizationParameters(name=\"164Dy\")\n",
    "norm_pars.D0 = [6.8, 0.6]  # eV\n",
    "norm_pars.Sn = [7.658, 0.001] # MeV\n",
    "norm_pars.Gg = [113., 13.]  #meV\n",
    "norm_pars.spincutModel = 'Disc_and_EB05'  # see eg. Guttormsen et al., 2017, PRC 96, 024313\n",
    "norm_pars.spincutPars = {\"mass\":164, \"NLDa\":18.12, \"Eshift\":0.31,\n",
    "                         \"Sn\": norm_pars.Sn[0], \"sigma2_disc\":[1.5, 3.6]}\n",
    "norm_pars.Jtarget = 5/2 # A-1 nucleus"
   ]
  },
  {
   "cell_type": "markdown",
   "id": "1933ac94-54f0-430e-a4d2-a539c7797352",
   "metadata": {},
   "source": [
    "### Setup useful loggers"
   ]
  },
  {
   "cell_type": "code",
   "execution_count": 10,
   "id": "f9f34016-82b5-4eb3-b736-68d9660cb3ee",
   "metadata": {},
   "outputs": [],
   "source": [
    "nld_log = om.introspection.get_logger('normalizer_nld', 'INFO')\n",
    "gsf_log = om.introspection.get_logger('normalizer_gsf', 'INFO')\n",
    "sim_log = om.introspection.get_logger('normalizer_simultan', 'INFO')\n",
    "ens_log = om.introspection.get_logger('ensembleNormalizer', 'INFO')\n",
    "logger = om.introspection.get_logger('error_finder', 'DEBUG')"
   ]
  },
  {
   "cell_type": "markdown",
   "id": "ed0a22ee-97fa-4e0b-a15e-8db8b90a0ea3",
   "metadata": {},
   "source": [
    "## Declare ErrorFinder\n",
    "This declares the error estimator using the logarithmic model. This is the more stable model."
   ]
  },
  {
   "cell_type": "code",
   "execution_count": null,
   "id": "83dbc654-9179-44fa-8caa-6661db38b7d5",
   "metadata": {},
   "outputs": [],
   "source": [
    "error_estimator = om.error_finder.ErrorFinder(algorithm='log')"
   ]
  },
  {
   "cell_type": "markdown",
   "id": "dc7d94d1-93ff-4840-9cf6-d8f27941758f",
   "metadata": {},
   "source": [
    "## Test dependence on statistics\n",
    "In the next few cells we will generate input matrices with various number of counts. This is to simulate the effect of statistics has on the results."
   ]
  },
  {
   "cell_type": "code",
   "execution_count": 89,
   "id": "96b883fc-66f6-4c95-8c76-6ece9f000c69",
   "metadata": {},
   "outputs": [],
   "source": [
    "raw_orig = raw.copy()\n",
    "raw_orig.fill_and_remove_negative(window_size=2)\n",
    "\n",
    "counts = [25000, 50000, 75000, 100000, 150000, 200000, 250000, 500000, 750000, 1000000, 1500000, 2000000]\n",
    "raw_matrices = [draw_random(raw_orig, count) for count in counts]\n",
    "raw_matrices.append(raw_orig.copy())\n",
    "counts.append(int(raw_orig.counts))"
   ]
  },
  {
   "cell_type": "markdown",
   "id": "16f9f6d2-347d-48e1-b921-b6860ddce67a",
   "metadata": {},
   "source": [
    "### Setup the ensembles"
   ]
  },
  {
   "cell_type": "code",
   "execution_count": 14,
   "id": "f7f32cc8-8074-4959-88ce-c008954ad525",
   "metadata": {
    "collapsed": true,
    "jupyter": {
     "outputs_hidden": true
    },
    "tags": []
   },
   "outputs": [
    {
     "data": {
      "application/vnd.jupyter.widget-view+json": {
       "model_id": "991332a9fc4b43f4b1ace0da5fdc0acc",
       "version_major": 2,
       "version_minor": 0
      },
      "text/plain": [
       "  0%|          | 0/7 [00:00<?, ?it/s]"
      ]
     },
     "metadata": {},
     "output_type": "display_data"
    },
    {
     "data": {
      "application/vnd.jupyter.widget-view+json": {
       "model_id": "108bf6a98394481dad358473db9876dc",
       "version_major": 2,
       "version_minor": 0
      },
      "text/plain": [
       "  0%|          | 0/7 [00:00<?, ?it/s]"
      ]
     },
     "metadata": {},
     "output_type": "display_data"
    },
    {
     "data": {
      "application/vnd.jupyter.widget-view+json": {
       "model_id": "7c03255a35504e8e89c921a72bd621c9",
       "version_major": 2,
       "version_minor": 0
      },
      "text/plain": [
       "  0%|          | 0/7 [00:00<?, ?it/s]"
      ]
     },
     "metadata": {},
     "output_type": "display_data"
    },
    {
     "data": {
      "application/vnd.jupyter.widget-view+json": {
       "model_id": "ee667e1b4c3541dcad6bdebae8f27639",
       "version_major": 2,
       "version_minor": 0
      },
      "text/plain": [
       "  0%|          | 0/7 [00:00<?, ?it/s]"
      ]
     },
     "metadata": {},
     "output_type": "display_data"
    },
    {
     "data": {
      "application/vnd.jupyter.widget-view+json": {
       "model_id": "1e28fd1866634ca7990c5e551a9880a2",
       "version_major": 2,
       "version_minor": 0
      },
      "text/plain": [
       "  0%|          | 0/7 [00:00<?, ?it/s]"
      ]
     },
     "metadata": {},
     "output_type": "display_data"
    },
    {
     "data": {
      "application/vnd.jupyter.widget-view+json": {
       "model_id": "ccce6fd3516449379cbdedc95bc42c54",
       "version_major": 2,
       "version_minor": 0
      },
      "text/plain": [
       "  0%|          | 0/7 [00:00<?, ?it/s]"
      ]
     },
     "metadata": {},
     "output_type": "display_data"
    },
    {
     "data": {
      "application/vnd.jupyter.widget-view+json": {
       "model_id": "596597effc7f4a9ba6f98081faddcdaa",
       "version_major": 2,
       "version_minor": 0
      },
      "text/plain": [
       "  0%|          | 0/7 [00:00<?, ?it/s]"
      ]
     },
     "metadata": {},
     "output_type": "display_data"
    },
    {
     "data": {
      "application/vnd.jupyter.widget-view+json": {
       "model_id": "d6eeb4d2e6024f7aa63cf5fb4c5b3514",
       "version_major": 2,
       "version_minor": 0
      },
      "text/plain": [
       "  0%|          | 0/7 [00:00<?, ?it/s]"
      ]
     },
     "metadata": {},
     "output_type": "display_data"
    },
    {
     "data": {
      "application/vnd.jupyter.widget-view+json": {
       "model_id": "038542f12274407197c312d6115bcac9",
       "version_major": 2,
       "version_minor": 0
      },
      "text/plain": [
       "  0%|          | 0/7 [00:00<?, ?it/s]"
      ]
     },
     "metadata": {},
     "output_type": "display_data"
    },
    {
     "data": {
      "application/vnd.jupyter.widget-view+json": {
       "model_id": "0e30ee64e065444eae69dff6c6d57e79",
       "version_major": 2,
       "version_minor": 0
      },
      "text/plain": [
       "  0%|          | 0/7 [00:00<?, ?it/s]"
      ]
     },
     "metadata": {},
     "output_type": "display_data"
    },
    {
     "data": {
      "application/vnd.jupyter.widget-view+json": {
       "model_id": "2f1d9dcd96a74961a63bf46febe8203e",
       "version_major": 2,
       "version_minor": 0
      },
      "text/plain": [
       "  0%|          | 0/7 [00:00<?, ?it/s]"
      ]
     },
     "metadata": {},
     "output_type": "display_data"
    },
    {
     "data": {
      "application/vnd.jupyter.widget-view+json": {
       "model_id": "c9778094f50446a598638b59a071ca7e",
       "version_major": 2,
       "version_minor": 0
      },
      "text/plain": [
       "  0%|          | 0/7 [00:00<?, ?it/s]"
      ]
     },
     "metadata": {},
     "output_type": "display_data"
    },
    {
     "data": {
      "application/vnd.jupyter.widget-view+json": {
       "model_id": "f5b6e1bd95d944279659d73ec1e5b1ab",
       "version_major": 2,
       "version_minor": 0
      },
      "text/plain": [
       "  0%|          | 0/7 [00:00<?, ?it/s]"
      ]
     },
     "metadata": {},
     "output_type": "display_data"
    },
    {
     "data": {
      "application/vnd.jupyter.widget-view+json": {
       "model_id": "f287c04991bf4882aa55612371a740d9",
       "version_major": 2,
       "version_minor": 0
      },
      "text/plain": [
       "  0%|          | 0/7 [00:00<?, ?it/s]"
      ]
     },
     "metadata": {},
     "output_type": "display_data"
    },
    {
     "data": {
      "application/vnd.jupyter.widget-view+json": {
       "model_id": "3868adedaf57413db4d154bcaba4c3b8",
       "version_major": 2,
       "version_minor": 0
      },
      "text/plain": [
       "  0%|          | 0/7 [00:00<?, ?it/s]"
      ]
     },
     "metadata": {},
     "output_type": "display_data"
    },
    {
     "data": {
      "application/vnd.jupyter.widget-view+json": {
       "model_id": "7f5647b2c5ee4ffa923c4290249374cd",
       "version_major": 2,
       "version_minor": 0
      },
      "text/plain": [
       "  0%|          | 0/7 [00:00<?, ?it/s]"
      ]
     },
     "metadata": {},
     "output_type": "display_data"
    },
    {
     "data": {
      "application/vnd.jupyter.widget-view+json": {
       "model_id": "eb125282ceb54d8592a9eb0bb20becd1",
       "version_major": 2,
       "version_minor": 0
      },
      "text/plain": [
       "  0%|          | 0/7 [00:00<?, ?it/s]"
      ]
     },
     "metadata": {},
     "output_type": "display_data"
    },
    {
     "data": {
      "application/vnd.jupyter.widget-view+json": {
       "model_id": "0972c36fb604456c85c6f6982d37bd88",
       "version_major": 2,
       "version_minor": 0
      },
      "text/plain": [
       "  0%|          | 0/7 [00:00<?, ?it/s]"
      ]
     },
     "metadata": {},
     "output_type": "display_data"
    },
    {
     "data": {
      "application/vnd.jupyter.widget-view+json": {
       "model_id": "2dde2c2c0a4449f5884793d15b47b2e0",
       "version_major": 2,
       "version_minor": 0
      },
      "text/plain": [
       "  0%|          | 0/7 [00:00<?, ?it/s]"
      ]
     },
     "metadata": {},
     "output_type": "display_data"
    },
    {
     "data": {
      "application/vnd.jupyter.widget-view+json": {
       "model_id": "61a08504989f4597bc2c1f2e2cd6d140",
       "version_major": 2,
       "version_minor": 0
      },
      "text/plain": [
       "  0%|          | 0/7 [00:00<?, ?it/s]"
      ]
     },
     "metadata": {},
     "output_type": "display_data"
    },
    {
     "data": {
      "application/vnd.jupyter.widget-view+json": {
       "model_id": "f86c594a60684d31b27a7bcc49df02ea",
       "version_major": 2,
       "version_minor": 0
      },
      "text/plain": [
       "  0%|          | 0/7 [00:00<?, ?it/s]"
      ]
     },
     "metadata": {},
     "output_type": "display_data"
    },
    {
     "data": {
      "application/vnd.jupyter.widget-view+json": {
       "model_id": "d6217b4b507b415ebb3a01305084e701",
       "version_major": 2,
       "version_minor": 0
      },
      "text/plain": [
       "  0%|          | 0/7 [00:00<?, ?it/s]"
      ]
     },
     "metadata": {},
     "output_type": "display_data"
    },
    {
     "data": {
      "application/vnd.jupyter.widget-view+json": {
       "model_id": "ba699b1e745b410e99424a3382bddeaf",
       "version_major": 2,
       "version_minor": 0
      },
      "text/plain": [
       "  0%|          | 0/7 [00:00<?, ?it/s]"
      ]
     },
     "metadata": {},
     "output_type": "display_data"
    },
    {
     "data": {
      "application/vnd.jupyter.widget-view+json": {
       "model_id": "6b9afa6fc607403392ca0709cc78a4be",
       "version_major": 2,
       "version_minor": 0
      },
      "text/plain": [
       "  0%|          | 0/7 [00:00<?, ?it/s]"
      ]
     },
     "metadata": {},
     "output_type": "display_data"
    },
    {
     "data": {
      "application/vnd.jupyter.widget-view+json": {
       "model_id": "66ffc5f164114ba0b68c873186b21778",
       "version_major": 2,
       "version_minor": 0
      },
      "text/plain": [
       "  0%|          | 0/7 [00:00<?, ?it/s]"
      ]
     },
     "metadata": {},
     "output_type": "display_data"
    },
    {
     "data": {
      "application/vnd.jupyter.widget-view+json": {
       "model_id": "9b1b8bf4223d46af9af8ead1aaac9fec",
       "version_major": 2,
       "version_minor": 0
      },
      "text/plain": [
       "  0%|          | 0/7 [00:00<?, ?it/s]"
      ]
     },
     "metadata": {},
     "output_type": "display_data"
    }
   ],
   "source": [
    "ensembles = [om.Ensemble(raw=raw) for raw in raw_matrices]\n",
    "for ensemble in ensembles:\n",
    "    ensemble.unfolder = unfolder\n",
    "    ensemble.first_generation_method = firstgen\n",
    "    ensemble.generate(ensemble_size, regenerate=True)\n",
    "    ensemble.rebin(E_rebinned, member=\"firstgen\")"
   ]
  },
  {
   "cell_type": "markdown",
   "id": "bdce5960-a2aa-4c10-8879-97df3525f027",
   "metadata": {},
   "source": [
    "### Setup extractors"
   ]
  },
  {
   "cell_type": "code",
   "execution_count": 16,
   "id": "1fb1aaba-2350-4cea-8cd7-71884eed65d8",
   "metadata": {
    "collapsed": true,
    "jupyter": {
     "outputs_hidden": true
    },
    "tags": []
   },
   "outputs": [
    {
     "data": {
      "application/vnd.jupyter.widget-view+json": {
       "model_id": "b08c3ebe477847318cbcb5afca9fafdf",
       "version_major": 2,
       "version_minor": 0
      },
      "text/plain": [
       "  0%|          | 0/7 [00:00<?, ?it/s]"
      ]
     },
     "metadata": {},
     "output_type": "display_data"
    },
    {
     "name": "stderr",
     "output_type": "stream",
     "text": [
      "nld #0 contains nan's.\n",
      "Consider removing them e.g. with:\n",
      "# for nld in extractor.nld:\n",
      "#     nld.cut_nan()\n",
      "\n",
      "nld #1 contains nan's.\n",
      "Consider removing them e.g. with:\n",
      "# for nld in extractor.nld:\n",
      "#     nld.cut_nan()\n",
      "\n",
      "nld #2 contains nan's.\n",
      "Consider removing them e.g. with:\n",
      "# for nld in extractor.nld:\n",
      "#     nld.cut_nan()\n",
      "\n",
      "nld #3 contains nan's.\n",
      "Consider removing them e.g. with:\n",
      "# for nld in extractor.nld:\n",
      "#     nld.cut_nan()\n",
      "\n",
      "nld #4 contains nan's.\n",
      "Consider removing them e.g. with:\n",
      "# for nld in extractor.nld:\n",
      "#     nld.cut_nan()\n",
      "\n",
      "nld #5 contains nan's.\n",
      "Consider removing them e.g. with:\n",
      "# for nld in extractor.nld:\n",
      "#     nld.cut_nan()\n",
      "\n",
      "nld #6 contains nan's.\n",
      "Consider removing them e.g. with:\n",
      "# for nld in extractor.nld:\n",
      "#     nld.cut_nan()\n",
      "\n",
      "gsf #0 contains nan's.\n",
      "Consider removing them e.g. with:\n",
      "# for gsf in extractor.gsf:\n",
      "#     gsf.cut_nan()\n",
      "\n",
      "gsf #1 contains nan's.\n",
      "Consider removing them e.g. with:\n",
      "# for gsf in extractor.gsf:\n",
      "#     gsf.cut_nan()\n",
      "\n",
      "gsf #2 contains nan's.\n",
      "Consider removing them e.g. with:\n",
      "# for gsf in extractor.gsf:\n",
      "#     gsf.cut_nan()\n",
      "\n",
      "gsf #3 contains nan's.\n",
      "Consider removing them e.g. with:\n",
      "# for gsf in extractor.gsf:\n",
      "#     gsf.cut_nan()\n",
      "\n",
      "gsf #4 contains nan's.\n",
      "Consider removing them e.g. with:\n",
      "# for gsf in extractor.gsf:\n",
      "#     gsf.cut_nan()\n",
      "\n",
      "gsf #5 contains nan's.\n",
      "Consider removing them e.g. with:\n",
      "# for gsf in extractor.gsf:\n",
      "#     gsf.cut_nan()\n",
      "\n",
      "gsf #6 contains nan's.\n",
      "Consider removing them e.g. with:\n",
      "# for gsf in extractor.gsf:\n",
      "#     gsf.cut_nan()\n",
      "\n"
     ]
    },
    {
     "data": {
      "application/vnd.jupyter.widget-view+json": {
       "model_id": "4373f593e89e4fa3bcb9838054c01fbe",
       "version_major": 2,
       "version_minor": 0
      },
      "text/plain": [
       "  0%|          | 0/7 [00:00<?, ?it/s]"
      ]
     },
     "metadata": {},
     "output_type": "display_data"
    },
    {
     "name": "stderr",
     "output_type": "stream",
     "text": [
      "nld #0 contains nan's.\n",
      "Consider removing them e.g. with:\n",
      "# for nld in extractor.nld:\n",
      "#     nld.cut_nan()\n",
      "\n",
      "nld #1 contains nan's.\n",
      "Consider removing them e.g. with:\n",
      "# for nld in extractor.nld:\n",
      "#     nld.cut_nan()\n",
      "\n",
      "nld #2 contains nan's.\n",
      "Consider removing them e.g. with:\n",
      "# for nld in extractor.nld:\n",
      "#     nld.cut_nan()\n",
      "\n",
      "nld #3 contains nan's.\n",
      "Consider removing them e.g. with:\n",
      "# for nld in extractor.nld:\n",
      "#     nld.cut_nan()\n",
      "\n",
      "nld #4 contains nan's.\n",
      "Consider removing them e.g. with:\n",
      "# for nld in extractor.nld:\n",
      "#     nld.cut_nan()\n",
      "\n",
      "nld #5 contains nan's.\n",
      "Consider removing them e.g. with:\n",
      "# for nld in extractor.nld:\n",
      "#     nld.cut_nan()\n",
      "\n",
      "nld #6 contains nan's.\n",
      "Consider removing them e.g. with:\n",
      "# for nld in extractor.nld:\n",
      "#     nld.cut_nan()\n",
      "\n",
      "gsf #0 contains nan's.\n",
      "Consider removing them e.g. with:\n",
      "# for gsf in extractor.gsf:\n",
      "#     gsf.cut_nan()\n",
      "\n",
      "gsf #1 contains nan's.\n",
      "Consider removing them e.g. with:\n",
      "# for gsf in extractor.gsf:\n",
      "#     gsf.cut_nan()\n",
      "\n",
      "gsf #2 contains nan's.\n",
      "Consider removing them e.g. with:\n",
      "# for gsf in extractor.gsf:\n",
      "#     gsf.cut_nan()\n",
      "\n",
      "gsf #3 contains nan's.\n",
      "Consider removing them e.g. with:\n",
      "# for gsf in extractor.gsf:\n",
      "#     gsf.cut_nan()\n",
      "\n",
      "gsf #4 contains nan's.\n",
      "Consider removing them e.g. with:\n",
      "# for gsf in extractor.gsf:\n",
      "#     gsf.cut_nan()\n",
      "\n",
      "gsf #5 contains nan's.\n",
      "Consider removing them e.g. with:\n",
      "# for gsf in extractor.gsf:\n",
      "#     gsf.cut_nan()\n",
      "\n",
      "gsf #6 contains nan's.\n",
      "Consider removing them e.g. with:\n",
      "# for gsf in extractor.gsf:\n",
      "#     gsf.cut_nan()\n",
      "\n"
     ]
    },
    {
     "data": {
      "application/vnd.jupyter.widget-view+json": {
       "model_id": "81d5e254bbd04fb990b383493e6299a6",
       "version_major": 2,
       "version_minor": 0
      },
      "text/plain": [
       "  0%|          | 0/7 [00:00<?, ?it/s]"
      ]
     },
     "metadata": {},
     "output_type": "display_data"
    },
    {
     "name": "stderr",
     "output_type": "stream",
     "text": [
      "nld #0 contains nan's.\n",
      "Consider removing them e.g. with:\n",
      "# for nld in extractor.nld:\n",
      "#     nld.cut_nan()\n",
      "\n",
      "nld #1 contains nan's.\n",
      "Consider removing them e.g. with:\n",
      "# for nld in extractor.nld:\n",
      "#     nld.cut_nan()\n",
      "\n",
      "nld #2 contains nan's.\n",
      "Consider removing them e.g. with:\n",
      "# for nld in extractor.nld:\n",
      "#     nld.cut_nan()\n",
      "\n",
      "nld #3 contains nan's.\n",
      "Consider removing them e.g. with:\n",
      "# for nld in extractor.nld:\n",
      "#     nld.cut_nan()\n",
      "\n",
      "nld #4 contains nan's.\n",
      "Consider removing them e.g. with:\n",
      "# for nld in extractor.nld:\n",
      "#     nld.cut_nan()\n",
      "\n",
      "nld #5 contains nan's.\n",
      "Consider removing them e.g. with:\n",
      "# for nld in extractor.nld:\n",
      "#     nld.cut_nan()\n",
      "\n",
      "nld #6 contains nan's.\n",
      "Consider removing them e.g. with:\n",
      "# for nld in extractor.nld:\n",
      "#     nld.cut_nan()\n",
      "\n",
      "gsf #0 contains nan's.\n",
      "Consider removing them e.g. with:\n",
      "# for gsf in extractor.gsf:\n",
      "#     gsf.cut_nan()\n",
      "\n",
      "gsf #1 contains nan's.\n",
      "Consider removing them e.g. with:\n",
      "# for gsf in extractor.gsf:\n",
      "#     gsf.cut_nan()\n",
      "\n",
      "gsf #2 contains nan's.\n",
      "Consider removing them e.g. with:\n",
      "# for gsf in extractor.gsf:\n",
      "#     gsf.cut_nan()\n",
      "\n",
      "gsf #3 contains nan's.\n",
      "Consider removing them e.g. with:\n",
      "# for gsf in extractor.gsf:\n",
      "#     gsf.cut_nan()\n",
      "\n",
      "gsf #4 contains nan's.\n",
      "Consider removing them e.g. with:\n",
      "# for gsf in extractor.gsf:\n",
      "#     gsf.cut_nan()\n",
      "\n",
      "gsf #5 contains nan's.\n",
      "Consider removing them e.g. with:\n",
      "# for gsf in extractor.gsf:\n",
      "#     gsf.cut_nan()\n",
      "\n",
      "gsf #6 contains nan's.\n",
      "Consider removing them e.g. with:\n",
      "# for gsf in extractor.gsf:\n",
      "#     gsf.cut_nan()\n",
      "\n"
     ]
    },
    {
     "data": {
      "application/vnd.jupyter.widget-view+json": {
       "model_id": "92cfeadb6f514dd7acca30a55b016277",
       "version_major": 2,
       "version_minor": 0
      },
      "text/plain": [
       "  0%|          | 0/7 [00:00<?, ?it/s]"
      ]
     },
     "metadata": {},
     "output_type": "display_data"
    },
    {
     "name": "stderr",
     "output_type": "stream",
     "text": [
      "nld #0 contains nan's.\n",
      "Consider removing them e.g. with:\n",
      "# for nld in extractor.nld:\n",
      "#     nld.cut_nan()\n",
      "\n",
      "nld #1 contains nan's.\n",
      "Consider removing them e.g. with:\n",
      "# for nld in extractor.nld:\n",
      "#     nld.cut_nan()\n",
      "\n",
      "nld #2 contains nan's.\n",
      "Consider removing them e.g. with:\n",
      "# for nld in extractor.nld:\n",
      "#     nld.cut_nan()\n",
      "\n",
      "nld #3 contains nan's.\n",
      "Consider removing them e.g. with:\n",
      "# for nld in extractor.nld:\n",
      "#     nld.cut_nan()\n",
      "\n",
      "nld #4 contains nan's.\n",
      "Consider removing them e.g. with:\n",
      "# for nld in extractor.nld:\n",
      "#     nld.cut_nan()\n",
      "\n",
      "nld #5 contains nan's.\n",
      "Consider removing them e.g. with:\n",
      "# for nld in extractor.nld:\n",
      "#     nld.cut_nan()\n",
      "\n",
      "nld #6 contains nan's.\n",
      "Consider removing them e.g. with:\n",
      "# for nld in extractor.nld:\n",
      "#     nld.cut_nan()\n",
      "\n",
      "gsf #0 contains nan's.\n",
      "Consider removing them e.g. with:\n",
      "# for gsf in extractor.gsf:\n",
      "#     gsf.cut_nan()\n",
      "\n",
      "gsf #1 contains nan's.\n",
      "Consider removing them e.g. with:\n",
      "# for gsf in extractor.gsf:\n",
      "#     gsf.cut_nan()\n",
      "\n",
      "gsf #2 contains nan's.\n",
      "Consider removing them e.g. with:\n",
      "# for gsf in extractor.gsf:\n",
      "#     gsf.cut_nan()\n",
      "\n",
      "gsf #3 contains nan's.\n",
      "Consider removing them e.g. with:\n",
      "# for gsf in extractor.gsf:\n",
      "#     gsf.cut_nan()\n",
      "\n",
      "gsf #4 contains nan's.\n",
      "Consider removing them e.g. with:\n",
      "# for gsf in extractor.gsf:\n",
      "#     gsf.cut_nan()\n",
      "\n",
      "gsf #5 contains nan's.\n",
      "Consider removing them e.g. with:\n",
      "# for gsf in extractor.gsf:\n",
      "#     gsf.cut_nan()\n",
      "\n",
      "gsf #6 contains nan's.\n",
      "Consider removing them e.g. with:\n",
      "# for gsf in extractor.gsf:\n",
      "#     gsf.cut_nan()\n",
      "\n"
     ]
    },
    {
     "data": {
      "application/vnd.jupyter.widget-view+json": {
       "model_id": "8801bad23a884a0fa199cc2c3894f461",
       "version_major": 2,
       "version_minor": 0
      },
      "text/plain": [
       "  0%|          | 0/7 [00:00<?, ?it/s]"
      ]
     },
     "metadata": {},
     "output_type": "display_data"
    },
    {
     "name": "stderr",
     "output_type": "stream",
     "text": [
      "nld #0 contains nan's.\n",
      "Consider removing them e.g. with:\n",
      "# for nld in extractor.nld:\n",
      "#     nld.cut_nan()\n",
      "\n",
      "nld #1 contains nan's.\n",
      "Consider removing them e.g. with:\n",
      "# for nld in extractor.nld:\n",
      "#     nld.cut_nan()\n",
      "\n",
      "nld #2 contains nan's.\n",
      "Consider removing them e.g. with:\n",
      "# for nld in extractor.nld:\n",
      "#     nld.cut_nan()\n",
      "\n",
      "nld #3 contains nan's.\n",
      "Consider removing them e.g. with:\n",
      "# for nld in extractor.nld:\n",
      "#     nld.cut_nan()\n",
      "\n",
      "nld #4 contains nan's.\n",
      "Consider removing them e.g. with:\n",
      "# for nld in extractor.nld:\n",
      "#     nld.cut_nan()\n",
      "\n",
      "nld #5 contains nan's.\n",
      "Consider removing them e.g. with:\n",
      "# for nld in extractor.nld:\n",
      "#     nld.cut_nan()\n",
      "\n",
      "nld #6 contains nan's.\n",
      "Consider removing them e.g. with:\n",
      "# for nld in extractor.nld:\n",
      "#     nld.cut_nan()\n",
      "\n",
      "gsf #0 contains nan's.\n",
      "Consider removing them e.g. with:\n",
      "# for gsf in extractor.gsf:\n",
      "#     gsf.cut_nan()\n",
      "\n",
      "gsf #1 contains nan's.\n",
      "Consider removing them e.g. with:\n",
      "# for gsf in extractor.gsf:\n",
      "#     gsf.cut_nan()\n",
      "\n",
      "gsf #2 contains nan's.\n",
      "Consider removing them e.g. with:\n",
      "# for gsf in extractor.gsf:\n",
      "#     gsf.cut_nan()\n",
      "\n",
      "gsf #3 contains nan's.\n",
      "Consider removing them e.g. with:\n",
      "# for gsf in extractor.gsf:\n",
      "#     gsf.cut_nan()\n",
      "\n",
      "gsf #4 contains nan's.\n",
      "Consider removing them e.g. with:\n",
      "# for gsf in extractor.gsf:\n",
      "#     gsf.cut_nan()\n",
      "\n",
      "gsf #5 contains nan's.\n",
      "Consider removing them e.g. with:\n",
      "# for gsf in extractor.gsf:\n",
      "#     gsf.cut_nan()\n",
      "\n",
      "gsf #6 contains nan's.\n",
      "Consider removing them e.g. with:\n",
      "# for gsf in extractor.gsf:\n",
      "#     gsf.cut_nan()\n",
      "\n"
     ]
    },
    {
     "data": {
      "application/vnd.jupyter.widget-view+json": {
       "model_id": "5d835c24ee874b478a6af663428846e3",
       "version_major": 2,
       "version_minor": 0
      },
      "text/plain": [
       "  0%|          | 0/7 [00:00<?, ?it/s]"
      ]
     },
     "metadata": {},
     "output_type": "display_data"
    },
    {
     "name": "stderr",
     "output_type": "stream",
     "text": [
      "nld #0 contains nan's.\n",
      "Consider removing them e.g. with:\n",
      "# for nld in extractor.nld:\n",
      "#     nld.cut_nan()\n",
      "\n",
      "nld #1 contains nan's.\n",
      "Consider removing them e.g. with:\n",
      "# for nld in extractor.nld:\n",
      "#     nld.cut_nan()\n",
      "\n",
      "nld #2 contains nan's.\n",
      "Consider removing them e.g. with:\n",
      "# for nld in extractor.nld:\n",
      "#     nld.cut_nan()\n",
      "\n",
      "nld #3 contains nan's.\n",
      "Consider removing them e.g. with:\n",
      "# for nld in extractor.nld:\n",
      "#     nld.cut_nan()\n",
      "\n",
      "nld #4 contains nan's.\n",
      "Consider removing them e.g. with:\n",
      "# for nld in extractor.nld:\n",
      "#     nld.cut_nan()\n",
      "\n",
      "nld #5 contains nan's.\n",
      "Consider removing them e.g. with:\n",
      "# for nld in extractor.nld:\n",
      "#     nld.cut_nan()\n",
      "\n",
      "nld #6 contains nan's.\n",
      "Consider removing them e.g. with:\n",
      "# for nld in extractor.nld:\n",
      "#     nld.cut_nan()\n",
      "\n",
      "gsf #0 contains nan's.\n",
      "Consider removing them e.g. with:\n",
      "# for gsf in extractor.gsf:\n",
      "#     gsf.cut_nan()\n",
      "\n",
      "gsf #1 contains nan's.\n",
      "Consider removing them e.g. with:\n",
      "# for gsf in extractor.gsf:\n",
      "#     gsf.cut_nan()\n",
      "\n",
      "gsf #2 contains nan's.\n",
      "Consider removing them e.g. with:\n",
      "# for gsf in extractor.gsf:\n",
      "#     gsf.cut_nan()\n",
      "\n",
      "gsf #3 contains nan's.\n",
      "Consider removing them e.g. with:\n",
      "# for gsf in extractor.gsf:\n",
      "#     gsf.cut_nan()\n",
      "\n",
      "gsf #4 contains nan's.\n",
      "Consider removing them e.g. with:\n",
      "# for gsf in extractor.gsf:\n",
      "#     gsf.cut_nan()\n",
      "\n",
      "gsf #5 contains nan's.\n",
      "Consider removing them e.g. with:\n",
      "# for gsf in extractor.gsf:\n",
      "#     gsf.cut_nan()\n",
      "\n",
      "gsf #6 contains nan's.\n",
      "Consider removing them e.g. with:\n",
      "# for gsf in extractor.gsf:\n",
      "#     gsf.cut_nan()\n",
      "\n"
     ]
    },
    {
     "data": {
      "application/vnd.jupyter.widget-view+json": {
       "model_id": "c78fa57ce3924b3f92a211e7ae22f741",
       "version_major": 2,
       "version_minor": 0
      },
      "text/plain": [
       "  0%|          | 0/7 [00:00<?, ?it/s]"
      ]
     },
     "metadata": {},
     "output_type": "display_data"
    },
    {
     "name": "stderr",
     "output_type": "stream",
     "text": [
      "nld #0 contains nan's.\n",
      "Consider removing them e.g. with:\n",
      "# for nld in extractor.nld:\n",
      "#     nld.cut_nan()\n",
      "\n",
      "nld #1 contains nan's.\n",
      "Consider removing them e.g. with:\n",
      "# for nld in extractor.nld:\n",
      "#     nld.cut_nan()\n",
      "\n",
      "nld #2 contains nan's.\n",
      "Consider removing them e.g. with:\n",
      "# for nld in extractor.nld:\n",
      "#     nld.cut_nan()\n",
      "\n",
      "nld #3 contains nan's.\n",
      "Consider removing them e.g. with:\n",
      "# for nld in extractor.nld:\n",
      "#     nld.cut_nan()\n",
      "\n",
      "nld #4 contains nan's.\n",
      "Consider removing them e.g. with:\n",
      "# for nld in extractor.nld:\n",
      "#     nld.cut_nan()\n",
      "\n",
      "nld #5 contains nan's.\n",
      "Consider removing them e.g. with:\n",
      "# for nld in extractor.nld:\n",
      "#     nld.cut_nan()\n",
      "\n",
      "nld #6 contains nan's.\n",
      "Consider removing them e.g. with:\n",
      "# for nld in extractor.nld:\n",
      "#     nld.cut_nan()\n",
      "\n",
      "gsf #0 contains nan's.\n",
      "Consider removing them e.g. with:\n",
      "# for gsf in extractor.gsf:\n",
      "#     gsf.cut_nan()\n",
      "\n",
      "gsf #1 contains nan's.\n",
      "Consider removing them e.g. with:\n",
      "# for gsf in extractor.gsf:\n",
      "#     gsf.cut_nan()\n",
      "\n",
      "gsf #2 contains nan's.\n",
      "Consider removing them e.g. with:\n",
      "# for gsf in extractor.gsf:\n",
      "#     gsf.cut_nan()\n",
      "\n",
      "gsf #3 contains nan's.\n",
      "Consider removing them e.g. with:\n",
      "# for gsf in extractor.gsf:\n",
      "#     gsf.cut_nan()\n",
      "\n",
      "gsf #4 contains nan's.\n",
      "Consider removing them e.g. with:\n",
      "# for gsf in extractor.gsf:\n",
      "#     gsf.cut_nan()\n",
      "\n",
      "gsf #5 contains nan's.\n",
      "Consider removing them e.g. with:\n",
      "# for gsf in extractor.gsf:\n",
      "#     gsf.cut_nan()\n",
      "\n",
      "gsf #6 contains nan's.\n",
      "Consider removing them e.g. with:\n",
      "# for gsf in extractor.gsf:\n",
      "#     gsf.cut_nan()\n",
      "\n"
     ]
    },
    {
     "data": {
      "application/vnd.jupyter.widget-view+json": {
       "model_id": "8aab0dd2ba154e02a3f1a747893348a2",
       "version_major": 2,
       "version_minor": 0
      },
      "text/plain": [
       "  0%|          | 0/7 [00:00<?, ?it/s]"
      ]
     },
     "metadata": {},
     "output_type": "display_data"
    },
    {
     "name": "stderr",
     "output_type": "stream",
     "text": [
      "nld #0 contains nan's.\n",
      "Consider removing them e.g. with:\n",
      "# for nld in extractor.nld:\n",
      "#     nld.cut_nan()\n",
      "\n",
      "nld #1 contains nan's.\n",
      "Consider removing them e.g. with:\n",
      "# for nld in extractor.nld:\n",
      "#     nld.cut_nan()\n",
      "\n",
      "nld #2 contains nan's.\n",
      "Consider removing them e.g. with:\n",
      "# for nld in extractor.nld:\n",
      "#     nld.cut_nan()\n",
      "\n",
      "nld #3 contains nan's.\n",
      "Consider removing them e.g. with:\n",
      "# for nld in extractor.nld:\n",
      "#     nld.cut_nan()\n",
      "\n",
      "nld #4 contains nan's.\n",
      "Consider removing them e.g. with:\n",
      "# for nld in extractor.nld:\n",
      "#     nld.cut_nan()\n",
      "\n",
      "nld #5 contains nan's.\n",
      "Consider removing them e.g. with:\n",
      "# for nld in extractor.nld:\n",
      "#     nld.cut_nan()\n",
      "\n",
      "nld #6 contains nan's.\n",
      "Consider removing them e.g. with:\n",
      "# for nld in extractor.nld:\n",
      "#     nld.cut_nan()\n",
      "\n",
      "gsf #0 contains nan's.\n",
      "Consider removing them e.g. with:\n",
      "# for gsf in extractor.gsf:\n",
      "#     gsf.cut_nan()\n",
      "\n",
      "gsf #1 contains nan's.\n",
      "Consider removing them e.g. with:\n",
      "# for gsf in extractor.gsf:\n",
      "#     gsf.cut_nan()\n",
      "\n",
      "gsf #2 contains nan's.\n",
      "Consider removing them e.g. with:\n",
      "# for gsf in extractor.gsf:\n",
      "#     gsf.cut_nan()\n",
      "\n",
      "gsf #3 contains nan's.\n",
      "Consider removing them e.g. with:\n",
      "# for gsf in extractor.gsf:\n",
      "#     gsf.cut_nan()\n",
      "\n",
      "gsf #4 contains nan's.\n",
      "Consider removing them e.g. with:\n",
      "# for gsf in extractor.gsf:\n",
      "#     gsf.cut_nan()\n",
      "\n",
      "gsf #5 contains nan's.\n",
      "Consider removing them e.g. with:\n",
      "# for gsf in extractor.gsf:\n",
      "#     gsf.cut_nan()\n",
      "\n",
      "gsf #6 contains nan's.\n",
      "Consider removing them e.g. with:\n",
      "# for gsf in extractor.gsf:\n",
      "#     gsf.cut_nan()\n",
      "\n"
     ]
    },
    {
     "data": {
      "application/vnd.jupyter.widget-view+json": {
       "model_id": "090f958fc2024bb7bb15f16e6eebc068",
       "version_major": 2,
       "version_minor": 0
      },
      "text/plain": [
       "  0%|          | 0/7 [00:00<?, ?it/s]"
      ]
     },
     "metadata": {},
     "output_type": "display_data"
    },
    {
     "name": "stderr",
     "output_type": "stream",
     "text": [
      "nld #0 contains nan's.\n",
      "Consider removing them e.g. with:\n",
      "# for nld in extractor.nld:\n",
      "#     nld.cut_nan()\n",
      "\n",
      "nld #1 contains nan's.\n",
      "Consider removing them e.g. with:\n",
      "# for nld in extractor.nld:\n",
      "#     nld.cut_nan()\n",
      "\n",
      "nld #2 contains nan's.\n",
      "Consider removing them e.g. with:\n",
      "# for nld in extractor.nld:\n",
      "#     nld.cut_nan()\n",
      "\n",
      "nld #3 contains nan's.\n",
      "Consider removing them e.g. with:\n",
      "# for nld in extractor.nld:\n",
      "#     nld.cut_nan()\n",
      "\n",
      "nld #4 contains nan's.\n",
      "Consider removing them e.g. with:\n",
      "# for nld in extractor.nld:\n",
      "#     nld.cut_nan()\n",
      "\n",
      "nld #5 contains nan's.\n",
      "Consider removing them e.g. with:\n",
      "# for nld in extractor.nld:\n",
      "#     nld.cut_nan()\n",
      "\n",
      "nld #6 contains nan's.\n",
      "Consider removing them e.g. with:\n",
      "# for nld in extractor.nld:\n",
      "#     nld.cut_nan()\n",
      "\n",
      "gsf #0 contains nan's.\n",
      "Consider removing them e.g. with:\n",
      "# for gsf in extractor.gsf:\n",
      "#     gsf.cut_nan()\n",
      "\n",
      "gsf #1 contains nan's.\n",
      "Consider removing them e.g. with:\n",
      "# for gsf in extractor.gsf:\n",
      "#     gsf.cut_nan()\n",
      "\n",
      "gsf #2 contains nan's.\n",
      "Consider removing them e.g. with:\n",
      "# for gsf in extractor.gsf:\n",
      "#     gsf.cut_nan()\n",
      "\n",
      "gsf #3 contains nan's.\n",
      "Consider removing them e.g. with:\n",
      "# for gsf in extractor.gsf:\n",
      "#     gsf.cut_nan()\n",
      "\n",
      "gsf #4 contains nan's.\n",
      "Consider removing them e.g. with:\n",
      "# for gsf in extractor.gsf:\n",
      "#     gsf.cut_nan()\n",
      "\n",
      "gsf #5 contains nan's.\n",
      "Consider removing them e.g. with:\n",
      "# for gsf in extractor.gsf:\n",
      "#     gsf.cut_nan()\n",
      "\n",
      "gsf #6 contains nan's.\n",
      "Consider removing them e.g. with:\n",
      "# for gsf in extractor.gsf:\n",
      "#     gsf.cut_nan()\n",
      "\n"
     ]
    },
    {
     "data": {
      "application/vnd.jupyter.widget-view+json": {
       "model_id": "9254ee8176b34bdd8c94c92bcd3a6723",
       "version_major": 2,
       "version_minor": 0
      },
      "text/plain": [
       "  0%|          | 0/7 [00:00<?, ?it/s]"
      ]
     },
     "metadata": {},
     "output_type": "display_data"
    },
    {
     "name": "stderr",
     "output_type": "stream",
     "text": [
      "nld #0 contains nan's.\n",
      "Consider removing them e.g. with:\n",
      "# for nld in extractor.nld:\n",
      "#     nld.cut_nan()\n",
      "\n",
      "nld #1 contains nan's.\n",
      "Consider removing them e.g. with:\n",
      "# for nld in extractor.nld:\n",
      "#     nld.cut_nan()\n",
      "\n",
      "nld #2 contains nan's.\n",
      "Consider removing them e.g. with:\n",
      "# for nld in extractor.nld:\n",
      "#     nld.cut_nan()\n",
      "\n",
      "nld #3 contains nan's.\n",
      "Consider removing them e.g. with:\n",
      "# for nld in extractor.nld:\n",
      "#     nld.cut_nan()\n",
      "\n",
      "nld #4 contains nan's.\n",
      "Consider removing them e.g. with:\n",
      "# for nld in extractor.nld:\n",
      "#     nld.cut_nan()\n",
      "\n",
      "nld #5 contains nan's.\n",
      "Consider removing them e.g. with:\n",
      "# for nld in extractor.nld:\n",
      "#     nld.cut_nan()\n",
      "\n",
      "nld #6 contains nan's.\n",
      "Consider removing them e.g. with:\n",
      "# for nld in extractor.nld:\n",
      "#     nld.cut_nan()\n",
      "\n",
      "gsf #0 contains nan's.\n",
      "Consider removing them e.g. with:\n",
      "# for gsf in extractor.gsf:\n",
      "#     gsf.cut_nan()\n",
      "\n",
      "gsf #1 contains nan's.\n",
      "Consider removing them e.g. with:\n",
      "# for gsf in extractor.gsf:\n",
      "#     gsf.cut_nan()\n",
      "\n",
      "gsf #2 contains nan's.\n",
      "Consider removing them e.g. with:\n",
      "# for gsf in extractor.gsf:\n",
      "#     gsf.cut_nan()\n",
      "\n",
      "gsf #3 contains nan's.\n",
      "Consider removing them e.g. with:\n",
      "# for gsf in extractor.gsf:\n",
      "#     gsf.cut_nan()\n",
      "\n",
      "gsf #4 contains nan's.\n",
      "Consider removing them e.g. with:\n",
      "# for gsf in extractor.gsf:\n",
      "#     gsf.cut_nan()\n",
      "\n",
      "gsf #5 contains nan's.\n",
      "Consider removing them e.g. with:\n",
      "# for gsf in extractor.gsf:\n",
      "#     gsf.cut_nan()\n",
      "\n",
      "gsf #6 contains nan's.\n",
      "Consider removing them e.g. with:\n",
      "# for gsf in extractor.gsf:\n",
      "#     gsf.cut_nan()\n",
      "\n"
     ]
    },
    {
     "data": {
      "application/vnd.jupyter.widget-view+json": {
       "model_id": "da0cd4a77a1c4826a330b64860906936",
       "version_major": 2,
       "version_minor": 0
      },
      "text/plain": [
       "  0%|          | 0/7 [00:00<?, ?it/s]"
      ]
     },
     "metadata": {},
     "output_type": "display_data"
    },
    {
     "name": "stderr",
     "output_type": "stream",
     "text": [
      "nld #0 contains nan's.\n",
      "Consider removing them e.g. with:\n",
      "# for nld in extractor.nld:\n",
      "#     nld.cut_nan()\n",
      "\n",
      "nld #1 contains nan's.\n",
      "Consider removing them e.g. with:\n",
      "# for nld in extractor.nld:\n",
      "#     nld.cut_nan()\n",
      "\n",
      "nld #2 contains nan's.\n",
      "Consider removing them e.g. with:\n",
      "# for nld in extractor.nld:\n",
      "#     nld.cut_nan()\n",
      "\n",
      "nld #3 contains nan's.\n",
      "Consider removing them e.g. with:\n",
      "# for nld in extractor.nld:\n",
      "#     nld.cut_nan()\n",
      "\n",
      "nld #4 contains nan's.\n",
      "Consider removing them e.g. with:\n",
      "# for nld in extractor.nld:\n",
      "#     nld.cut_nan()\n",
      "\n",
      "nld #5 contains nan's.\n",
      "Consider removing them e.g. with:\n",
      "# for nld in extractor.nld:\n",
      "#     nld.cut_nan()\n",
      "\n",
      "nld #6 contains nan's.\n",
      "Consider removing them e.g. with:\n",
      "# for nld in extractor.nld:\n",
      "#     nld.cut_nan()\n",
      "\n",
      "gsf #0 contains nan's.\n",
      "Consider removing them e.g. with:\n",
      "# for gsf in extractor.gsf:\n",
      "#     gsf.cut_nan()\n",
      "\n",
      "gsf #1 contains nan's.\n",
      "Consider removing them e.g. with:\n",
      "# for gsf in extractor.gsf:\n",
      "#     gsf.cut_nan()\n",
      "\n",
      "gsf #2 contains nan's.\n",
      "Consider removing them e.g. with:\n",
      "# for gsf in extractor.gsf:\n",
      "#     gsf.cut_nan()\n",
      "\n",
      "gsf #3 contains nan's.\n",
      "Consider removing them e.g. with:\n",
      "# for gsf in extractor.gsf:\n",
      "#     gsf.cut_nan()\n",
      "\n",
      "gsf #4 contains nan's.\n",
      "Consider removing them e.g. with:\n",
      "# for gsf in extractor.gsf:\n",
      "#     gsf.cut_nan()\n",
      "\n",
      "gsf #5 contains nan's.\n",
      "Consider removing them e.g. with:\n",
      "# for gsf in extractor.gsf:\n",
      "#     gsf.cut_nan()\n",
      "\n",
      "gsf #6 contains nan's.\n",
      "Consider removing them e.g. with:\n",
      "# for gsf in extractor.gsf:\n",
      "#     gsf.cut_nan()\n",
      "\n"
     ]
    },
    {
     "data": {
      "application/vnd.jupyter.widget-view+json": {
       "model_id": "ab4f172a967a4337bf9f7180d43843ce",
       "version_major": 2,
       "version_minor": 0
      },
      "text/plain": [
       "  0%|          | 0/7 [00:00<?, ?it/s]"
      ]
     },
     "metadata": {},
     "output_type": "display_data"
    },
    {
     "name": "stderr",
     "output_type": "stream",
     "text": [
      "nld #0 contains nan's.\n",
      "Consider removing them e.g. with:\n",
      "# for nld in extractor.nld:\n",
      "#     nld.cut_nan()\n",
      "\n",
      "nld #1 contains nan's.\n",
      "Consider removing them e.g. with:\n",
      "# for nld in extractor.nld:\n",
      "#     nld.cut_nan()\n",
      "\n",
      "nld #2 contains nan's.\n",
      "Consider removing them e.g. with:\n",
      "# for nld in extractor.nld:\n",
      "#     nld.cut_nan()\n",
      "\n",
      "nld #3 contains nan's.\n",
      "Consider removing them e.g. with:\n",
      "# for nld in extractor.nld:\n",
      "#     nld.cut_nan()\n",
      "\n",
      "nld #4 contains nan's.\n",
      "Consider removing them e.g. with:\n",
      "# for nld in extractor.nld:\n",
      "#     nld.cut_nan()\n",
      "\n",
      "nld #5 contains nan's.\n",
      "Consider removing them e.g. with:\n",
      "# for nld in extractor.nld:\n",
      "#     nld.cut_nan()\n",
      "\n",
      "nld #6 contains nan's.\n",
      "Consider removing them e.g. with:\n",
      "# for nld in extractor.nld:\n",
      "#     nld.cut_nan()\n",
      "\n",
      "gsf #0 contains nan's.\n",
      "Consider removing them e.g. with:\n",
      "# for gsf in extractor.gsf:\n",
      "#     gsf.cut_nan()\n",
      "\n",
      "gsf #1 contains nan's.\n",
      "Consider removing them e.g. with:\n",
      "# for gsf in extractor.gsf:\n",
      "#     gsf.cut_nan()\n",
      "\n",
      "gsf #2 contains nan's.\n",
      "Consider removing them e.g. with:\n",
      "# for gsf in extractor.gsf:\n",
      "#     gsf.cut_nan()\n",
      "\n",
      "gsf #3 contains nan's.\n",
      "Consider removing them e.g. with:\n",
      "# for gsf in extractor.gsf:\n",
      "#     gsf.cut_nan()\n",
      "\n",
      "gsf #4 contains nan's.\n",
      "Consider removing them e.g. with:\n",
      "# for gsf in extractor.gsf:\n",
      "#     gsf.cut_nan()\n",
      "\n",
      "gsf #5 contains nan's.\n",
      "Consider removing them e.g. with:\n",
      "# for gsf in extractor.gsf:\n",
      "#     gsf.cut_nan()\n",
      "\n",
      "gsf #6 contains nan's.\n",
      "Consider removing them e.g. with:\n",
      "# for gsf in extractor.gsf:\n",
      "#     gsf.cut_nan()\n",
      "\n"
     ]
    },
    {
     "data": {
      "application/vnd.jupyter.widget-view+json": {
       "model_id": "3f79f56deaa141439b91910adbfa822a",
       "version_major": 2,
       "version_minor": 0
      },
      "text/plain": [
       "  0%|          | 0/7 [00:00<?, ?it/s]"
      ]
     },
     "metadata": {},
     "output_type": "display_data"
    },
    {
     "name": "stderr",
     "output_type": "stream",
     "text": [
      "nld #0 contains nan's.\n",
      "Consider removing them e.g. with:\n",
      "# for nld in extractor.nld:\n",
      "#     nld.cut_nan()\n",
      "\n",
      "nld #1 contains nan's.\n",
      "Consider removing them e.g. with:\n",
      "# for nld in extractor.nld:\n",
      "#     nld.cut_nan()\n",
      "\n",
      "nld #2 contains nan's.\n",
      "Consider removing them e.g. with:\n",
      "# for nld in extractor.nld:\n",
      "#     nld.cut_nan()\n",
      "\n",
      "nld #3 contains nan's.\n",
      "Consider removing them e.g. with:\n",
      "# for nld in extractor.nld:\n",
      "#     nld.cut_nan()\n",
      "\n",
      "nld #4 contains nan's.\n",
      "Consider removing them e.g. with:\n",
      "# for nld in extractor.nld:\n",
      "#     nld.cut_nan()\n",
      "\n",
      "nld #5 contains nan's.\n",
      "Consider removing them e.g. with:\n",
      "# for nld in extractor.nld:\n",
      "#     nld.cut_nan()\n",
      "\n",
      "nld #6 contains nan's.\n",
      "Consider removing them e.g. with:\n",
      "# for nld in extractor.nld:\n",
      "#     nld.cut_nan()\n",
      "\n",
      "gsf #0 contains nan's.\n",
      "Consider removing them e.g. with:\n",
      "# for gsf in extractor.gsf:\n",
      "#     gsf.cut_nan()\n",
      "\n",
      "gsf #1 contains nan's.\n",
      "Consider removing them e.g. with:\n",
      "# for gsf in extractor.gsf:\n",
      "#     gsf.cut_nan()\n",
      "\n",
      "gsf #2 contains nan's.\n",
      "Consider removing them e.g. with:\n",
      "# for gsf in extractor.gsf:\n",
      "#     gsf.cut_nan()\n",
      "\n",
      "gsf #3 contains nan's.\n",
      "Consider removing them e.g. with:\n",
      "# for gsf in extractor.gsf:\n",
      "#     gsf.cut_nan()\n",
      "\n",
      "gsf #4 contains nan's.\n",
      "Consider removing them e.g. with:\n",
      "# for gsf in extractor.gsf:\n",
      "#     gsf.cut_nan()\n",
      "\n",
      "gsf #5 contains nan's.\n",
      "Consider removing them e.g. with:\n",
      "# for gsf in extractor.gsf:\n",
      "#     gsf.cut_nan()\n",
      "\n",
      "gsf #6 contains nan's.\n",
      "Consider removing them e.g. with:\n",
      "# for gsf in extractor.gsf:\n",
      "#     gsf.cut_nan()\n",
      "\n"
     ]
    }
   ],
   "source": [
    "extractors = [om.Extractor() for raw in raw_matrices]\n",
    "for extractor, ensemble in zip(extractors, ensembles):\n",
    "    extractor.trapezoid = trapezoid_cut\n",
    "    extractor.extract_from(ensemble, regenerate=True)"
   ]
  },
  {
   "cell_type": "markdown",
   "id": "54927ecd-ee65-4dc9-9f13-55c575340daf",
   "metadata": {},
   "source": [
    "### Estimate relative uncertanties"
   ]
  },
  {
   "cell_type": "code",
   "execution_count": 28,
   "id": "52ca7f94-a8ea-4729-8eef-c1a0629b91b8",
   "metadata": {
    "collapsed": true,
    "jupyter": {
     "outputs_hidden": true
    },
    "tags": []
   },
   "outputs": [
    {
     "name": "stdout",
     "output_type": "stream",
     "text": [
      "2021-08-11 13:22:11,768 - ompy.error_finder - DEBUG - Processing an ensemble with 7 members\n",
      "2021-08-11 13:22:11,769 - ompy.error_finder - DEBUG - Before removing nan: 45 NLD values and 31 GSF values\n",
      "2021-08-11 13:22:11,771 - ompy.error_finder - WARNING - NLDs and/or γSFs contains nan's. They will be removed\n",
      "2021-08-11 13:22:11,772 - ompy.error_finder - WARNING - Some members of the ensemble have different lengths. Consider re-binning or changing limits.\n",
      "2021-08-11 13:22:11,775 - ompy.error_finder - DEBUG - After removing nan: 30 NLD values and 26 GSF values\n",
      "2021-08-11 13:22:11,776 - ompy.error_finder - INFO - Starting pyMC3 - logarithmic model\n"
     ]
    },
    {
     "name": "stderr",
     "output_type": "stream",
     "text": [
      "Auto-assigning NUTS sampler...\n",
      "Initializing NUTS using jitter+adapt_diag...\n",
      "Multiprocess sampling (4 chains in 4 jobs)\n",
      "NUTS: [σ_f, σ_ρ, α, F, D, σ_α, σ_F, σ_D]\n"
     ]
    },
    {
     "data": {
      "text/html": [
       "\n",
       "    <div>\n",
       "        <style>\n",
       "            /* Turns off some styling */\n",
       "            progress {\n",
       "                /* gets rid of default border in Firefox and Opera. */\n",
       "                border: none;\n",
       "                /* Needs to be in here for Safari polyfill so background images work as expected. */\n",
       "                background-size: auto;\n",
       "            }\n",
       "            .progress-bar-interrupted, .progress-bar-interrupted::-webkit-progress-bar {\n",
       "                background: #F44336;\n",
       "            }\n",
       "        </style>\n",
       "      <progress value='8000' class='' max='8000' style='width:300px; height:20px; vertical-align: middle;'></progress>\n",
       "      100.00% [8000/8000 01:42<00:00 Sampling 4 chains, 0 divergences]\n",
       "    </div>\n",
       "    "
      ],
      "text/plain": [
       "<IPython.core.display.HTML object>"
      ]
     },
     "metadata": {},
     "output_type": "display_data"
    },
    {
     "name": "stderr",
     "output_type": "stream",
     "text": [
      "Sampling 4 chains for 1_000 tune and 1_000 draw iterations (4_000 + 4_000 draws total) took 112 seconds.\n",
      "The acceptance probability does not match the target. It is 0.6700317756841967, but should be close to 0.8. Try to increase the number of tuning steps.\n",
      "The estimated number of effective samples is smaller than 200 for some parameters.\n"
     ]
    },
    {
     "name": "stdout",
     "output_type": "stream",
     "text": [
      "2021-08-11 13:24:14,171 - ompy.error_finder - INFO - Inference results:\n",
      "┌──────────────┬──────────────┬───────────────┬───────────────┬───────────────┬─────────────────┐\n",
      "│ D            │ F            │ α             │ σ_D           │ σ_F           │ σ_α             │\n",
      "╞══════════════╪══════════════╪═══════════════╪═══════════════╪═══════════════╪═════════════════╡\n",
      "│ -0.00 ± 0.16 │ -0.00 ± 0.25 │ 0.000 ± 0.055 │ 0.166 ± 0.020 │ 0.262 ± 0.030 │ 0.0562 ± 0.0073 │\n",
      "└──────────────┴──────────────┴───────────────┴───────────────┴───────────────┴─────────────────┘\n",
      "┌────┬─────────────┬─────────────┐\n",
      "│    │ σ_ρ [%]     │ σ_f [%]     │\n",
      "╞════╪═════════════╪═════════════╡\n",
      "│ 0  │ 16.7 ± 1.9  │ 12.0 ± 1.4  │\n",
      "├────┼─────────────┼─────────────┤\n",
      "│ 1  │ 21.0 ± 2.4  │ 11.2 ± 1.4  │\n",
      "├────┼─────────────┼─────────────┤\n",
      "│ 2  │ 37.1 ± 4.1  │ 9.2 ± 1.2   │\n",
      "├────┼─────────────┼─────────────┤\n",
      "│ 3  │ 23.6 ± 2.7  │ 19.0 ± 2.2  │\n",
      "├────┼─────────────┼─────────────┤\n",
      "│ 4  │ 14.3 ± 1.7  │ 15.4 ± 1.8  │\n",
      "├────┼─────────────┼─────────────┤\n",
      "│ 5  │ 19.3 ± 2.2  │ 9.1 ± 1.2   │\n",
      "├────┼─────────────┼─────────────┤\n",
      "│ 6  │ 21.0 ± 2.3  │ 4.18 ± 0.81 │\n",
      "├────┼─────────────┼─────────────┤\n",
      "│ 7  │ 8.31 ± 0.95 │ 12.2 ± 1.5  │\n",
      "├────┼─────────────┼─────────────┤\n",
      "│ 8  │ 10.0 ± 1.2  │ 6.87 ± 0.87 │\n",
      "├────┼─────────────┼─────────────┤\n",
      "│ 9  │ 7.70 ± 0.89 │ 9.9 ± 1.2   │\n",
      "├────┼─────────────┼─────────────┤\n",
      "│ 10 │ 0.76 ± 0.43 │ 11.9 ± 1.4  │\n",
      "├────┼─────────────┼─────────────┤\n",
      "│ 11 │ 4.77 ± 0.55 │ 13.8 ± 1.6  │\n",
      "├────┼─────────────┼─────────────┤\n",
      "│ 12 │ 12.5 ± 1.4  │ 7.44 ± 0.93 │\n",
      "├────┼─────────────┼─────────────┤\n",
      "│ 13 │ 8.7 ± 1.1   │ 20.4 ± 2.5  │\n",
      "├────┼─────────────┼─────────────┤\n",
      "│ 14 │ 9.7 ± 1.1   │ 16.3 ± 1.9  │\n",
      "├────┼─────────────┼─────────────┤\n",
      "│ 15 │ 11.7 ± 1.3  │ 23.4 ± 2.7  │\n",
      "├────┼─────────────┼─────────────┤\n",
      "│ 16 │ 9.1 ± 1.2   │ 13.0 ± 1.6  │\n",
      "├────┼─────────────┼─────────────┤\n",
      "│ 17 │ 11.3 ± 1.3  │ 29.5 ± 3.4  │\n",
      "├────┼─────────────┼─────────────┤\n",
      "│ 18 │ 13.9 ± 1.6  │ 22.9 ± 2.6  │\n",
      "├────┼─────────────┼─────────────┤\n",
      "│ 19 │ 9.1 ± 1.2   │ 42.8 ± 4.8  │\n",
      "├────┼─────────────┼─────────────┤\n",
      "│ 20 │ 14.9 ± 1.7  │ 32.2 ± 3.7  │\n",
      "├────┼─────────────┼─────────────┤\n",
      "│ 21 │ 16.3 ± 2.0  │ 52.0 ± 5.8  │\n",
      "├────┼─────────────┼─────────────┤\n",
      "│ 22 │ 7.0 ± 1.0   │ 27.1 ± 3.1  │\n",
      "├────┼─────────────┼─────────────┤\n",
      "│ 23 │ 10.3 ± 1.3  │ 51.5 ± 5.7  │\n",
      "├────┼─────────────┼─────────────┤\n",
      "│ 24 │ 11.2 ± 1.6  │ 28.0 ± 3.3  │\n",
      "├────┼─────────────┼─────────────┤\n",
      "│ 25 │ 17.3 ± 2.1  │ 83.7 ± 8.8  │\n",
      "├────┼─────────────┼─────────────┤\n",
      "│ 26 │ 14.4 ± 1.8  │             │\n",
      "├────┼─────────────┼─────────────┤\n",
      "│ 27 │ 16.6 ± 2.1  │             │\n",
      "├────┼─────────────┼─────────────┤\n",
      "│ 28 │ 33.7 ± 3.8  │             │\n",
      "├────┼─────────────┼─────────────┤\n",
      "│ 29 │ 53.0 ± 6.1  │             │\n",
      "└────┴─────────────┴─────────────┘\n",
      "2021-08-11 13:24:14,183 - ompy.error_finder - DEBUG - Processing an ensemble with 7 members\n",
      "2021-08-11 13:24:14,184 - ompy.error_finder - DEBUG - Before removing nan: 45 NLD values and 31 GSF values\n",
      "2021-08-11 13:24:14,185 - ompy.error_finder - WARNING - NLDs and/or γSFs contains nan's. They will be removed\n",
      "2021-08-11 13:24:14,186 - ompy.error_finder - DEBUG - After removing nan: 30 NLD values and 30 GSF values\n",
      "2021-08-11 13:24:14,187 - ompy.error_finder - INFO - Starting pyMC3 - logarithmic model\n"
     ]
    },
    {
     "name": "stderr",
     "output_type": "stream",
     "text": [
      "Auto-assigning NUTS sampler...\n",
      "Initializing NUTS using jitter+adapt_diag...\n",
      "Multiprocess sampling (4 chains in 4 jobs)\n",
      "NUTS: [σ_f, σ_ρ, α, F, D, σ_α, σ_F, σ_D]\n"
     ]
    },
    {
     "data": {
      "text/html": [
       "\n",
       "    <div>\n",
       "        <style>\n",
       "            /* Turns off some styling */\n",
       "            progress {\n",
       "                /* gets rid of default border in Firefox and Opera. */\n",
       "                border: none;\n",
       "                /* Needs to be in here for Safari polyfill so background images work as expected. */\n",
       "                background-size: auto;\n",
       "            }\n",
       "            .progress-bar-interrupted, .progress-bar-interrupted::-webkit-progress-bar {\n",
       "                background: #F44336;\n",
       "            }\n",
       "        </style>\n",
       "      <progress value='8000' class='' max='8000' style='width:300px; height:20px; vertical-align: middle;'></progress>\n",
       "      100.00% [8000/8000 01:03<00:00 Sampling 4 chains, 0 divergences]\n",
       "    </div>\n",
       "    "
      ],
      "text/plain": [
       "<IPython.core.display.HTML object>"
      ]
     },
     "metadata": {},
     "output_type": "display_data"
    },
    {
     "name": "stderr",
     "output_type": "stream",
     "text": [
      "Sampling 4 chains for 1_000 tune and 1_000 draw iterations (4_000 + 4_000 draws total) took 73 seconds.\n"
     ]
    },
    {
     "name": "stdout",
     "output_type": "stream",
     "text": [
      "2021-08-11 13:25:38,382 - ompy.error_finder - INFO - Inference results:\n",
      "┌──────────────┬──────────────┬───────────────┬───────────────┬───────────────┬─────────────────┐\n",
      "│ D            │ F            │ α             │ σ_D           │ σ_F           │ σ_α             │\n",
      "╞══════════════╪══════════════╪═══════════════╪═══════════════╪═══════════════╪═════════════════╡\n",
      "│ -0.00 ± 0.23 │ -0.00 ± 0.25 │ 0.000 ± 0.055 │ 0.235 ± 0.027 │ 0.256 ± 0.029 │ 0.0570 ± 0.0066 │\n",
      "└──────────────┴──────────────┴───────────────┴───────────────┴───────────────┴─────────────────┘\n",
      "┌────┬─────────────┬─────────────┐\n",
      "│    │ σ_ρ [%]     │ σ_f [%]     │\n",
      "╞════╪═════════════╪═════════════╡\n",
      "│ 0  │ 18.2 ± 2.1  │ 10.5 ± 1.3  │\n",
      "├────┼─────────────┼─────────────┤\n",
      "│ 1  │ 15.9 ± 1.8  │ 3.29 ± 0.61 │\n",
      "├────┼─────────────┼─────────────┤\n",
      "│ 2  │ 17.9 ± 2.1  │ 4.57 ± 0.63 │\n",
      "├────┼─────────────┼─────────────┤\n",
      "│ 3  │ 15.6 ± 1.8  │ 5.27 ± 0.70 │\n",
      "├────┼─────────────┼─────────────┤\n",
      "│ 4  │ 14.7 ± 1.8  │ 10.7 ± 1.2  │\n",
      "├────┼─────────────┼─────────────┤\n",
      "│ 5  │ 13.9 ± 1.7  │ 12.7 ± 1.5  │\n",
      "├────┼─────────────┼─────────────┤\n",
      "│ 6  │ 9.8 ± 1.2   │ 10.9 ± 1.3  │\n",
      "├────┼─────────────┼─────────────┤\n",
      "│ 7  │ 9.0 ± 1.1   │ 5.29 ± 0.68 │\n",
      "├────┼─────────────┼─────────────┤\n",
      "│ 8  │ 10.9 ± 1.3  │ 7.75 ± 0.95 │\n",
      "├────┼─────────────┼─────────────┤\n",
      "│ 9  │ 5.41 ± 0.71 │ 8.14 ± 0.97 │\n",
      "├────┼─────────────┼─────────────┤\n",
      "│ 10 │ 12.4 ± 1.5  │ 7.64 ± 0.91 │\n",
      "├────┼─────────────┼─────────────┤\n",
      "│ 11 │ 5.39 ± 0.72 │ 10.5 ± 1.2  │\n",
      "├────┼─────────────┼─────────────┤\n",
      "│ 12 │ 5.07 ± 0.67 │ 9.2 ± 1.1   │\n",
      "├────┼─────────────┼─────────────┤\n",
      "│ 13 │ 5.12 ± 0.64 │ 15.3 ± 1.8  │\n",
      "├────┼─────────────┼─────────────┤\n",
      "│ 14 │ 6.20 ± 0.77 │ 9.6 ± 1.1   │\n",
      "├────┼─────────────┼─────────────┤\n",
      "│ 15 │ 10.7 ± 1.2  │ 12.8 ± 1.5  │\n",
      "├────┼─────────────┼─────────────┤\n",
      "│ 16 │ 8.67 ± 0.99 │ 8.1 ± 1.1   │\n",
      "├────┼─────────────┼─────────────┤\n",
      "│ 17 │ 4.16 ± 0.57 │ 10.4 ± 1.3  │\n",
      "├────┼─────────────┼─────────────┤\n",
      "│ 18 │ 7.32 ± 0.87 │ 18.5 ± 2.2  │\n",
      "├────┼─────────────┼─────────────┤\n",
      "│ 19 │ 9.4 ± 1.1   │ 31.9 ± 3.6  │\n",
      "├────┼─────────────┼─────────────┤\n",
      "│ 20 │ 10.9 ± 1.3  │ 22.3 ± 2.5  │\n",
      "├────┼─────────────┼─────────────┤\n",
      "│ 21 │ 5.78 ± 0.77 │ 10.6 ± 1.3  │\n",
      "├────┼─────────────┼─────────────┤\n",
      "│ 22 │ 9.4 ± 1.1   │ 33.0 ± 3.8  │\n",
      "├────┼─────────────┼─────────────┤\n",
      "│ 23 │ 5.74 ± 0.81 │ 42.0 ± 4.9  │\n",
      "├────┼─────────────┼─────────────┤\n",
      "│ 24 │ 13.8 ± 1.6  │ 49.0 ± 5.5  │\n",
      "├────┼─────────────┼─────────────┤\n",
      "│ 25 │ 17.9 ± 2.1  │ 50.8 ± 5.7  │\n",
      "├────┼─────────────┼─────────────┤\n",
      "│ 26 │ 16.2 ± 1.9  │ 52.9 ± 5.9  │\n",
      "├────┼─────────────┼─────────────┤\n",
      "│ 27 │ 7.8 ± 1.0   │ 85.5 ± 8.6  │\n",
      "├────┼─────────────┼─────────────┤\n",
      "│ 28 │ 20.6 ± 2.4  │ 32.5 ± 3.9  │\n",
      "├────┼─────────────┼─────────────┤\n",
      "│ 29 │ 16.9 ± 2.0  │ 85.5 ± 8.6  │\n",
      "└────┴─────────────┴─────────────┘\n",
      "2021-08-11 13:25:38,392 - ompy.error_finder - DEBUG - Processing an ensemble with 7 members\n",
      "2021-08-11 13:25:38,393 - ompy.error_finder - DEBUG - Before removing nan: 45 NLD values and 31 GSF values\n",
      "2021-08-11 13:25:38,395 - ompy.error_finder - WARNING - NLDs and/or γSFs contains nan's. They will be removed\n",
      "2021-08-11 13:25:38,395 - ompy.error_finder - WARNING - Some members of the ensemble have different lengths. Consider re-binning or changing limits.\n",
      "2021-08-11 13:25:38,397 - ompy.error_finder - DEBUG - After removing nan: 30 NLD values and 28 GSF values\n",
      "2021-08-11 13:25:38,399 - ompy.error_finder - INFO - Starting pyMC3 - logarithmic model\n"
     ]
    },
    {
     "name": "stderr",
     "output_type": "stream",
     "text": [
      "Auto-assigning NUTS sampler...\n",
      "Initializing NUTS using jitter+adapt_diag...\n",
      "Multiprocess sampling (4 chains in 4 jobs)\n",
      "NUTS: [σ_f, σ_ρ, α, F, D, σ_α, σ_F, σ_D]\n"
     ]
    },
    {
     "data": {
      "text/html": [
       "\n",
       "    <div>\n",
       "        <style>\n",
       "            /* Turns off some styling */\n",
       "            progress {\n",
       "                /* gets rid of default border in Firefox and Opera. */\n",
       "                border: none;\n",
       "                /* Needs to be in here for Safari polyfill so background images work as expected. */\n",
       "                background-size: auto;\n",
       "            }\n",
       "            .progress-bar-interrupted, .progress-bar-interrupted::-webkit-progress-bar {\n",
       "                background: #F44336;\n",
       "            }\n",
       "        </style>\n",
       "      <progress value='8000' class='' max='8000' style='width:300px; height:20px; vertical-align: middle;'></progress>\n",
       "      100.00% [8000/8000 01:02<00:00 Sampling 4 chains, 0 divergences]\n",
       "    </div>\n",
       "    "
      ],
      "text/plain": [
       "<IPython.core.display.HTML object>"
      ]
     },
     "metadata": {},
     "output_type": "display_data"
    },
    {
     "name": "stderr",
     "output_type": "stream",
     "text": [
      "Sampling 4 chains for 1_000 tune and 1_000 draw iterations (4_000 + 4_000 draws total) took 74 seconds.\n",
      "The number of effective samples is smaller than 25% for some parameters.\n"
     ]
    },
    {
     "name": "stdout",
     "output_type": "stream",
     "text": [
      "2021-08-11 13:27:05,080 - ompy.error_finder - INFO - Inference results:\n",
      "┌─────────────┬──────────────┬────────────────┬───────────────┬───────────────┬───────────────┐\n",
      "│ D           │ F            │ α              │ σ_D           │ σ_F           │ σ_α           │\n",
      "╞═════════════╪══════════════╪════════════════╪═══════════════╪═══════════════╪═══════════════╡\n",
      "│ 0.00 ± 0.31 │ -0.00 ± 0.33 │ -0.000 ± 0.096 │ 0.319 ± 0.037 │ 0.341 ± 0.038 │ 0.099 ± 0.011 │\n",
      "└─────────────┴──────────────┴────────────────┴───────────────┴───────────────┴───────────────┘\n",
      "┌────┬─────────────┬─────────────┐\n",
      "│    │ σ_ρ [%]     │ σ_f [%]     │\n",
      "╞════╪═════════════╪═════════════╡\n",
      "│ 0  │ 18.1 ± 2.1  │ 7.5 ± 1.0   │\n",
      "├────┼─────────────┼─────────────┤\n",
      "│ 1  │ 12.4 ± 1.5  │ 10.8 ± 1.4  │\n",
      "├────┼─────────────┼─────────────┤\n",
      "│ 2  │ 12.4 ± 1.6  │ 11.0 ± 1.3  │\n",
      "├────┼─────────────┼─────────────┤\n",
      "│ 3  │ 25.1 ± 2.8  │ 11.7 ± 1.4  │\n",
      "├────┼─────────────┼─────────────┤\n",
      "│ 4  │ 10.9 ± 1.3  │ 12.6 ± 1.5  │\n",
      "├────┼─────────────┼─────────────┤\n",
      "│ 5  │ 9.9 ± 1.3   │ 9.8 ± 1.2   │\n",
      "├────┼─────────────┼─────────────┤\n",
      "│ 6  │ 13.8 ± 1.6  │ 3.33 ± 0.67 │\n",
      "├────┼─────────────┼─────────────┤\n",
      "│ 7  │ 10.0 ± 1.2  │ 6.43 ± 0.80 │\n",
      "├────┼─────────────┼─────────────┤\n",
      "│ 8  │ 11.5 ± 1.3  │ 6.98 ± 0.84 │\n",
      "├────┼─────────────┼─────────────┤\n",
      "│ 9  │ 8.4 ± 1.0   │ 6.24 ± 0.77 │\n",
      "├────┼─────────────┼─────────────┤\n",
      "│ 10 │ 7.30 ± 0.95 │ 8.3 ± 1.0   │\n",
      "├────┼─────────────┼─────────────┤\n",
      "│ 11 │ 13.5 ± 1.6  │ 15.2 ± 1.7  │\n",
      "├────┼─────────────┼─────────────┤\n",
      "│ 12 │ 2.78 ± 0.51 │ 8.4 ± 1.1   │\n",
      "├────┼─────────────┼─────────────┤\n",
      "│ 13 │ 6.54 ± 0.83 │ 4.42 ± 0.72 │\n",
      "├────┼─────────────┼─────────────┤\n",
      "│ 14 │ 8.6 ± 1.0   │ 9.7 ± 1.2   │\n",
      "├────┼─────────────┼─────────────┤\n",
      "│ 15 │ 6.93 ± 0.83 │ 6.79 ± 0.98 │\n",
      "├────┼─────────────┼─────────────┤\n",
      "│ 16 │ 5.55 ± 0.69 │ 12.8 ± 1.5  │\n",
      "├────┼─────────────┼─────────────┤\n",
      "│ 17 │ 1.86 ± 0.50 │ 10.1 ± 1.2  │\n",
      "├────┼─────────────┼─────────────┤\n",
      "│ 18 │ 13.0 ± 1.5  │ 9.9 ± 1.2   │\n",
      "├────┼─────────────┼─────────────┤\n",
      "│ 19 │ 9.8 ± 1.1   │ 6.4 ± 1.0   │\n",
      "├────┼─────────────┼─────────────┤\n",
      "│ 20 │ 12.7 ± 1.5  │ 11.3 ± 1.5  │\n",
      "├────┼─────────────┼─────────────┤\n",
      "│ 21 │ 11.1 ± 1.3  │ 23.7 ± 2.7  │\n",
      "├────┼─────────────┼─────────────┤\n",
      "│ 22 │ 17.9 ± 2.0  │ 37.9 ± 4.5  │\n",
      "├────┼─────────────┼─────────────┤\n",
      "│ 23 │ 14.4 ± 1.7  │ 29.9 ± 3.4  │\n",
      "├────┼─────────────┼─────────────┤\n",
      "│ 24 │ 12.1 ± 1.4  │ 14.3 ± 1.8  │\n",
      "├────┼─────────────┼─────────────┤\n",
      "│ 25 │ 24.6 ± 2.8  │ 33.6 ± 3.8  │\n",
      "├────┼─────────────┼─────────────┤\n",
      "│ 26 │ 29.3 ± 3.2  │ 27.0 ± 3.2  │\n",
      "├────┼─────────────┼─────────────┤\n",
      "│ 27 │ 20.8 ± 2.4  │ 15.0 ± 1.9  │\n",
      "├────┼─────────────┼─────────────┤\n",
      "│ 28 │ 17.2 ± 2.1  │             │\n",
      "├────┼─────────────┼─────────────┤\n",
      "│ 29 │ 25.2 ± 2.9  │             │\n",
      "└────┴─────────────┴─────────────┘\n",
      "2021-08-11 13:27:05,089 - ompy.error_finder - DEBUG - Processing an ensemble with 7 members\n",
      "2021-08-11 13:27:05,090 - ompy.error_finder - DEBUG - Before removing nan: 45 NLD values and 31 GSF values\n",
      "2021-08-11 13:27:05,091 - ompy.error_finder - WARNING - NLDs and/or γSFs contains nan's. They will be removed\n",
      "2021-08-11 13:27:05,092 - ompy.error_finder - WARNING - Some members of the ensemble have different lengths. Consider re-binning or changing limits.\n",
      "2021-08-11 13:27:05,093 - ompy.error_finder - DEBUG - After removing nan: 30 NLD values and 29 GSF values\n",
      "2021-08-11 13:27:05,094 - ompy.error_finder - INFO - Starting pyMC3 - logarithmic model\n"
     ]
    },
    {
     "name": "stderr",
     "output_type": "stream",
     "text": [
      "Auto-assigning NUTS sampler...\n",
      "Initializing NUTS using jitter+adapt_diag...\n",
      "Multiprocess sampling (4 chains in 4 jobs)\n",
      "NUTS: [σ_f, σ_ρ, α, F, D, σ_α, σ_F, σ_D]\n"
     ]
    },
    {
     "data": {
      "text/html": [
       "\n",
       "    <div>\n",
       "        <style>\n",
       "            /* Turns off some styling */\n",
       "            progress {\n",
       "                /* gets rid of default border in Firefox and Opera. */\n",
       "                border: none;\n",
       "                /* Needs to be in here for Safari polyfill so background images work as expected. */\n",
       "                background-size: auto;\n",
       "            }\n",
       "            .progress-bar-interrupted, .progress-bar-interrupted::-webkit-progress-bar {\n",
       "                background: #F44336;\n",
       "            }\n",
       "        </style>\n",
       "      <progress value='8000' class='' max='8000' style='width:300px; height:20px; vertical-align: middle;'></progress>\n",
       "      100.00% [8000/8000 01:05<00:00 Sampling 4 chains, 1 divergences]\n",
       "    </div>\n",
       "    "
      ],
      "text/plain": [
       "<IPython.core.display.HTML object>"
      ]
     },
     "metadata": {},
     "output_type": "display_data"
    },
    {
     "name": "stderr",
     "output_type": "stream",
     "text": [
      "Sampling 4 chains for 1_000 tune and 1_000 draw iterations (4_000 + 4_000 draws total) took 76 seconds.\n",
      "There was 1 divergence after tuning. Increase `target_accept` or reparameterize.\n",
      "The acceptance probability does not match the target. It is 0.28325450883451814, but should be close to 0.8. Try to increase the number of tuning steps.\n",
      "The acceptance probability does not match the target. It is 0.7134209441181734, but should be close to 0.8. Try to increase the number of tuning steps.\n",
      "The rhat statistic is larger than 1.2 for some parameters.\n",
      "The estimated number of effective samples is smaller than 200 for some parameters.\n"
     ]
    },
    {
     "name": "stdout",
     "output_type": "stream",
     "text": [
      "2021-08-11 13:28:32,982 - ompy.error_finder - INFO - Inference results:\n",
      "┌──────────────┬──────────────┬───────────────┬───────────────┬───────────────┬─────────────────┐\n",
      "│ D            │ F            │ α             │ σ_D           │ σ_F           │ σ_α             │\n",
      "╞══════════════╪══════════════╪═══════════════╪═══════════════╪═══════════════╪═════════════════╡\n",
      "│ -0.00 ± 0.30 │ -0.00 ± 0.18 │ 0.000 ± 0.059 │ 0.305 ± 0.033 │ 0.189 ± 0.022 │ 0.0625 ± 0.0073 │\n",
      "└──────────────┴──────────────┴───────────────┴───────────────┴───────────────┴─────────────────┘\n",
      "┌────┬─────────────┬─────────────┐\n",
      "│    │ σ_ρ [%]     │ σ_f [%]     │\n",
      "╞════╪═════════════╪═════════════╡\n",
      "│ 0  │ 6.8 ± 1.1   │ 12.7 ± 1.4  │\n",
      "├────┼─────────────┼─────────────┤\n",
      "│ 1  │ 12.3 ± 1.4  │ 6.66 ± 0.75 │\n",
      "├────┼─────────────┼─────────────┤\n",
      "│ 2  │ 9.7 ± 1.1   │ 0.50 ± 0.34 │\n",
      "├────┼─────────────┼─────────────┤\n",
      "│ 3  │ 13.1 ± 1.5  │ 9.37 ± 0.98 │\n",
      "├────┼─────────────┼─────────────┤\n",
      "│ 4  │ 9.5 ± 1.1   │ 5.56 ± 0.61 │\n",
      "├────┼─────────────┼─────────────┤\n",
      "│ 5  │ 8.8 ± 1.1   │ 6.31 ± 0.68 │\n",
      "├────┼─────────────┼─────────────┤\n",
      "│ 6  │ 11.7 ± 1.4  │ 5.73 ± 0.61 │\n",
      "├────┼─────────────┼─────────────┤\n",
      "│ 7  │ 9.9 ± 1.0   │ 5.18 ± 0.58 │\n",
      "├────┼─────────────┼─────────────┤\n",
      "│ 8  │ 9.2 ± 1.1   │ 7.88 ± 0.89 │\n",
      "├────┼─────────────┼─────────────┤\n",
      "│ 9  │ 3.77 ± 0.56 │ 5.97 ± 0.69 │\n",
      "├────┼─────────────┼─────────────┤\n",
      "│ 10 │ 8.67 ± 0.96 │ 6.45 ± 0.92 │\n",
      "├────┼─────────────┼─────────────┤\n",
      "│ 11 │ 5.46 ± 0.62 │ 7.15 ± 0.80 │\n",
      "├────┼─────────────┼─────────────┤\n",
      "│ 12 │ 11.5 ± 1.2  │ 6.13 ± 0.69 │\n",
      "├────┼─────────────┼─────────────┤\n",
      "│ 13 │ 7.86 ± 0.86 │ 11.5 ± 1.3  │\n",
      "├────┼─────────────┼─────────────┤\n",
      "│ 14 │ 14.1 ± 1.5  │ 6.57 ± 0.81 │\n",
      "├────┼─────────────┼─────────────┤\n",
      "│ 15 │ 6.15 ± 0.73 │ 1.84 ± 0.64 │\n",
      "├────┼─────────────┼─────────────┤\n",
      "│ 16 │ 6.60 ± 0.73 │ 17.5 ± 2.3  │\n",
      "├────┼─────────────┼─────────────┤\n",
      "│ 17 │ 7.54 ± 0.83 │ 10.7 ± 1.2  │\n",
      "├────┼─────────────┼─────────────┤\n",
      "│ 18 │ 7.47 ± 0.95 │ 19.4 ± 2.1  │\n",
      "├────┼─────────────┼─────────────┤\n",
      "│ 19 │ 5.69 ± 0.69 │ 11.4 ± 1.5  │\n",
      "├────┼─────────────┼─────────────┤\n",
      "│ 20 │ 3.98 ± 0.53 │ 27.3 ± 2.8  │\n",
      "├────┼─────────────┼─────────────┤\n",
      "│ 21 │ 8.30 ± 0.93 │ 15.3 ± 1.8  │\n",
      "├────┼─────────────┼─────────────┤\n",
      "│ 22 │ 13.1 ± 1.4  │ 30.9 ± 3.3  │\n",
      "├────┼─────────────┼─────────────┤\n",
      "│ 23 │ 14.3 ± 1.5  │ 16.4 ± 1.8  │\n",
      "├────┼─────────────┼─────────────┤\n",
      "│ 24 │ 10.0 ± 1.1  │ 24.5 ± 2.6  │\n",
      "├────┼─────────────┼─────────────┤\n",
      "│ 25 │ 15.9 ± 1.6  │ 18.0 ± 1.9  │\n",
      "├────┼─────────────┼─────────────┤\n",
      "│ 26 │ 21.3 ± 2.5  │ 16.8 ± 1.9  │\n",
      "├────┼─────────────┼─────────────┤\n",
      "│ 27 │ 15.3 ± 1.6  │ 68.8 ± 8.4  │\n",
      "├────┼─────────────┼─────────────┤\n",
      "│ 28 │ 19.7 ± 2.1  │ 69.0 ± 7.4  │\n",
      "├────┼─────────────┼─────────────┤\n",
      "│ 29 │ 28.8 ± 3.8  │             │\n",
      "└────┴─────────────┴─────────────┘\n",
      "2021-08-11 13:28:32,991 - ompy.error_finder - DEBUG - Processing an ensemble with 7 members\n",
      "2021-08-11 13:28:32,992 - ompy.error_finder - DEBUG - Before removing nan: 45 NLD values and 31 GSF values\n",
      "2021-08-11 13:28:32,993 - ompy.error_finder - WARNING - NLDs and/or γSFs contains nan's. They will be removed\n",
      "2021-08-11 13:28:32,993 - ompy.error_finder - WARNING - Some members of the ensemble have different lengths. Consider re-binning or changing limits.\n",
      "2021-08-11 13:28:32,995 - ompy.error_finder - DEBUG - After removing nan: 30 NLD values and 29 GSF values\n",
      "2021-08-11 13:28:32,996 - ompy.error_finder - INFO - Starting pyMC3 - logarithmic model\n"
     ]
    },
    {
     "name": "stderr",
     "output_type": "stream",
     "text": [
      "Auto-assigning NUTS sampler...\n",
      "Initializing NUTS using jitter+adapt_diag...\n",
      "Multiprocess sampling (4 chains in 4 jobs)\n",
      "NUTS: [σ_f, σ_ρ, α, F, D, σ_α, σ_F, σ_D]\n"
     ]
    },
    {
     "data": {
      "text/html": [
       "\n",
       "    <div>\n",
       "        <style>\n",
       "            /* Turns off some styling */\n",
       "            progress {\n",
       "                /* gets rid of default border in Firefox and Opera. */\n",
       "                border: none;\n",
       "                /* Needs to be in here for Safari polyfill so background images work as expected. */\n",
       "                background-size: auto;\n",
       "            }\n",
       "            .progress-bar-interrupted, .progress-bar-interrupted::-webkit-progress-bar {\n",
       "                background: #F44336;\n",
       "            }\n",
       "        </style>\n",
       "      <progress value='8000' class='' max='8000' style='width:300px; height:20px; vertical-align: middle;'></progress>\n",
       "      100.00% [8000/8000 01:01<00:00 Sampling 4 chains, 0 divergences]\n",
       "    </div>\n",
       "    "
      ],
      "text/plain": [
       "<IPython.core.display.HTML object>"
      ]
     },
     "metadata": {},
     "output_type": "display_data"
    },
    {
     "name": "stderr",
     "output_type": "stream",
     "text": [
      "Sampling 4 chains for 1_000 tune and 1_000 draw iterations (4_000 + 4_000 draws total) took 70 seconds.\n"
     ]
    },
    {
     "name": "stdout",
     "output_type": "stream",
     "text": [
      "2021-08-11 13:29:54,866 - ompy.error_finder - INFO - Inference results:\n",
      "┌──────────────┬──────────────┬───────────────┬───────────────┬───────────────┬─────────────────┐\n",
      "│ D            │ F            │ α             │ σ_D           │ σ_F           │ σ_α             │\n",
      "╞══════════════╪══════════════╪═══════════════╪═══════════════╪═══════════════╪═════════════════╡\n",
      "│ -0.00 ± 0.29 │ -0.00 ± 0.20 │ 0.000 ± 0.071 │ 0.297 ± 0.034 │ 0.205 ± 0.024 │ 0.0728 ± 0.0086 │\n",
      "└──────────────┴──────────────┴───────────────┴───────────────┴───────────────┴─────────────────┘\n",
      "┌────┬─────────────┬─────────────┐\n",
      "│    │ σ_ρ [%]     │ σ_f [%]     │\n",
      "╞════╪═════════════╪═════════════╡\n",
      "│ 0  │ 13.1 ± 1.6  │ 6.23 ± 0.81 │\n",
      "├────┼─────────────┼─────────────┤\n",
      "│ 1  │ 11.8 ± 1.4  │ 5.94 ± 0.80 │\n",
      "├────┼─────────────┼─────────────┤\n",
      "│ 2  │ 12.1 ± 1.5  │ 9.3 ± 1.1   │\n",
      "├────┼─────────────┼─────────────┤\n",
      "│ 3  │ 9.2 ± 1.2   │ 7.39 ± 0.94 │\n",
      "├────┼─────────────┼─────────────┤\n",
      "│ 4  │ 16.0 ± 1.8  │ 4.10 ± 0.60 │\n",
      "├────┼─────────────┼─────────────┤\n",
      "│ 5  │ 10.6 ± 1.3  │ 9.9 ± 1.2   │\n",
      "├────┼─────────────┼─────────────┤\n",
      "│ 6  │ 12.3 ± 1.5  │ 3.75 ± 0.55 │\n",
      "├────┼─────────────┼─────────────┤\n",
      "│ 7  │ 6.81 ± 0.83 │ 4.76 ± 0.64 │\n",
      "├────┼─────────────┼─────────────┤\n",
      "│ 8  │ 4.23 ± 0.62 │ 5.32 ± 0.68 │\n",
      "├────┼─────────────┼─────────────┤\n",
      "│ 9  │ 4.83 ± 0.65 │ 9.3 ± 1.1   │\n",
      "├────┼─────────────┼─────────────┤\n",
      "│ 10 │ 12.2 ± 1.4  │ 6.72 ± 0.82 │\n",
      "├────┼─────────────┼─────────────┤\n",
      "│ 11 │ 10.7 ± 1.2  │ 7.75 ± 0.91 │\n",
      "├────┼─────────────┼─────────────┤\n",
      "│ 12 │ 5.85 ± 0.72 │ 9.4 ± 1.1   │\n",
      "├────┼─────────────┼─────────────┤\n",
      "│ 13 │ 4.86 ± 0.67 │ 9.1 ± 1.1   │\n",
      "├────┼─────────────┼─────────────┤\n",
      "│ 14 │ 5.66 ± 0.73 │ 12.2 ± 1.5  │\n",
      "├────┼─────────────┼─────────────┤\n",
      "│ 15 │ 7.87 ± 0.94 │ 9.7 ± 1.2   │\n",
      "├────┼─────────────┼─────────────┤\n",
      "│ 16 │ 7.76 ± 0.95 │ 6.53 ± 0.82 │\n",
      "├────┼─────────────┼─────────────┤\n",
      "│ 17 │ 8.3 ± 1.0   │ 8.4 ± 1.0   │\n",
      "├────┼─────────────┼─────────────┤\n",
      "│ 18 │ 4.00 ± 0.58 │ 12.2 ± 1.4  │\n",
      "├────┼─────────────┼─────────────┤\n",
      "│ 19 │ 8.9 ± 1.0   │ 22.0 ± 2.5  │\n",
      "├────┼─────────────┼─────────────┤\n",
      "│ 20 │ 9.0 ± 1.1   │ 20.3 ± 2.4  │\n",
      "├────┼─────────────┼─────────────┤\n",
      "│ 21 │ 14.0 ± 1.6  │ 29.3 ± 3.4  │\n",
      "├────┼─────────────┼─────────────┤\n",
      "│ 22 │ 7.01 ± 0.88 │ 15.9 ± 1.9  │\n",
      "├────┼─────────────┼─────────────┤\n",
      "│ 23 │ 7.62 ± 0.98 │ 26.1 ± 3.0  │\n",
      "├────┼─────────────┼─────────────┤\n",
      "│ 24 │ 7.13 ± 0.93 │ 29.5 ± 3.4  │\n",
      "├────┼─────────────┼─────────────┤\n",
      "│ 25 │ 7.5 ± 1.0   │ 23.0 ± 2.7  │\n",
      "├────┼─────────────┼─────────────┤\n",
      "│ 26 │ 9.3 ± 1.1   │ 20.8 ± 2.5  │\n",
      "├────┼─────────────┼─────────────┤\n",
      "│ 27 │ 26.7 ± 3.0  │ 26.2 ± 3.1  │\n",
      "├────┼─────────────┼─────────────┤\n",
      "│ 28 │ 14.0 ± 1.7  │ 45.5 ± 5.1  │\n",
      "├────┼─────────────┼─────────────┤\n",
      "│ 29 │ 39.9 ± 4.5  │             │\n",
      "└────┴─────────────┴─────────────┘\n",
      "2021-08-11 13:29:54,876 - ompy.error_finder - DEBUG - Processing an ensemble with 7 members\n",
      "2021-08-11 13:29:54,877 - ompy.error_finder - DEBUG - Before removing nan: 45 NLD values and 31 GSF values\n",
      "2021-08-11 13:29:54,879 - ompy.error_finder - WARNING - NLDs and/or γSFs contains nan's. They will be removed\n",
      "2021-08-11 13:29:54,880 - ompy.error_finder - WARNING - Some members of the ensemble have different lengths. Consider re-binning or changing limits.\n",
      "2021-08-11 13:29:54,881 - ompy.error_finder - DEBUG - After removing nan: 30 NLD values and 29 GSF values\n",
      "2021-08-11 13:29:54,883 - ompy.error_finder - INFO - Starting pyMC3 - logarithmic model\n"
     ]
    },
    {
     "name": "stderr",
     "output_type": "stream",
     "text": [
      "Auto-assigning NUTS sampler...\n",
      "Initializing NUTS using jitter+adapt_diag...\n",
      "Multiprocess sampling (4 chains in 4 jobs)\n",
      "NUTS: [σ_f, σ_ρ, α, F, D, σ_α, σ_F, σ_D]\n"
     ]
    },
    {
     "data": {
      "text/html": [
       "\n",
       "    <div>\n",
       "        <style>\n",
       "            /* Turns off some styling */\n",
       "            progress {\n",
       "                /* gets rid of default border in Firefox and Opera. */\n",
       "                border: none;\n",
       "                /* Needs to be in here for Safari polyfill so background images work as expected. */\n",
       "                background-size: auto;\n",
       "            }\n",
       "            .progress-bar-interrupted, .progress-bar-interrupted::-webkit-progress-bar {\n",
       "                background: #F44336;\n",
       "            }\n",
       "        </style>\n",
       "      <progress value='8000' class='' max='8000' style='width:300px; height:20px; vertical-align: middle;'></progress>\n",
       "      100.00% [8000/8000 01:09<00:00 Sampling 4 chains, 959 divergences]\n",
       "    </div>\n",
       "    "
      ],
      "text/plain": [
       "<IPython.core.display.HTML object>"
      ]
     },
     "metadata": {},
     "output_type": "display_data"
    },
    {
     "name": "stderr",
     "output_type": "stream",
     "text": [
      "Sampling 4 chains for 1_000 tune and 1_000 draw iterations (4_000 + 4_000 draws total) took 80 seconds.\n",
      "There were 959 divergences after tuning. Increase `target_accept` or reparameterize.\n",
      "The acceptance probability does not match the target. It is 1.2102451977808695e-31, but should be close to 0.8. Try to increase the number of tuning steps.\n",
      "The rhat statistic is larger than 1.4 for some parameters. The sampler did not converge.\n",
      "The estimated number of effective samples is smaller than 200 for some parameters.\n"
     ]
    },
    {
     "name": "stdout",
     "output_type": "stream",
     "text": [
      "2021-08-11 13:31:27,167 - ompy.error_finder - INFO - Inference results:\n",
      "┌─────────────┬─────────────┬────────────────┬───────────────┬───────────────┬─────────────────┐\n",
      "│ D           │ F           │ α              │ σ_D           │ σ_F           │ σ_α             │\n",
      "╞═════════════╪═════════════╪════════════════╪═══════════════╪═══════════════╪═════════════════╡\n",
      "│ 0.00 ± 0.26 │ 0.00 ± 0.31 │ -0.000 ± 0.076 │ 0.276 ± 0.029 │ 0.319 ± 0.032 │ 0.0778 ± 0.0078 │\n",
      "└─────────────┴─────────────┴────────────────┴───────────────┴───────────────┴─────────────────┘\n",
      "┌────┬─────────────┬─────────────┐\n",
      "│    │ σ_ρ [%]     │ σ_f [%]     │\n",
      "╞════╪═════════════╪═════════════╡\n",
      "│ 0  │ 6.24 ± 0.85 │ 10.8 ± 1.1  │\n",
      "├────┼─────────────┼─────────────┤\n",
      "│ 1  │ 10.7 ± 1.5  │ 7.00 ± 0.90 │\n",
      "├────┼─────────────┼─────────────┤\n",
      "│ 2  │ 9.7 ± 1.0   │ 0.47 ± 0.40 │\n",
      "├────┼─────────────┼─────────────┤\n",
      "│ 3  │ 10.4 ± 1.1  │ 17.1 ± 2.3  │\n",
      "├────┼─────────────┼─────────────┤\n",
      "│ 4  │ 4.45 ± 0.57 │ 6.21 ± 0.63 │\n",
      "├────┼─────────────┼─────────────┤\n",
      "│ 5  │ 13.9 ± 1.6  │ 7.39 ± 0.83 │\n",
      "├────┼─────────────┼─────────────┤\n",
      "│ 6  │ 7.86 ± 0.83 │ 3.48 ± 0.36 │\n",
      "├────┼─────────────┼─────────────┤\n",
      "│ 7  │ 11.0 ± 1.2  │ 4.06 ± 0.42 │\n",
      "├────┼─────────────┼─────────────┤\n",
      "│ 8  │ 6.15 ± 0.75 │ 4.47 ± 0.50 │\n",
      "├────┼─────────────┼─────────────┤\n",
      "│ 9  │ 8.30 ± 0.93 │ 5.52 ± 0.60 │\n",
      "├────┼─────────────┼─────────────┤\n",
      "│ 10 │ 6.07 ± 0.64 │ 3.67 ± 0.41 │\n",
      "├────┼─────────────┼─────────────┤\n",
      "│ 11 │ 6.39 ± 0.79 │ 8.42 ± 0.90 │\n",
      "├────┼─────────────┼─────────────┤\n",
      "│ 12 │ 6.35 ± 0.81 │ 6.61 ± 0.71 │\n",
      "├────┼─────────────┼─────────────┤\n",
      "│ 13 │ 8.39 ± 0.90 │ 6.96 ± 0.73 │\n",
      "├────┼─────────────┼─────────────┤\n",
      "│ 14 │ 4.20 ± 0.46 │ 9.47 ± 0.99 │\n",
      "├────┼─────────────┼─────────────┤\n",
      "│ 15 │ 6.25 ± 0.71 │ 11.2 ± 1.2  │\n",
      "├────┼─────────────┼─────────────┤\n",
      "│ 16 │ 9.20 ± 0.95 │ 6.90 ± 0.74 │\n",
      "├────┼─────────────┼─────────────┤\n",
      "│ 17 │ 7.84 ± 0.96 │ 4.16 ± 0.53 │\n",
      "├────┼─────────────┼─────────────┤\n",
      "│ 18 │ 3.52 ± 0.45 │ 5.06 ± 0.61 │\n",
      "├────┼─────────────┼─────────────┤\n",
      "│ 19 │ 9.8 ± 1.0   │ 13.3 ± 1.4  │\n",
      "├────┼─────────────┼─────────────┤\n",
      "│ 20 │ 8.26 ± 0.87 │ 14.9 ± 1.5  │\n",
      "├────┼─────────────┼─────────────┤\n",
      "│ 21 │ 5.57 ± 0.69 │ 10.4 ± 1.2  │\n",
      "├────┼─────────────┼─────────────┤\n",
      "│ 22 │ 9.39 ± 0.97 │ 16.1 ± 1.7  │\n",
      "├────┼─────────────┼─────────────┤\n",
      "│ 23 │ 12.0 ± 1.4  │ 21.7 ± 2.4  │\n",
      "├────┼─────────────┼─────────────┤\n",
      "│ 24 │ 10.0 ± 1.0  │ 38.0 ± 4.1  │\n",
      "├────┼─────────────┼─────────────┤\n",
      "│ 25 │ 18.9 ± 2.0  │ 21.4 ± 2.7  │\n",
      "├────┼─────────────┼─────────────┤\n",
      "│ 26 │ 14.3 ± 1.5  │ 28.4 ± 3.5  │\n",
      "├────┼─────────────┼─────────────┤\n",
      "│ 27 │ 16.5 ± 1.7  │ 28.1 ± 3.0  │\n",
      "├────┼─────────────┼─────────────┤\n",
      "│ 28 │ 21.0 ± 2.2  │ 28.6 ± 3.5  │\n",
      "├────┼─────────────┼─────────────┤\n",
      "│ 29 │ 30.9 ± 3.5  │             │\n",
      "└────┴─────────────┴─────────────┘\n",
      "2021-08-11 13:31:27,177 - ompy.error_finder - DEBUG - Processing an ensemble with 7 members\n",
      "2021-08-11 13:31:27,178 - ompy.error_finder - DEBUG - Before removing nan: 45 NLD values and 31 GSF values\n",
      "2021-08-11 13:31:27,179 - ompy.error_finder - WARNING - NLDs and/or γSFs contains nan's. They will be removed\n",
      "2021-08-11 13:31:27,180 - ompy.error_finder - WARNING - Some members of the ensemble have different lengths. Consider re-binning or changing limits.\n",
      "2021-08-11 13:31:27,183 - ompy.error_finder - DEBUG - After removing nan: 30 NLD values and 29 GSF values\n",
      "2021-08-11 13:31:27,184 - ompy.error_finder - INFO - Starting pyMC3 - logarithmic model\n"
     ]
    },
    {
     "name": "stderr",
     "output_type": "stream",
     "text": [
      "Auto-assigning NUTS sampler...\n",
      "Initializing NUTS using jitter+adapt_diag...\n",
      "Multiprocess sampling (4 chains in 4 jobs)\n",
      "NUTS: [σ_f, σ_ρ, α, F, D, σ_α, σ_F, σ_D]\n"
     ]
    },
    {
     "data": {
      "text/html": [
       "\n",
       "    <div>\n",
       "        <style>\n",
       "            /* Turns off some styling */\n",
       "            progress {\n",
       "                /* gets rid of default border in Firefox and Opera. */\n",
       "                border: none;\n",
       "                /* Needs to be in here for Safari polyfill so background images work as expected. */\n",
       "                background-size: auto;\n",
       "            }\n",
       "            .progress-bar-interrupted, .progress-bar-interrupted::-webkit-progress-bar {\n",
       "                background: #F44336;\n",
       "            }\n",
       "        </style>\n",
       "      <progress value='8000' class='' max='8000' style='width:300px; height:20px; vertical-align: middle;'></progress>\n",
       "      100.00% [8000/8000 01:07<00:00 Sampling 4 chains, 0 divergences]\n",
       "    </div>\n",
       "    "
      ],
      "text/plain": [
       "<IPython.core.display.HTML object>"
      ]
     },
     "metadata": {},
     "output_type": "display_data"
    },
    {
     "name": "stderr",
     "output_type": "stream",
     "text": [
      "Sampling 4 chains for 1_000 tune and 1_000 draw iterations (4_000 + 4_000 draws total) took 80 seconds.\n"
     ]
    },
    {
     "name": "stdout",
     "output_type": "stream",
     "text": [
      "2021-08-11 13:33:00,730 - ompy.error_finder - INFO - Inference results:\n",
      "┌──────────────┬─────────────┬───────────────┬───────────────┬───────────────┬─────────────────┐\n",
      "│ D            │ F           │ α             │ σ_D           │ σ_F           │ σ_α             │\n",
      "╞══════════════╪═════════════╪═══════════════╪═══════════════╪═══════════════╪═════════════════╡\n",
      "│ -0.00 ± 0.23 │ 0.00 ± 0.34 │ 0.000 ± 0.056 │ 0.233 ± 0.027 │ 0.346 ± 0.039 │ 0.0573 ± 0.0068 │\n",
      "└──────────────┴─────────────┴───────────────┴───────────────┴───────────────┴─────────────────┘\n",
      "┌────┬─────────────┬─────────────┐\n",
      "│    │ σ_ρ [%]     │ σ_f [%]     │\n",
      "╞════╪═════════════╪═════════════╡\n",
      "│ 0  │ 7.70 ± 0.98 │ 3.63 ± 0.53 │\n",
      "├────┼─────────────┼─────────────┤\n",
      "│ 1  │ 6.74 ± 0.85 │ 6.45 ± 0.79 │\n",
      "├────┼─────────────┼─────────────┤\n",
      "│ 2  │ 9.1 ± 1.1   │ 4.98 ± 0.59 │\n",
      "├────┼─────────────┼─────────────┤\n",
      "│ 3  │ 13.3 ± 1.6  │ 7.93 ± 0.92 │\n",
      "├────┼─────────────┼─────────────┤\n",
      "│ 4  │ 8.03 ± 0.93 │ 7.34 ± 0.86 │\n",
      "├────┼─────────────┼─────────────┤\n",
      "│ 5  │ 4.59 ± 0.61 │ 3.55 ± 0.45 │\n",
      "├────┼─────────────┼─────────────┤\n",
      "│ 6  │ 9.3 ± 1.1   │ 6.55 ± 0.77 │\n",
      "├────┼─────────────┼─────────────┤\n",
      "│ 7  │ 5.60 ± 0.69 │ 3.12 ± 0.45 │\n",
      "├────┼─────────────┼─────────────┤\n",
      "│ 8  │ 9.9 ± 1.2   │ 6.35 ± 0.74 │\n",
      "├────┼─────────────┼─────────────┤\n",
      "│ 9  │ 7.05 ± 0.82 │ 1.63 ± 0.43 │\n",
      "├────┼─────────────┼─────────────┤\n",
      "│ 10 │ 4.02 ± 0.50 │ 2.98 ± 0.51 │\n",
      "├────┼─────────────┼─────────────┤\n",
      "│ 11 │ 2.00 ± 0.36 │ 4.89 ± 0.61 │\n",
      "├────┼─────────────┼─────────────┤\n",
      "│ 12 │ 3.10 ± 0.40 │ 6.99 ± 0.83 │\n",
      "├────┼─────────────┼─────────────┤\n",
      "│ 13 │ 6.57 ± 0.77 │ 7.61 ± 0.86 │\n",
      "├────┼─────────────┼─────────────┤\n",
      "│ 14 │ 3.00 ± 0.42 │ 12.3 ± 1.4  │\n",
      "├────┼─────────────┼─────────────┤\n",
      "│ 15 │ 7.78 ± 0.94 │ 11.8 ± 1.3  │\n",
      "├────┼─────────────┼─────────────┤\n",
      "│ 16 │ 8.7 ± 1.0   │ 7.94 ± 0.96 │\n",
      "├────┼─────────────┼─────────────┤\n",
      "│ 17 │ 5.84 ± 0.71 │ 9.2 ± 1.0   │\n",
      "├────┼─────────────┼─────────────┤\n",
      "│ 18 │ 7.23 ± 0.86 │ 10.4 ± 1.2  │\n",
      "├────┼─────────────┼─────────────┤\n",
      "│ 19 │ 6.79 ± 0.81 │ 11.8 ± 1.4  │\n",
      "├────┼─────────────┼─────────────┤\n",
      "│ 20 │ 3.49 ± 0.53 │ 9.7 ± 1.1   │\n",
      "├────┼─────────────┼─────────────┤\n",
      "│ 21 │ 9.9 ± 1.1   │ 8.8 ± 1.1   │\n",
      "├────┼─────────────┼─────────────┤\n",
      "│ 22 │ 8.45 ± 0.98 │ 8.7 ± 1.1   │\n",
      "├────┼─────────────┼─────────────┤\n",
      "│ 23 │ 7.69 ± 0.94 │ 12.9 ± 1.5  │\n",
      "├────┼─────────────┼─────────────┤\n",
      "│ 24 │ 11.8 ± 1.4  │ 23.5 ± 2.7  │\n",
      "├────┼─────────────┼─────────────┤\n",
      "│ 25 │ 13.5 ± 1.5  │ 18.6 ± 2.2  │\n",
      "├────┼─────────────┼─────────────┤\n",
      "│ 26 │ 16.7 ± 2.0  │ 16.2 ± 1.9  │\n",
      "├────┼─────────────┼─────────────┤\n",
      "│ 27 │ 16.2 ± 1.9  │ 20.4 ± 2.4  │\n",
      "├────┼─────────────┼─────────────┤\n",
      "│ 28 │ 17.9 ± 2.1  │ 37.5 ± 4.4  │\n",
      "├────┼─────────────┼─────────────┤\n",
      "│ 29 │ 34.9 ± 4.1  │             │\n",
      "└────┴─────────────┴─────────────┘\n",
      "2021-08-11 13:33:00,741 - ompy.error_finder - DEBUG - Processing an ensemble with 7 members\n",
      "2021-08-11 13:33:00,742 - ompy.error_finder - DEBUG - Before removing nan: 45 NLD values and 31 GSF values\n",
      "2021-08-11 13:33:00,743 - ompy.error_finder - WARNING - NLDs and/or γSFs contains nan's. They will be removed\n",
      "2021-08-11 13:33:00,744 - ompy.error_finder - DEBUG - After removing nan: 30 NLD values and 30 GSF values\n",
      "2021-08-11 13:33:00,745 - ompy.error_finder - INFO - Starting pyMC3 - logarithmic model\n"
     ]
    },
    {
     "name": "stderr",
     "output_type": "stream",
     "text": [
      "Auto-assigning NUTS sampler...\n",
      "Initializing NUTS using jitter+adapt_diag...\n",
      "Multiprocess sampling (4 chains in 4 jobs)\n",
      "NUTS: [σ_f, σ_ρ, α, F, D, σ_α, σ_F, σ_D]\n"
     ]
    },
    {
     "data": {
      "text/html": [
       "\n",
       "    <div>\n",
       "        <style>\n",
       "            /* Turns off some styling */\n",
       "            progress {\n",
       "                /* gets rid of default border in Firefox and Opera. */\n",
       "                border: none;\n",
       "                /* Needs to be in here for Safari polyfill so background images work as expected. */\n",
       "                background-size: auto;\n",
       "            }\n",
       "            .progress-bar-interrupted, .progress-bar-interrupted::-webkit-progress-bar {\n",
       "                background: #F44336;\n",
       "            }\n",
       "        </style>\n",
       "      <progress value='8000' class='' max='8000' style='width:300px; height:20px; vertical-align: middle;'></progress>\n",
       "      100.00% [8000/8000 00:53<00:00 Sampling 4 chains, 0 divergences]\n",
       "    </div>\n",
       "    "
      ],
      "text/plain": [
       "<IPython.core.display.HTML object>"
      ]
     },
     "metadata": {},
     "output_type": "display_data"
    },
    {
     "name": "stderr",
     "output_type": "stream",
     "text": [
      "Sampling 4 chains for 1_000 tune and 1_000 draw iterations (4_000 + 4_000 draws total) took 64 seconds.\n"
     ]
    },
    {
     "name": "stdout",
     "output_type": "stream",
     "text": [
      "2021-08-11 13:34:16,402 - ompy.error_finder - INFO - Inference results:\n",
      "┌──────────────┬──────────────┬───────────────┬───────────────┬───────────────┬───────────────┐\n",
      "│ D            │ F            │ α             │ σ_D           │ σ_F           │ σ_α           │\n",
      "╞══════════════╪══════════════╪═══════════════╪═══════════════╪═══════════════╪═══════════════╡\n",
      "│ -0.00 ± 0.30 │ -0.00 ± 0.28 │ 0.000 ± 0.081 │ 0.314 ± 0.036 │ 0.286 ± 0.032 │ 0.084 ± 0.010 │\n",
      "└──────────────┴──────────────┴───────────────┴───────────────┴───────────────┴───────────────┘\n",
      "┌────┬─────────────┬─────────────┐\n",
      "│    │ σ_ρ [%]     │ σ_f [%]     │\n",
      "╞════╪═════════════╪═════════════╡\n",
      "│ 0  │ 4.37 ± 0.57 │ 4.37 ± 0.58 │\n",
      "├────┼─────────────┼─────────────┤\n",
      "│ 1  │ 3.09 ± 0.49 │ 3.19 ± 0.49 │\n",
      "├────┼─────────────┼─────────────┤\n",
      "│ 2  │ 7.02 ± 0.82 │ 4.68 ± 0.57 │\n",
      "├────┼─────────────┼─────────────┤\n",
      "│ 3  │ 9.1 ± 1.1   │ 7.71 ± 0.89 │\n",
      "├────┼─────────────┼─────────────┤\n",
      "│ 4  │ 10.1 ± 1.1  │ 6.61 ± 0.78 │\n",
      "├────┼─────────────┼─────────────┤\n",
      "│ 5  │ 7.53 ± 0.84 │ 2.22 ± 0.35 │\n",
      "├────┼─────────────┼─────────────┤\n",
      "│ 6  │ 10.0 ± 1.2  │ 4.72 ± 0.56 │\n",
      "├────┼─────────────┼─────────────┤\n",
      "│ 7  │ 8.7 ± 1.0   │ 2.47 ± 0.36 │\n",
      "├────┼─────────────┼─────────────┤\n",
      "│ 8  │ 7.44 ± 0.88 │ 3.94 ± 0.48 │\n",
      "├────┼─────────────┼─────────────┤\n",
      "│ 9  │ 2.30 ± 0.34 │ 2.69 ± 0.35 │\n",
      "├────┼─────────────┼─────────────┤\n",
      "│ 10 │ 2.47 ± 0.34 │ 4.57 ± 0.53 │\n",
      "├────┼─────────────┼─────────────┤\n",
      "│ 11 │ 5.63 ± 0.68 │ 6.59 ± 0.75 │\n",
      "├────┼─────────────┼─────────────┤\n",
      "│ 12 │ 5.71 ± 0.66 │ 5.34 ± 0.63 │\n",
      "├────┼─────────────┼─────────────┤\n",
      "│ 13 │ 2.72 ± 0.35 │ 5.21 ± 0.61 │\n",
      "├────┼─────────────┼─────────────┤\n",
      "│ 14 │ 5.40 ± 0.63 │ 5.42 ± 0.66 │\n",
      "├────┼─────────────┼─────────────┤\n",
      "│ 15 │ 4.58 ± 0.55 │ 6.47 ± 0.76 │\n",
      "├────┼─────────────┼─────────────┤\n",
      "│ 16 │ 3.36 ± 0.43 │ 3.82 ± 0.49 │\n",
      "├────┼─────────────┼─────────────┤\n",
      "│ 17 │ 3.68 ± 0.47 │ 8.24 ± 0.97 │\n",
      "├────┼─────────────┼─────────────┤\n",
      "│ 18 │ 4.43 ± 0.53 │ 7.23 ± 0.87 │\n",
      "├────┼─────────────┼─────────────┤\n",
      "│ 19 │ 6.11 ± 0.74 │ 3.82 ± 0.51 │\n",
      "├────┼─────────────┼─────────────┤\n",
      "│ 20 │ 5.97 ± 0.72 │ 13.5 ± 1.5  │\n",
      "├────┼─────────────┼─────────────┤\n",
      "│ 21 │ 5.54 ± 0.68 │ 6.94 ± 0.82 │\n",
      "├────┼─────────────┼─────────────┤\n",
      "│ 22 │ 7.28 ± 0.89 │ 8.4 ± 1.0   │\n",
      "├────┼─────────────┼─────────────┤\n",
      "│ 23 │ 10.7 ± 1.2  │ 5.24 ± 0.69 │\n",
      "├────┼─────────────┼─────────────┤\n",
      "│ 24 │ 10.6 ± 1.2  │ 13.7 ± 1.6  │\n",
      "├────┼─────────────┼─────────────┤\n",
      "│ 25 │ 9.4 ± 1.1   │ 11.1 ± 1.3  │\n",
      "├────┼─────────────┼─────────────┤\n",
      "│ 26 │ 13.9 ± 1.6  │ 7.00 ± 0.85 │\n",
      "├────┼─────────────┼─────────────┤\n",
      "│ 27 │ 14.8 ± 1.7  │ 23.6 ± 2.7  │\n",
      "├────┼─────────────┼─────────────┤\n",
      "│ 28 │ 20.1 ± 2.3  │ 19.6 ± 2.3  │\n",
      "├────┼─────────────┼─────────────┤\n",
      "│ 29 │ 16.6 ± 1.9  │ 42.3 ± 4.8  │\n",
      "└────┴─────────────┴─────────────┘\n",
      "2021-08-11 13:34:16,417 - ompy.error_finder - DEBUG - Processing an ensemble with 7 members\n",
      "2021-08-11 13:34:16,418 - ompy.error_finder - DEBUG - Before removing nan: 45 NLD values and 31 GSF values\n",
      "2021-08-11 13:34:16,419 - ompy.error_finder - WARNING - NLDs and/or γSFs contains nan's. They will be removed\n",
      "2021-08-11 13:34:16,420 - ompy.error_finder - DEBUG - After removing nan: 30 NLD values and 30 GSF values\n",
      "2021-08-11 13:34:16,421 - ompy.error_finder - INFO - Starting pyMC3 - logarithmic model\n"
     ]
    },
    {
     "name": "stderr",
     "output_type": "stream",
     "text": [
      "Auto-assigning NUTS sampler...\n",
      "Initializing NUTS using jitter+adapt_diag...\n",
      "Multiprocess sampling (4 chains in 4 jobs)\n",
      "NUTS: [σ_f, σ_ρ, α, F, D, σ_α, σ_F, σ_D]\n"
     ]
    },
    {
     "data": {
      "text/html": [
       "\n",
       "    <div>\n",
       "        <style>\n",
       "            /* Turns off some styling */\n",
       "            progress {\n",
       "                /* gets rid of default border in Firefox and Opera. */\n",
       "                border: none;\n",
       "                /* Needs to be in here for Safari polyfill so background images work as expected. */\n",
       "                background-size: auto;\n",
       "            }\n",
       "            .progress-bar-interrupted, .progress-bar-interrupted::-webkit-progress-bar {\n",
       "                background: #F44336;\n",
       "            }\n",
       "        </style>\n",
       "      <progress value='8000' class='' max='8000' style='width:300px; height:20px; vertical-align: middle;'></progress>\n",
       "      100.00% [8000/8000 01:00<00:00 Sampling 4 chains, 0 divergences]\n",
       "    </div>\n",
       "    "
      ],
      "text/plain": [
       "<IPython.core.display.HTML object>"
      ]
     },
     "metadata": {},
     "output_type": "display_data"
    },
    {
     "name": "stderr",
     "output_type": "stream",
     "text": [
      "Sampling 4 chains for 1_000 tune and 1_000 draw iterations (4_000 + 4_000 draws total) took 71 seconds.\n"
     ]
    },
    {
     "name": "stdout",
     "output_type": "stream",
     "text": [
      "2021-08-11 13:35:38,831 - ompy.error_finder - INFO - Inference results:\n",
      "┌──────────────┬──────────────┬────────────────┬───────────────┬───────────────┬─────────────────┐\n",
      "│ D            │ F            │ α              │ σ_D           │ σ_F           │ σ_α             │\n",
      "╞══════════════╪══════════════╪════════════════╪═══════════════╪═══════════════╪═════════════════╡\n",
      "│ -0.00 ± 0.23 │ -0.00 ± 0.22 │ -0.000 ± 0.060 │ 0.241 ± 0.028 │ 0.232 ± 0.027 │ 0.0616 ± 0.0074 │\n",
      "└──────────────┴──────────────┴────────────────┴───────────────┴───────────────┴─────────────────┘\n",
      "┌────┬─────────────┬─────────────┐\n",
      "│    │ σ_ρ [%]     │ σ_f [%]     │\n",
      "╞════╪═════════════╪═════════════╡\n",
      "│ 0  │ 6.57 ± 0.80 │ 3.38 ± 0.51 │\n",
      "├────┼─────────────┼─────────────┤\n",
      "│ 1  │ 3.98 ± 0.54 │ 4.86 ± 0.61 │\n",
      "├────┼─────────────┼─────────────┤\n",
      "│ 2  │ 5.64 ± 0.71 │ 4.85 ± 0.63 │\n",
      "├────┼─────────────┼─────────────┤\n",
      "│ 3  │ 7.20 ± 0.84 │ 5.86 ± 0.70 │\n",
      "├────┼─────────────┼─────────────┤\n",
      "│ 4  │ 5.16 ± 0.64 │ 1.50 ± 0.37 │\n",
      "├────┼─────────────┼─────────────┤\n",
      "│ 5  │ 4.49 ± 0.55 │ 5.79 ± 0.71 │\n",
      "├────┼─────────────┼─────────────┤\n",
      "│ 6  │ 5.91 ± 0.70 │ 7.37 ± 0.86 │\n",
      "├────┼─────────────┼─────────────┤\n",
      "│ 7  │ 4.47 ± 0.56 │ 3.99 ± 0.50 │\n",
      "├────┼─────────────┼─────────────┤\n",
      "│ 8  │ 8.41 ± 0.93 │ 3.25 ± 0.39 │\n",
      "├────┼─────────────┼─────────────┤\n",
      "│ 9  │ 3.11 ± 0.40 │ 4.20 ± 0.50 │\n",
      "├────┼─────────────┼─────────────┤\n",
      "│ 10 │ 4.85 ± 0.57 │ 9.5 ± 1.1   │\n",
      "├────┼─────────────┼─────────────┤\n",
      "│ 11 │ 1.68 ± 0.29 │ 3.41 ± 0.43 │\n",
      "├────┼─────────────┼─────────────┤\n",
      "│ 12 │ 4.24 ± 0.53 │ 3.32 ± 0.44 │\n",
      "├────┼─────────────┼─────────────┤\n",
      "│ 13 │ 8.83 ± 0.99 │ 9.2 ± 1.1   │\n",
      "├────┼─────────────┼─────────────┤\n",
      "│ 14 │ 2.84 ± 0.36 │ 5.63 ± 0.66 │\n",
      "├────┼─────────────┼─────────────┤\n",
      "│ 15 │ 3.04 ± 0.40 │ 4.25 ± 0.54 │\n",
      "├────┼─────────────┼─────────────┤\n",
      "│ 16 │ 5.54 ± 0.66 │ 4.39 ± 0.58 │\n",
      "├────┼─────────────┼─────────────┤\n",
      "│ 17 │ 3.06 ± 0.39 │ 9.4 ± 1.1   │\n",
      "├────┼─────────────┼─────────────┤\n",
      "│ 18 │ 9.4 ± 1.1   │ 7.07 ± 0.83 │\n",
      "├────┼─────────────┼─────────────┤\n",
      "│ 19 │ 6.63 ± 0.78 │ 8.6 ± 1.0   │\n",
      "├────┼─────────────┼─────────────┤\n",
      "│ 20 │ 6.91 ± 0.80 │ 7.49 ± 0.89 │\n",
      "├────┼─────────────┼─────────────┤\n",
      "│ 21 │ 5.19 ± 0.64 │ 11.5 ± 1.3  │\n",
      "├────┼─────────────┼─────────────┤\n",
      "│ 22 │ 6.36 ± 0.76 │ 14.1 ± 1.6  │\n",
      "├────┼─────────────┼─────────────┤\n",
      "│ 23 │ 4.93 ± 0.61 │ 9.5 ± 1.1   │\n",
      "├────┼─────────────┼─────────────┤\n",
      "│ 24 │ 5.78 ± 0.72 │ 10.8 ± 1.3  │\n",
      "├────┼─────────────┼─────────────┤\n",
      "│ 25 │ 4.71 ± 0.62 │ 12.9 ± 1.6  │\n",
      "├────┼─────────────┼─────────────┤\n",
      "│ 26 │ 5.65 ± 0.68 │ 19.4 ± 2.3  │\n",
      "├────┼─────────────┼─────────────┤\n",
      "│ 27 │ 8.8 ± 1.1   │ 12.5 ± 1.5  │\n",
      "├────┼─────────────┼─────────────┤\n",
      "│ 28 │ 12.7 ± 1.5  │ 28.1 ± 3.3  │\n",
      "├────┼─────────────┼─────────────┤\n",
      "│ 29 │ 17.2 ± 2.0  │ 27.0 ± 3.1  │\n",
      "└────┴─────────────┴─────────────┘\n",
      "2021-08-11 13:35:38,841 - ompy.error_finder - DEBUG - Processing an ensemble with 7 members\n",
      "2021-08-11 13:35:38,842 - ompy.error_finder - DEBUG - Before removing nan: 45 NLD values and 31 GSF values\n",
      "2021-08-11 13:35:38,843 - ompy.error_finder - WARNING - NLDs and/or γSFs contains nan's. They will be removed\n",
      "2021-08-11 13:35:38,844 - ompy.error_finder - DEBUG - After removing nan: 30 NLD values and 30 GSF values\n",
      "2021-08-11 13:35:38,844 - ompy.error_finder - INFO - Starting pyMC3 - logarithmic model\n"
     ]
    },
    {
     "name": "stderr",
     "output_type": "stream",
     "text": [
      "Auto-assigning NUTS sampler...\n",
      "Initializing NUTS using jitter+adapt_diag...\n",
      "Multiprocess sampling (4 chains in 4 jobs)\n",
      "NUTS: [σ_f, σ_ρ, α, F, D, σ_α, σ_F, σ_D]\n"
     ]
    },
    {
     "data": {
      "text/html": [
       "\n",
       "    <div>\n",
       "        <style>\n",
       "            /* Turns off some styling */\n",
       "            progress {\n",
       "                /* gets rid of default border in Firefox and Opera. */\n",
       "                border: none;\n",
       "                /* Needs to be in here for Safari polyfill so background images work as expected. */\n",
       "                background-size: auto;\n",
       "            }\n",
       "            .progress-bar-interrupted, .progress-bar-interrupted::-webkit-progress-bar {\n",
       "                background: #F44336;\n",
       "            }\n",
       "        </style>\n",
       "      <progress value='8000' class='' max='8000' style='width:300px; height:20px; vertical-align: middle;'></progress>\n",
       "      100.00% [8000/8000 00:51<00:00 Sampling 4 chains, 0 divergences]\n",
       "    </div>\n",
       "    "
      ],
      "text/plain": [
       "<IPython.core.display.HTML object>"
      ]
     },
     "metadata": {},
     "output_type": "display_data"
    },
    {
     "name": "stderr",
     "output_type": "stream",
     "text": [
      "Sampling 4 chains for 1_000 tune and 1_000 draw iterations (4_000 + 4_000 draws total) took 62 seconds.\n"
     ]
    },
    {
     "name": "stdout",
     "output_type": "stream",
     "text": [
      "2021-08-11 13:36:52,858 - ompy.error_finder - INFO - Inference results:\n",
      "┌──────────────┬──────────────┬───────────────┬───────────────┬───────────────┬─────────────────┐\n",
      "│ D            │ F            │ α             │ σ_D           │ σ_F           │ σ_α             │\n",
      "╞══════════════╪══════════════╪═══════════════╪═══════════════╪═══════════════╪═════════════════╡\n",
      "│ -0.00 ± 0.25 │ -0.00 ± 0.25 │ 0.000 ± 0.067 │ 0.263 ± 0.031 │ 0.258 ± 0.030 │ 0.0694 ± 0.0082 │\n",
      "└──────────────┴──────────────┴───────────────┴───────────────┴───────────────┴─────────────────┘\n",
      "┌────┬─────────────┬─────────────┐\n",
      "│    │ σ_ρ [%]     │ σ_f [%]     │\n",
      "╞════╪═════════════╪═════════════╡\n",
      "│ 0  │ 5.86 ± 0.72 │ 1.80 ± 0.31 │\n",
      "├────┼─────────────┼─────────────┤\n",
      "│ 1  │ 2.60 ± 0.39 │ 5.59 ± 0.66 │\n",
      "├────┼─────────────┼─────────────┤\n",
      "│ 2  │ 4.15 ± 0.53 │ 4.88 ± 0.59 │\n",
      "├────┼─────────────┼─────────────┤\n",
      "│ 3  │ 5.10 ± 0.60 │ 1.81 ± 0.26 │\n",
      "├────┼─────────────┼─────────────┤\n",
      "│ 4  │ 4.00 ± 0.49 │ 2.67 ± 0.34 │\n",
      "├────┼─────────────┼─────────────┤\n",
      "│ 5  │ 3.32 ± 0.41 │ 2.93 ± 0.37 │\n",
      "├────┼─────────────┼─────────────┤\n",
      "│ 6  │ 3.77 ± 0.44 │ 5.83 ± 0.68 │\n",
      "├────┼─────────────┼─────────────┤\n",
      "│ 7  │ 5.30 ± 0.62 │ 2.78 ± 0.35 │\n",
      "├────┼─────────────┼─────────────┤\n",
      "│ 8  │ 7.35 ± 0.83 │ 3.43 ± 0.41 │\n",
      "├────┼─────────────┼─────────────┤\n",
      "│ 9  │ 1.39 ± 0.23 │ 2.29 ± 0.29 │\n",
      "├────┼─────────────┼─────────────┤\n",
      "│ 10 │ 3.35 ± 0.40 │ 4.28 ± 0.51 │\n",
      "├────┼─────────────┼─────────────┤\n",
      "│ 11 │ 2.82 ± 0.35 │ 2.78 ± 0.34 │\n",
      "├────┼─────────────┼─────────────┤\n",
      "│ 12 │ 3.25 ± 0.39 │ 5.16 ± 0.61 │\n",
      "├────┼─────────────┼─────────────┤\n",
      "│ 13 │ 3.68 ± 0.43 │ 5.64 ± 0.65 │\n",
      "├────┼─────────────┼─────────────┤\n",
      "│ 14 │ 2.44 ± 0.34 │ 2.82 ± 0.37 │\n",
      "├────┼─────────────┼─────────────┤\n",
      "│ 15 │ 5.37 ± 0.63 │ 2.91 ± 0.38 │\n",
      "├────┼─────────────┼─────────────┤\n",
      "│ 16 │ 4.30 ± 0.50 │ 7.06 ± 0.81 │\n",
      "├────┼─────────────┼─────────────┤\n",
      "│ 17 │ 5.37 ± 0.65 │ 4.57 ± 0.55 │\n",
      "├────┼─────────────┼─────────────┤\n",
      "│ 18 │ 3.40 ± 0.44 │ 7.19 ± 0.85 │\n",
      "├────┼─────────────┼─────────────┤\n",
      "│ 19 │ 4.10 ± 0.51 │ 5.25 ± 0.66 │\n",
      "├────┼─────────────┼─────────────┤\n",
      "│ 20 │ 6.52 ± 0.76 │ 6.21 ± 0.73 │\n",
      "├────┼─────────────┼─────────────┤\n",
      "│ 21 │ 6.26 ± 0.73 │ 8.9 ± 1.1   │\n",
      "├────┼─────────────┼─────────────┤\n",
      "│ 22 │ 9.0 ± 1.1   │ 6.95 ± 0.86 │\n",
      "├────┼─────────────┼─────────────┤\n",
      "│ 23 │ 6.21 ± 0.74 │ 9.4 ± 1.1   │\n",
      "├────┼─────────────┼─────────────┤\n",
      "│ 24 │ 7.28 ± 0.89 │ 9.4 ± 1.1   │\n",
      "├────┼─────────────┼─────────────┤\n",
      "│ 25 │ 12.3 ± 1.4  │ 12.4 ± 1.4  │\n",
      "├────┼─────────────┼─────────────┤\n",
      "│ 26 │ 13.5 ± 1.6  │ 10.4 ± 1.2  │\n",
      "├────┼─────────────┼─────────────┤\n",
      "│ 27 │ 18.6 ± 2.1  │ 11.8 ± 1.4  │\n",
      "├────┼─────────────┼─────────────┤\n",
      "│ 28 │ 9.5 ± 1.2   │ 21.4 ± 2.4  │\n",
      "├────┼─────────────┼─────────────┤\n",
      "│ 29 │ 18.3 ± 2.1  │ 41.3 ± 5.0  │\n",
      "└────┴─────────────┴─────────────┘\n",
      "2021-08-11 13:36:52,868 - ompy.error_finder - DEBUG - Processing an ensemble with 7 members\n",
      "2021-08-11 13:36:52,869 - ompy.error_finder - DEBUG - Before removing nan: 45 NLD values and 31 GSF values\n",
      "2021-08-11 13:36:52,871 - ompy.error_finder - WARNING - NLDs and/or γSFs contains nan's. They will be removed\n",
      "2021-08-11 13:36:52,872 - ompy.error_finder - DEBUG - After removing nan: 30 NLD values and 30 GSF values\n",
      "2021-08-11 13:36:52,873 - ompy.error_finder - INFO - Starting pyMC3 - logarithmic model\n"
     ]
    },
    {
     "name": "stderr",
     "output_type": "stream",
     "text": [
      "Auto-assigning NUTS sampler...\n",
      "Initializing NUTS using jitter+adapt_diag...\n",
      "Multiprocess sampling (4 chains in 4 jobs)\n",
      "NUTS: [σ_f, σ_ρ, α, F, D, σ_α, σ_F, σ_D]\n"
     ]
    },
    {
     "data": {
      "text/html": [
       "\n",
       "    <div>\n",
       "        <style>\n",
       "            /* Turns off some styling */\n",
       "            progress {\n",
       "                /* gets rid of default border in Firefox and Opera. */\n",
       "                border: none;\n",
       "                /* Needs to be in here for Safari polyfill so background images work as expected. */\n",
       "                background-size: auto;\n",
       "            }\n",
       "            .progress-bar-interrupted, .progress-bar-interrupted::-webkit-progress-bar {\n",
       "                background: #F44336;\n",
       "            }\n",
       "        </style>\n",
       "      <progress value='8000' class='' max='8000' style='width:300px; height:20px; vertical-align: middle;'></progress>\n",
       "      100.00% [8000/8000 00:58<00:00 Sampling 4 chains, 0 divergences]\n",
       "    </div>\n",
       "    "
      ],
      "text/plain": [
       "<IPython.core.display.HTML object>"
      ]
     },
     "metadata": {},
     "output_type": "display_data"
    },
    {
     "name": "stderr",
     "output_type": "stream",
     "text": [
      "Sampling 4 chains for 1_000 tune and 1_000 draw iterations (4_000 + 4_000 draws total) took 68 seconds.\n",
      "The number of effective samples is smaller than 25% for some parameters.\n"
     ]
    },
    {
     "name": "stdout",
     "output_type": "stream",
     "text": [
      "2021-08-11 13:38:12,363 - ompy.error_finder - INFO - Inference results:\n",
      "┌─────────────┬──────────────┬────────────────┬───────────────┬───────────────┬─────────────────┐\n",
      "│ D           │ F            │ α              │ σ_D           │ σ_F           │ σ_α             │\n",
      "╞═════════════╪══════════════╪════════════════╪═══════════════╪═══════════════╪═════════════════╡\n",
      "│ 0.00 ± 0.28 │ -0.00 ± 0.28 │ -0.000 ± 0.078 │ 0.288 ± 0.032 │ 0.287 ± 0.032 │ 0.0803 ± 0.0095 │\n",
      "└─────────────┴──────────────┴────────────────┴───────────────┴───────────────┴─────────────────┘\n",
      "┌────┬─────────────┬─────────────┐\n",
      "│    │ σ_ρ [%]     │ σ_f [%]     │\n",
      "╞════╪═════════════╪═════════════╡\n",
      "│ 0  │ 1.95 ± 0.43 │ 7.03 ± 0.83 │\n",
      "├────┼─────────────┼─────────────┤\n",
      "│ 1  │ 3.87 ± 0.52 │ 5.02 ± 0.63 │\n",
      "├────┼─────────────┼─────────────┤\n",
      "│ 2  │ 6.19 ± 0.73 │ 4.17 ± 0.51 │\n",
      "├────┼─────────────┼─────────────┤\n",
      "│ 3  │ 10.9 ± 1.3  │ 4.92 ± 0.59 │\n",
      "├────┼─────────────┼─────────────┤\n",
      "│ 4  │ 5.19 ± 0.64 │ 5.61 ± 0.67 │\n",
      "├────┼─────────────┼─────────────┤\n",
      "│ 5  │ 5.01 ± 0.61 │ 3.65 ± 0.45 │\n",
      "├────┼─────────────┼─────────────┤\n",
      "│ 6  │ 3.86 ± 0.46 │ 1.84 ± 0.27 │\n",
      "├────┼─────────────┼─────────────┤\n",
      "│ 7  │ 7.23 ± 0.86 │ 1.93 ± 0.26 │\n",
      "├────┼─────────────┼─────────────┤\n",
      "│ 8  │ 4.00 ± 0.50 │ 4.29 ± 0.53 │\n",
      "├────┼─────────────┼─────────────┤\n",
      "│ 9  │ 5.27 ± 0.62 │ 4.45 ± 0.52 │\n",
      "├────┼─────────────┼─────────────┤\n",
      "│ 10 │ 5.12 ± 0.62 │ 3.96 ± 0.48 │\n",
      "├────┼─────────────┼─────────────┤\n",
      "│ 11 │ 3.37 ± 0.40 │ 5.08 ± 0.60 │\n",
      "├────┼─────────────┼─────────────┤\n",
      "│ 12 │ 3.32 ± 0.43 │ 4.75 ± 0.56 │\n",
      "├────┼─────────────┼─────────────┤\n",
      "│ 13 │ 5.99 ± 0.70 │ 2.18 ± 0.29 │\n",
      "├────┼─────────────┼─────────────┤\n",
      "│ 14 │ 3.44 ± 0.42 │ 3.61 ± 0.43 │\n",
      "├────┼─────────────┼─────────────┤\n",
      "│ 15 │ 7.10 ± 0.85 │ 1.35 ± 0.22 │\n",
      "├────┼─────────────┼─────────────┤\n",
      "│ 16 │ 6.18 ± 0.72 │ 3.97 ± 0.47 │\n",
      "├────┼─────────────┼─────────────┤\n",
      "│ 17 │ 5.82 ± 0.70 │ 5.81 ± 0.69 │\n",
      "├────┼─────────────┼─────────────┤\n",
      "│ 18 │ 5.27 ± 0.62 │ 2.38 ± 0.32 │\n",
      "├────┼─────────────┼─────────────┤\n",
      "│ 19 │ 0.95 ± 0.28 │ 8.39 ± 0.98 │\n",
      "├────┼─────────────┼─────────────┤\n",
      "│ 20 │ 4.66 ± 0.55 │ 6.24 ± 0.74 │\n",
      "├────┼─────────────┼─────────────┤\n",
      "│ 21 │ 2.36 ± 0.30 │ 9.7 ± 1.1   │\n",
      "├────┼─────────────┼─────────────┤\n",
      "│ 22 │ 6.74 ± 0.77 │ 11.3 ± 1.3  │\n",
      "├────┼─────────────┼─────────────┤\n",
      "│ 23 │ 4.14 ± 0.49 │ 6.37 ± 0.77 │\n",
      "├────┼─────────────┼─────────────┤\n",
      "│ 24 │ 11.4 ± 1.3  │ 12.0 ± 1.4  │\n",
      "├────┼─────────────┼─────────────┤\n",
      "│ 25 │ 6.65 ± 0.77 │ 12.1 ± 1.4  │\n",
      "├────┼─────────────┼─────────────┤\n",
      "│ 26 │ 8.55 ± 0.99 │ 9.1 ± 1.0   │\n",
      "├────┼─────────────┼─────────────┤\n",
      "│ 27 │ 13.4 ± 1.6  │ 10.3 ± 1.2  │\n",
      "├────┼─────────────┼─────────────┤\n",
      "│ 28 │ 19.4 ± 2.3  │ 20.8 ± 2.4  │\n",
      "├────┼─────────────┼─────────────┤\n",
      "│ 29 │ 14.0 ± 1.6  │ 21.6 ± 2.4  │\n",
      "└────┴─────────────┴─────────────┘\n",
      "2021-08-11 13:38:12,376 - ompy.error_finder - DEBUG - Processing an ensemble with 7 members\n",
      "2021-08-11 13:38:12,377 - ompy.error_finder - DEBUG - Before removing nan: 45 NLD values and 31 GSF values\n",
      "2021-08-11 13:38:12,380 - ompy.error_finder - WARNING - NLDs and/or γSFs contains nan's. They will be removed\n",
      "2021-08-11 13:38:12,380 - ompy.error_finder - DEBUG - After removing nan: 30 NLD values and 30 GSF values\n",
      "2021-08-11 13:38:12,382 - ompy.error_finder - INFO - Starting pyMC3 - logarithmic model\n"
     ]
    },
    {
     "name": "stderr",
     "output_type": "stream",
     "text": [
      "Auto-assigning NUTS sampler...\n",
      "Initializing NUTS using jitter+adapt_diag...\n",
      "Multiprocess sampling (4 chains in 4 jobs)\n",
      "NUTS: [σ_f, σ_ρ, α, F, D, σ_α, σ_F, σ_D]\n"
     ]
    },
    {
     "data": {
      "text/html": [
       "\n",
       "    <div>\n",
       "        <style>\n",
       "            /* Turns off some styling */\n",
       "            progress {\n",
       "                /* gets rid of default border in Firefox and Opera. */\n",
       "                border: none;\n",
       "                /* Needs to be in here for Safari polyfill so background images work as expected. */\n",
       "                background-size: auto;\n",
       "            }\n",
       "            .progress-bar-interrupted, .progress-bar-interrupted::-webkit-progress-bar {\n",
       "                background: #F44336;\n",
       "            }\n",
       "        </style>\n",
       "      <progress value='8000' class='' max='8000' style='width:300px; height:20px; vertical-align: middle;'></progress>\n",
       "      100.00% [8000/8000 00:55<00:00 Sampling 4 chains, 0 divergences]\n",
       "    </div>\n",
       "    "
      ],
      "text/plain": [
       "<IPython.core.display.HTML object>"
      ]
     },
     "metadata": {},
     "output_type": "display_data"
    },
    {
     "name": "stderr",
     "output_type": "stream",
     "text": [
      "Sampling 4 chains for 1_000 tune and 1_000 draw iterations (4_000 + 4_000 draws total) took 68 seconds.\n",
      "The estimated number of effective samples is smaller than 200 for some parameters.\n"
     ]
    },
    {
     "name": "stdout",
     "output_type": "stream",
     "text": [
      "2021-08-11 13:39:31,379 - ompy.error_finder - INFO - Inference results:\n",
      "┌─────────────┬─────────────┬────────────────┬───────────────┬───────────────┬─────────────────┐\n",
      "│ D           │ F           │ α              │ σ_D           │ σ_F           │ σ_α             │\n",
      "╞═════════════╪═════════════╪════════════════╪═══════════════╪═══════════════╪═════════════════╡\n",
      "│ 0.00 ± 0.28 │ 0.00 ± 0.27 │ -0.000 ± 0.071 │ 0.291 ± 0.031 │ 0.277 ± 0.032 │ 0.0731 ± 0.0083 │\n",
      "└─────────────┴─────────────┴────────────────┴───────────────┴───────────────┴─────────────────┘\n",
      "┌────┬─────────────┬─────────────┐\n",
      "│    │ σ_ρ [%]     │ σ_f [%]     │\n",
      "╞════╪═════════════╪═════════════╡\n",
      "│ 0  │ 0.97 ± 0.41 │ 4.44 ± 0.54 │\n",
      "├────┼─────────────┼─────────────┤\n",
      "│ 1  │ 5.48 ± 0.63 │ 4.70 ± 0.57 │\n",
      "├────┼─────────────┼─────────────┤\n",
      "│ 2  │ 3.20 ± 0.40 │ 7.50 ± 0.84 │\n",
      "├────┼─────────────┼─────────────┤\n",
      "│ 3  │ 7.54 ± 0.88 │ 5.71 ± 0.67 │\n",
      "├────┼─────────────┼─────────────┤\n",
      "│ 4  │ 7.41 ± 0.83 │ 3.45 ± 0.43 │\n",
      "├────┼─────────────┼─────────────┤\n",
      "│ 5  │ 6.75 ± 0.75 │ 2.27 ± 0.29 │\n",
      "├────┼─────────────┼─────────────┤\n",
      "│ 6  │ 3.58 ± 0.42 │ 2.82 ± 0.35 │\n",
      "├────┼─────────────┼─────────────┤\n",
      "│ 7  │ 6.89 ± 0.80 │ 3.24 ± 0.39 │\n",
      "├────┼─────────────┼─────────────┤\n",
      "│ 8  │ 6.18 ± 0.73 │ 0.90 ± 0.22 │\n",
      "├────┼─────────────┼─────────────┤\n",
      "│ 9  │ 3.80 ± 0.45 │ 4.19 ± 0.50 │\n",
      "├────┼─────────────┼─────────────┤\n",
      "│ 10 │ 1.66 ± 0.23 │ 5.72 ± 0.67 │\n",
      "├────┼─────────────┼─────────────┤\n",
      "│ 11 │ 2.65 ± 0.31 │ 3.46 ± 0.41 │\n",
      "├────┼─────────────┼─────────────┤\n",
      "│ 12 │ 3.53 ± 0.42 │ 1.08 ± 0.18 │\n",
      "├────┼─────────────┼─────────────┤\n",
      "│ 13 │ 0.94 ± 0.17 │ 1.49 ± 0.25 │\n",
      "├────┼─────────────┼─────────────┤\n",
      "│ 14 │ 4.47 ± 0.51 │ 4.78 ± 0.56 │\n",
      "├────┼─────────────┼─────────────┤\n",
      "│ 15 │ 7.41 ± 0.84 │ 3.41 ± 0.39 │\n",
      "├────┼─────────────┼─────────────┤\n",
      "│ 16 │ 3.36 ± 0.41 │ 3.35 ± 0.41 │\n",
      "├────┼─────────────┼─────────────┤\n",
      "│ 17 │ 4.28 ± 0.50 │ 3.59 ± 0.43 │\n",
      "├────┼─────────────┼─────────────┤\n",
      "│ 18 │ 2.34 ± 0.31 │ 3.84 ± 0.47 │\n",
      "├────┼─────────────┼─────────────┤\n",
      "│ 19 │ 1.86 ± 0.26 │ 2.85 ± 0.38 │\n",
      "├────┼─────────────┼─────────────┤\n",
      "│ 20 │ 5.19 ± 0.60 │ 5.82 ± 0.70 │\n",
      "├────┼─────────────┼─────────────┤\n",
      "│ 21 │ 7.06 ± 0.81 │ 5.56 ± 0.69 │\n",
      "├────┼─────────────┼─────────────┤\n",
      "│ 22 │ 5.45 ± 0.65 │ 5.61 ± 0.70 │\n",
      "├────┼─────────────┼─────────────┤\n",
      "│ 23 │ 7.06 ± 0.83 │ 7.00 ± 0.81 │\n",
      "├────┼─────────────┼─────────────┤\n",
      "│ 24 │ 4.81 ± 0.59 │ 10.6 ± 1.2  │\n",
      "├────┼─────────────┼─────────────┤\n",
      "│ 25 │ 12.9 ± 1.4  │ 12.3 ± 1.4  │\n",
      "├────┼─────────────┼─────────────┤\n",
      "│ 26 │ 8.5 ± 1.0   │ 9.9 ± 1.2   │\n",
      "├────┼─────────────┼─────────────┤\n",
      "│ 27 │ 7.60 ± 0.88 │ 7.48 ± 0.90 │\n",
      "├────┼─────────────┼─────────────┤\n",
      "│ 28 │ 14.0 ± 1.6  │ 19.4 ± 2.2  │\n",
      "├────┼─────────────┼─────────────┤\n",
      "│ 29 │ 17.8 ± 2.1  │ 21.3 ± 2.4  │\n",
      "└────┴─────────────┴─────────────┘\n",
      "2021-08-11 13:39:31,393 - ompy.error_finder - DEBUG - Processing an ensemble with 7 members\n",
      "2021-08-11 13:39:31,394 - ompy.error_finder - DEBUG - Before removing nan: 45 NLD values and 31 GSF values\n",
      "2021-08-11 13:39:31,395 - ompy.error_finder - WARNING - NLDs and/or γSFs contains nan's. They will be removed\n",
      "2021-08-11 13:39:31,396 - ompy.error_finder - DEBUG - After removing nan: 30 NLD values and 30 GSF values\n",
      "2021-08-11 13:39:31,397 - ompy.error_finder - INFO - Starting pyMC3 - logarithmic model\n"
     ]
    },
    {
     "name": "stderr",
     "output_type": "stream",
     "text": [
      "Auto-assigning NUTS sampler...\n",
      "Initializing NUTS using jitter+adapt_diag...\n",
      "Multiprocess sampling (4 chains in 4 jobs)\n",
      "NUTS: [σ_f, σ_ρ, α, F, D, σ_α, σ_F, σ_D]\n"
     ]
    },
    {
     "data": {
      "text/html": [
       "\n",
       "    <div>\n",
       "        <style>\n",
       "            /* Turns off some styling */\n",
       "            progress {\n",
       "                /* gets rid of default border in Firefox and Opera. */\n",
       "                border: none;\n",
       "                /* Needs to be in here for Safari polyfill so background images work as expected. */\n",
       "                background-size: auto;\n",
       "            }\n",
       "            .progress-bar-interrupted, .progress-bar-interrupted::-webkit-progress-bar {\n",
       "                background: #F44336;\n",
       "            }\n",
       "        </style>\n",
       "      <progress value='8000' class='' max='8000' style='width:300px; height:20px; vertical-align: middle;'></progress>\n",
       "      100.00% [8000/8000 01:02<00:00 Sampling 4 chains, 0 divergences]\n",
       "    </div>\n",
       "    "
      ],
      "text/plain": [
       "<IPython.core.display.HTML object>"
      ]
     },
     "metadata": {},
     "output_type": "display_data"
    },
    {
     "name": "stderr",
     "output_type": "stream",
     "text": [
      "Sampling 4 chains for 1_000 tune and 1_000 draw iterations (4_000 + 4_000 draws total) took 75 seconds.\n",
      "The number of effective samples is smaller than 25% for some parameters.\n"
     ]
    },
    {
     "name": "stdout",
     "output_type": "stream",
     "text": [
      "2021-08-11 13:40:56,979 - ompy.error_finder - INFO - Inference results:\n",
      "┌──────────────┬──────────────┬───────────────┬───────────────┬───────────────┬─────────────────┐\n",
      "│ D            │ F            │ α             │ σ_D           │ σ_F           │ σ_α             │\n",
      "╞══════════════╪══════════════╪═══════════════╪═══════════════╪═══════════════╪═════════════════╡\n",
      "│ -0.00 ± 0.25 │ -0.00 ± 0.29 │ 0.000 ± 0.077 │ 0.260 ± 0.031 │ 0.297 ± 0.033 │ 0.0791 ± 0.0088 │\n",
      "└──────────────┴──────────────┴───────────────┴───────────────┴───────────────┴─────────────────┘\n",
      "┌────┬─────────────┬─────────────┐\n",
      "│    │ σ_ρ [%]     │ σ_f [%]     │\n",
      "╞════╪═════════════╪═════════════╡\n",
      "│ 0  │ 1.31 ± 0.30 │ 3.14 ± 0.39 │\n",
      "├────┼─────────────┼─────────────┤\n",
      "│ 1  │ 2.23 ± 0.32 │ 3.56 ± 0.42 │\n",
      "├────┼─────────────┼─────────────┤\n",
      "│ 2  │ 3.26 ± 0.39 │ 2.96 ± 0.36 │\n",
      "├────┼─────────────┼─────────────┤\n",
      "│ 3  │ 5.00 ± 0.59 │ 5.07 ± 0.58 │\n",
      "├────┼─────────────┼─────────────┤\n",
      "│ 4  │ 2.79 ± 0.34 │ 0.70 ± 0.20 │\n",
      "├────┼─────────────┼─────────────┤\n",
      "│ 5  │ 3.25 ± 0.41 │ 1.99 ± 0.23 │\n",
      "├────┼─────────────┼─────────────┤\n",
      "│ 6  │ 3.31 ± 0.40 │ 1.83 ± 0.22 │\n",
      "├────┼─────────────┼─────────────┤\n",
      "│ 7  │ 6.36 ± 0.75 │ 1.68 ± 0.24 │\n",
      "├────┼─────────────┼─────────────┤\n",
      "│ 8  │ 4.11 ± 0.48 │ 2.46 ± 0.30 │\n",
      "├────┼─────────────┼─────────────┤\n",
      "│ 9  │ 3.18 ± 0.38 │ 1.71 ± 0.23 │\n",
      "├────┼─────────────┼─────────────┤\n",
      "│ 10 │ 2.07 ± 0.27 │ 1.82 ± 0.23 │\n",
      "├────┼─────────────┼─────────────┤\n",
      "│ 11 │ 2.40 ± 0.29 │ 1.53 ± 0.22 │\n",
      "├────┼─────────────┼─────────────┤\n",
      "│ 12 │ 2.60 ± 0.31 │ 3.57 ± 0.42 │\n",
      "├────┼─────────────┼─────────────┤\n",
      "│ 13 │ 3.72 ± 0.43 │ 3.44 ± 0.40 │\n",
      "├────┼─────────────┼─────────────┤\n",
      "│ 14 │ 1.51 ± 0.21 │ 3.60 ± 0.44 │\n",
      "├────┼─────────────┼─────────────┤\n",
      "│ 15 │ 4.27 ± 0.51 │ 3.19 ± 0.40 │\n",
      "├────┼─────────────┼─────────────┤\n",
      "│ 16 │ 2.78 ± 0.33 │ 5.57 ± 0.65 │\n",
      "├────┼─────────────┼─────────────┤\n",
      "│ 17 │ 4.15 ± 0.49 │ 5.26 ± 0.62 │\n",
      "├────┼─────────────┼─────────────┤\n",
      "│ 18 │ 3.74 ± 0.44 │ 5.50 ± 0.62 │\n",
      "├────┼─────────────┼─────────────┤\n",
      "│ 19 │ 4.04 ± 0.49 │ 3.14 ± 0.40 │\n",
      "├────┼─────────────┼─────────────┤\n",
      "│ 20 │ 3.20 ± 0.41 │ 6.71 ± 0.76 │\n",
      "├────┼─────────────┼─────────────┤\n",
      "│ 21 │ 5.92 ± 0.70 │ 6.44 ± 0.75 │\n",
      "├────┼─────────────┼─────────────┤\n",
      "│ 22 │ 6.83 ± 0.80 │ 4.82 ± 0.57 │\n",
      "├────┼─────────────┼─────────────┤\n",
      "│ 23 │ 3.13 ± 0.41 │ 7.13 ± 0.84 │\n",
      "├────┼─────────────┼─────────────┤\n",
      "│ 24 │ 3.49 ± 0.47 │ 6.02 ± 0.71 │\n",
      "├────┼─────────────┼─────────────┤\n",
      "│ 25 │ 6.08 ± 0.72 │ 6.51 ± 0.78 │\n",
      "├────┼─────────────┼─────────────┤\n",
      "│ 26 │ 10.4 ± 1.2  │ 10.6 ± 1.2  │\n",
      "├────┼─────────────┼─────────────┤\n",
      "│ 27 │ 4.78 ± 0.60 │ 7.69 ± 0.92 │\n",
      "├────┼─────────────┼─────────────┤\n",
      "│ 28 │ 8.12 ± 0.98 │ 20.8 ± 2.4  │\n",
      "├────┼─────────────┼─────────────┤\n",
      "│ 29 │ 23.2 ± 2.6  │ 24.1 ± 2.7  │\n",
      "└────┴─────────────┴─────────────┘\n"
     ]
    }
   ],
   "source": [
    "nld_errors = []\n",
    "gsf_errors = []\n",
    "for extractor in extractors:\n",
    "    nld_err, gsf_err = error_estimator.evaluate(extractor.nld, extractor.gsf)\n",
    "    nld_errors.append(nld_err.copy())\n",
    "    gsf_errors.append(gsf_err.copy())"
   ]
  },
  {
   "cell_type": "code",
   "execution_count": 121,
   "id": "490ba702-a5a8-4717-a49b-2b4cf1bff5df",
   "metadata": {},
   "outputs": [
    {
     "data": {
      "application/vnd.jupyter.widget-view+json": {
       "model_id": "084a78612cbf40b88c44a17870bdd307",
       "version_major": 2,
       "version_minor": 0
      },
      "text/plain": [
       "Canvas(toolbar=Toolbar(toolitems=[('Home', 'Reset original view', 'home', 'home'), ('Back', 'Back to previous …"
      ]
     },
     "metadata": {},
     "output_type": "display_data"
    }
   ],
   "source": [
    "def make_vec(nlds, counts, point):\n",
    "    return om.Vector(E=np.array(counts)/1.0e6, values=np.array([nld.values[nld.index(point)] for nld in nlds]),\n",
    "                     std=np.array([nld.std[nld.index(point)] for nld in nlds]))\n",
    "\n",
    "nld_0MeV = make_vec(nld_errors, counts, 0)\n",
    "nld_15MeV = make_vec(nld_errors, counts, 1.5)\n",
    "nld_3MeV = make_vec(nld_errors, counts, 3)\n",
    "nld_5MeV = make_vec(nld_errors, counts, 5)\n",
    "\n",
    "nld_0MeV = make_vec(nld_errors, counts, 0)\n",
    "nld_0MeV.values *= 100.\n",
    "nld_0MeV.std *= 100.\n",
    "# nld_0MeV.save(\"nld_0MeV.csv\", sep=\"\\t\")\n",
    "nld_2MeV = make_vec(nld_errors, counts, 2)\n",
    "nld_2MeV.values *= 100.\n",
    "nld_2MeV.std *= 100.\n",
    "# nld_2MeV.save(\"nld_2MeV.csv\", sep=\"\\t\")\n",
    "nld_4MeV = make_vec(nld_errors, counts, 4)\n",
    "nld_4MeV.values *= 100.\n",
    "nld_4MeV.std *= 100.\n",
    "# nld_4MeV.save(\"nld_4MeV.csv\", sep=\"\\t\")\n",
    "\n",
    "nld_1MeV = make_vec(nld_errors, counts, 0)\n",
    "_, ax = nld_0MeV.plot(label=r\"$E_x = 0$ MeV\")\n",
    "nld_2MeV.plot(ax=ax, label=r\"$E_x = 2$ MeV\")\n",
    "nld_4MeV.plot(ax=ax, label=r\"$E_x = 4$ MeV\")\n",
    "ax.set_xlabel(\"Counts [$10^6$]\")\n",
    "c = np.linspace(min(counts), max(counts), 1001)\n",
    "ax.plot(c/1e6, (np.sqrt(counts[0])*20.)*1./np.sqrt(c))\n",
    "ax.legend(loc='best')\n",
    "ax.set_ylabel(\"Relative uncertanty [%]\");"
   ]
  },
  {
   "cell_type": "markdown",
   "id": "71efe2f7-63a5-4c3e-a0c5-723e9b0859c2",
   "metadata": {},
   "source": [
    "### Investigate dependence on ensemble members"
   ]
  },
  {
   "cell_type": "code",
   "execution_count": 90,
   "id": "a48c4fb1-2d00-4073-badf-eb0dc295dae8",
   "metadata": {
    "collapsed": true,
    "jupyter": {
     "outputs_hidden": true
    },
    "tags": []
   },
   "outputs": [
    {
     "data": {
      "application/vnd.jupyter.widget-view+json": {
       "model_id": "f522e51acb064f8d915a43bd5a78de51",
       "version_major": 2,
       "version_minor": 0
      },
      "text/plain": [
       "  0%|          | 0/3 [00:00<?, ?it/s]"
      ]
     },
     "metadata": {},
     "output_type": "display_data"
    },
    {
     "data": {
      "application/vnd.jupyter.widget-view+json": {
       "model_id": "f6b2d1ecce38490caec92c9be70c7df7",
       "version_major": 2,
       "version_minor": 0
      },
      "text/plain": [
       "  0%|          | 0/3 [00:00<?, ?it/s]"
      ]
     },
     "metadata": {},
     "output_type": "display_data"
    },
    {
     "data": {
      "application/vnd.jupyter.widget-view+json": {
       "model_id": "d744537a20a74713acda5b85707a56e1",
       "version_major": 2,
       "version_minor": 0
      },
      "text/plain": [
       "  0%|          | 0/3 [00:00<?, ?it/s]"
      ]
     },
     "metadata": {},
     "output_type": "display_data"
    },
    {
     "name": "stderr",
     "output_type": "stream",
     "text": [
      "nld #0 contains nan's.\n",
      "Consider removing them e.g. with:\n",
      "# for nld in extractor.nld:\n",
      "#     nld.cut_nan()\n",
      "\n",
      "nld #1 contains nan's.\n",
      "Consider removing them e.g. with:\n",
      "# for nld in extractor.nld:\n",
      "#     nld.cut_nan()\n",
      "\n",
      "nld #2 contains nan's.\n",
      "Consider removing them e.g. with:\n",
      "# for nld in extractor.nld:\n",
      "#     nld.cut_nan()\n",
      "\n",
      "gsf #0 contains nan's.\n",
      "Consider removing them e.g. with:\n",
      "# for gsf in extractor.gsf:\n",
      "#     gsf.cut_nan()\n",
      "\n",
      "gsf #1 contains nan's.\n",
      "Consider removing them e.g. with:\n",
      "# for gsf in extractor.gsf:\n",
      "#     gsf.cut_nan()\n",
      "\n",
      "gsf #2 contains nan's.\n",
      "Consider removing them e.g. with:\n",
      "# for gsf in extractor.gsf:\n",
      "#     gsf.cut_nan()\n",
      "\n"
     ]
    },
    {
     "data": {
      "application/vnd.jupyter.widget-view+json": {
       "model_id": "370182533af84c3082f1811c72586f8d",
       "version_major": 2,
       "version_minor": 0
      },
      "text/plain": [
       "  0%|          | 0/4 [00:00<?, ?it/s]"
      ]
     },
     "metadata": {},
     "output_type": "display_data"
    },
    {
     "data": {
      "application/vnd.jupyter.widget-view+json": {
       "model_id": "3edc73c4dba24fc6b51c8280c500070a",
       "version_major": 2,
       "version_minor": 0
      },
      "text/plain": [
       "  0%|          | 0/4 [00:00<?, ?it/s]"
      ]
     },
     "metadata": {},
     "output_type": "display_data"
    },
    {
     "data": {
      "application/vnd.jupyter.widget-view+json": {
       "model_id": "9249ee52b9504ef692d653e0a5a16a64",
       "version_major": 2,
       "version_minor": 0
      },
      "text/plain": [
       "  0%|          | 0/4 [00:00<?, ?it/s]"
      ]
     },
     "metadata": {},
     "output_type": "display_data"
    },
    {
     "name": "stderr",
     "output_type": "stream",
     "text": [
      "nld #0 contains nan's.\n",
      "Consider removing them e.g. with:\n",
      "# for nld in extractor.nld:\n",
      "#     nld.cut_nan()\n",
      "\n",
      "nld #1 contains nan's.\n",
      "Consider removing them e.g. with:\n",
      "# for nld in extractor.nld:\n",
      "#     nld.cut_nan()\n",
      "\n",
      "nld #2 contains nan's.\n",
      "Consider removing them e.g. with:\n",
      "# for nld in extractor.nld:\n",
      "#     nld.cut_nan()\n",
      "\n",
      "nld #3 contains nan's.\n",
      "Consider removing them e.g. with:\n",
      "# for nld in extractor.nld:\n",
      "#     nld.cut_nan()\n",
      "\n",
      "gsf #0 contains nan's.\n",
      "Consider removing them e.g. with:\n",
      "# for gsf in extractor.gsf:\n",
      "#     gsf.cut_nan()\n",
      "\n",
      "gsf #1 contains nan's.\n",
      "Consider removing them e.g. with:\n",
      "# for gsf in extractor.gsf:\n",
      "#     gsf.cut_nan()\n",
      "\n",
      "gsf #2 contains nan's.\n",
      "Consider removing them e.g. with:\n",
      "# for gsf in extractor.gsf:\n",
      "#     gsf.cut_nan()\n",
      "\n",
      "gsf #3 contains nan's.\n",
      "Consider removing them e.g. with:\n",
      "# for gsf in extractor.gsf:\n",
      "#     gsf.cut_nan()\n",
      "\n"
     ]
    },
    {
     "data": {
      "application/vnd.jupyter.widget-view+json": {
       "model_id": "9fa807837f304060ac951c3e18333841",
       "version_major": 2,
       "version_minor": 0
      },
      "text/plain": [
       "  0%|          | 0/5 [00:00<?, ?it/s]"
      ]
     },
     "metadata": {},
     "output_type": "display_data"
    },
    {
     "data": {
      "application/vnd.jupyter.widget-view+json": {
       "model_id": "ca7faddecdaf4ef4ad5c7586539a8c8e",
       "version_major": 2,
       "version_minor": 0
      },
      "text/plain": [
       "  0%|          | 0/5 [00:00<?, ?it/s]"
      ]
     },
     "metadata": {},
     "output_type": "display_data"
    },
    {
     "data": {
      "application/vnd.jupyter.widget-view+json": {
       "model_id": "79a6b1c169fa48ac9b86fc4858c92e54",
       "version_major": 2,
       "version_minor": 0
      },
      "text/plain": [
       "  0%|          | 0/5 [00:00<?, ?it/s]"
      ]
     },
     "metadata": {},
     "output_type": "display_data"
    },
    {
     "name": "stderr",
     "output_type": "stream",
     "text": [
      "nld #0 contains nan's.\n",
      "Consider removing them e.g. with:\n",
      "# for nld in extractor.nld:\n",
      "#     nld.cut_nan()\n",
      "\n",
      "nld #1 contains nan's.\n",
      "Consider removing them e.g. with:\n",
      "# for nld in extractor.nld:\n",
      "#     nld.cut_nan()\n",
      "\n",
      "nld #2 contains nan's.\n",
      "Consider removing them e.g. with:\n",
      "# for nld in extractor.nld:\n",
      "#     nld.cut_nan()\n",
      "\n",
      "nld #3 contains nan's.\n",
      "Consider removing them e.g. with:\n",
      "# for nld in extractor.nld:\n",
      "#     nld.cut_nan()\n",
      "\n",
      "nld #4 contains nan's.\n",
      "Consider removing them e.g. with:\n",
      "# for nld in extractor.nld:\n",
      "#     nld.cut_nan()\n",
      "\n",
      "gsf #0 contains nan's.\n",
      "Consider removing them e.g. with:\n",
      "# for gsf in extractor.gsf:\n",
      "#     gsf.cut_nan()\n",
      "\n",
      "gsf #1 contains nan's.\n",
      "Consider removing them e.g. with:\n",
      "# for gsf in extractor.gsf:\n",
      "#     gsf.cut_nan()\n",
      "\n",
      "gsf #2 contains nan's.\n",
      "Consider removing them e.g. with:\n",
      "# for gsf in extractor.gsf:\n",
      "#     gsf.cut_nan()\n",
      "\n",
      "gsf #3 contains nan's.\n",
      "Consider removing them e.g. with:\n",
      "# for gsf in extractor.gsf:\n",
      "#     gsf.cut_nan()\n",
      "\n",
      "gsf #4 contains nan's.\n",
      "Consider removing them e.g. with:\n",
      "# for gsf in extractor.gsf:\n",
      "#     gsf.cut_nan()\n",
      "\n"
     ]
    },
    {
     "data": {
      "application/vnd.jupyter.widget-view+json": {
       "model_id": "5e2f5ac451a14caf9c3d7871fb689f1d",
       "version_major": 2,
       "version_minor": 0
      },
      "text/plain": [
       "  0%|          | 0/6 [00:00<?, ?it/s]"
      ]
     },
     "metadata": {},
     "output_type": "display_data"
    },
    {
     "data": {
      "application/vnd.jupyter.widget-view+json": {
       "model_id": "894c0dd37d4c4f2c89bb5679eccccd99",
       "version_major": 2,
       "version_minor": 0
      },
      "text/plain": [
       "  0%|          | 0/6 [00:00<?, ?it/s]"
      ]
     },
     "metadata": {},
     "output_type": "display_data"
    },
    {
     "data": {
      "application/vnd.jupyter.widget-view+json": {
       "model_id": "a22342dc1a7b4674b3f07c14a41302f8",
       "version_major": 2,
       "version_minor": 0
      },
      "text/plain": [
       "  0%|          | 0/6 [00:00<?, ?it/s]"
      ]
     },
     "metadata": {},
     "output_type": "display_data"
    },
    {
     "name": "stderr",
     "output_type": "stream",
     "text": [
      "nld #0 contains nan's.\n",
      "Consider removing them e.g. with:\n",
      "# for nld in extractor.nld:\n",
      "#     nld.cut_nan()\n",
      "\n",
      "nld #1 contains nan's.\n",
      "Consider removing them e.g. with:\n",
      "# for nld in extractor.nld:\n",
      "#     nld.cut_nan()\n",
      "\n",
      "nld #2 contains nan's.\n",
      "Consider removing them e.g. with:\n",
      "# for nld in extractor.nld:\n",
      "#     nld.cut_nan()\n",
      "\n",
      "nld #3 contains nan's.\n",
      "Consider removing them e.g. with:\n",
      "# for nld in extractor.nld:\n",
      "#     nld.cut_nan()\n",
      "\n",
      "nld #4 contains nan's.\n",
      "Consider removing them e.g. with:\n",
      "# for nld in extractor.nld:\n",
      "#     nld.cut_nan()\n",
      "\n",
      "nld #5 contains nan's.\n",
      "Consider removing them e.g. with:\n",
      "# for nld in extractor.nld:\n",
      "#     nld.cut_nan()\n",
      "\n",
      "gsf #0 contains nan's.\n",
      "Consider removing them e.g. with:\n",
      "# for gsf in extractor.gsf:\n",
      "#     gsf.cut_nan()\n",
      "\n",
      "gsf #1 contains nan's.\n",
      "Consider removing them e.g. with:\n",
      "# for gsf in extractor.gsf:\n",
      "#     gsf.cut_nan()\n",
      "\n",
      "gsf #2 contains nan's.\n",
      "Consider removing them e.g. with:\n",
      "# for gsf in extractor.gsf:\n",
      "#     gsf.cut_nan()\n",
      "\n",
      "gsf #3 contains nan's.\n",
      "Consider removing them e.g. with:\n",
      "# for gsf in extractor.gsf:\n",
      "#     gsf.cut_nan()\n",
      "\n",
      "gsf #4 contains nan's.\n",
      "Consider removing them e.g. with:\n",
      "# for gsf in extractor.gsf:\n",
      "#     gsf.cut_nan()\n",
      "\n",
      "gsf #5 contains nan's.\n",
      "Consider removing them e.g. with:\n",
      "# for gsf in extractor.gsf:\n",
      "#     gsf.cut_nan()\n",
      "\n"
     ]
    },
    {
     "data": {
      "application/vnd.jupyter.widget-view+json": {
       "model_id": "dbec1160a08449f787bfc847a5703240",
       "version_major": 2,
       "version_minor": 0
      },
      "text/plain": [
       "  0%|          | 0/7 [00:00<?, ?it/s]"
      ]
     },
     "metadata": {},
     "output_type": "display_data"
    },
    {
     "data": {
      "application/vnd.jupyter.widget-view+json": {
       "model_id": "ebe4a0c8d0794f7f87f61736b22b7602",
       "version_major": 2,
       "version_minor": 0
      },
      "text/plain": [
       "  0%|          | 0/7 [00:00<?, ?it/s]"
      ]
     },
     "metadata": {},
     "output_type": "display_data"
    },
    {
     "data": {
      "application/vnd.jupyter.widget-view+json": {
       "model_id": "5a1e02f84d7a446f88fc9bf8b194e280",
       "version_major": 2,
       "version_minor": 0
      },
      "text/plain": [
       "  0%|          | 0/7 [00:00<?, ?it/s]"
      ]
     },
     "metadata": {},
     "output_type": "display_data"
    },
    {
     "name": "stderr",
     "output_type": "stream",
     "text": [
      "nld #0 contains nan's.\n",
      "Consider removing them e.g. with:\n",
      "# for nld in extractor.nld:\n",
      "#     nld.cut_nan()\n",
      "\n",
      "nld #1 contains nan's.\n",
      "Consider removing them e.g. with:\n",
      "# for nld in extractor.nld:\n",
      "#     nld.cut_nan()\n",
      "\n",
      "nld #2 contains nan's.\n",
      "Consider removing them e.g. with:\n",
      "# for nld in extractor.nld:\n",
      "#     nld.cut_nan()\n",
      "\n",
      "nld #3 contains nan's.\n",
      "Consider removing them e.g. with:\n",
      "# for nld in extractor.nld:\n",
      "#     nld.cut_nan()\n",
      "\n",
      "nld #4 contains nan's.\n",
      "Consider removing them e.g. with:\n",
      "# for nld in extractor.nld:\n",
      "#     nld.cut_nan()\n",
      "\n",
      "nld #5 contains nan's.\n",
      "Consider removing them e.g. with:\n",
      "# for nld in extractor.nld:\n",
      "#     nld.cut_nan()\n",
      "\n",
      "nld #6 contains nan's.\n",
      "Consider removing them e.g. with:\n",
      "# for nld in extractor.nld:\n",
      "#     nld.cut_nan()\n",
      "\n",
      "gsf #0 contains nan's.\n",
      "Consider removing them e.g. with:\n",
      "# for gsf in extractor.gsf:\n",
      "#     gsf.cut_nan()\n",
      "\n",
      "gsf #1 contains nan's.\n",
      "Consider removing them e.g. with:\n",
      "# for gsf in extractor.gsf:\n",
      "#     gsf.cut_nan()\n",
      "\n",
      "gsf #2 contains nan's.\n",
      "Consider removing them e.g. with:\n",
      "# for gsf in extractor.gsf:\n",
      "#     gsf.cut_nan()\n",
      "\n",
      "gsf #3 contains nan's.\n",
      "Consider removing them e.g. with:\n",
      "# for gsf in extractor.gsf:\n",
      "#     gsf.cut_nan()\n",
      "\n",
      "gsf #4 contains nan's.\n",
      "Consider removing them e.g. with:\n",
      "# for gsf in extractor.gsf:\n",
      "#     gsf.cut_nan()\n",
      "\n",
      "gsf #5 contains nan's.\n",
      "Consider removing them e.g. with:\n",
      "# for gsf in extractor.gsf:\n",
      "#     gsf.cut_nan()\n",
      "\n",
      "gsf #6 contains nan's.\n",
      "Consider removing them e.g. with:\n",
      "# for gsf in extractor.gsf:\n",
      "#     gsf.cut_nan()\n",
      "\n"
     ]
    },
    {
     "data": {
      "application/vnd.jupyter.widget-view+json": {
       "model_id": "07bae6db1d314046b746c1c4c5f51ea1",
       "version_major": 2,
       "version_minor": 0
      },
      "text/plain": [
       "  0%|          | 0/8 [00:00<?, ?it/s]"
      ]
     },
     "metadata": {},
     "output_type": "display_data"
    },
    {
     "data": {
      "application/vnd.jupyter.widget-view+json": {
       "model_id": "d9df89d6d9ff494587babae9306641f7",
       "version_major": 2,
       "version_minor": 0
      },
      "text/plain": [
       "  0%|          | 0/8 [00:00<?, ?it/s]"
      ]
     },
     "metadata": {},
     "output_type": "display_data"
    },
    {
     "data": {
      "application/vnd.jupyter.widget-view+json": {
       "model_id": "38a7154bbd29484785f9d68fe8b8e30f",
       "version_major": 2,
       "version_minor": 0
      },
      "text/plain": [
       "  0%|          | 0/8 [00:00<?, ?it/s]"
      ]
     },
     "metadata": {},
     "output_type": "display_data"
    },
    {
     "name": "stderr",
     "output_type": "stream",
     "text": [
      "nld #0 contains nan's.\n",
      "Consider removing them e.g. with:\n",
      "# for nld in extractor.nld:\n",
      "#     nld.cut_nan()\n",
      "\n",
      "nld #1 contains nan's.\n",
      "Consider removing them e.g. with:\n",
      "# for nld in extractor.nld:\n",
      "#     nld.cut_nan()\n",
      "\n",
      "nld #2 contains nan's.\n",
      "Consider removing them e.g. with:\n",
      "# for nld in extractor.nld:\n",
      "#     nld.cut_nan()\n",
      "\n",
      "nld #3 contains nan's.\n",
      "Consider removing them e.g. with:\n",
      "# for nld in extractor.nld:\n",
      "#     nld.cut_nan()\n",
      "\n",
      "nld #4 contains nan's.\n",
      "Consider removing them e.g. with:\n",
      "# for nld in extractor.nld:\n",
      "#     nld.cut_nan()\n",
      "\n",
      "nld #5 contains nan's.\n",
      "Consider removing them e.g. with:\n",
      "# for nld in extractor.nld:\n",
      "#     nld.cut_nan()\n",
      "\n",
      "nld #6 contains nan's.\n",
      "Consider removing them e.g. with:\n",
      "# for nld in extractor.nld:\n",
      "#     nld.cut_nan()\n",
      "\n",
      "nld #7 contains nan's.\n",
      "Consider removing them e.g. with:\n",
      "# for nld in extractor.nld:\n",
      "#     nld.cut_nan()\n",
      "\n",
      "gsf #0 contains nan's.\n",
      "Consider removing them e.g. with:\n",
      "# for gsf in extractor.gsf:\n",
      "#     gsf.cut_nan()\n",
      "\n",
      "gsf #1 contains nan's.\n",
      "Consider removing them e.g. with:\n",
      "# for gsf in extractor.gsf:\n",
      "#     gsf.cut_nan()\n",
      "\n",
      "gsf #2 contains nan's.\n",
      "Consider removing them e.g. with:\n",
      "# for gsf in extractor.gsf:\n",
      "#     gsf.cut_nan()\n",
      "\n",
      "gsf #3 contains nan's.\n",
      "Consider removing them e.g. with:\n",
      "# for gsf in extractor.gsf:\n",
      "#     gsf.cut_nan()\n",
      "\n",
      "gsf #4 contains nan's.\n",
      "Consider removing them e.g. with:\n",
      "# for gsf in extractor.gsf:\n",
      "#     gsf.cut_nan()\n",
      "\n",
      "gsf #5 contains nan's.\n",
      "Consider removing them e.g. with:\n",
      "# for gsf in extractor.gsf:\n",
      "#     gsf.cut_nan()\n",
      "\n",
      "gsf #6 contains nan's.\n",
      "Consider removing them e.g. with:\n",
      "# for gsf in extractor.gsf:\n",
      "#     gsf.cut_nan()\n",
      "\n",
      "gsf #7 contains nan's.\n",
      "Consider removing them e.g. with:\n",
      "# for gsf in extractor.gsf:\n",
      "#     gsf.cut_nan()\n",
      "\n"
     ]
    },
    {
     "data": {
      "application/vnd.jupyter.widget-view+json": {
       "model_id": "6e6b5b1d160f4381a1c18d1ccb76de18",
       "version_major": 2,
       "version_minor": 0
      },
      "text/plain": [
       "  0%|          | 0/9 [00:00<?, ?it/s]"
      ]
     },
     "metadata": {},
     "output_type": "display_data"
    },
    {
     "data": {
      "application/vnd.jupyter.widget-view+json": {
       "model_id": "119ec4910d1f4afaa202757e1de05328",
       "version_major": 2,
       "version_minor": 0
      },
      "text/plain": [
       "  0%|          | 0/9 [00:00<?, ?it/s]"
      ]
     },
     "metadata": {},
     "output_type": "display_data"
    },
    {
     "data": {
      "application/vnd.jupyter.widget-view+json": {
       "model_id": "2ae3937644a24fdd89d24a8ffaf0c83f",
       "version_major": 2,
       "version_minor": 0
      },
      "text/plain": [
       "  0%|          | 0/9 [00:00<?, ?it/s]"
      ]
     },
     "metadata": {},
     "output_type": "display_data"
    },
    {
     "name": "stderr",
     "output_type": "stream",
     "text": [
      "nld #0 contains nan's.\n",
      "Consider removing them e.g. with:\n",
      "# for nld in extractor.nld:\n",
      "#     nld.cut_nan()\n",
      "\n",
      "nld #1 contains nan's.\n",
      "Consider removing them e.g. with:\n",
      "# for nld in extractor.nld:\n",
      "#     nld.cut_nan()\n",
      "\n",
      "nld #2 contains nan's.\n",
      "Consider removing them e.g. with:\n",
      "# for nld in extractor.nld:\n",
      "#     nld.cut_nan()\n",
      "\n",
      "nld #3 contains nan's.\n",
      "Consider removing them e.g. with:\n",
      "# for nld in extractor.nld:\n",
      "#     nld.cut_nan()\n",
      "\n",
      "nld #4 contains nan's.\n",
      "Consider removing them e.g. with:\n",
      "# for nld in extractor.nld:\n",
      "#     nld.cut_nan()\n",
      "\n",
      "nld #5 contains nan's.\n",
      "Consider removing them e.g. with:\n",
      "# for nld in extractor.nld:\n",
      "#     nld.cut_nan()\n",
      "\n",
      "nld #6 contains nan's.\n",
      "Consider removing them e.g. with:\n",
      "# for nld in extractor.nld:\n",
      "#     nld.cut_nan()\n",
      "\n",
      "nld #7 contains nan's.\n",
      "Consider removing them e.g. with:\n",
      "# for nld in extractor.nld:\n",
      "#     nld.cut_nan()\n",
      "\n",
      "nld #8 contains nan's.\n",
      "Consider removing them e.g. with:\n",
      "# for nld in extractor.nld:\n",
      "#     nld.cut_nan()\n",
      "\n",
      "gsf #0 contains nan's.\n",
      "Consider removing them e.g. with:\n",
      "# for gsf in extractor.gsf:\n",
      "#     gsf.cut_nan()\n",
      "\n",
      "gsf #1 contains nan's.\n",
      "Consider removing them e.g. with:\n",
      "# for gsf in extractor.gsf:\n",
      "#     gsf.cut_nan()\n",
      "\n",
      "gsf #2 contains nan's.\n",
      "Consider removing them e.g. with:\n",
      "# for gsf in extractor.gsf:\n",
      "#     gsf.cut_nan()\n",
      "\n",
      "gsf #3 contains nan's.\n",
      "Consider removing them e.g. with:\n",
      "# for gsf in extractor.gsf:\n",
      "#     gsf.cut_nan()\n",
      "\n",
      "gsf #4 contains nan's.\n",
      "Consider removing them e.g. with:\n",
      "# for gsf in extractor.gsf:\n",
      "#     gsf.cut_nan()\n",
      "\n",
      "gsf #5 contains nan's.\n",
      "Consider removing them e.g. with:\n",
      "# for gsf in extractor.gsf:\n",
      "#     gsf.cut_nan()\n",
      "\n",
      "gsf #6 contains nan's.\n",
      "Consider removing them e.g. with:\n",
      "# for gsf in extractor.gsf:\n",
      "#     gsf.cut_nan()\n",
      "\n",
      "gsf #7 contains nan's.\n",
      "Consider removing them e.g. with:\n",
      "# for gsf in extractor.gsf:\n",
      "#     gsf.cut_nan()\n",
      "\n",
      "gsf #8 contains nan's.\n",
      "Consider removing them e.g. with:\n",
      "# for gsf in extractor.gsf:\n",
      "#     gsf.cut_nan()\n",
      "\n"
     ]
    },
    {
     "data": {
      "application/vnd.jupyter.widget-view+json": {
       "model_id": "8c650325ba194bb08b5e077a949ff802",
       "version_major": 2,
       "version_minor": 0
      },
      "text/plain": [
       "  0%|          | 0/10 [00:00<?, ?it/s]"
      ]
     },
     "metadata": {},
     "output_type": "display_data"
    },
    {
     "data": {
      "application/vnd.jupyter.widget-view+json": {
       "model_id": "4d004b6dea1b406ba81499e521db6f0d",
       "version_major": 2,
       "version_minor": 0
      },
      "text/plain": [
       "  0%|          | 0/10 [00:00<?, ?it/s]"
      ]
     },
     "metadata": {},
     "output_type": "display_data"
    },
    {
     "data": {
      "application/vnd.jupyter.widget-view+json": {
       "model_id": "30f4ba4821424736a3572007631fccc4",
       "version_major": 2,
       "version_minor": 0
      },
      "text/plain": [
       "  0%|          | 0/10 [00:00<?, ?it/s]"
      ]
     },
     "metadata": {},
     "output_type": "display_data"
    },
    {
     "name": "stderr",
     "output_type": "stream",
     "text": [
      "nld #0 contains nan's.\n",
      "Consider removing them e.g. with:\n",
      "# for nld in extractor.nld:\n",
      "#     nld.cut_nan()\n",
      "\n",
      "nld #1 contains nan's.\n",
      "Consider removing them e.g. with:\n",
      "# for nld in extractor.nld:\n",
      "#     nld.cut_nan()\n",
      "\n",
      "nld #2 contains nan's.\n",
      "Consider removing them e.g. with:\n",
      "# for nld in extractor.nld:\n",
      "#     nld.cut_nan()\n",
      "\n",
      "nld #3 contains nan's.\n",
      "Consider removing them e.g. with:\n",
      "# for nld in extractor.nld:\n",
      "#     nld.cut_nan()\n",
      "\n",
      "nld #4 contains nan's.\n",
      "Consider removing them e.g. with:\n",
      "# for nld in extractor.nld:\n",
      "#     nld.cut_nan()\n",
      "\n",
      "nld #5 contains nan's.\n",
      "Consider removing them e.g. with:\n",
      "# for nld in extractor.nld:\n",
      "#     nld.cut_nan()\n",
      "\n",
      "nld #6 contains nan's.\n",
      "Consider removing them e.g. with:\n",
      "# for nld in extractor.nld:\n",
      "#     nld.cut_nan()\n",
      "\n",
      "nld #7 contains nan's.\n",
      "Consider removing them e.g. with:\n",
      "# for nld in extractor.nld:\n",
      "#     nld.cut_nan()\n",
      "\n",
      "nld #8 contains nan's.\n",
      "Consider removing them e.g. with:\n",
      "# for nld in extractor.nld:\n",
      "#     nld.cut_nan()\n",
      "\n",
      "nld #9 contains nan's.\n",
      "Consider removing them e.g. with:\n",
      "# for nld in extractor.nld:\n",
      "#     nld.cut_nan()\n",
      "\n",
      "gsf #0 contains nan's.\n",
      "Consider removing them e.g. with:\n",
      "# for gsf in extractor.gsf:\n",
      "#     gsf.cut_nan()\n",
      "\n",
      "gsf #1 contains nan's.\n",
      "Consider removing them e.g. with:\n",
      "# for gsf in extractor.gsf:\n",
      "#     gsf.cut_nan()\n",
      "\n",
      "gsf #2 contains nan's.\n",
      "Consider removing them e.g. with:\n",
      "# for gsf in extractor.gsf:\n",
      "#     gsf.cut_nan()\n",
      "\n",
      "gsf #3 contains nan's.\n",
      "Consider removing them e.g. with:\n",
      "# for gsf in extractor.gsf:\n",
      "#     gsf.cut_nan()\n",
      "\n",
      "gsf #4 contains nan's.\n",
      "Consider removing them e.g. with:\n",
      "# for gsf in extractor.gsf:\n",
      "#     gsf.cut_nan()\n",
      "\n",
      "gsf #5 contains nan's.\n",
      "Consider removing them e.g. with:\n",
      "# for gsf in extractor.gsf:\n",
      "#     gsf.cut_nan()\n",
      "\n",
      "gsf #6 contains nan's.\n",
      "Consider removing them e.g. with:\n",
      "# for gsf in extractor.gsf:\n",
      "#     gsf.cut_nan()\n",
      "\n",
      "gsf #7 contains nan's.\n",
      "Consider removing them e.g. with:\n",
      "# for gsf in extractor.gsf:\n",
      "#     gsf.cut_nan()\n",
      "\n",
      "gsf #8 contains nan's.\n",
      "Consider removing them e.g. with:\n",
      "# for gsf in extractor.gsf:\n",
      "#     gsf.cut_nan()\n",
      "\n",
      "gsf #9 contains nan's.\n",
      "Consider removing them e.g. with:\n",
      "# for gsf in extractor.gsf:\n",
      "#     gsf.cut_nan()\n",
      "\n"
     ]
    },
    {
     "data": {
      "application/vnd.jupyter.widget-view+json": {
       "model_id": "9f707d0eca14439382c059bbd753fa3b",
       "version_major": 2,
       "version_minor": 0
      },
      "text/plain": [
       "  0%|          | 0/11 [00:00<?, ?it/s]"
      ]
     },
     "metadata": {},
     "output_type": "display_data"
    },
    {
     "data": {
      "application/vnd.jupyter.widget-view+json": {
       "model_id": "02a85cffac4341cba12db67bfcfa3b82",
       "version_major": 2,
       "version_minor": 0
      },
      "text/plain": [
       "  0%|          | 0/11 [00:00<?, ?it/s]"
      ]
     },
     "metadata": {},
     "output_type": "display_data"
    },
    {
     "data": {
      "application/vnd.jupyter.widget-view+json": {
       "model_id": "023709b6592e49f7ba36dab5f5a3f74d",
       "version_major": 2,
       "version_minor": 0
      },
      "text/plain": [
       "  0%|          | 0/11 [00:00<?, ?it/s]"
      ]
     },
     "metadata": {},
     "output_type": "display_data"
    },
    {
     "name": "stderr",
     "output_type": "stream",
     "text": [
      "nld #0 contains nan's.\n",
      "Consider removing them e.g. with:\n",
      "# for nld in extractor.nld:\n",
      "#     nld.cut_nan()\n",
      "\n",
      "nld #1 contains nan's.\n",
      "Consider removing them e.g. with:\n",
      "# for nld in extractor.nld:\n",
      "#     nld.cut_nan()\n",
      "\n",
      "nld #2 contains nan's.\n",
      "Consider removing them e.g. with:\n",
      "# for nld in extractor.nld:\n",
      "#     nld.cut_nan()\n",
      "\n",
      "nld #3 contains nan's.\n",
      "Consider removing them e.g. with:\n",
      "# for nld in extractor.nld:\n",
      "#     nld.cut_nan()\n",
      "\n",
      "nld #4 contains nan's.\n",
      "Consider removing them e.g. with:\n",
      "# for nld in extractor.nld:\n",
      "#     nld.cut_nan()\n",
      "\n",
      "nld #5 contains nan's.\n",
      "Consider removing them e.g. with:\n",
      "# for nld in extractor.nld:\n",
      "#     nld.cut_nan()\n",
      "\n",
      "nld #6 contains nan's.\n",
      "Consider removing them e.g. with:\n",
      "# for nld in extractor.nld:\n",
      "#     nld.cut_nan()\n",
      "\n",
      "nld #7 contains nan's.\n",
      "Consider removing them e.g. with:\n",
      "# for nld in extractor.nld:\n",
      "#     nld.cut_nan()\n",
      "\n",
      "nld #8 contains nan's.\n",
      "Consider removing them e.g. with:\n",
      "# for nld in extractor.nld:\n",
      "#     nld.cut_nan()\n",
      "\n",
      "nld #9 contains nan's.\n",
      "Consider removing them e.g. with:\n",
      "# for nld in extractor.nld:\n",
      "#     nld.cut_nan()\n",
      "\n",
      "nld #10 contains nan's.\n",
      "Consider removing them e.g. with:\n",
      "# for nld in extractor.nld:\n",
      "#     nld.cut_nan()\n",
      "\n",
      "gsf #0 contains nan's.\n",
      "Consider removing them e.g. with:\n",
      "# for gsf in extractor.gsf:\n",
      "#     gsf.cut_nan()\n",
      "\n",
      "gsf #1 contains nan's.\n",
      "Consider removing them e.g. with:\n",
      "# for gsf in extractor.gsf:\n",
      "#     gsf.cut_nan()\n",
      "\n",
      "gsf #2 contains nan's.\n",
      "Consider removing them e.g. with:\n",
      "# for gsf in extractor.gsf:\n",
      "#     gsf.cut_nan()\n",
      "\n",
      "gsf #3 contains nan's.\n",
      "Consider removing them e.g. with:\n",
      "# for gsf in extractor.gsf:\n",
      "#     gsf.cut_nan()\n",
      "\n",
      "gsf #4 contains nan's.\n",
      "Consider removing them e.g. with:\n",
      "# for gsf in extractor.gsf:\n",
      "#     gsf.cut_nan()\n",
      "\n",
      "gsf #5 contains nan's.\n",
      "Consider removing them e.g. with:\n",
      "# for gsf in extractor.gsf:\n",
      "#     gsf.cut_nan()\n",
      "\n",
      "gsf #6 contains nan's.\n",
      "Consider removing them e.g. with:\n",
      "# for gsf in extractor.gsf:\n",
      "#     gsf.cut_nan()\n",
      "\n",
      "gsf #7 contains nan's.\n",
      "Consider removing them e.g. with:\n",
      "# for gsf in extractor.gsf:\n",
      "#     gsf.cut_nan()\n",
      "\n",
      "gsf #8 contains nan's.\n",
      "Consider removing them e.g. with:\n",
      "# for gsf in extractor.gsf:\n",
      "#     gsf.cut_nan()\n",
      "\n",
      "gsf #9 contains nan's.\n",
      "Consider removing them e.g. with:\n",
      "# for gsf in extractor.gsf:\n",
      "#     gsf.cut_nan()\n",
      "\n",
      "gsf #10 contains nan's.\n",
      "Consider removing them e.g. with:\n",
      "# for gsf in extractor.gsf:\n",
      "#     gsf.cut_nan()\n",
      "\n"
     ]
    },
    {
     "data": {
      "application/vnd.jupyter.widget-view+json": {
       "model_id": "8c9a0e71694c4750b054a55ed1ba58fc",
       "version_major": 2,
       "version_minor": 0
      },
      "text/plain": [
       "  0%|          | 0/12 [00:00<?, ?it/s]"
      ]
     },
     "metadata": {},
     "output_type": "display_data"
    },
    {
     "data": {
      "application/vnd.jupyter.widget-view+json": {
       "model_id": "a8ce79e86e184168922f4f9c1de7eb13",
       "version_major": 2,
       "version_minor": 0
      },
      "text/plain": [
       "  0%|          | 0/12 [00:00<?, ?it/s]"
      ]
     },
     "metadata": {},
     "output_type": "display_data"
    },
    {
     "data": {
      "application/vnd.jupyter.widget-view+json": {
       "model_id": "08b57dd9cb1c4e9193213a80dea2182d",
       "version_major": 2,
       "version_minor": 0
      },
      "text/plain": [
       "  0%|          | 0/12 [00:00<?, ?it/s]"
      ]
     },
     "metadata": {},
     "output_type": "display_data"
    },
    {
     "name": "stderr",
     "output_type": "stream",
     "text": [
      "nld #0 contains nan's.\n",
      "Consider removing them e.g. with:\n",
      "# for nld in extractor.nld:\n",
      "#     nld.cut_nan()\n",
      "\n",
      "nld #1 contains nan's.\n",
      "Consider removing them e.g. with:\n",
      "# for nld in extractor.nld:\n",
      "#     nld.cut_nan()\n",
      "\n",
      "nld #2 contains nan's.\n",
      "Consider removing them e.g. with:\n",
      "# for nld in extractor.nld:\n",
      "#     nld.cut_nan()\n",
      "\n",
      "nld #3 contains nan's.\n",
      "Consider removing them e.g. with:\n",
      "# for nld in extractor.nld:\n",
      "#     nld.cut_nan()\n",
      "\n",
      "nld #4 contains nan's.\n",
      "Consider removing them e.g. with:\n",
      "# for nld in extractor.nld:\n",
      "#     nld.cut_nan()\n",
      "\n",
      "nld #5 contains nan's.\n",
      "Consider removing them e.g. with:\n",
      "# for nld in extractor.nld:\n",
      "#     nld.cut_nan()\n",
      "\n",
      "nld #6 contains nan's.\n",
      "Consider removing them e.g. with:\n",
      "# for nld in extractor.nld:\n",
      "#     nld.cut_nan()\n",
      "\n",
      "nld #7 contains nan's.\n",
      "Consider removing them e.g. with:\n",
      "# for nld in extractor.nld:\n",
      "#     nld.cut_nan()\n",
      "\n",
      "nld #8 contains nan's.\n",
      "Consider removing them e.g. with:\n",
      "# for nld in extractor.nld:\n",
      "#     nld.cut_nan()\n",
      "\n",
      "nld #9 contains nan's.\n",
      "Consider removing them e.g. with:\n",
      "# for nld in extractor.nld:\n",
      "#     nld.cut_nan()\n",
      "\n",
      "nld #10 contains nan's.\n",
      "Consider removing them e.g. with:\n",
      "# for nld in extractor.nld:\n",
      "#     nld.cut_nan()\n",
      "\n",
      "nld #11 contains nan's.\n",
      "Consider removing them e.g. with:\n",
      "# for nld in extractor.nld:\n",
      "#     nld.cut_nan()\n",
      "\n",
      "gsf #0 contains nan's.\n",
      "Consider removing them e.g. with:\n",
      "# for gsf in extractor.gsf:\n",
      "#     gsf.cut_nan()\n",
      "\n",
      "gsf #1 contains nan's.\n",
      "Consider removing them e.g. with:\n",
      "# for gsf in extractor.gsf:\n",
      "#     gsf.cut_nan()\n",
      "\n",
      "gsf #2 contains nan's.\n",
      "Consider removing them e.g. with:\n",
      "# for gsf in extractor.gsf:\n",
      "#     gsf.cut_nan()\n",
      "\n",
      "gsf #3 contains nan's.\n",
      "Consider removing them e.g. with:\n",
      "# for gsf in extractor.gsf:\n",
      "#     gsf.cut_nan()\n",
      "\n",
      "gsf #4 contains nan's.\n",
      "Consider removing them e.g. with:\n",
      "# for gsf in extractor.gsf:\n",
      "#     gsf.cut_nan()\n",
      "\n",
      "gsf #5 contains nan's.\n",
      "Consider removing them e.g. with:\n",
      "# for gsf in extractor.gsf:\n",
      "#     gsf.cut_nan()\n",
      "\n",
      "gsf #6 contains nan's.\n",
      "Consider removing them e.g. with:\n",
      "# for gsf in extractor.gsf:\n",
      "#     gsf.cut_nan()\n",
      "\n",
      "gsf #7 contains nan's.\n",
      "Consider removing them e.g. with:\n",
      "# for gsf in extractor.gsf:\n",
      "#     gsf.cut_nan()\n",
      "\n",
      "gsf #8 contains nan's.\n",
      "Consider removing them e.g. with:\n",
      "# for gsf in extractor.gsf:\n",
      "#     gsf.cut_nan()\n",
      "\n",
      "gsf #9 contains nan's.\n",
      "Consider removing them e.g. with:\n",
      "# for gsf in extractor.gsf:\n",
      "#     gsf.cut_nan()\n",
      "\n",
      "gsf #10 contains nan's.\n",
      "Consider removing them e.g. with:\n",
      "# for gsf in extractor.gsf:\n",
      "#     gsf.cut_nan()\n",
      "\n",
      "gsf #11 contains nan's.\n",
      "Consider removing them e.g. with:\n",
      "# for gsf in extractor.gsf:\n",
      "#     gsf.cut_nan()\n",
      "\n"
     ]
    },
    {
     "data": {
      "application/vnd.jupyter.widget-view+json": {
       "model_id": "48ab8acd23a943e984a0769aae253721",
       "version_major": 2,
       "version_minor": 0
      },
      "text/plain": [
       "  0%|          | 0/13 [00:00<?, ?it/s]"
      ]
     },
     "metadata": {},
     "output_type": "display_data"
    },
    {
     "data": {
      "application/vnd.jupyter.widget-view+json": {
       "model_id": "748c14dfe8d64398bc02f874eea64f49",
       "version_major": 2,
       "version_minor": 0
      },
      "text/plain": [
       "  0%|          | 0/13 [00:00<?, ?it/s]"
      ]
     },
     "metadata": {},
     "output_type": "display_data"
    },
    {
     "data": {
      "application/vnd.jupyter.widget-view+json": {
       "model_id": "5cc5c9e28b9149efbaf00ba97b74391c",
       "version_major": 2,
       "version_minor": 0
      },
      "text/plain": [
       "  0%|          | 0/13 [00:00<?, ?it/s]"
      ]
     },
     "metadata": {},
     "output_type": "display_data"
    },
    {
     "name": "stderr",
     "output_type": "stream",
     "text": [
      "nld #0 contains nan's.\n",
      "Consider removing them e.g. with:\n",
      "# for nld in extractor.nld:\n",
      "#     nld.cut_nan()\n",
      "\n",
      "nld #1 contains nan's.\n",
      "Consider removing them e.g. with:\n",
      "# for nld in extractor.nld:\n",
      "#     nld.cut_nan()\n",
      "\n",
      "nld #2 contains nan's.\n",
      "Consider removing them e.g. with:\n",
      "# for nld in extractor.nld:\n",
      "#     nld.cut_nan()\n",
      "\n",
      "nld #3 contains nan's.\n",
      "Consider removing them e.g. with:\n",
      "# for nld in extractor.nld:\n",
      "#     nld.cut_nan()\n",
      "\n",
      "nld #4 contains nan's.\n",
      "Consider removing them e.g. with:\n",
      "# for nld in extractor.nld:\n",
      "#     nld.cut_nan()\n",
      "\n",
      "nld #5 contains nan's.\n",
      "Consider removing them e.g. with:\n",
      "# for nld in extractor.nld:\n",
      "#     nld.cut_nan()\n",
      "\n",
      "nld #6 contains nan's.\n",
      "Consider removing them e.g. with:\n",
      "# for nld in extractor.nld:\n",
      "#     nld.cut_nan()\n",
      "\n",
      "nld #7 contains nan's.\n",
      "Consider removing them e.g. with:\n",
      "# for nld in extractor.nld:\n",
      "#     nld.cut_nan()\n",
      "\n",
      "nld #8 contains nan's.\n",
      "Consider removing them e.g. with:\n",
      "# for nld in extractor.nld:\n",
      "#     nld.cut_nan()\n",
      "\n",
      "nld #9 contains nan's.\n",
      "Consider removing them e.g. with:\n",
      "# for nld in extractor.nld:\n",
      "#     nld.cut_nan()\n",
      "\n",
      "nld #10 contains nan's.\n",
      "Consider removing them e.g. with:\n",
      "# for nld in extractor.nld:\n",
      "#     nld.cut_nan()\n",
      "\n",
      "nld #11 contains nan's.\n",
      "Consider removing them e.g. with:\n",
      "# for nld in extractor.nld:\n",
      "#     nld.cut_nan()\n",
      "\n",
      "nld #12 contains nan's.\n",
      "Consider removing them e.g. with:\n",
      "# for nld in extractor.nld:\n",
      "#     nld.cut_nan()\n",
      "\n",
      "gsf #0 contains nan's.\n",
      "Consider removing them e.g. with:\n",
      "# for gsf in extractor.gsf:\n",
      "#     gsf.cut_nan()\n",
      "\n",
      "gsf #1 contains nan's.\n",
      "Consider removing them e.g. with:\n",
      "# for gsf in extractor.gsf:\n",
      "#     gsf.cut_nan()\n",
      "\n",
      "gsf #2 contains nan's.\n",
      "Consider removing them e.g. with:\n",
      "# for gsf in extractor.gsf:\n",
      "#     gsf.cut_nan()\n",
      "\n",
      "gsf #3 contains nan's.\n",
      "Consider removing them e.g. with:\n",
      "# for gsf in extractor.gsf:\n",
      "#     gsf.cut_nan()\n",
      "\n",
      "gsf #4 contains nan's.\n",
      "Consider removing them e.g. with:\n",
      "# for gsf in extractor.gsf:\n",
      "#     gsf.cut_nan()\n",
      "\n",
      "gsf #5 contains nan's.\n",
      "Consider removing them e.g. with:\n",
      "# for gsf in extractor.gsf:\n",
      "#     gsf.cut_nan()\n",
      "\n",
      "gsf #6 contains nan's.\n",
      "Consider removing them e.g. with:\n",
      "# for gsf in extractor.gsf:\n",
      "#     gsf.cut_nan()\n",
      "\n",
      "gsf #7 contains nan's.\n",
      "Consider removing them e.g. with:\n",
      "# for gsf in extractor.gsf:\n",
      "#     gsf.cut_nan()\n",
      "\n",
      "gsf #8 contains nan's.\n",
      "Consider removing them e.g. with:\n",
      "# for gsf in extractor.gsf:\n",
      "#     gsf.cut_nan()\n",
      "\n",
      "gsf #9 contains nan's.\n",
      "Consider removing them e.g. with:\n",
      "# for gsf in extractor.gsf:\n",
      "#     gsf.cut_nan()\n",
      "\n",
      "gsf #10 contains nan's.\n",
      "Consider removing them e.g. with:\n",
      "# for gsf in extractor.gsf:\n",
      "#     gsf.cut_nan()\n",
      "\n",
      "gsf #11 contains nan's.\n",
      "Consider removing them e.g. with:\n",
      "# for gsf in extractor.gsf:\n",
      "#     gsf.cut_nan()\n",
      "\n",
      "gsf #12 contains nan's.\n",
      "Consider removing them e.g. with:\n",
      "# for gsf in extractor.gsf:\n",
      "#     gsf.cut_nan()\n",
      "\n"
     ]
    },
    {
     "data": {
      "application/vnd.jupyter.widget-view+json": {
       "model_id": "1012ce1d9dcd4f758892af3cc00c74ae",
       "version_major": 2,
       "version_minor": 0
      },
      "text/plain": [
       "  0%|          | 0/14 [00:00<?, ?it/s]"
      ]
     },
     "metadata": {},
     "output_type": "display_data"
    },
    {
     "data": {
      "application/vnd.jupyter.widget-view+json": {
       "model_id": "6fcb1dd65c9348938d0caf5bc307500c",
       "version_major": 2,
       "version_minor": 0
      },
      "text/plain": [
       "  0%|          | 0/14 [00:00<?, ?it/s]"
      ]
     },
     "metadata": {},
     "output_type": "display_data"
    },
    {
     "data": {
      "application/vnd.jupyter.widget-view+json": {
       "model_id": "1e851372737d4d5e88d0f11255d9edac",
       "version_major": 2,
       "version_minor": 0
      },
      "text/plain": [
       "  0%|          | 0/14 [00:00<?, ?it/s]"
      ]
     },
     "metadata": {},
     "output_type": "display_data"
    },
    {
     "name": "stderr",
     "output_type": "stream",
     "text": [
      "nld #0 contains nan's.\n",
      "Consider removing them e.g. with:\n",
      "# for nld in extractor.nld:\n",
      "#     nld.cut_nan()\n",
      "\n",
      "nld #1 contains nan's.\n",
      "Consider removing them e.g. with:\n",
      "# for nld in extractor.nld:\n",
      "#     nld.cut_nan()\n",
      "\n",
      "nld #2 contains nan's.\n",
      "Consider removing them e.g. with:\n",
      "# for nld in extractor.nld:\n",
      "#     nld.cut_nan()\n",
      "\n",
      "nld #3 contains nan's.\n",
      "Consider removing them e.g. with:\n",
      "# for nld in extractor.nld:\n",
      "#     nld.cut_nan()\n",
      "\n",
      "nld #4 contains nan's.\n",
      "Consider removing them e.g. with:\n",
      "# for nld in extractor.nld:\n",
      "#     nld.cut_nan()\n",
      "\n",
      "nld #5 contains nan's.\n",
      "Consider removing them e.g. with:\n",
      "# for nld in extractor.nld:\n",
      "#     nld.cut_nan()\n",
      "\n",
      "nld #6 contains nan's.\n",
      "Consider removing them e.g. with:\n",
      "# for nld in extractor.nld:\n",
      "#     nld.cut_nan()\n",
      "\n",
      "nld #7 contains nan's.\n",
      "Consider removing them e.g. with:\n",
      "# for nld in extractor.nld:\n",
      "#     nld.cut_nan()\n",
      "\n",
      "nld #8 contains nan's.\n",
      "Consider removing them e.g. with:\n",
      "# for nld in extractor.nld:\n",
      "#     nld.cut_nan()\n",
      "\n",
      "nld #9 contains nan's.\n",
      "Consider removing them e.g. with:\n",
      "# for nld in extractor.nld:\n",
      "#     nld.cut_nan()\n",
      "\n",
      "nld #10 contains nan's.\n",
      "Consider removing them e.g. with:\n",
      "# for nld in extractor.nld:\n",
      "#     nld.cut_nan()\n",
      "\n",
      "nld #11 contains nan's.\n",
      "Consider removing them e.g. with:\n",
      "# for nld in extractor.nld:\n",
      "#     nld.cut_nan()\n",
      "\n",
      "nld #12 contains nan's.\n",
      "Consider removing them e.g. with:\n",
      "# for nld in extractor.nld:\n",
      "#     nld.cut_nan()\n",
      "\n",
      "nld #13 contains nan's.\n",
      "Consider removing them e.g. with:\n",
      "# for nld in extractor.nld:\n",
      "#     nld.cut_nan()\n",
      "\n",
      "gsf #0 contains nan's.\n",
      "Consider removing them e.g. with:\n",
      "# for gsf in extractor.gsf:\n",
      "#     gsf.cut_nan()\n",
      "\n",
      "gsf #1 contains nan's.\n",
      "Consider removing them e.g. with:\n",
      "# for gsf in extractor.gsf:\n",
      "#     gsf.cut_nan()\n",
      "\n",
      "gsf #2 contains nan's.\n",
      "Consider removing them e.g. with:\n",
      "# for gsf in extractor.gsf:\n",
      "#     gsf.cut_nan()\n",
      "\n",
      "gsf #3 contains nan's.\n",
      "Consider removing them e.g. with:\n",
      "# for gsf in extractor.gsf:\n",
      "#     gsf.cut_nan()\n",
      "\n",
      "gsf #4 contains nan's.\n",
      "Consider removing them e.g. with:\n",
      "# for gsf in extractor.gsf:\n",
      "#     gsf.cut_nan()\n",
      "\n",
      "gsf #5 contains nan's.\n",
      "Consider removing them e.g. with:\n",
      "# for gsf in extractor.gsf:\n",
      "#     gsf.cut_nan()\n",
      "\n",
      "gsf #6 contains nan's.\n",
      "Consider removing them e.g. with:\n",
      "# for gsf in extractor.gsf:\n",
      "#     gsf.cut_nan()\n",
      "\n",
      "gsf #7 contains nan's.\n",
      "Consider removing them e.g. with:\n",
      "# for gsf in extractor.gsf:\n",
      "#     gsf.cut_nan()\n",
      "\n",
      "gsf #8 contains nan's.\n",
      "Consider removing them e.g. with:\n",
      "# for gsf in extractor.gsf:\n",
      "#     gsf.cut_nan()\n",
      "\n",
      "gsf #9 contains nan's.\n",
      "Consider removing them e.g. with:\n",
      "# for gsf in extractor.gsf:\n",
      "#     gsf.cut_nan()\n",
      "\n",
      "gsf #10 contains nan's.\n",
      "Consider removing them e.g. with:\n",
      "# for gsf in extractor.gsf:\n",
      "#     gsf.cut_nan()\n",
      "\n",
      "gsf #11 contains nan's.\n",
      "Consider removing them e.g. with:\n",
      "# for gsf in extractor.gsf:\n",
      "#     gsf.cut_nan()\n",
      "\n",
      "gsf #12 contains nan's.\n",
      "Consider removing them e.g. with:\n",
      "# for gsf in extractor.gsf:\n",
      "#     gsf.cut_nan()\n",
      "\n",
      "gsf #13 contains nan's.\n",
      "Consider removing them e.g. with:\n",
      "# for gsf in extractor.gsf:\n",
      "#     gsf.cut_nan()\n",
      "\n"
     ]
    }
   ],
   "source": [
    "ensemble_full = om.Ensemble(raw=raw_orig, path=\"saved_run/ensemble/full\") # Note raw will be changed later manually.\n",
    "ensemble_full.unfolder = unfolder\n",
    "ensemble_full.first_generation_method = firstgen\n",
    "\n",
    "extractors_ens = []\n",
    "for n in range(3, 15):\n",
    "    ensemble_full.generate(n, regenerate=True)\n",
    "    ensemble_full.rebin(E_rebinned, member=\"firstgen\")\n",
    "    extractors_ens.append(om.Extractor())\n",
    "    extractors_ens[-1].trapezoid = trapezoid_cut\n",
    "    extractors_ens[-1].extract_from(ensemble_full, regenerate=True)"
   ]
  },
  {
   "cell_type": "code",
   "execution_count": 91,
   "id": "4256da72-829b-4e50-9c66-ad211e8b6165",
   "metadata": {
    "collapsed": true,
    "jupyter": {
     "outputs_hidden": true
    },
    "tags": []
   },
   "outputs": [
    {
     "name": "stdout",
     "output_type": "stream",
     "text": [
      "2021-08-11 15:10:09,873 - ompy.error_finder - DEBUG - Processing an ensemble with 3 members\n",
      "2021-08-11 15:10:09,876 - ompy.error_finder - DEBUG - Before removing nan: 45 NLD values and 31 GSF values\n",
      "2021-08-11 15:10:09,877 - ompy.error_finder - WARNING - NLDs and/or γSFs contains nan's. They will be removed\n",
      "2021-08-11 15:10:09,877 - ompy.error_finder - DEBUG - After removing nan: 30 NLD values and 30 GSF values\n",
      "2021-08-11 15:10:09,879 - ompy.error_finder - INFO - Starting pyMC3 - logarithmic model\n"
     ]
    },
    {
     "name": "stderr",
     "output_type": "stream",
     "text": [
      "Auto-assigning NUTS sampler...\n",
      "Initializing NUTS using jitter+adapt_diag...\n",
      "Multiprocess sampling (4 chains in 4 jobs)\n",
      "NUTS: [σ_f, σ_ρ, α, F, D, σ_α, σ_F, σ_D]\n"
     ]
    },
    {
     "data": {
      "text/html": [
       "\n",
       "    <div>\n",
       "        <style>\n",
       "            /* Turns off some styling */\n",
       "            progress {\n",
       "                /* gets rid of default border in Firefox and Opera. */\n",
       "                border: none;\n",
       "                /* Needs to be in here for Safari polyfill so background images work as expected. */\n",
       "                background-size: auto;\n",
       "            }\n",
       "            .progress-bar-interrupted, .progress-bar-interrupted::-webkit-progress-bar {\n",
       "                background: #F44336;\n",
       "            }\n",
       "        </style>\n",
       "      <progress value='8000' class='' max='8000' style='width:300px; height:20px; vertical-align: middle;'></progress>\n",
       "      100.00% [8000/8000 01:07<00:00 Sampling 4 chains, 500 divergences]\n",
       "    </div>\n",
       "    "
      ],
      "text/plain": [
       "<IPython.core.display.HTML object>"
      ]
     },
     "metadata": {},
     "output_type": "display_data"
    },
    {
     "name": "stderr",
     "output_type": "stream",
     "text": [
      "Sampling 4 chains for 1_000 tune and 1_000 draw iterations (4_000 + 4_000 draws total) took 78 seconds.\n",
      "There were 310 divergences after tuning. Increase `target_accept` or reparameterize.\n",
      "The acceptance probability does not match the target. It is 0.5323431089331814, but should be close to 0.8. Try to increase the number of tuning steps.\n",
      "There were 29 divergences after tuning. Increase `target_accept` or reparameterize.\n",
      "There were 117 divergences after tuning. Increase `target_accept` or reparameterize.\n",
      "The acceptance probability does not match the target. It is 0.6415360461552452, but should be close to 0.8. Try to increase the number of tuning steps.\n",
      "There were 44 divergences after tuning. Increase `target_accept` or reparameterize.\n",
      "The rhat statistic is larger than 1.05 for some parameters. This indicates slight problems during sampling.\n",
      "The estimated number of effective samples is smaller than 200 for some parameters.\n"
     ]
    },
    {
     "name": "stdout",
     "output_type": "stream",
     "text": [
      "2021-08-11 15:11:39,408 - ompy.error_finder - INFO - Inference results:\n",
      "┌─────────────┬─────────────┬────────────────┬─────────────┬─────────────┬───────────────┐\n",
      "│ D           │ F           │ α              │ σ_D         │ σ_F         │ σ_α           │\n",
      "╞═════════════╪═════════════╪════════════════╪═════════════╪═════════════╪═══════════════╡\n",
      "│ 0.00 ± 0.31 │ 0.00 ± 0.32 │ -0.000 ± 0.069 │ 0.39 ± 0.15 │ 0.41 ± 0.16 │ 0.088 ± 0.037 │\n",
      "└─────────────┴─────────────┴────────────────┴─────────────┴─────────────┴───────────────┘\n",
      "┌────┬───────────────┬─────────────┐\n",
      "│    │ σ_ρ [%]       │ σ_f [%]     │\n",
      "╞════╪═══════════════╪═════════════╡\n",
      "│ 0  │ 2.32 ± 0.94   │ 3.2 ± 1.3   │\n",
      "├────┼───────────────┼─────────────┤\n",
      "│ 1  │ 0.046 ± 0.039 │ 1.38 ± 0.58 │\n",
      "├────┼───────────────┼─────────────┤\n",
      "│ 2  │ 0.049 ± 0.044 │ 2.5 ± 1.1   │\n",
      "├────┼───────────────┼─────────────┤\n",
      "│ 3  │ 3.3 ± 1.2     │ 3.3 ± 1.3   │\n",
      "├────┼───────────────┼─────────────┤\n",
      "│ 4  │ 2.8 ± 1.0     │ 0.85 ± 0.49 │\n",
      "├────┼───────────────┼─────────────┤\n",
      "│ 5  │ 3.9 ± 1.6     │ 2.9 ± 1.5   │\n",
      "├────┼───────────────┼─────────────┤\n",
      "│ 6  │ 4.4 ± 1.7     │ 0.25 ± 0.32 │\n",
      "├────┼───────────────┼─────────────┤\n",
      "│ 7  │ 3.5 ± 1.4     │ 1.31 ± 0.55 │\n",
      "├────┼───────────────┼─────────────┤\n",
      "│ 8  │ 4.5 ± 1.8     │ 2.03 ± 0.91 │\n",
      "├────┼───────────────┼─────────────┤\n",
      "│ 9  │ 3.8 ± 1.5     │ 1.16 ± 0.46 │\n",
      "├────┼───────────────┼─────────────┤\n",
      "│ 10 │ 1.24 ± 0.53   │ 2.21 ± 0.95 │\n",
      "├────┼───────────────┼─────────────┤\n",
      "│ 11 │ 2.05 ± 0.82   │ 2.5 ± 1.2   │\n",
      "├────┼───────────────┼─────────────┤\n",
      "│ 12 │ 2.39 ± 1.00   │ 6.9 ± 2.7   │\n",
      "├────┼───────────────┼─────────────┤\n",
      "│ 13 │ 3.9 ± 1.5     │ 0.10 ± 0.11 │\n",
      "├────┼───────────────┼─────────────┤\n",
      "│ 14 │ 1.54 ± 0.65   │ 2.20 ± 0.84 │\n",
      "├────┼───────────────┼─────────────┤\n",
      "│ 15 │ 4.2 ± 1.6     │ 1.81 ± 0.74 │\n",
      "├────┼───────────────┼─────────────┤\n",
      "│ 16 │ 6.4 ± 3.2     │ 4.3 ± 2.5   │\n",
      "├────┼───────────────┼─────────────┤\n",
      "│ 17 │ 6.6 ± 2.7     │ 1.24 ± 0.80 │\n",
      "├────┼───────────────┼─────────────┤\n",
      "│ 18 │ 3.2 ± 1.3     │ 8.3 ± 3.6   │\n",
      "├────┼───────────────┼─────────────┤\n",
      "│ 19 │ 1.29 ± 0.73   │ 7.5 ± 3.1   │\n",
      "├────┼───────────────┼─────────────┤\n",
      "│ 20 │ 1.30 ± 0.72   │ 0.27 ± 0.19 │\n",
      "├────┼───────────────┼─────────────┤\n",
      "│ 21 │ 1.47 ± 0.82   │ 7.8 ± 2.9   │\n",
      "├────┼───────────────┼─────────────┤\n",
      "│ 22 │ 11.4 ± 4.5    │ 0.35 ± 0.31 │\n",
      "├────┼───────────────┼─────────────┤\n",
      "│ 23 │ 4.7 ± 2.1     │ 5.6 ± 2.2   │\n",
      "├────┼───────────────┼─────────────┤\n",
      "│ 24 │ 3.5 ± 1.5     │ 2.5 ± 1.0   │\n",
      "├────┼───────────────┼─────────────┤\n",
      "│ 25 │ 3.5 ± 1.6     │ 2.8 ± 1.3   │\n",
      "├────┼───────────────┼─────────────┤\n",
      "│ 26 │ 10.3 ± 4.1    │ 7.3 ± 3.2   │\n",
      "├────┼───────────────┼─────────────┤\n",
      "│ 27 │ 4.3 ± 1.8     │ 5.6 ± 2.6   │\n",
      "├────┼───────────────┼─────────────┤\n",
      "│ 28 │ 12.2 ± 4.7    │ 34 ± 16     │\n",
      "├────┼───────────────┼─────────────┤\n",
      "│ 29 │ 16.5 ± 6.8    │ 31 ± 11     │\n",
      "└────┴───────────────┴─────────────┘\n",
      "2021-08-11 15:11:39,415 - ompy.error_finder - DEBUG - Processing an ensemble with 4 members\n",
      "2021-08-11 15:11:39,416 - ompy.error_finder - DEBUG - Before removing nan: 45 NLD values and 31 GSF values\n",
      "2021-08-11 15:11:39,417 - ompy.error_finder - WARNING - NLDs and/or γSFs contains nan's. They will be removed\n",
      "2021-08-11 15:11:39,417 - ompy.error_finder - DEBUG - After removing nan: 30 NLD values and 30 GSF values\n",
      "2021-08-11 15:11:39,418 - ompy.error_finder - INFO - Starting pyMC3 - logarithmic model\n"
     ]
    },
    {
     "name": "stderr",
     "output_type": "stream",
     "text": [
      "Auto-assigning NUTS sampler...\n",
      "Initializing NUTS using jitter+adapt_diag...\n",
      "Multiprocess sampling (4 chains in 4 jobs)\n",
      "NUTS: [σ_f, σ_ρ, α, F, D, σ_α, σ_F, σ_D]\n"
     ]
    },
    {
     "data": {
      "text/html": [
       "\n",
       "    <div>\n",
       "        <style>\n",
       "            /* Turns off some styling */\n",
       "            progress {\n",
       "                /* gets rid of default border in Firefox and Opera. */\n",
       "                border: none;\n",
       "                /* Needs to be in here for Safari polyfill so background images work as expected. */\n",
       "                background-size: auto;\n",
       "            }\n",
       "            .progress-bar-interrupted, .progress-bar-interrupted::-webkit-progress-bar {\n",
       "                background: #F44336;\n",
       "            }\n",
       "        </style>\n",
       "      <progress value='8000' class='' max='8000' style='width:300px; height:20px; vertical-align: middle;'></progress>\n",
       "      100.00% [8000/8000 00:58<00:00 Sampling 4 chains, 19 divergences]\n",
       "    </div>\n",
       "    "
      ],
      "text/plain": [
       "<IPython.core.display.HTML object>"
      ]
     },
     "metadata": {},
     "output_type": "display_data"
    },
    {
     "name": "stderr",
     "output_type": "stream",
     "text": [
      "Sampling 4 chains for 1_000 tune and 1_000 draw iterations (4_000 + 4_000 draws total) took 68 seconds.\n",
      "There were 3 divergences after tuning. Increase `target_accept` or reparameterize.\n",
      "There were 3 divergences after tuning. Increase `target_accept` or reparameterize.\n",
      "There were 13 divergences after tuning. Increase `target_accept` or reparameterize.\n",
      "The rhat statistic is larger than 1.05 for some parameters. This indicates slight problems during sampling.\n",
      "The estimated number of effective samples is smaller than 200 for some parameters.\n"
     ]
    },
    {
     "name": "stdout",
     "output_type": "stream",
     "text": [
      "2021-08-11 15:12:58,455 - ompy.error_finder - INFO - Inference results:\n",
      "┌──────────────┬─────────────┬────────────────┬───────────────┬─────────────┬───────────────┐\n",
      "│ D            │ F           │ α              │ σ_D           │ σ_F         │ σ_α           │\n",
      "╞══════════════╪═════════════╪════════════════╪═══════════════╪═════════════╪═══════════════╡\n",
      "│ -0.00 ± 0.31 │ 0.00 ± 0.43 │ -0.000 ± 0.071 │ 0.346 ± 0.082 │ 0.48 ± 0.12 │ 0.080 ± 0.019 │\n",
      "└──────────────┴─────────────┴────────────────┴───────────────┴─────────────┴───────────────┘\n",
      "┌────┬─────────────┬─────────────┐\n",
      "│    │ σ_ρ [%]     │ σ_f [%]     │\n",
      "╞════╪═════════════╪═════════════╡\n",
      "│ 0  │ 0.51 ± 0.32 │ 1.96 ± 0.49 │\n",
      "├────┼─────────────┼─────────────┤\n",
      "│ 1  │ 0.62 ± 0.31 │ 0.22 ± 0.15 │\n",
      "├────┼─────────────┼─────────────┤\n",
      "│ 2  │ 1.21 ± 0.31 │ 3.18 ± 0.76 │\n",
      "├────┼─────────────┼─────────────┤\n",
      "│ 3  │ 3.35 ± 0.85 │ 2.98 ± 0.73 │\n",
      "├────┼─────────────┼─────────────┤\n",
      "│ 4  │ 2.11 ± 0.51 │ 0.28 ± 0.15 │\n",
      "├────┼─────────────┼─────────────┤\n",
      "│ 5  │ 2.79 ± 0.66 │ 2.94 ± 0.69 │\n",
      "├────┼─────────────┼─────────────┤\n",
      "│ 6  │ 2.23 ± 0.57 │ 1.65 ± 0.41 │\n",
      "├────┼─────────────┼─────────────┤\n",
      "│ 7  │ 3.87 ± 0.92 │ 1.49 ± 0.37 │\n",
      "├────┼─────────────┼─────────────┤\n",
      "│ 8  │ 4.07 ± 0.98 │ 2.19 ± 0.54 │\n",
      "├────┼─────────────┼─────────────┤\n",
      "│ 9  │ 2.14 ± 0.51 │ 1.48 ± 0.38 │\n",
      "├────┼─────────────┼─────────────┤\n",
      "│ 10 │ 0.78 ± 0.23 │ 1.48 ± 0.38 │\n",
      "├────┼─────────────┼─────────────┤\n",
      "│ 11 │ 2.45 ± 0.58 │ 0.52 ± 0.25 │\n",
      "├────┼─────────────┼─────────────┤\n",
      "│ 12 │ 3.08 ± 0.73 │ 5.7 ± 1.3   │\n",
      "├────┼─────────────┼─────────────┤\n",
      "│ 13 │ 1.33 ± 0.34 │ 1.77 ± 0.46 │\n",
      "├────┼─────────────┼─────────────┤\n",
      "│ 14 │ 0.26 ± 0.23 │ 5.0 ± 1.2   │\n",
      "├────┼─────────────┼─────────────┤\n",
      "│ 15 │ 4.3 ± 1.1   │ 3.24 ± 0.83 │\n",
      "├────┼─────────────┼─────────────┤\n",
      "│ 16 │ 4.9 ± 1.2   │ 4.6 ± 1.1   │\n",
      "├────┼─────────────┼─────────────┤\n",
      "│ 17 │ 4.5 ± 1.1   │ 3.19 ± 0.77 │\n",
      "├────┼─────────────┼─────────────┤\n",
      "│ 18 │ 6.8 ± 1.7   │ 8.4 ± 2.0   │\n",
      "├────┼─────────────┼─────────────┤\n",
      "│ 19 │ 3.62 ± 0.88 │ 2.85 ± 0.69 │\n",
      "├────┼─────────────┼─────────────┤\n",
      "│ 20 │ 3.19 ± 0.81 │ 6.1 ± 1.5   │\n",
      "├────┼─────────────┼─────────────┤\n",
      "│ 21 │ 3.69 ± 0.89 │ 6.9 ± 1.7   │\n",
      "├────┼─────────────┼─────────────┤\n",
      "│ 22 │ 7.8 ± 1.8   │ 1.65 ± 0.54 │\n",
      "├────┼─────────────┼─────────────┤\n",
      "│ 23 │ 4.5 ± 1.1   │ 9.4 ± 2.3   │\n",
      "├────┼─────────────┼─────────────┤\n",
      "│ 24 │ 2.90 ± 0.75 │ 9.2 ± 2.3   │\n",
      "├────┼─────────────┼─────────────┤\n",
      "│ 25 │ 6.6 ± 1.6   │ 5.2 ± 1.3   │\n",
      "├────┼─────────────┼─────────────┤\n",
      "│ 26 │ 7.8 ± 1.8   │ 6.0 ± 1.5   │\n",
      "├────┼─────────────┼─────────────┤\n",
      "│ 27 │ 5.2 ± 1.3   │ 7.3 ± 1.8   │\n",
      "├────┼─────────────┼─────────────┤\n",
      "│ 28 │ 10.7 ± 2.7  │ 26.9 ± 6.3  │\n",
      "├────┼─────────────┼─────────────┤\n",
      "│ 29 │ 25.5 ± 6.1  │ 24.6 ± 5.9  │\n",
      "└────┴─────────────┴─────────────┘\n",
      "2021-08-11 15:12:58,460 - ompy.error_finder - DEBUG - Processing an ensemble with 5 members\n",
      "2021-08-11 15:12:58,461 - ompy.error_finder - DEBUG - Before removing nan: 45 NLD values and 31 GSF values\n",
      "2021-08-11 15:12:58,461 - ompy.error_finder - WARNING - NLDs and/or γSFs contains nan's. They will be removed\n",
      "2021-08-11 15:12:58,462 - ompy.error_finder - DEBUG - After removing nan: 30 NLD values and 30 GSF values\n",
      "2021-08-11 15:12:58,463 - ompy.error_finder - INFO - Starting pyMC3 - logarithmic model\n"
     ]
    },
    {
     "name": "stderr",
     "output_type": "stream",
     "text": [
      "Auto-assigning NUTS sampler...\n",
      "Initializing NUTS using jitter+adapt_diag...\n",
      "Multiprocess sampling (4 chains in 4 jobs)\n",
      "NUTS: [σ_f, σ_ρ, α, F, D, σ_α, σ_F, σ_D]\n"
     ]
    },
    {
     "data": {
      "text/html": [
       "\n",
       "    <div>\n",
       "        <style>\n",
       "            /* Turns off some styling */\n",
       "            progress {\n",
       "                /* gets rid of default border in Firefox and Opera. */\n",
       "                border: none;\n",
       "                /* Needs to be in here for Safari polyfill so background images work as expected. */\n",
       "                background-size: auto;\n",
       "            }\n",
       "            .progress-bar-interrupted, .progress-bar-interrupted::-webkit-progress-bar {\n",
       "                background: #F44336;\n",
       "            }\n",
       "        </style>\n",
       "      <progress value='8000' class='' max='8000' style='width:300px; height:20px; vertical-align: middle;'></progress>\n",
       "      100.00% [8000/8000 01:26<00:00 Sampling 4 chains, 57 divergences]\n",
       "    </div>\n",
       "    "
      ],
      "text/plain": [
       "<IPython.core.display.HTML object>"
      ]
     },
     "metadata": {},
     "output_type": "display_data"
    },
    {
     "name": "stderr",
     "output_type": "stream",
     "text": [
      "Sampling 4 chains for 1_000 tune and 1_000 draw iterations (4_000 + 4_000 draws total) took 95 seconds.\n",
      "There was 1 divergence after tuning. Increase `target_accept` or reparameterize.\n",
      "There were 8 divergences after tuning. Increase `target_accept` or reparameterize.\n",
      "The acceptance probability does not match the target. It is 0.6820218655545547, but should be close to 0.8. Try to increase the number of tuning steps.\n",
      "There were 48 divergences after tuning. Increase `target_accept` or reparameterize.\n",
      "The acceptance probability does not match the target. It is 0.5621465385353126, but should be close to 0.8. Try to increase the number of tuning steps.\n",
      "The acceptance probability does not match the target. It is 0.9501354874730317, but should be close to 0.8. Try to increase the number of tuning steps.\n",
      "The rhat statistic is larger than 1.05 for some parameters. This indicates slight problems during sampling.\n",
      "The estimated number of effective samples is smaller than 200 for some parameters.\n"
     ]
    },
    {
     "name": "stdout",
     "output_type": "stream",
     "text": [
      "2021-08-11 15:14:45,903 - ompy.error_finder - INFO - Inference results:\n",
      "┌─────────────┬─────────────┬────────────────┬───────────────┬───────────────┬───────────────┐\n",
      "│ D           │ F           │ α              │ σ_D           │ σ_F           │ σ_α           │\n",
      "╞═════════════╪═════════════╪════════════════╪═══════════════╪═══════════════╪═══════════════╡\n",
      "│ 0.00 ± 0.28 │ 0.00 ± 0.34 │ -0.000 ± 0.064 │ 0.309 ± 0.058 │ 0.368 ± 0.063 │ 0.068 ± 0.012 │\n",
      "└─────────────┴─────────────┴────────────────┴───────────────┴───────────────┴───────────────┘\n",
      "┌────┬───────────────┬─────────────┐\n",
      "│    │ σ_ρ [%]       │ σ_f [%]     │\n",
      "╞════╪═══════════════╪═════════════╡\n",
      "│ 0  │ 2.22 ± 0.57   │ 1.41 ± 0.55 │\n",
      "├────┼───────────────┼─────────────┤\n",
      "│ 1  │ 0.41 ± 0.51   │ 3.44 ± 0.71 │\n",
      "├────┼───────────────┼─────────────┤\n",
      "│ 2  │ 2.12 ± 0.49   │ 4.29 ± 0.82 │\n",
      "├────┼───────────────┼─────────────┤\n",
      "│ 3  │ 2.80 ± 0.58   │ 3.72 ± 0.66 │\n",
      "├────┼───────────────┼─────────────┤\n",
      "│ 4  │ 2.74 ± 0.55   │ 1.67 ± 0.46 │\n",
      "├────┼───────────────┼─────────────┤\n",
      "│ 5  │ 2.85 ± 0.55   │ 1.91 ± 0.35 │\n",
      "├────┼───────────────┼─────────────┤\n",
      "│ 6  │ 3.10 ± 0.54   │ 2.01 ± 0.40 │\n",
      "├────┼───────────────┼─────────────┤\n",
      "│ 7  │ 4.17 ± 0.72   │ 0.96 ± 0.32 │\n",
      "├────┼───────────────┼─────────────┤\n",
      "│ 8  │ 3.54 ± 0.62   │ 1.21 ± 0.24 │\n",
      "├────┼───────────────┼─────────────┤\n",
      "│ 9  │ 2.09 ± 0.37   │ 3.27 ± 0.65 │\n",
      "├────┼───────────────┼─────────────┤\n",
      "│ 10 │ 2.74 ± 0.47   │ 1.02 ± 0.23 │\n",
      "├────┼───────────────┼─────────────┤\n",
      "│ 11 │ 2.08 ± 0.35   │ 0.89 ± 0.24 │\n",
      "├────┼───────────────┼─────────────┤\n",
      "│ 12 │ 2.15 ± 0.37   │ 5.19 ± 0.90 │\n",
      "├────┼───────────────┼─────────────┤\n",
      "│ 13 │ 2.73 ± 0.47   │ 2.41 ± 0.42 │\n",
      "├────┼───────────────┼─────────────┤\n",
      "│ 14 │ 0.128 ± 0.079 │ 3.60 ± 0.64 │\n",
      "├────┼───────────────┼─────────────┤\n",
      "│ 15 │ 3.33 ± 0.56   │ 2.12 ± 0.43 │\n",
      "├────┼───────────────┼─────────────┤\n",
      "│ 16 │ 3.74 ± 0.66   │ 4.41 ± 0.81 │\n",
      "├────┼───────────────┼─────────────┤\n",
      "│ 17 │ 4.43 ± 0.77   │ 3.90 ± 0.72 │\n",
      "├────┼───────────────┼─────────────┤\n",
      "│ 18 │ 5.13 ± 0.94   │ 6.1 ± 1.1   │\n",
      "├────┼───────────────┼─────────────┤\n",
      "│ 19 │ 2.85 ± 0.49   │ 2.83 ± 0.57 │\n",
      "├────┼───────────────┼─────────────┤\n",
      "│ 20 │ 2.94 ± 0.50   │ 6.0 ± 1.0   │\n",
      "├────┼───────────────┼─────────────┤\n",
      "│ 21 │ 5.77 ± 0.98   │ 6.0 ± 1.1   │\n",
      "├────┼───────────────┼─────────────┤\n",
      "│ 22 │ 7.5 ± 1.3     │ 1.78 ± 0.47 │\n",
      "├────┼───────────────┼─────────────┤\n",
      "│ 23 │ 3.26 ± 0.56   │ 8.1 ± 1.4   │\n",
      "├────┼───────────────┼─────────────┤\n",
      "│ 24 │ 2.88 ± 0.53   │ 7.6 ± 1.3   │\n",
      "├────┼───────────────┼─────────────┤\n",
      "│ 25 │ 6.2 ± 1.1     │ 5.22 ± 0.88 │\n",
      "├────┼───────────────┼─────────────┤\n",
      "│ 26 │ 9.2 ± 1.6     │ 7.0 ± 1.3   │\n",
      "├────┼───────────────┼─────────────┤\n",
      "│ 27 │ 2.37 ± 0.43   │ 6.8 ± 1.2   │\n",
      "├────┼───────────────┼─────────────┤\n",
      "│ 28 │ 9.5 ± 1.7     │ 24.6 ± 4.2  │\n",
      "├────┼───────────────┼─────────────┤\n",
      "│ 29 │ 27.3 ± 4.6    │ 27.3 ± 4.9  │\n",
      "└────┴───────────────┴─────────────┘\n",
      "2021-08-11 15:14:45,911 - ompy.error_finder - DEBUG - Processing an ensemble with 6 members\n",
      "2021-08-11 15:14:45,911 - ompy.error_finder - DEBUG - Before removing nan: 45 NLD values and 31 GSF values\n",
      "2021-08-11 15:14:45,912 - ompy.error_finder - WARNING - NLDs and/or γSFs contains nan's. They will be removed\n",
      "2021-08-11 15:14:45,913 - ompy.error_finder - DEBUG - After removing nan: 30 NLD values and 30 GSF values\n",
      "2021-08-11 15:14:45,914 - ompy.error_finder - INFO - Starting pyMC3 - logarithmic model\n"
     ]
    },
    {
     "name": "stderr",
     "output_type": "stream",
     "text": [
      "Auto-assigning NUTS sampler...\n",
      "Initializing NUTS using jitter+adapt_diag...\n",
      "Multiprocess sampling (4 chains in 4 jobs)\n",
      "NUTS: [σ_f, σ_ρ, α, F, D, σ_α, σ_F, σ_D]\n"
     ]
    },
    {
     "data": {
      "text/html": [
       "\n",
       "    <div>\n",
       "        <style>\n",
       "            /* Turns off some styling */\n",
       "            progress {\n",
       "                /* gets rid of default border in Firefox and Opera. */\n",
       "                border: none;\n",
       "                /* Needs to be in here for Safari polyfill so background images work as expected. */\n",
       "                background-size: auto;\n",
       "            }\n",
       "            .progress-bar-interrupted, .progress-bar-interrupted::-webkit-progress-bar {\n",
       "                background: #F44336;\n",
       "            }\n",
       "        </style>\n",
       "      <progress value='8000' class='' max='8000' style='width:300px; height:20px; vertical-align: middle;'></progress>\n",
       "      100.00% [8000/8000 01:03<00:00 Sampling 4 chains, 949 divergences]\n",
       "    </div>\n",
       "    "
      ],
      "text/plain": [
       "<IPython.core.display.HTML object>"
      ]
     },
     "metadata": {},
     "output_type": "display_data"
    },
    {
     "name": "stderr",
     "output_type": "stream",
     "text": [
      "Sampling 4 chains for 1_000 tune and 1_000 draw iterations (4_000 + 4_000 draws total) took 72 seconds.\n",
      "There was 1 divergence after tuning. Increase `target_accept` or reparameterize.\n",
      "There were 944 divergences after tuning. Increase `target_accept` or reparameterize.\n",
      "The acceptance probability does not match the target. It is 2.8572558743334045e-23, but should be close to 0.8. Try to increase the number of tuning steps.\n",
      "There were 3 divergences after tuning. Increase `target_accept` or reparameterize.\n",
      "There was 1 divergence after tuning. Increase `target_accept` or reparameterize.\n",
      "The rhat statistic is larger than 1.4 for some parameters. The sampler did not converge.\n",
      "The estimated number of effective samples is smaller than 200 for some parameters.\n"
     ]
    },
    {
     "name": "stdout",
     "output_type": "stream",
     "text": [
      "2021-08-11 15:16:07,944 - ompy.error_finder - INFO - Inference results:\n",
      "┌─────────────┬─────────────┬────────────────┬───────────────┬───────────────┬───────────────┐\n",
      "│ D           │ F           │ α              │ σ_D           │ σ_F           │ σ_α           │\n",
      "╞═════════════╪═════════════╪════════════════╪═══════════════╪═══════════════╪═══════════════╡\n",
      "│ 0.00 ± 0.27 │ 0.00 ± 0.31 │ -0.000 ± 0.081 │ 0.273 ± 0.037 │ 0.316 ± 0.045 │ 0.087 ± 0.011 │\n",
      "└─────────────┴─────────────┴────────────────┴───────────────┴───────────────┴───────────────┘\n",
      "┌────┬─────────────┬─────────────┐\n",
      "│    │ σ_ρ [%]     │ σ_f [%]     │\n",
      "╞════╪═════════════╪═════════════╡\n",
      "│ 0  │ 2.86 ± 0.50 │ 1.47 ± 0.20 │\n",
      "├────┼─────────────┼─────────────┤\n",
      "│ 1  │ 0.26 ± 0.17 │ 3.49 ± 0.50 │\n",
      "├────┼─────────────┼─────────────┤\n",
      "│ 2  │ 1.55 ± 0.19 │ 3.99 ± 0.51 │\n",
      "├────┼─────────────┼─────────────┤\n",
      "│ 3  │ 3.58 ± 0.43 │ 3.63 ± 0.43 │\n",
      "├────┼─────────────┼─────────────┤\n",
      "│ 4  │ 2.85 ± 0.38 │ 1.86 ± 0.38 │\n",
      "├────┼─────────────┼─────────────┤\n",
      "│ 5  │ 2.97 ± 0.38 │ 1.92 ± 0.26 │\n",
      "├────┼─────────────┼─────────────┤\n",
      "│ 6  │ 3.97 ± 0.55 │ 2.70 ± 0.35 │\n",
      "├────┼─────────────┼─────────────┤\n",
      "│ 7  │ 7.31 ± 0.90 │ 1.02 ± 0.28 │\n",
      "├────┼─────────────┼─────────────┤\n",
      "│ 8  │ 3.50 ± 0.43 │ 2.14 ± 0.28 │\n",
      "├────┼─────────────┼─────────────┤\n",
      "│ 9  │ 3.21 ± 0.39 │ 2.73 ± 0.39 │\n",
      "├────┼─────────────┼─────────────┤\n",
      "│ 10 │ 2.68 ± 0.35 │ 1.81 ± 0.24 │\n",
      "├────┼─────────────┼─────────────┤\n",
      "│ 11 │ 2.38 ± 0.28 │ 0.83 ± 0.22 │\n",
      "├────┼─────────────┼─────────────┤\n",
      "│ 12 │ 1.83 ± 0.23 │ 3.85 ± 0.46 │\n",
      "├────┼─────────────┼─────────────┤\n",
      "│ 13 │ 3.64 ± 0.44 │ 2.70 ± 0.34 │\n",
      "├────┼─────────────┼─────────────┤\n",
      "│ 14 │ 0.15 ± 0.13 │ 3.51 ± 0.60 │\n",
      "├────┼─────────────┼─────────────┤\n",
      "│ 15 │ 4.97 ± 0.55 │ 3.19 ± 0.53 │\n",
      "├────┼─────────────┼─────────────┤\n",
      "│ 16 │ 3.25 ± 0.52 │ 4.47 ± 0.63 │\n",
      "├────┼─────────────┼─────────────┤\n",
      "│ 17 │ 4.39 ± 0.67 │ 5.29 ± 0.74 │\n",
      "├────┼─────────────┼─────────────┤\n",
      "│ 18 │ 5.15 ± 0.68 │ 6.11 ± 0.73 │\n",
      "├────┼─────────────┼─────────────┤\n",
      "│ 19 │ 4.01 ± 0.50 │ 3.28 ± 0.49 │\n",
      "├────┼─────────────┼─────────────┤\n",
      "│ 20 │ 3.50 ± 0.41 │ 8.11 ± 1.00 │\n",
      "├────┼─────────────┼─────────────┤\n",
      "│ 21 │ 5.02 ± 0.62 │ 5.32 ± 0.62 │\n",
      "├────┼─────────────┼─────────────┤\n",
      "│ 22 │ 8.3 ± 1.1   │ 3.60 ± 0.51 │\n",
      "├────┼─────────────┼─────────────┤\n",
      "│ 23 │ 5.03 ± 0.57 │ 6.85 ± 0.91 │\n",
      "├────┼─────────────┼─────────────┤\n",
      "│ 24 │ 4.46 ± 0.54 │ 5.80 ± 0.73 │\n",
      "├────┼─────────────┼─────────────┤\n",
      "│ 25 │ 5.80 ± 0.70 │ 5.00 ± 0.61 │\n",
      "├────┼─────────────┼─────────────┤\n",
      "│ 26 │ 10.2 ± 1.3  │ 6.1 ± 1.0   │\n",
      "├────┼─────────────┼─────────────┤\n",
      "│ 27 │ 7.81 ± 0.96 │ 6.4 ± 1.0   │\n",
      "├────┼─────────────┼─────────────┤\n",
      "│ 28 │ 9.7 ± 1.2   │ 24.0 ± 2.9  │\n",
      "├────┼─────────────┼─────────────┤\n",
      "│ 29 │ 25.3 ± 3.4  │ 22.9 ± 2.9  │\n",
      "└────┴─────────────┴─────────────┘\n",
      "2021-08-11 15:16:07,954 - ompy.error_finder - DEBUG - Processing an ensemble with 7 members\n",
      "2021-08-11 15:16:07,955 - ompy.error_finder - DEBUG - Before removing nan: 45 NLD values and 31 GSF values\n",
      "2021-08-11 15:16:07,956 - ompy.error_finder - WARNING - NLDs and/or γSFs contains nan's. They will be removed\n",
      "2021-08-11 15:16:07,956 - ompy.error_finder - DEBUG - After removing nan: 30 NLD values and 30 GSF values\n",
      "2021-08-11 15:16:07,957 - ompy.error_finder - INFO - Starting pyMC3 - logarithmic model\n"
     ]
    },
    {
     "name": "stderr",
     "output_type": "stream",
     "text": [
      "Auto-assigning NUTS sampler...\n",
      "Initializing NUTS using jitter+adapt_diag...\n",
      "Multiprocess sampling (4 chains in 4 jobs)\n",
      "NUTS: [σ_f, σ_ρ, α, F, D, σ_α, σ_F, σ_D]\n"
     ]
    },
    {
     "data": {
      "text/html": [
       "\n",
       "    <div>\n",
       "        <style>\n",
       "            /* Turns off some styling */\n",
       "            progress {\n",
       "                /* gets rid of default border in Firefox and Opera. */\n",
       "                border: none;\n",
       "                /* Needs to be in here for Safari polyfill so background images work as expected. */\n",
       "                background-size: auto;\n",
       "            }\n",
       "            .progress-bar-interrupted, .progress-bar-interrupted::-webkit-progress-bar {\n",
       "                background: #F44336;\n",
       "            }\n",
       "        </style>\n",
       "      <progress value='8000' class='' max='8000' style='width:300px; height:20px; vertical-align: middle;'></progress>\n",
       "      100.00% [8000/8000 00:46<00:00 Sampling 4 chains, 0 divergences]\n",
       "    </div>\n",
       "    "
      ],
      "text/plain": [
       "<IPython.core.display.HTML object>"
      ]
     },
     "metadata": {},
     "output_type": "display_data"
    },
    {
     "name": "stderr",
     "output_type": "stream",
     "text": [
      "Sampling 4 chains for 1_000 tune and 1_000 draw iterations (4_000 + 4_000 draws total) took 56 seconds.\n",
      "The number of effective samples is smaller than 25% for some parameters.\n"
     ]
    },
    {
     "name": "stdout",
     "output_type": "stream",
     "text": [
      "2021-08-11 15:17:13,343 - ompy.error_finder - INFO - Inference results:\n",
      "┌──────────────┬──────────────┬───────────────┬───────────────┬───────────────┬─────────────────┐\n",
      "│ D            │ F            │ α             │ σ_D           │ σ_F           │ σ_α             │\n",
      "╞══════════════╪══════════════╪═══════════════╪═══════════════╪═══════════════╪═════════════════╡\n",
      "│ -0.00 ± 0.25 │ -0.00 ± 0.29 │ 0.000 ± 0.077 │ 0.260 ± 0.031 │ 0.297 ± 0.033 │ 0.0791 ± 0.0088 │\n",
      "└──────────────┴──────────────┴───────────────┴───────────────┴───────────────┴─────────────────┘\n",
      "┌────┬─────────────┬─────────────┐\n",
      "│    │ σ_ρ [%]     │ σ_f [%]     │\n",
      "╞════╪═════════════╪═════════════╡\n",
      "│ 0  │ 1.31 ± 0.30 │ 3.14 ± 0.39 │\n",
      "├────┼─────────────┼─────────────┤\n",
      "│ 1  │ 2.23 ± 0.32 │ 3.56 ± 0.42 │\n",
      "├────┼─────────────┼─────────────┤\n",
      "│ 2  │ 3.26 ± 0.39 │ 2.96 ± 0.36 │\n",
      "├────┼─────────────┼─────────────┤\n",
      "│ 3  │ 5.00 ± 0.59 │ 5.07 ± 0.58 │\n",
      "├────┼─────────────┼─────────────┤\n",
      "│ 4  │ 2.79 ± 0.34 │ 0.70 ± 0.20 │\n",
      "├────┼─────────────┼─────────────┤\n",
      "│ 5  │ 3.25 ± 0.41 │ 1.99 ± 0.23 │\n",
      "├────┼─────────────┼─────────────┤\n",
      "│ 6  │ 3.31 ± 0.40 │ 1.83 ± 0.22 │\n",
      "├────┼─────────────┼─────────────┤\n",
      "│ 7  │ 6.36 ± 0.75 │ 1.68 ± 0.24 │\n",
      "├────┼─────────────┼─────────────┤\n",
      "│ 8  │ 4.11 ± 0.48 │ 2.46 ± 0.30 │\n",
      "├────┼─────────────┼─────────────┤\n",
      "│ 9  │ 3.18 ± 0.38 │ 1.71 ± 0.23 │\n",
      "├────┼─────────────┼─────────────┤\n",
      "│ 10 │ 2.07 ± 0.27 │ 1.82 ± 0.23 │\n",
      "├────┼─────────────┼─────────────┤\n",
      "│ 11 │ 2.40 ± 0.29 │ 1.53 ± 0.22 │\n",
      "├────┼─────────────┼─────────────┤\n",
      "│ 12 │ 2.60 ± 0.31 │ 3.57 ± 0.42 │\n",
      "├────┼─────────────┼─────────────┤\n",
      "│ 13 │ 3.72 ± 0.43 │ 3.44 ± 0.40 │\n",
      "├────┼─────────────┼─────────────┤\n",
      "│ 14 │ 1.51 ± 0.21 │ 3.60 ± 0.44 │\n",
      "├────┼─────────────┼─────────────┤\n",
      "│ 15 │ 4.27 ± 0.51 │ 3.19 ± 0.40 │\n",
      "├────┼─────────────┼─────────────┤\n",
      "│ 16 │ 2.78 ± 0.33 │ 5.57 ± 0.65 │\n",
      "├────┼─────────────┼─────────────┤\n",
      "│ 17 │ 4.15 ± 0.49 │ 5.26 ± 0.62 │\n",
      "├────┼─────────────┼─────────────┤\n",
      "│ 18 │ 3.74 ± 0.44 │ 5.50 ± 0.62 │\n",
      "├────┼─────────────┼─────────────┤\n",
      "│ 19 │ 4.04 ± 0.49 │ 3.14 ± 0.40 │\n",
      "├────┼─────────────┼─────────────┤\n",
      "│ 20 │ 3.20 ± 0.41 │ 6.71 ± 0.76 │\n",
      "├────┼─────────────┼─────────────┤\n",
      "│ 21 │ 5.92 ± 0.70 │ 6.44 ± 0.75 │\n",
      "├────┼─────────────┼─────────────┤\n",
      "│ 22 │ 6.83 ± 0.80 │ 4.82 ± 0.57 │\n",
      "├────┼─────────────┼─────────────┤\n",
      "│ 23 │ 3.13 ± 0.41 │ 7.13 ± 0.84 │\n",
      "├────┼─────────────┼─────────────┤\n",
      "│ 24 │ 3.49 ± 0.47 │ 6.02 ± 0.71 │\n",
      "├────┼─────────────┼─────────────┤\n",
      "│ 25 │ 6.08 ± 0.72 │ 6.51 ± 0.78 │\n",
      "├────┼─────────────┼─────────────┤\n",
      "│ 26 │ 10.4 ± 1.2  │ 10.6 ± 1.2  │\n",
      "├────┼─────────────┼─────────────┤\n",
      "│ 27 │ 4.78 ± 0.60 │ 7.69 ± 0.92 │\n",
      "├────┼─────────────┼─────────────┤\n",
      "│ 28 │ 8.12 ± 0.98 │ 20.8 ± 2.4  │\n",
      "├────┼─────────────┼─────────────┤\n",
      "│ 29 │ 23.2 ± 2.6  │ 24.1 ± 2.7  │\n",
      "└────┴─────────────┴─────────────┘\n",
      "2021-08-11 15:17:13,356 - ompy.error_finder - DEBUG - Processing an ensemble with 8 members\n",
      "2021-08-11 15:17:13,357 - ompy.error_finder - DEBUG - Before removing nan: 45 NLD values and 31 GSF values\n",
      "2021-08-11 15:17:13,358 - ompy.error_finder - WARNING - NLDs and/or γSFs contains nan's. They will be removed\n",
      "2021-08-11 15:17:13,359 - ompy.error_finder - DEBUG - After removing nan: 30 NLD values and 30 GSF values\n",
      "2021-08-11 15:17:13,360 - ompy.error_finder - INFO - Starting pyMC3 - logarithmic model\n"
     ]
    },
    {
     "name": "stderr",
     "output_type": "stream",
     "text": [
      "Auto-assigning NUTS sampler...\n",
      "Initializing NUTS using jitter+adapt_diag...\n",
      "Multiprocess sampling (4 chains in 4 jobs)\n",
      "NUTS: [σ_f, σ_ρ, α, F, D, σ_α, σ_F, σ_D]\n"
     ]
    },
    {
     "data": {
      "text/html": [
       "\n",
       "    <div>\n",
       "        <style>\n",
       "            /* Turns off some styling */\n",
       "            progress {\n",
       "                /* gets rid of default border in Firefox and Opera. */\n",
       "                border: none;\n",
       "                /* Needs to be in here for Safari polyfill so background images work as expected. */\n",
       "                background-size: auto;\n",
       "            }\n",
       "            .progress-bar-interrupted, .progress-bar-interrupted::-webkit-progress-bar {\n",
       "                background: #F44336;\n",
       "            }\n",
       "        </style>\n",
       "      <progress value='8000' class='' max='8000' style='width:300px; height:20px; vertical-align: middle;'></progress>\n",
       "      100.00% [8000/8000 00:58<00:00 Sampling 4 chains, 0 divergences]\n",
       "    </div>\n",
       "    "
      ],
      "text/plain": [
       "<IPython.core.display.HTML object>"
      ]
     },
     "metadata": {},
     "output_type": "display_data"
    },
    {
     "name": "stderr",
     "output_type": "stream",
     "text": [
      "Sampling 4 chains for 1_000 tune and 1_000 draw iterations (4_000 + 4_000 draws total) took 67 seconds.\n"
     ]
    },
    {
     "name": "stdout",
     "output_type": "stream",
     "text": [
      "2021-08-11 15:18:30,788 - ompy.error_finder - INFO - Inference results:\n",
      "┌─────────────┬─────────────┬────────────────┬───────────────┬───────────────┬─────────────────┐\n",
      "│ D           │ F           │ α              │ σ_D           │ σ_F           │ σ_α             │\n",
      "╞═════════════╪═════════════╪════════════════╪═══════════════╪═══════════════╪═════════════════╡\n",
      "│ 0.00 ± 0.23 │ 0.00 ± 0.28 │ -0.000 ± 0.073 │ 0.238 ± 0.024 │ 0.287 ± 0.028 │ 0.0747 ± 0.0072 │\n",
      "└─────────────┴─────────────┴────────────────┴───────────────┴───────────────┴─────────────────┘\n",
      "┌────┬─────────────┬─────────────┐\n",
      "│    │ σ_ρ [%]     │ σ_f [%]     │\n",
      "╞════╪═════════════╪═════════════╡\n",
      "│ 0  │ 2.19 ± 0.29 │ 2.51 ± 0.27 │\n",
      "├────┼─────────────┼─────────────┤\n",
      "│ 1  │ 2.23 ± 0.28 │ 4.92 ± 0.48 │\n",
      "├────┼─────────────┼─────────────┤\n",
      "│ 2  │ 3.14 ± 0.33 │ 3.64 ± 0.37 │\n",
      "├────┼─────────────┼─────────────┤\n",
      "│ 3  │ 5.16 ± 0.53 │ 4.67 ± 0.46 │\n",
      "├────┼─────────────┼─────────────┤\n",
      "│ 4  │ 3.37 ± 0.34 │ 1.17 ± 0.17 │\n",
      "├────┼─────────────┼─────────────┤\n",
      "│ 5  │ 3.00 ± 0.31 │ 1.90 ± 0.21 │\n",
      "├────┼─────────────┼─────────────┤\n",
      "│ 6  │ 3.37 ± 0.34 │ 2.22 ± 0.24 │\n",
      "├────┼─────────────┼─────────────┤\n",
      "│ 7  │ 6.16 ± 0.62 │ 1.76 ± 0.20 │\n",
      "├────┼─────────────┼─────────────┤\n",
      "│ 8  │ 3.70 ± 0.37 │ 2.21 ± 0.24 │\n",
      "├────┼─────────────┼─────────────┤\n",
      "│ 9  │ 2.97 ± 0.31 │ 2.01 ± 0.22 │\n",
      "├────┼─────────────┼─────────────┤\n",
      "│ 10 │ 2.14 ± 0.23 │ 1.85 ± 0.20 │\n",
      "├────┼─────────────┼─────────────┤\n",
      "│ 11 │ 2.34 ± 0.24 │ 1.38 ± 0.17 │\n",
      "├────┼─────────────┼─────────────┤\n",
      "│ 12 │ 3.12 ± 0.32 │ 3.30 ± 0.34 │\n",
      "├────┼─────────────┼─────────────┤\n",
      "│ 13 │ 3.47 ± 0.36 │ 3.38 ± 0.34 │\n",
      "├────┼─────────────┼─────────────┤\n",
      "│ 14 │ 1.79 ± 0.20 │ 3.94 ± 0.39 │\n",
      "├────┼─────────────┼─────────────┤\n",
      "│ 15 │ 4.88 ± 0.50 │ 3.26 ± 0.34 │\n",
      "├────┼─────────────┼─────────────┤\n",
      "│ 16 │ 2.60 ± 0.27 │ 5.05 ± 0.50 │\n",
      "├────┼─────────────┼─────────────┤\n",
      "│ 17 │ 4.16 ± 0.42 │ 4.72 ± 0.47 │\n",
      "├────┼─────────────┼─────────────┤\n",
      "│ 18 │ 4.13 ± 0.40 │ 5.84 ± 0.59 │\n",
      "├────┼─────────────┼─────────────┤\n",
      "│ 19 │ 3.89 ± 0.38 │ 2.70 ± 0.30 │\n",
      "├────┼─────────────┼─────────────┤\n",
      "│ 20 │ 3.14 ± 0.33 │ 6.45 ± 0.64 │\n",
      "├────┼─────────────┼─────────────┤\n",
      "│ 21 │ 5.42 ± 0.54 │ 6.28 ± 0.62 │\n",
      "├────┼─────────────┼─────────────┤\n",
      "│ 22 │ 6.46 ± 0.64 │ 5.07 ± 0.53 │\n",
      "├────┼─────────────┼─────────────┤\n",
      "│ 23 │ 3.85 ± 0.41 │ 6.82 ± 0.66 │\n",
      "├────┼─────────────┼─────────────┤\n",
      "│ 24 │ 3.98 ± 0.43 │ 6.91 ± 0.71 │\n",
      "├────┼─────────────┼─────────────┤\n",
      "│ 25 │ 6.04 ± 0.60 │ 7.67 ± 0.77 │\n",
      "├────┼─────────────┼─────────────┤\n",
      "│ 26 │ 8.89 ± 0.90 │ 9.52 ± 0.95 │\n",
      "├────┼─────────────┼─────────────┤\n",
      "│ 27 │ 8.94 ± 0.85 │ 7.29 ± 0.72 │\n",
      "├────┼─────────────┼─────────────┤\n",
      "│ 28 │ 8.15 ± 0.85 │ 19.6 ± 2.0  │\n",
      "├────┼─────────────┼─────────────┤\n",
      "│ 29 │ 21.9 ± 2.1  │ 22.0 ± 2.1  │\n",
      "└────┴─────────────┴─────────────┘\n",
      "2021-08-11 15:18:30,801 - ompy.error_finder - DEBUG - Processing an ensemble with 9 members\n",
      "2021-08-11 15:18:30,802 - ompy.error_finder - DEBUG - Before removing nan: 45 NLD values and 31 GSF values\n",
      "2021-08-11 15:18:30,803 - ompy.error_finder - WARNING - NLDs and/or γSFs contains nan's. They will be removed\n",
      "2021-08-11 15:18:30,804 - ompy.error_finder - DEBUG - After removing nan: 30 NLD values and 30 GSF values\n",
      "2021-08-11 15:18:30,806 - ompy.error_finder - INFO - Starting pyMC3 - logarithmic model\n"
     ]
    },
    {
     "name": "stderr",
     "output_type": "stream",
     "text": [
      "Auto-assigning NUTS sampler...\n",
      "Initializing NUTS using jitter+adapt_diag...\n",
      "Multiprocess sampling (4 chains in 4 jobs)\n",
      "NUTS: [σ_f, σ_ρ, α, F, D, σ_α, σ_F, σ_D]\n"
     ]
    },
    {
     "data": {
      "text/html": [
       "\n",
       "    <div>\n",
       "        <style>\n",
       "            /* Turns off some styling */\n",
       "            progress {\n",
       "                /* gets rid of default border in Firefox and Opera. */\n",
       "                border: none;\n",
       "                /* Needs to be in here for Safari polyfill so background images work as expected. */\n",
       "                background-size: auto;\n",
       "            }\n",
       "            .progress-bar-interrupted, .progress-bar-interrupted::-webkit-progress-bar {\n",
       "                background: #F44336;\n",
       "            }\n",
       "        </style>\n",
       "      <progress value='8000' class='' max='8000' style='width:300px; height:20px; vertical-align: middle;'></progress>\n",
       "      100.00% [8000/8000 01:03<00:00 Sampling 4 chains, 0 divergences]\n",
       "    </div>\n",
       "    "
      ],
      "text/plain": [
       "<IPython.core.display.HTML object>"
      ]
     },
     "metadata": {},
     "output_type": "display_data"
    },
    {
     "name": "stderr",
     "output_type": "stream",
     "text": [
      "Sampling 4 chains for 1_000 tune and 1_000 draw iterations (4_000 + 4_000 draws total) took 73 seconds.\n"
     ]
    },
    {
     "name": "stdout",
     "output_type": "stream",
     "text": [
      "2021-08-11 15:19:55,701 - ompy.error_finder - INFO - Inference results:\n",
      "┌──────────────┬──────────────┬───────────────┬───────────────┬───────────────┬─────────────────┐\n",
      "│ D            │ F            │ α             │ σ_D           │ σ_F           │ σ_α             │\n",
      "╞══════════════╪══════════════╪═══════════════╪═══════════════╪═══════════════╪═════════════════╡\n",
      "│ -0.00 ± 0.22 │ -0.00 ± 0.27 │ 0.000 ± 0.069 │ 0.227 ± 0.019 │ 0.278 ± 0.024 │ 0.0698 ± 0.0063 │\n",
      "└──────────────┴──────────────┴───────────────┴───────────────┴───────────────┴─────────────────┘\n",
      "┌────┬─────────────┬─────────────┐\n",
      "│    │ σ_ρ [%]     │ σ_f [%]     │\n",
      "╞════╪═════════════╪═════════════╡\n",
      "│ 0  │ 2.15 ± 0.25 │ 3.32 ± 0.31 │\n",
      "├────┼─────────────┼─────────────┤\n",
      "│ 1  │ 1.91 ± 0.23 │ 4.46 ± 0.39 │\n",
      "├────┼─────────────┼─────────────┤\n",
      "│ 2  │ 3.08 ± 0.29 │ 3.70 ± 0.33 │\n",
      "├────┼─────────────┼─────────────┤\n",
      "│ 3  │ 4.82 ± 0.43 │ 4.33 ± 0.38 │\n",
      "├────┼─────────────┼─────────────┤\n",
      "│ 4  │ 3.33 ± 0.31 │ 1.39 ± 0.17 │\n",
      "├────┼─────────────┼─────────────┤\n",
      "│ 5  │ 3.14 ± 0.29 │ 2.61 ± 0.24 │\n",
      "├────┼─────────────┼─────────────┤\n",
      "│ 6  │ 3.05 ± 0.28 │ 2.41 ± 0.22 │\n",
      "├────┼─────────────┼─────────────┤\n",
      "│ 7  │ 6.01 ± 0.53 │ 1.42 ± 0.15 │\n",
      "├────┼─────────────┼─────────────┤\n",
      "│ 8  │ 3.22 ± 0.29 │ 2.39 ± 0.23 │\n",
      "├────┼─────────────┼─────────────┤\n",
      "│ 9  │ 3.48 ± 0.31 │ 2.32 ± 0.21 │\n",
      "├────┼─────────────┼─────────────┤\n",
      "│ 10 │ 1.80 ± 0.18 │ 1.59 ± 0.16 │\n",
      "├────┼─────────────┼─────────────┤\n",
      "│ 11 │ 2.49 ± 0.23 │ 1.35 ± 0.14 │\n",
      "├────┼─────────────┼─────────────┤\n",
      "│ 12 │ 3.27 ± 0.30 │ 3.13 ± 0.28 │\n",
      "├────┼─────────────┼─────────────┤\n",
      "│ 13 │ 3.60 ± 0.32 │ 2.84 ± 0.26 │\n",
      "├────┼─────────────┼─────────────┤\n",
      "│ 14 │ 2.56 ± 0.24 │ 3.93 ± 0.35 │\n",
      "├────┼─────────────┼─────────────┤\n",
      "│ 15 │ 4.73 ± 0.41 │ 3.05 ± 0.28 │\n",
      "├────┼─────────────┼─────────────┤\n",
      "│ 16 │ 2.66 ± 0.25 │ 5.07 ± 0.45 │\n",
      "├────┼─────────────┼─────────────┤\n",
      "│ 17 │ 4.63 ± 0.40 │ 4.57 ± 0.41 │\n",
      "├────┼─────────────┼─────────────┤\n",
      "│ 18 │ 4.66 ± 0.41 │ 5.73 ± 0.50 │\n",
      "├────┼─────────────┼─────────────┤\n",
      "│ 19 │ 3.82 ± 0.34 │ 2.59 ± 0.25 │\n",
      "├────┼─────────────┼─────────────┤\n",
      "│ 20 │ 4.09 ± 0.38 │ 8.48 ± 0.73 │\n",
      "├────┼─────────────┼─────────────┤\n",
      "│ 21 │ 4.87 ± 0.44 │ 7.38 ± 0.66 │\n",
      "├────┼─────────────┼─────────────┤\n",
      "│ 22 │ 6.41 ± 0.56 │ 5.42 ± 0.48 │\n",
      "├────┼─────────────┼─────────────┤\n",
      "│ 23 │ 5.39 ± 0.47 │ 6.26 ± 0.53 │\n",
      "├────┼─────────────┼─────────────┤\n",
      "│ 24 │ 4.77 ± 0.46 │ 6.78 ± 0.61 │\n",
      "├────┼─────────────┼─────────────┤\n",
      "│ 25 │ 5.50 ± 0.50 │ 7.09 ± 0.63 │\n",
      "├────┼─────────────┼─────────────┤\n",
      "│ 26 │ 8.50 ± 0.74 │ 9.23 ± 0.80 │\n",
      "├────┼─────────────┼─────────────┤\n",
      "│ 27 │ 8.36 ± 0.74 │ 6.47 ± 0.58 │\n",
      "├────┼─────────────┼─────────────┤\n",
      "│ 28 │ 12.9 ± 1.1  │ 18.4 ± 1.6  │\n",
      "├────┼─────────────┼─────────────┤\n",
      "│ 29 │ 20.6 ± 1.8  │ 20.3 ± 1.8  │\n",
      "└────┴─────────────┴─────────────┘\n",
      "2021-08-11 15:19:55,716 - ompy.error_finder - DEBUG - Processing an ensemble with 10 members\n",
      "2021-08-11 15:19:55,717 - ompy.error_finder - DEBUG - Before removing nan: 45 NLD values and 31 GSF values\n",
      "2021-08-11 15:19:55,718 - ompy.error_finder - WARNING - NLDs and/or γSFs contains nan's. They will be removed\n",
      "2021-08-11 15:19:55,719 - ompy.error_finder - DEBUG - After removing nan: 30 NLD values and 30 GSF values\n",
      "2021-08-11 15:19:55,721 - ompy.error_finder - INFO - Starting pyMC3 - logarithmic model\n"
     ]
    },
    {
     "name": "stderr",
     "output_type": "stream",
     "text": [
      "Auto-assigning NUTS sampler...\n",
      "Initializing NUTS using jitter+adapt_diag...\n",
      "Multiprocess sampling (4 chains in 4 jobs)\n",
      "NUTS: [σ_f, σ_ρ, α, F, D, σ_α, σ_F, σ_D]\n"
     ]
    },
    {
     "data": {
      "text/html": [
       "\n",
       "    <div>\n",
       "        <style>\n",
       "            /* Turns off some styling */\n",
       "            progress {\n",
       "                /* gets rid of default border in Firefox and Opera. */\n",
       "                border: none;\n",
       "                /* Needs to be in here for Safari polyfill so background images work as expected. */\n",
       "                background-size: auto;\n",
       "            }\n",
       "            .progress-bar-interrupted, .progress-bar-interrupted::-webkit-progress-bar {\n",
       "                background: #F44336;\n",
       "            }\n",
       "        </style>\n",
       "      <progress value='8000' class='' max='8000' style='width:300px; height:20px; vertical-align: middle;'></progress>\n",
       "      100.00% [8000/8000 01:13<00:00 Sampling 4 chains, 0 divergences]\n",
       "    </div>\n",
       "    "
      ],
      "text/plain": [
       "<IPython.core.display.HTML object>"
      ]
     },
     "metadata": {},
     "output_type": "display_data"
    },
    {
     "name": "stderr",
     "output_type": "stream",
     "text": [
      "Sampling 4 chains for 1_000 tune and 1_000 draw iterations (4_000 + 4_000 draws total) took 82 seconds.\n"
     ]
    },
    {
     "name": "stdout",
     "output_type": "stream",
     "text": [
      "2021-08-11 15:21:28,106 - ompy.error_finder - INFO - Inference results:\n",
      "┌──────────────┬──────────────┬───────────────┬───────────────┬───────────────┬─────────────────┐\n",
      "│ D            │ F            │ α             │ σ_D           │ σ_F           │ σ_α             │\n",
      "╞══════════════╪══════════════╪═══════════════╪═══════════════╪═══════════════╪═════════════════╡\n",
      "│ -0.00 ± 0.26 │ -0.00 ± 0.26 │ 0.000 ± 0.067 │ 0.267 ± 0.020 │ 0.263 ± 0.020 │ 0.0679 ± 0.0050 │\n",
      "└──────────────┴──────────────┴───────────────┴───────────────┴───────────────┴─────────────────┘\n",
      "┌────┬──────────────┬─────────────┐\n",
      "│    │ σ_ρ [%]      │ σ_f [%]     │\n",
      "╞════╪══════════════╪═════════════╡\n",
      "│ 0  │ 1.93 ± 0.22  │ 4.11 ± 0.33 │\n",
      "├────┼──────────────┼─────────────┤\n",
      "│ 1  │ 1.93 ± 0.21  │ 4.09 ± 0.34 │\n",
      "├────┼──────────────┼─────────────┤\n",
      "│ 2  │ 3.32 ± 0.26  │ 3.58 ± 0.27 │\n",
      "├────┼──────────────┼─────────────┤\n",
      "│ 3  │ 4.63 ± 0.36  │ 4.97 ± 0.39 │\n",
      "├────┼──────────────┼─────────────┤\n",
      "│ 4  │ 3.59 ± 0.29  │ 1.15 ± 0.14 │\n",
      "├────┼──────────────┼─────────────┤\n",
      "│ 5  │ 3.38 ± 0.27  │ 2.52 ± 0.21 │\n",
      "├────┼──────────────┼─────────────┤\n",
      "│ 6  │ 3.17 ± 0.27  │ 2.17 ± 0.18 │\n",
      "├────┼──────────────┼─────────────┤\n",
      "│ 7  │ 6.15 ± 0.48  │ 1.53 ± 0.14 │\n",
      "├────┼──────────────┼─────────────┤\n",
      "│ 8  │ 3.22 ± 0.26  │ 2.31 ± 0.19 │\n",
      "├────┼──────────────┼─────────────┤\n",
      "│ 9  │ 3.39 ± 0.27  │ 2.20 ± 0.18 │\n",
      "├────┼──────────────┼─────────────┤\n",
      "│ 10 │ 1.71 ± 0.16  │ 1.60 ± 0.14 │\n",
      "├────┼──────────────┼─────────────┤\n",
      "│ 11 │ 2.30 ± 0.19  │ 1.47 ± 0.13 │\n",
      "├────┼──────────────┼─────────────┤\n",
      "│ 12 │ 3.06 ± 0.24  │ 2.94 ± 0.23 │\n",
      "├────┼──────────────┼─────────────┤\n",
      "│ 13 │ 3.54 ± 0.28  │ 2.93 ± 0.23 │\n",
      "├────┼──────────────┼─────────────┤\n",
      "│ 14 │ 2.92 ± 0.23  │ 3.47 ± 0.27 │\n",
      "├────┼──────────────┼─────────────┤\n",
      "│ 15 │ 4.48 ± 0.35  │ 2.69 ± 0.22 │\n",
      "├────┼──────────────┼─────────────┤\n",
      "│ 16 │ 2.54 ± 0.21  │ 5.13 ± 0.40 │\n",
      "├────┼──────────────┼─────────────┤\n",
      "│ 17 │ 4.21 ± 0.35  │ 4.63 ± 0.36 │\n",
      "├────┼──────────────┼─────────────┤\n",
      "│ 18 │ 4.35 ± 0.33  │ 5.47 ± 0.41 │\n",
      "├────┼──────────────┼─────────────┤\n",
      "│ 19 │ 3.53 ± 0.30  │ 2.54 ± 0.22 │\n",
      "├────┼──────────────┼─────────────┤\n",
      "│ 20 │ 4.15 ± 0.33  │ 7.84 ± 0.58 │\n",
      "├────┼──────────────┼─────────────┤\n",
      "│ 21 │ 5.25 ± 0.41  │ 6.89 ± 0.54 │\n",
      "├────┼──────────────┼─────────────┤\n",
      "│ 22 │ 6.55 ± 0.50  │ 5.28 ± 0.40 │\n",
      "├────┼──────────────┼─────────────┤\n",
      "│ 23 │ 5.71 ± 0.46  │ 6.38 ± 0.50 │\n",
      "├────┼──────────────┼─────────────┤\n",
      "│ 24 │ 4.41 ± 0.38  │ 5.69 ± 0.45 │\n",
      "├────┼──────────────┼─────────────┤\n",
      "│ 25 │ 5.09 ± 0.41  │ 7.27 ± 0.56 │\n",
      "├────┼──────────────┼─────────────┤\n",
      "│ 26 │ 8.14 ± 0.63  │ 9.80 ± 0.75 │\n",
      "├────┼──────────────┼─────────────┤\n",
      "│ 27 │ 7.64 ± 0.60  │ 6.46 ± 0.52 │\n",
      "├────┼──────────────┼─────────────┤\n",
      "│ 28 │ 12.73 ± 1.00 │ 17.3 ± 1.3  │\n",
      "├────┼──────────────┼─────────────┤\n",
      "│ 29 │ 19.5 ± 1.5   │ 19.1 ± 1.4  │\n",
      "└────┴──────────────┴─────────────┘\n",
      "2021-08-11 15:21:28,124 - ompy.error_finder - DEBUG - Processing an ensemble with 11 members\n",
      "2021-08-11 15:21:28,125 - ompy.error_finder - DEBUG - Before removing nan: 45 NLD values and 31 GSF values\n",
      "2021-08-11 15:21:28,126 - ompy.error_finder - WARNING - NLDs and/or γSFs contains nan's. They will be removed\n",
      "2021-08-11 15:21:28,127 - ompy.error_finder - DEBUG - After removing nan: 30 NLD values and 30 GSF values\n",
      "2021-08-11 15:21:28,128 - ompy.error_finder - INFO - Starting pyMC3 - logarithmic model\n"
     ]
    },
    {
     "name": "stderr",
     "output_type": "stream",
     "text": [
      "Auto-assigning NUTS sampler...\n",
      "Initializing NUTS using jitter+adapt_diag...\n",
      "Multiprocess sampling (4 chains in 4 jobs)\n",
      "NUTS: [σ_f, σ_ρ, α, F, D, σ_α, σ_F, σ_D]\n"
     ]
    },
    {
     "data": {
      "text/html": [
       "\n",
       "    <div>\n",
       "        <style>\n",
       "            /* Turns off some styling */\n",
       "            progress {\n",
       "                /* gets rid of default border in Firefox and Opera. */\n",
       "                border: none;\n",
       "                /* Needs to be in here for Safari polyfill so background images work as expected. */\n",
       "                background-size: auto;\n",
       "            }\n",
       "            .progress-bar-interrupted, .progress-bar-interrupted::-webkit-progress-bar {\n",
       "                background: #F44336;\n",
       "            }\n",
       "        </style>\n",
       "      <progress value='8000' class='' max='8000' style='width:300px; height:20px; vertical-align: middle;'></progress>\n",
       "      100.00% [8000/8000 01:27<00:00 Sampling 4 chains, 0 divergences]\n",
       "    </div>\n",
       "    "
      ],
      "text/plain": [
       "<IPython.core.display.HTML object>"
      ]
     },
     "metadata": {},
     "output_type": "display_data"
    },
    {
     "name": "stderr",
     "output_type": "stream",
     "text": [
      "Sampling 4 chains for 1_000 tune and 1_000 draw iterations (4_000 + 4_000 draws total) took 97 seconds.\n"
     ]
    },
    {
     "name": "stdout",
     "output_type": "stream",
     "text": [
      "2021-08-11 15:23:18,282 - ompy.error_finder - INFO - Inference results:\n",
      "┌─────────────┬─────────────┬────────────────┬───────────────┬───────────────┬─────────────────┐\n",
      "│ D           │ F           │ α              │ σ_D           │ σ_F           │ σ_α             │\n",
      "╞═════════════╪═════════════╪════════════════╪═══════════════╪═══════════════╪═════════════════╡\n",
      "│ 0.00 ± 0.24 │ 0.00 ± 0.27 │ -0.000 ± 0.066 │ 0.245 ± 0.017 │ 0.270 ± 0.018 │ 0.0665 ± 0.0047 │\n",
      "└─────────────┴─────────────┴────────────────┴───────────────┴───────────────┴─────────────────┘\n",
      "┌────┬──────────────┬──────────────┐\n",
      "│    │ σ_ρ [%]      │ σ_f [%]      │\n",
      "╞════╪══════════════╪══════════════╡\n",
      "│ 0  │ 2.01 ± 0.20  │ 4.70 ± 0.33  │\n",
      "├────┼──────────────┼──────────────┤\n",
      "│ 1  │ 1.64 ± 0.19  │ 4.03 ± 0.29  │\n",
      "├────┼──────────────┼──────────────┤\n",
      "│ 2  │ 3.42 ± 0.25  │ 3.26 ± 0.24  │\n",
      "├────┼──────────────┼──────────────┤\n",
      "│ 3  │ 4.48 ± 0.31  │ 5.77 ± 0.40  │\n",
      "├────┼──────────────┼──────────────┤\n",
      "│ 4  │ 3.33 ± 0.24  │ 1.33 ± 0.12  │\n",
      "├────┼──────────────┼──────────────┤\n",
      "│ 5  │ 3.08 ± 0.22  │ 2.44 ± 0.18  │\n",
      "├────┼──────────────┼──────────────┤\n",
      "│ 6  │ 3.03 ± 0.22  │ 2.92 ± 0.21  │\n",
      "├────┼──────────────┼──────────────┤\n",
      "│ 7  │ 6.22 ± 0.43  │ 1.30 ± 0.11  │\n",
      "├────┼──────────────┼──────────────┤\n",
      "│ 8  │ 3.22 ± 0.23  │ 2.67 ± 0.19  │\n",
      "├────┼──────────────┼──────────────┤\n",
      "│ 9  │ 3.41 ± 0.25  │ 2.15 ± 0.15  │\n",
      "├────┼──────────────┼──────────────┤\n",
      "│ 10 │ 1.72 ± 0.15  │ 1.43 ± 0.12  │\n",
      "├────┼──────────────┼──────────────┤\n",
      "│ 11 │ 3.37 ± 0.24  │ 2.18 ± 0.16  │\n",
      "├────┼──────────────┼──────────────┤\n",
      "│ 12 │ 3.01 ± 0.22  │ 3.06 ± 0.22  │\n",
      "├────┼──────────────┼──────────────┤\n",
      "│ 13 │ 3.75 ± 0.27  │ 2.65 ± 0.19  │\n",
      "├────┼──────────────┼──────────────┤\n",
      "│ 14 │ 2.82 ± 0.21  │ 3.67 ± 0.26  │\n",
      "├────┼──────────────┼──────────────┤\n",
      "│ 15 │ 4.66 ± 0.33  │ 2.53 ± 0.18  │\n",
      "├────┼──────────────┼──────────────┤\n",
      "│ 16 │ 2.45 ± 0.19  │ 4.70 ± 0.33  │\n",
      "├────┼──────────────┼──────────────┤\n",
      "│ 17 │ 4.45 ± 0.31  │ 4.26 ± 0.30  │\n",
      "├────┼──────────────┼──────────────┤\n",
      "│ 18 │ 4.44 ± 0.32  │ 5.23 ± 0.37  │\n",
      "├────┼──────────────┼──────────────┤\n",
      "│ 19 │ 3.76 ± 0.28  │ 2.48 ± 0.19  │\n",
      "├────┼──────────────┼──────────────┤\n",
      "│ 20 │ 3.91 ± 0.29  │ 7.96 ± 0.57  │\n",
      "├────┼──────────────┼──────────────┤\n",
      "│ 21 │ 5.03 ± 0.36  │ 6.64 ± 0.47  │\n",
      "├────┼──────────────┼──────────────┤\n",
      "│ 22 │ 6.22 ± 0.44  │ 5.38 ± 0.39  │\n",
      "├────┼──────────────┼──────────────┤\n",
      "│ 23 │ 5.38 ± 0.39  │ 6.27 ± 0.45  │\n",
      "├────┼──────────────┼──────────────┤\n",
      "│ 24 │ 4.73 ± 0.36  │ 5.66 ± 0.40  │\n",
      "├────┼──────────────┼──────────────┤\n",
      "│ 25 │ 4.78 ± 0.35  │ 6.91 ± 0.49  │\n",
      "├────┼──────────────┼──────────────┤\n",
      "│ 26 │ 7.80 ± 0.56  │ 10.34 ± 0.71 │\n",
      "├────┼──────────────┼──────────────┤\n",
      "│ 27 │ 7.34 ± 0.53  │ 6.59 ± 0.47  │\n",
      "├────┼──────────────┼──────────────┤\n",
      "│ 28 │ 12.21 ± 0.83 │ 16.8 ± 1.2   │\n",
      "├────┼──────────────┼──────────────┤\n",
      "│ 29 │ 21.5 ± 1.5   │ 19.0 ± 1.3   │\n",
      "└────┴──────────────┴──────────────┘\n",
      "2021-08-11 15:23:18,303 - ompy.error_finder - DEBUG - Processing an ensemble with 12 members\n",
      "2021-08-11 15:23:18,304 - ompy.error_finder - DEBUG - Before removing nan: 45 NLD values and 31 GSF values\n",
      "2021-08-11 15:23:18,307 - ompy.error_finder - WARNING - NLDs and/or γSFs contains nan's. They will be removed\n",
      "2021-08-11 15:23:18,307 - ompy.error_finder - DEBUG - After removing nan: 30 NLD values and 30 GSF values\n",
      "2021-08-11 15:23:18,310 - ompy.error_finder - INFO - Starting pyMC3 - logarithmic model\n"
     ]
    },
    {
     "name": "stderr",
     "output_type": "stream",
     "text": [
      "Auto-assigning NUTS sampler...\n",
      "Initializing NUTS using jitter+adapt_diag...\n",
      "Multiprocess sampling (4 chains in 4 jobs)\n",
      "NUTS: [σ_f, σ_ρ, α, F, D, σ_α, σ_F, σ_D]\n"
     ]
    },
    {
     "data": {
      "text/html": [
       "\n",
       "    <div>\n",
       "        <style>\n",
       "            /* Turns off some styling */\n",
       "            progress {\n",
       "                /* gets rid of default border in Firefox and Opera. */\n",
       "                border: none;\n",
       "                /* Needs to be in here for Safari polyfill so background images work as expected. */\n",
       "                background-size: auto;\n",
       "            }\n",
       "            .progress-bar-interrupted, .progress-bar-interrupted::-webkit-progress-bar {\n",
       "                background: #F44336;\n",
       "            }\n",
       "        </style>\n",
       "      <progress value='8000' class='' max='8000' style='width:300px; height:20px; vertical-align: middle;'></progress>\n",
       "      100.00% [8000/8000 01:38<00:00 Sampling 4 chains, 0 divergences]\n",
       "    </div>\n",
       "    "
      ],
      "text/plain": [
       "<IPython.core.display.HTML object>"
      ]
     },
     "metadata": {},
     "output_type": "display_data"
    },
    {
     "name": "stderr",
     "output_type": "stream",
     "text": [
      "Sampling 4 chains for 1_000 tune and 1_000 draw iterations (4_000 + 4_000 draws total) took 109 seconds.\n"
     ]
    },
    {
     "name": "stdout",
     "output_type": "stream",
     "text": [
      "2021-08-11 15:25:18,522 - ompy.error_finder - INFO - Inference results:\n",
      "┌──────────────┬──────────────┬───────────────┬───────────────┬───────────────┬─────────────────┐\n",
      "│ D            │ F            │ α             │ σ_D           │ σ_F           │ σ_α             │\n",
      "╞══════════════╪══════════════╪═══════════════╪═══════════════╪═══════════════╪═════════════════╡\n",
      "│ -0.00 ± 0.24 │ -0.00 ± 0.26 │ 0.000 ± 0.062 │ 0.244 ± 0.016 │ 0.263 ± 0.016 │ 0.0627 ± 0.0038 │\n",
      "└──────────────┴──────────────┴───────────────┴───────────────┴───────────────┴─────────────────┘\n",
      "┌────┬──────────────┬──────────────┐\n",
      "│    │ σ_ρ [%]      │ σ_f [%]      │\n",
      "╞════╪══════════════╪══════════════╡\n",
      "│ 0  │ 1.65 ± 0.17  │ 4.53 ± 0.30  │\n",
      "├────┼──────────────┼──────────────┤\n",
      "│ 1  │ 2.11 ± 0.18  │ 3.82 ± 0.25  │\n",
      "├────┼──────────────┼──────────────┤\n",
      "│ 2  │ 3.94 ± 0.26  │ 4.11 ± 0.26  │\n",
      "├────┼──────────────┼──────────────┤\n",
      "│ 3  │ 4.39 ± 0.29  │ 5.47 ± 0.35  │\n",
      "├────┼──────────────┼──────────────┤\n",
      "│ 4  │ 3.22 ± 0.22  │ 1.87 ± 0.14  │\n",
      "├────┼──────────────┼──────────────┤\n",
      "│ 5  │ 3.59 ± 0.24  │ 2.60 ± 0.17  │\n",
      "├────┼──────────────┼──────────────┤\n",
      "│ 6  │ 3.34 ± 0.22  │ 2.84 ± 0.18  │\n",
      "├────┼──────────────┼──────────────┤\n",
      "│ 7  │ 5.92 ± 0.37  │ 1.60 ± 0.12  │\n",
      "├────┼──────────────┼──────────────┤\n",
      "│ 8  │ 3.19 ± 0.21  │ 2.45 ± 0.16  │\n",
      "├────┼──────────────┼──────────────┤\n",
      "│ 9  │ 3.48 ± 0.22  │ 2.15 ± 0.15  │\n",
      "├────┼──────────────┼──────────────┤\n",
      "│ 10 │ 1.55 ± 0.13  │ 1.53 ± 0.11  │\n",
      "├────┼──────────────┼──────────────┤\n",
      "│ 11 │ 3.39 ± 0.22  │ 2.35 ± 0.16  │\n",
      "├────┼──────────────┼──────────────┤\n",
      "│ 12 │ 3.00 ± 0.20  │ 3.18 ± 0.21  │\n",
      "├────┼──────────────┼──────────────┤\n",
      "│ 13 │ 3.75 ± 0.24  │ 2.56 ± 0.16  │\n",
      "├────┼──────────────┼──────────────┤\n",
      "│ 14 │ 2.57 ± 0.18  │ 3.54 ± 0.23  │\n",
      "├────┼──────────────┼──────────────┤\n",
      "│ 15 │ 4.47 ± 0.29  │ 2.76 ± 0.18  │\n",
      "├────┼──────────────┼──────────────┤\n",
      "│ 16 │ 2.76 ± 0.19  │ 4.23 ± 0.27  │\n",
      "├────┼──────────────┼──────────────┤\n",
      "│ 17 │ 4.33 ± 0.27  │ 4.05 ± 0.26  │\n",
      "├────┼──────────────┼──────────────┤\n",
      "│ 18 │ 4.69 ± 0.29  │ 4.99 ± 0.32  │\n",
      "├────┼──────────────┼──────────────┤\n",
      "│ 19 │ 3.83 ± 0.25  │ 2.64 ± 0.18  │\n",
      "├────┼──────────────┼──────────────┤\n",
      "│ 20 │ 4.04 ± 0.27  │ 7.92 ± 0.51  │\n",
      "├────┼──────────────┼──────────────┤\n",
      "│ 21 │ 4.78 ± 0.31  │ 6.34 ± 0.41  │\n",
      "├────┼──────────────┼──────────────┤\n",
      "│ 22 │ 6.11 ± 0.40  │ 5.30 ± 0.34  │\n",
      "├────┼──────────────┼──────────────┤\n",
      "│ 23 │ 5.33 ± 0.35  │ 5.92 ± 0.38  │\n",
      "├────┼──────────────┼──────────────┤\n",
      "│ 24 │ 5.37 ± 0.36  │ 6.16 ± 0.41  │\n",
      "├────┼──────────────┼──────────────┤\n",
      "│ 25 │ 5.02 ± 0.34  │ 7.48 ± 0.46  │\n",
      "├────┼──────────────┼──────────────┤\n",
      "│ 26 │ 7.38 ± 0.46  │ 10.57 ± 0.69 │\n",
      "├────┼──────────────┼──────────────┤\n",
      "│ 27 │ 7.28 ± 0.46  │ 6.96 ± 0.45  │\n",
      "├────┼──────────────┼──────────────┤\n",
      "│ 28 │ 11.52 ± 0.74 │ 16.1 ± 1.0   │\n",
      "├────┼──────────────┼──────────────┤\n",
      "│ 29 │ 21.5 ± 1.4   │ 20.5 ± 1.3   │\n",
      "└────┴──────────────┴──────────────┘\n",
      "2021-08-11 15:25:18,546 - ompy.error_finder - DEBUG - Processing an ensemble with 13 members\n",
      "2021-08-11 15:25:18,547 - ompy.error_finder - DEBUG - Before removing nan: 45 NLD values and 31 GSF values\n",
      "2021-08-11 15:25:18,549 - ompy.error_finder - WARNING - NLDs and/or γSFs contains nan's. They will be removed\n",
      "2021-08-11 15:25:18,549 - ompy.error_finder - DEBUG - After removing nan: 30 NLD values and 30 GSF values\n",
      "2021-08-11 15:25:18,551 - ompy.error_finder - INFO - Starting pyMC3 - logarithmic model\n"
     ]
    },
    {
     "name": "stderr",
     "output_type": "stream",
     "text": [
      "Auto-assigning NUTS sampler...\n",
      "Initializing NUTS using jitter+adapt_diag...\n",
      "Multiprocess sampling (4 chains in 4 jobs)\n",
      "NUTS: [σ_f, σ_ρ, α, F, D, σ_α, σ_F, σ_D]\n"
     ]
    },
    {
     "data": {
      "text/html": [
       "\n",
       "    <div>\n",
       "        <style>\n",
       "            /* Turns off some styling */\n",
       "            progress {\n",
       "                /* gets rid of default border in Firefox and Opera. */\n",
       "                border: none;\n",
       "                /* Needs to be in here for Safari polyfill so background images work as expected. */\n",
       "                background-size: auto;\n",
       "            }\n",
       "            .progress-bar-interrupted, .progress-bar-interrupted::-webkit-progress-bar {\n",
       "                background: #F44336;\n",
       "            }\n",
       "        </style>\n",
       "      <progress value='8000' class='' max='8000' style='width:300px; height:20px; vertical-align: middle;'></progress>\n",
       "      100.00% [8000/8000 01:58<00:00 Sampling 4 chains, 0 divergences]\n",
       "    </div>\n",
       "    "
      ],
      "text/plain": [
       "<IPython.core.display.HTML object>"
      ]
     },
     "metadata": {},
     "output_type": "display_data"
    },
    {
     "name": "stderr",
     "output_type": "stream",
     "text": [
      "Sampling 4 chains for 1_000 tune and 1_000 draw iterations (4_000 + 4_000 draws total) took 128 seconds.\n"
     ]
    },
    {
     "name": "stdout",
     "output_type": "stream",
     "text": [
      "2021-08-11 15:27:42,131 - ompy.error_finder - INFO - Inference results:\n",
      "┌─────────────┬──────────────┬────────────────┬───────────────┬───────────────┬─────────────────┐\n",
      "│ D           │ F            │ α              │ σ_D           │ σ_F           │ σ_α             │\n",
      "╞═════════════╪══════════════╪════════════════╪═══════════════╪═══════════════╪═════════════════╡\n",
      "│ 0.00 ± 0.25 │ -0.00 ± 0.26 │ -0.000 ± 0.062 │ 0.250 ± 0.014 │ 0.258 ± 0.015 │ 0.0623 ± 0.0035 │\n",
      "└─────────────┴──────────────┴────────────────┴───────────────┴───────────────┴─────────────────┘\n",
      "┌────┬──────────────┬──────────────┐\n",
      "│    │ σ_ρ [%]      │ σ_f [%]      │\n",
      "╞════╪══════════════╪══════════════╡\n",
      "│ 0  │ 1.56 ± 0.15  │ 4.46 ± 0.26  │\n",
      "├────┼──────────────┼──────────────┤\n",
      "│ 1  │ 2.14 ± 0.16  │ 3.91 ± 0.24  │\n",
      "├────┼──────────────┼──────────────┤\n",
      "│ 2  │ 3.82 ± 0.24  │ 3.97 ± 0.24  │\n",
      "├────┼──────────────┼──────────────┤\n",
      "│ 3  │ 4.52 ± 0.28  │ 5.29 ± 0.31  │\n",
      "├────┼──────────────┼──────────────┤\n",
      "│ 4  │ 5.44 ± 0.33  │ 1.88 ± 0.13  │\n",
      "├────┼──────────────┼──────────────┤\n",
      "│ 5  │ 3.49 ± 0.21  │ 2.48 ± 0.15  │\n",
      "├────┼──────────────┼──────────────┤\n",
      "│ 6  │ 3.51 ± 0.22  │ 2.65 ± 0.16  │\n",
      "├────┼──────────────┼──────────────┤\n",
      "│ 7  │ 6.12 ± 0.35  │ 1.49 ± 0.10  │\n",
      "├────┼──────────────┼──────────────┤\n",
      "│ 8  │ 3.40 ± 0.20  │ 2.44 ± 0.15  │\n",
      "├────┼──────────────┼──────────────┤\n",
      "│ 9  │ 3.38 ± 0.21  │ 2.12 ± 0.13  │\n",
      "├────┼──────────────┼──────────────┤\n",
      "│ 10 │ 1.79 ± 0.12  │ 1.58 ± 0.11  │\n",
      "├────┼──────────────┼──────────────┤\n",
      "│ 11 │ 3.32 ± 0.20  │ 2.20 ± 0.14  │\n",
      "├────┼──────────────┼──────────────┤\n",
      "│ 12 │ 3.19 ± 0.19  │ 3.23 ± 0.19  │\n",
      "├────┼──────────────┼──────────────┤\n",
      "│ 13 │ 3.49 ± 0.21  │ 2.48 ± 0.15  │\n",
      "├────┼──────────────┼──────────────┤\n",
      "│ 14 │ 2.46 ± 0.16  │ 3.34 ± 0.21  │\n",
      "├────┼──────────────┼──────────────┤\n",
      "│ 15 │ 4.87 ± 0.28  │ 2.71 ± 0.17  │\n",
      "├────┼──────────────┼──────────────┤\n",
      "│ 16 │ 2.65 ± 0.17  │ 4.38 ± 0.25  │\n",
      "├────┼──────────────┼──────────────┤\n",
      "│ 17 │ 4.20 ± 0.25  │ 4.02 ± 0.24  │\n",
      "├────┼──────────────┼──────────────┤\n",
      "│ 18 │ 4.65 ± 0.28  │ 4.98 ± 0.30  │\n",
      "├────┼──────────────┼──────────────┤\n",
      "│ 19 │ 3.68 ± 0.23  │ 2.55 ± 0.16  │\n",
      "├────┼──────────────┼──────────────┤\n",
      "│ 20 │ 3.89 ± 0.24  │ 7.59 ± 0.44  │\n",
      "├────┼──────────────┼──────────────┤\n",
      "│ 21 │ 4.73 ± 0.29  │ 6.12 ± 0.36  │\n",
      "├────┼──────────────┼──────────────┤\n",
      "│ 22 │ 6.04 ± 0.37  │ 5.16 ± 0.31  │\n",
      "├────┼──────────────┼──────────────┤\n",
      "│ 23 │ 6.70 ± 0.40  │ 6.31 ± 0.37  │\n",
      "├────┼──────────────┼──────────────┤\n",
      "│ 24 │ 5.36 ± 0.34  │ 5.87 ± 0.35  │\n",
      "├────┼──────────────┼──────────────┤\n",
      "│ 25 │ 4.91 ± 0.30  │ 7.11 ± 0.42  │\n",
      "├────┼──────────────┼──────────────┤\n",
      "│ 26 │ 7.15 ± 0.43  │ 10.28 ± 0.58 │\n",
      "├────┼──────────────┼──────────────┤\n",
      "│ 27 │ 7.13 ± 0.42  │ 7.75 ± 0.45  │\n",
      "├────┼──────────────┼──────────────┤\n",
      "│ 28 │ 11.68 ± 0.69 │ 15.85 ± 0.90 │\n",
      "├────┼──────────────┼──────────────┤\n",
      "│ 29 │ 21.1 ± 1.2   │ 19.9 ± 1.1   │\n",
      "└────┴──────────────┴──────────────┘\n",
      "2021-08-11 15:27:42,138 - ompy.error_finder - DEBUG - Processing an ensemble with 14 members\n",
      "2021-08-11 15:27:42,139 - ompy.error_finder - DEBUG - Before removing nan: 45 NLD values and 31 GSF values\n",
      "2021-08-11 15:27:42,141 - ompy.error_finder - WARNING - NLDs and/or γSFs contains nan's. They will be removed\n",
      "2021-08-11 15:27:42,141 - ompy.error_finder - DEBUG - After removing nan: 30 NLD values and 30 GSF values\n",
      "2021-08-11 15:27:42,145 - ompy.error_finder - INFO - Starting pyMC3 - logarithmic model\n"
     ]
    },
    {
     "name": "stderr",
     "output_type": "stream",
     "text": [
      "Auto-assigning NUTS sampler...\n",
      "Initializing NUTS using jitter+adapt_diag...\n",
      "Multiprocess sampling (4 chains in 4 jobs)\n",
      "NUTS: [σ_f, σ_ρ, α, F, D, σ_α, σ_F, σ_D]\n"
     ]
    },
    {
     "data": {
      "text/html": [
       "\n",
       "    <div>\n",
       "        <style>\n",
       "            /* Turns off some styling */\n",
       "            progress {\n",
       "                /* gets rid of default border in Firefox and Opera. */\n",
       "                border: none;\n",
       "                /* Needs to be in here for Safari polyfill so background images work as expected. */\n",
       "                background-size: auto;\n",
       "            }\n",
       "            .progress-bar-interrupted, .progress-bar-interrupted::-webkit-progress-bar {\n",
       "                background: #F44336;\n",
       "            }\n",
       "        </style>\n",
       "      <progress value='8000' class='' max='8000' style='width:300px; height:20px; vertical-align: middle;'></progress>\n",
       "      100.00% [8000/8000 02:39<00:00 Sampling 4 chains, 0 divergences]\n",
       "    </div>\n",
       "    "
      ],
      "text/plain": [
       "<IPython.core.display.HTML object>"
      ]
     },
     "metadata": {},
     "output_type": "display_data"
    },
    {
     "name": "stderr",
     "output_type": "stream",
     "text": [
      "Sampling 4 chains for 1_000 tune and 1_000 draw iterations (4_000 + 4_000 draws total) took 172 seconds.\n"
     ]
    },
    {
     "name": "stdout",
     "output_type": "stream",
     "text": [
      "2021-08-11 15:30:49,960 - ompy.error_finder - INFO - Inference results:\n",
      "┌─────────────┬─────────────┬────────────────┬───────────────┬───────────────┬─────────────────┐\n",
      "│ D           │ F           │ α              │ σ_D           │ σ_F           │ σ_α             │\n",
      "╞═════════════╪═════════════╪════════════════╪═══════════════╪═══════════════╪═════════════════╡\n",
      "│ 0.00 ± 0.28 │ 0.00 ± 0.27 │ -0.000 ± 0.067 │ 0.277 ± 0.015 │ 0.277 ± 0.014 │ 0.0674 ± 0.0035 │\n",
      "└─────────────┴─────────────┴────────────────┴───────────────┴───────────────┴─────────────────┘\n",
      "┌────┬──────────────┬───────────────┐\n",
      "│    │ σ_ρ [%]      │ σ_f [%]       │\n",
      "╞════╪══════════════╪═══════════════╡\n",
      "│ 0  │ 1.57 ± 0.14  │ 4.22 ± 0.23   │\n",
      "├────┼──────────────┼───────────────┤\n",
      "│ 1  │ 2.08 ± 0.15  │ 3.81 ± 0.21   │\n",
      "├────┼──────────────┼───────────────┤\n",
      "│ 2  │ 4.02 ± 0.23  │ 3.80 ± 0.21   │\n",
      "├────┼──────────────┼───────────────┤\n",
      "│ 3  │ 4.37 ± 0.24  │ 5.04 ± 0.27   │\n",
      "├────┼──────────────┼───────────────┤\n",
      "│ 4  │ 5.32 ± 0.29  │ 1.83 ± 0.12   │\n",
      "├────┼──────────────┼───────────────┤\n",
      "│ 5  │ 3.60 ± 0.20  │ 2.43 ± 0.14   │\n",
      "├────┼──────────────┼───────────────┤\n",
      "│ 6  │ 4.06 ± 0.22  │ 2.56 ± 0.15   │\n",
      "├────┼──────────────┼───────────────┤\n",
      "│ 7  │ 5.69 ± 0.31  │ 1.469 ± 0.096 │\n",
      "├────┼──────────────┼───────────────┤\n",
      "│ 8  │ 3.92 ± 0.21  │ 2.43 ± 0.14   │\n",
      "├────┼──────────────┼───────────────┤\n",
      "│ 9  │ 3.67 ± 0.20  │ 2.37 ± 0.14   │\n",
      "├────┼──────────────┼───────────────┤\n",
      "│ 10 │ 1.82 ± 0.11  │ 2.19 ± 0.12   │\n",
      "├────┼──────────────┼───────────────┤\n",
      "│ 11 │ 3.17 ± 0.17  │ 2.16 ± 0.13   │\n",
      "├────┼──────────────┼───────────────┤\n",
      "│ 12 │ 3.24 ± 0.18  │ 3.28 ± 0.18   │\n",
      "├────┼──────────────┼───────────────┤\n",
      "│ 13 │ 3.40 ± 0.19  │ 2.78 ± 0.15   │\n",
      "├────┼──────────────┼───────────────┤\n",
      "│ 14 │ 2.30 ± 0.14  │ 3.21 ± 0.18   │\n",
      "├────┼──────────────┼───────────────┤\n",
      "│ 15 │ 4.86 ± 0.26  │ 2.55 ± 0.14   │\n",
      "├────┼──────────────┼───────────────┤\n",
      "│ 16 │ 3.77 ± 0.21  │ 4.17 ± 0.22   │\n",
      "├────┼──────────────┼───────────────┤\n",
      "│ 17 │ 4.54 ± 0.25  │ 3.87 ± 0.21   │\n",
      "├────┼──────────────┼───────────────┤\n",
      "│ 18 │ 4.51 ± 0.26  │ 4.93 ± 0.27   │\n",
      "├────┼──────────────┼───────────────┤\n",
      "│ 19 │ 4.26 ± 0.24  │ 2.83 ± 0.16   │\n",
      "├────┼──────────────┼───────────────┤\n",
      "│ 20 │ 3.71 ± 0.22  │ 8.13 ± 0.45   │\n",
      "├────┼──────────────┼───────────────┤\n",
      "│ 21 │ 4.55 ± 0.26  │ 5.84 ± 0.31   │\n",
      "├────┼──────────────┼───────────────┤\n",
      "│ 22 │ 5.87 ± 0.32  │ 5.00 ± 0.27   │\n",
      "├────┼──────────────┼───────────────┤\n",
      "│ 23 │ 6.56 ± 0.36  │ 6.63 ± 0.36   │\n",
      "├────┼──────────────┼───────────────┤\n",
      "│ 24 │ 5.31 ± 0.30  │ 5.61 ± 0.32   │\n",
      "├────┼──────────────┼───────────────┤\n",
      "│ 25 │ 4.73 ± 0.27  │ 6.70 ± 0.37   │\n",
      "├────┼──────────────┼───────────────┤\n",
      "│ 26 │ 7.32 ± 0.40  │ 10.69 ± 0.59  │\n",
      "├────┼──────────────┼───────────────┤\n",
      "│ 27 │ 6.94 ± 0.38  │ 7.61 ± 0.41   │\n",
      "├────┼──────────────┼───────────────┤\n",
      "│ 28 │ 11.93 ± 0.65 │ 15.57 ± 0.85  │\n",
      "├────┼──────────────┼───────────────┤\n",
      "│ 29 │ 20.0 ± 1.1   │ 22.8 ± 1.2    │\n",
      "└────┴──────────────┴───────────────┘\n"
     ]
    }
   ],
   "source": [
    "nld_ens_errors = []\n",
    "gsf_ens_errors = []\n",
    "for extractor in extractors_ens:\n",
    "    nld_err, gsf_err = error_estimator.evaluate(extractor.nld, extractor.gsf)\n",
    "    nld_ens_errors.append(nld_err.copy())\n",
    "    gsf_ens_errors.append(gsf_err.copy())"
   ]
  },
  {
   "cell_type": "code",
   "execution_count": 123,
   "id": "995621af-f7b1-4d40-a0a0-b1ec9c0b989a",
   "metadata": {},
   "outputs": [
    {
     "data": {
      "application/vnd.jupyter.widget-view+json": {
       "model_id": "02c573c75f9241d185c61700b72640f9",
       "version_major": 2,
       "version_minor": 0
      },
      "text/plain": [
       "Canvas(toolbar=Toolbar(toolitems=[('Home', 'Reset original view', 'home', 'home'), ('Back', 'Back to previous …"
      ]
     },
     "metadata": {},
     "output_type": "display_data"
    }
   ],
   "source": [
    "def make_vec(nlds, point, counts=np.array(range(3,15))):\n",
    "    return om.Vector(E=np.array(counts),\n",
    "                     values=np.array([nld.std[nld.index(point)] for nld in nlds])/np.array([nld.values[nld.index(point)] for nld in nlds]))\n",
    "\n",
    "nld_0MeV = make_vec(nld_ens_errors, 1)\n",
    "nld_0MeV.values *= 100.\n",
    "#nld_0MeV.save(\"nld_ens1MeV.csv\", sep=\"\\t\")\n",
    "nld_2MeV = make_vec(nld_ens_errors, 3)\n",
    "nld_2MeV.values *= 100.\n",
    "#nld_2MeV.save(\"nld_ens3MeV.csv\", sep=\"\\t\")\n",
    "nld_4MeV = make_vec(nld_ens_errors, 5)\n",
    "nld_4MeV.values *= 100.\n",
    "#nld_4MeV.save(\"nld_ens5MeV.csv\", sep=\"\\t\")\n",
    "\n",
    "_, ax = nld_0MeV.plot(label=r\"$E_x = 1$ MeV\", linestyle='')\n",
    "nld_2MeV.plot(ax=ax, label=r\"$E_x = 3$ MeV\", linestyle='')\n",
    "nld_4MeV.plot(ax=ax, label=r\"$E_x = 5$ MeV\", linestyle='')\n",
    "ax.plot(np.linspace(3, 14, 1001), 10.*np.sqrt(8.*7.)/np.sqrt(np.linspace(3, 14, 1001)*(np.linspace(3, 14, 1001)-1)))\n",
    "ax.set_xlabel(\"Ensemble members\")\n",
    "ax.set_ylabel(\"Relative error [%]\")\n",
    "ax.legend(loc='best');"
   ]
  },
  {
   "cell_type": "code",
   "execution_count": null,
   "id": "e330b7e7-2180-48c6-ba73-87ce6b898b4e",
   "metadata": {},
   "outputs": [],
   "source": []
  }
 ],
 "metadata": {
  "kernelspec": {
   "display_name": "Python 3 (ipykernel)",
   "language": "python",
   "name": "python3"
  },
  "language_info": {
   "codemirror_mode": {
    "name": "ipython",
    "version": 3
   },
   "file_extension": ".py",
   "mimetype": "text/x-python",
   "name": "python",
   "nbconvert_exporter": "python",
   "pygments_lexer": "ipython3",
   "version": "3.9.6"
  }
 },
 "nbformat": 4,
 "nbformat_minor": 5
}
